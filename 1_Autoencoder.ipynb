{
 "cells": [
  {
   "attachments": {},
   "cell_type": "markdown",
   "metadata": {
    "id": "9CALuVmNMNkM"
   },
   "source": [
    "# Autoencoder for MNIST\n",
    "\n",
    "Welcome to this notebook where you'll be training an autoencoder using the MNIST dataset, which comprises handwritten digits. This exercise is the last where we present you with a structured skeleton to work with. However, in following exercises, we will only provide you with the dataset, task, and a test scenario, enabling you to test your skills and compete with your peers on our leaderboards. Get ready to dive in and showcase your deep learning expertise!\n",
    "\n",
    "\n",
    "## Your task:\n",
    "\n",
    "Autoencoders have various applications, including unsupervised pretraining using unlabeled data, followed by fine-tuning the encoder with labeled data. This approach can greatly enhance performance when there is only a little amount of labeled data but a lot of unlabeled data available.\n",
    "\n",
    "In this exercise, you will use the MNIST dataset, consisting of 60,000 images of handwritten digits. However, not all the image labels are available to you. Your first objective is to train an autoencoder to accurately reproduce these unlabeled images.\n",
    "\n",
    "Afterwards, you will transfer the weights of the pretrained encoder and perform fine-tuning on a classifier using the available labeled data. This technique is commonly known as **transfer learning**, which allows you to leverage the knowledge gained from the autoencoder to improve the classification of the handwritten digits."
   ]
  },
  {
   "cell_type": "code",
   "execution_count": 64,
   "metadata": {
    "id": "XcU9f4APMNkT"
   },
   "outputs": [
    {
     "name": "stdout",
     "output_type": "stream",
     "text": [
      "The autoreload extension is already loaded. To reload it, use:\n",
      "  %reload_ext autoreload\n"
     ]
    }
   ],
   "source": [
    "# For automatic file reloading as usual\n",
    "%load_ext autoreload\n",
    "%autoreload 2\n",
    "%matplotlib inline"
   ]
  },
  {
   "attachments": {},
   "cell_type": "markdown",
   "metadata": {
    "id": "Xb9dFU2EMNkW"
   },
   "source": [
    "## (Optional) Mount folder in Colab\n",
    "\n",
    "Uncomment the following cell to mount your gdrive if you are using the notebook in google colab:"
   ]
  },
  {
   "cell_type": "code",
   "execution_count": null,
   "metadata": {
    "id": "TRr4E4YVMNkW"
   },
   "outputs": [],
   "source": [
    "# Use the following lines if you want to use Google Colab\n",
    "# We presume you created a folder \"i2dl\" within your main drive folder, and put the exercise there.\n",
    "# NOTE: terminate all other colab sessions that use GPU!\n",
    "# NOTE 2: Make sure the correct exercise folder (e.g exercise_08) is given.\n",
    "\n",
    "# from google.colab import drive\n",
    "# import os\n",
    "\n",
    "\"\"\"\n",
    "from google.colab import drive\n",
    "import os\n",
    "gdrive_path='/content/gdrive/MyDrive/i2dl/exercise_08'\n",
    "\n",
    "# This will mount your google drive under 'MyDrive'\n",
    "drive.mount('/content/gdrive', force_remount=True)\n",
    "# In order to access the files in this notebook we have to navigate to the correct folder\n",
    "os.chdir(gdrive_path)\n",
    "# Check manually if all files are present\n",
    "\"\"\""
   ]
  },
  {
   "attachments": {},
   "cell_type": "markdown",
   "metadata": {
    "id": "JzDQg-kDMNkY"
   },
   "source": [
    "### Set up PyTorch environment in colab\n",
    "- (OPTIONAL) Enable GPU via Runtime --> Change runtime type --> GPU\n",
    "- Uncomment the following cell if you are using the notebook in google colab:"
   ]
  },
  {
   "cell_type": "code",
   "execution_count": null,
   "metadata": {
    "id": "pIUdsXeXMNkZ"
   },
   "outputs": [],
   "source": [
    "# Optional: install correct libraries in google colab\n",
    "# !python -m pip install torch==1.11.0+cu113 torchvision==0.12.0+cu113 torchtext==0.12.0+cu113 torchaudio==0.12.0+cu113 -f https://download.pytorch.org/whl/torch_stable.html\n",
    "# !python -m pip install tensorboard==2.8.0 > /dev/null\n",
    "# !python -m pip install pytorch-lightning==1.6.0"
   ]
  },
  {
   "attachments": {},
   "cell_type": "markdown",
   "metadata": {
    "id": "hEDWAZ7-ZA4E"
   },
   "source": [
    "# Imports"
   ]
  },
  {
   "cell_type": "code",
   "execution_count": 226,
   "metadata": {
    "id": "dJCiVLV5o9QO"
   },
   "outputs": [],
   "source": [
    "import numpy as np\n",
    "import matplotlib.pyplot as plt\n",
    "from pathlib import Path\n",
    "import os, sys\n",
    "import shutil\n",
    "import torch\n",
    "import torch.nn as nn\n",
    "from torchvision import transforms\n",
    "from exercise_code.image_folder_dataset import ImageFolderDataset\n",
    "from torch.utils.tensorboard import SummaryWriter\n",
    "from time import sleep\n",
    "from tqdm import tqdm\n",
    "from exercise_code.tests.base_tests import bcolors\n",
    "\n",
    "torch.manual_seed(42)\n",
    "\n",
    "os.environ['KMP_DUPLICATE_LIB_OK']='True' # To prevent the kernel from dying."
   ]
  },
  {
   "attachments": {},
   "cell_type": "markdown",
   "metadata": {
    "id": "dvaj6myXS7nN"
   },
   "source": [
    "<div class=\"alert alert-warning\">\n",
    "    <h3>Note: Google Colab</h3>\n",
    "    <p>\n",
    "In case you don't have a GPU, you can run this notebook on Google Colab where you can access a GPU for free, but, of course, you can also run this notebook on your CPU.\n",
    "         </p>\n",
    "</div>"
   ]
  },
  {
   "cell_type": "code",
   "execution_count": 66,
   "metadata": {
    "id": "VWgm75NnS9hr"
   },
   "outputs": [
    {
     "name": "stdout",
     "output_type": "stream",
     "text": [
      "You are using the following device:  cpu\n"
     ]
    }
   ],
   "source": [
    "device = torch.device(\"cuda\" if torch.cuda.is_available() else \"cpu\")\n",
    "print('You are using the following device: ', device)"
   ]
  },
  {
   "attachments": {},
   "cell_type": "markdown",
   "metadata": {
    "id": "Pm_rTAPnpsUo"
   },
   "source": [
    "## Setup TensorBoard\n",
    "\n",
    "In the previous exercise (Exercise 07), you learned how to use TensorBoard effectively. Let's use it again to enhance the convenience of debugging your network and the training process. Throughout this notebook, feel free to implement additional logs or visualizations into your TensorBoard, further improving your analysis and understanding of the network's behavior. "
   ]
  },
  {
   "cell_type": "code",
   "execution_count": null,
   "metadata": {
    "id": "QbAJFyHkMNke"
   },
   "outputs": [],
   "source": [
    "################# COLAB ONLY #################\n",
    "# %load_ext tensorboard\n",
    "# %tensorboard --logdir=./ --port 6006\n",
    "\n",
    "# Use the cmd for less trouble, if you can. From the working directory, run: tensorboard --logdir=./ --port 6006"
   ]
  },
  {
   "attachments": {},
   "cell_type": "markdown",
   "metadata": {
    "id": "t-Yt2KRiMNkf"
   },
   "source": [
    "# 1. The MNIST Dataset\n",
    "\n",
    "First, let's download the MNIST dataset. As mentioned at the beginning of this notebook, MNIST is a dataset of 60,000 images depicting handwritten digits. However, labeling such a large dataset can be a costly process, leaving us in a challenging situation.\n",
    "\n",
    "To overcome this, a practical approach is to label a small subset of the images. Let's consider a scenario where you have hired another student to perform the labeling task for you. After some time, you have been provided with 300 labeled images. Out of these, 100 images will be used for training, another 100 for validation, and the remaining 100 for testing. Undoubtedly, this poses a challenge due to the limited number of labeled samples.\n",
    "\n",
    "Now, you have the flexibility to define any transforms that you deem necessary, either at this point or at a later stage. However, it's important to note that during the final evaluation on the server, no transformations will be applied to the test set.\n",
    "\n",
    "Feel free to experiment with various transforms as you proceed (you can also pass without any transforms). \n",
    "\n",
    "\n",
    "**Note**: We do **not** apply any transformations or normalization to the test set at the time of final evaluation on our server."
   ]
  },
  {
   "cell_type": "code",
   "execution_count": 67,
   "metadata": {},
   "outputs": [],
   "source": [
    "from torchvision import transforms"
   ]
  },
  {
   "cell_type": "code",
   "execution_count": 227,
   "metadata": {
    "id": "U5_eopjbMNkf",
    "pycharm": {
     "name": "#%%\n"
    }
   },
   "outputs": [
    {
     "name": "stdout",
     "output_type": "stream",
     "text": [
      "Found dataset folder. Skipped downloading. If you face issues, please re-download the dataset using\n",
      "'--force_download=True'\n",
      "https://i2dl.vc.in.tum.de/static/data/mnist.zip\n",
      "Found dataset folder. Skipped downloading. If you face issues, please re-download the dataset using\n",
      "'--force_download=True'\n",
      "https://i2dl.vc.in.tum.de/static/data/mnist.zip\n",
      "Found dataset folder. Skipped downloading. If you face issues, please re-download the dataset using\n",
      "'--force_download=True'\n",
      "https://i2dl.vc.in.tum.de/static/data/mnist.zip\n",
      "Found dataset folder. Skipped downloading. If you face issues, please re-download the dataset using\n",
      "'--force_download=True'\n",
      "https://i2dl.vc.in.tum.de/static/data/mnist.zip\n",
      "Found dataset folder. Skipped downloading. If you face issues, please re-download the dataset using\n",
      "'--force_download=True'\n",
      "https://i2dl.vc.in.tum.de/static/data/mnist.zip\n"
     ]
    }
   ],
   "source": [
    "\n",
    "\n",
    "transform = transforms.Compose([\n",
    "    transforms.RandomRotation(degrees=10),  # Randomly rotate images by up to 10 degrees\n",
    "    # transforms.Normalize((0.5,), (0.5,)),            # Normalize the pixel values to the range [-1, 1]\n",
    "    # transforms.Lambda(lambda x: x * 2.0 - 1.0) \n",
    "\n",
    "])\n",
    "\n",
    "# data_transform = transforms.Compose([\n",
    "#     transforms.RandomRotation(10),   # Randomly rotate the image up to 10 degrees\n",
    "#     # transforms.RandomHorizontalFlip(),  # Randomly flip the image horizontally\n",
    "#     # transforms.ToTensor(),  # Convert PIL image to PyTorch tensor\n",
    "#     # transforms.Normalize((0.5,), (0.5,)),  # Normalize to the range [-1, 1]\n",
    "#     # transforms.Lambda(lambda x: x + 0.3 * torch.randn_like(x)),  # Add random noise (optional)\n",
    "# ])\n",
    "\n",
    "########################################################################\n",
    "# TODO: Feel free to define transforms (Only data augmentation)        #\n",
    "########################################################################\n",
    "\n",
    "\n",
    "# pass\n",
    "\n",
    "########################################################################\n",
    "#                           END OF YOUR CODE                           #\n",
    "########################################################################\n",
    "\n",
    "i2dl_exercises_path = os.path.dirname(os.path.abspath(os.getcwd()))\n",
    "mnist_root = os.path.join(i2dl_exercises_path, \"datasets\", \"mnist\")\n",
    "\n",
    "train_100_dataset = ImageFolderDataset(root=mnist_root,images='train_images.pt',labels='train_labels.pt',force_download=False,verbose=True,transform=transform)\n",
    "val_100_dataset = ImageFolderDataset(root=mnist_root,images='val_images.pt',labels='val_labels.pt',force_download=False,verbose=True,transform=transform)\n",
    "test_100_dataset = ImageFolderDataset(root=mnist_root,images='test_images.pt',labels='test_labels.pt',force_download=False,verbose=True,transform=transform)\n",
    "\n",
    "# We also set up the unlabeled images which we will use later\n",
    "unlabeled_train = ImageFolderDataset(root=mnist_root,images='unlabeled_train_images.pt',force_download=False,verbose=True,transform=transform)\n",
    "unlabeled_val = ImageFolderDataset(root=mnist_root,images='unlabeled_val_images.pt',force_download=False,verbose=True,transform=transform)\n",
    "\n"
   ]
  },
  {
   "attachments": {},
   "cell_type": "markdown",
   "metadata": {
    "id": "zwrT1ckAMNkg"
   },
   "source": [
    "The dataset consists of tuples of 28x28 pixel PIL images and a label that is an integer from 0 to 9. \n",
    "\n",
    "Let's turn a few of the images into numpy arrays, to look at their shape and visualize them and see if the labels we paid for are correct."
   ]
  },
  {
   "cell_type": "code",
   "execution_count": 228,
   "metadata": {
    "id": "k7ct1J2CMNkh"
   },
   "outputs": [
    {
     "name": "stdout",
     "output_type": "stream",
     "text": [
      "The shape of our greyscale images:  (28, 28)\n"
     ]
    },
    {
     "data": {
      "image/png": "[encoded data removed]",
      "text/plain": [
       "<Figure size 1600x1600 with 10 Axes>"
      ]
     },
     "metadata": {},
     "output_type": "display_data"
    }
   ],
   "source": [
    "plt.rcParams['figure.figsize'] = (16,16) # Make the figures a bit bigger\n",
    "\n",
    "indices_arr = [83, 98, 92, 99, 78, 97, 90, 95, 93, 96]\n",
    "for i, index in enumerate(indices_arr):\n",
    "    image = np.array(train_100_dataset[index][0].squeeze()) # get the image of the data sample\n",
    "    label = train_100_dataset[index][1] # get the label of the data sample\n",
    "    plt.subplot(1, 10, i + 1)\n",
    "    plt.imshow(image, cmap='gray', interpolation='none')\n",
    "    plt.title(\"Class {}\".format(label))\n",
    "    \n",
    "plt.tight_layout()\n",
    "print('The shape of our greyscale images: ', image.shape)"
   ]
  },
  {
   "attachments": {},
   "cell_type": "markdown",
   "metadata": {
    "id": "V9sz_lHyqJoj"
   },
   "source": [
    "<div class=\"alert alert-warning\">\n",
    "    <h3>Note: Starting Simple</h3>\n",
    "    <p>\n",
    "Regardless of the size of the dataset, the first step is to evaluate the performance of a simple classifier. It is advisable to always start with a straightforward approach when tackling a problem and gradually build upon it to determine which changes yield improvements.</p>\n",
    "</div>\n",
    "\n",
    "# 2. A Simple Classifier\n",
    "\n",
    "In `exercise_code/models.py`, we prepared all classes for you, which you will finalize throughout the notebook to build an Autoencoder and an image classifier with PyTorch.\n",
    "\n",
    "<!-- In case image does not show, uncomment the following:\n",
    " ![network_split](img/network_split.png) \n",
    " -->\n",
    "<img name=\"network_split\" src=\"https://drive.google.com/uc?id=1Eu6C7UrYeTy_lqOLcnStGVYTBL8gfNoz\">\n",
    "\n",
    "\n",
    "## 2.1 The Encoder\n",
    "\n",
    "Unlike previous models, we are going to split up the model into two parts: the `encoder` and the `classifier`. The `classifier` has a fixed task, generating predictions given a one-dimensional input. On the other hand, the `encoder`'s task is to extract meaningful information from the input, enabling the classifier to make accurate decisions. \n",
    "\n",
    "For now, both networks will be similar in design and consist of linear layers coupled with auxiliary layers. This split-up will be relevant later, e.g., by using convolutional layers, which are introduced in the lecture. We are going to set up the `encoder` now. \n",
    "\n",
    "Think about a good network architecture. You have complete freedom in this regard and can devise any network structure you think might be fitting. (\\*)\n",
    "\n",
    "Have a look at the documentation of `torch.nn` at https://pytorch.org/docs/stable/nn.html to learn how to use this module in order to build your network!\n",
    "\n",
    "Then implement your architecture: initialize it in `__init__()` and assign it to `self.model`. This is particularly easy using `nn.Sequential()`, where you only have to pass the list of your layers. \n",
    "\n",
    "To make your model customizable and support parameter search, do not use hardcoded hyperparameters - instead, pass them as a simple dictionary `hparams` (here, `n_hidden` is the number of neurons in the hidden layer) when initializing `models`.\n",
    "\n",
    "Here is a simple example:\n",
    "\n",
    "```python\n",
    "        self.model = nn.Sequential(\n",
    "            nn.Linear(input_size, self.hparams[\"n_hidden\"]),\n",
    "            nn.ReLU(),            \n",
    "            nn.Linear(self.hparams[\"n_hidden\"], num_classes)\n",
    "        )\n",
    "```\n",
    "\n",
    "Have a look at the forward path in `forward(self, x)`, which is so easy that you don't need to implement it yourself.\n",
    "\n",
    "As PyTorch automatically computes the gradients, that's all you need to do! There is no need to manually calculate derivatives for the backward paths anymore! :)\n",
    "\n",
    "\n",
    "____\n",
    "\\* *The size of your final model must be less than 20 MB, which is approximately equivalent to 5 Mio. params. Note that this limit is quite lenient, you will probably need much fewer parameters!*\n",
    "\n",
    "*In order to keep things simple, you should only use fully connected layers for this task, as we need to revert the encoder architecture later on in the notebook.*\n",
    "\n",
    "<div class=\"alert alert-info\">\n",
    "    <h3>Task: Implement</h3>\n",
    "    <p>Implement the <code>Encoder</code> class initialization in <code>exercise_code/models.py</code>.\n",
    "    </p>\n",
    "</div>\n",
    "\n",
    "\n"
   ]
  },
  {
   "attachments": {},
   "cell_type": "markdown",
   "metadata": {
    "id": "jNf7FrvwMNki"
   },
   "source": [
    "## 2.2 The Classifier\n",
    "\n",
    "Now let's implement the classifier. The classifier will utilize the encoder that you have defined in the above cell. By looking at `Classifier.forward`, you can see that we are essentially concatenating the `classifier`and the `encoder` together. Therefore, it is crucial to ensure that the input shape of the classifier matches the output shape of the encoder you implemented above\n",
    "\n",
    "<div class=\"alert alert-info\">\n",
    "    <h3>Task: Implement</h3>\n",
    "    <p>1. Implement the <code>Classifier</code> class network initialization in <code>exercise_code/models.py</code>.\n",
    "    </p>\n",
    "    <p>2. Define in the next cell your hyperparameters in a dictionary called 'hparams'.\n",
    "    </p>\n",
    "</div>"
   ]
  },
  {
   "cell_type": "code",
   "execution_count": 229,
   "metadata": {
    "id": "AawbvD1rMNkj"
   },
   "outputs": [],
   "source": [
    "hparams = {}\n",
    "########################################################################\n",
    "# TODO: Define your hyper parameters here!                             #\n",
    "########################################################################\n",
    "\n",
    "pass\n",
    "\n",
    "########################################################################\n",
    "#                           END OF YOUR CODE                           #\n",
    "########################################################################"
   ]
  },
  {
   "attachments": {},
   "cell_type": "markdown",
   "metadata": {
    "id": "bOYbUg8lAmgU"
   },
   "source": [
    "\n",
    "## 2.3 Optimizer\n",
    "Lastly, implement the function `set_optimizer` to define your optimizer. Here the documentation of `torch.optim` at https://pytorch.org/docs/stable/optim.html might be helpful.\n",
    "\n",
    "<div class=\"alert alert-info\">\n",
    "    <h3>Task: Implement</h3>\n",
    "    <p>Implement the <code>set_optimizer</code> method of the <code>Classifier</code> in <code>exercise_code/models.py</code>.\n",
    "    </p>\n",
    "</div>\n"
   ]
  },
  {
   "attachments": {},
   "cell_type": "markdown",
   "metadata": {
    "id": "xrUfa-a7MNkk"
   },
   "source": [
    "## 2.4 Training & Validation Step\n",
    "\n",
    "<div class=\"alert alert-success\">\n",
    "    <h3>Task: Check Code</h3>\n",
    "    <p> Let's take a closer look at the training pipeline outlined below. It is explicitly written here in its entirety to provide you with a comprehensive understanding of its structure. Additionally, you can refer back to this pipeline whenever you encounter any uncertainties or need guidance.\n",
    " </p>\n",
    "</div>\n"
   ]
  },
  {
   "cell_type": "code",
   "execution_count": 230,
   "metadata": {
    "id": "NY_lLaNWMNkk"
   },
   "outputs": [],
   "source": [
    " # One of the most crucial things in deep learning is to understand the training pipeline:\n",
    " # 1. Forward()          --> The forward pass of the network, to calculate the currnent loss.\n",
    " # 2. Backward()         --> The backward pass of the network, to calculate the gradients w.r.t the loss, calculated in the previous stage.\n",
    " # 3. Optimizer_step()   --> Update the weights w.r.t their corresponding gradients and the learnign rate.\n",
    "\n",
    "def create_tqdm_bar(iterable, desc):\n",
    "    return tqdm(enumerate(iterable),total=len(iterable), ncols=150, desc=desc)\n",
    "\n",
    "\n",
    "def train_classifier(classifier, train_loader, val_loader, loss_func, tb_logger, epochs=10, name=\"default\"):\n",
    "    \"\"\"\n",
    "    Train the classifier for a number of epochs.\n",
    "    \"\"\"\n",
    "    optimizer = classifier.optimizer\n",
    "    classifier = classifier.to(device)\n",
    "    validation_loss = 0\n",
    "    for epoch in range(epochs):\n",
    "        \n",
    "        training_loss = 0\n",
    "        \n",
    "        # Training stage, where we want to update the parameters.\n",
    "        classifier.train()  # Set the model to training mode\n",
    "        \n",
    "        # Create a progress bar for the training loop.\n",
    "        training_loop = create_tqdm_bar(train_loader, desc=f'Training Epoch [{epoch + 1}/{epochs}]')\n",
    "        for train_iteration, batch in training_loop:\n",
    "            optimizer.zero_grad() # Reset the gradients - VERY important! Otherwise they accumulate.\n",
    "            images, labels = batch # Get the images and labels from the batch, in the fashion we defined in the dataset and dataloader.\n",
    "            images, labels = images.to(device), labels.to(device) # Send the data to the device (GPU or CPU) - it has to be the same device as the model.\n",
    "\n",
    "            # Flatten the images to a vector. This is done because the classifier expects a vector as input.\n",
    "            # Could also be done by reshaping the images in the dataset.\n",
    "            images = images.view(images.shape[0], -1) \n",
    "\n",
    "            pred = classifier(images) # Stage 1: Forward().\n",
    "            loss = loss_func(pred, labels) # Compute the loss over the predictions and the ground truth.\n",
    "            loss.backward()  # Stage 2: Backward().\n",
    "            optimizer.step() # Stage 3: Update the parameters.\n",
    "\n",
    "            training_loss += loss.item()\n",
    "\n",
    "            # Update the progress bar.\n",
    "            training_loop.set_postfix(curr_train_loss = \"{:.8f}\".format(training_loss / (train_iteration + 1)), val_loss = \"{:.8f}\".format(validation_loss))\n",
    "\n",
    "            # Update the tensorboard logger.\n",
    "            tb_logger.add_scalar(f'classifier_{name}/train_loss', loss.item(), epoch * len(train_loader) + train_iteration)\n",
    "            sleep(0.1) # Remove this line if you want to see the progress bar faster.\n",
    "\n",
    "        # Validation stage, where we don't want to update the parameters. Pay attention to the classifier.eval() line\n",
    "        # and \"with torch.no_grad()\" wrapper.\n",
    "        classifier.eval()\n",
    "        val_loop = create_tqdm_bar(val_loader, desc=f'Validation Epoch [{epoch + 1}/{epochs}]')\n",
    "        validation_loss = 0\n",
    "        with torch.no_grad():\n",
    "            for val_iteration, batch in val_loop:\n",
    "                images, labels = batch\n",
    "                images, labels = images.to(device), labels.to(device)\n",
    "\n",
    "                images = images.view(images.shape[0], -1) \n",
    "                pred = classifier(images)\n",
    "                loss = loss_func(pred, labels)\n",
    "                validation_loss += loss.item()\n",
    "\n",
    "                # Update the progress bar.\n",
    "                val_loop.set_postfix(val_loss = \"{:.8f}\".format(validation_loss / (val_iteration + 1)))\n",
    "\n",
    "                # Update the tensorboard logger.\n",
    "                tb_logger.add_scalar(f'classifier_{name}/val_loss', loss.item(), epoch * len(val_loader) + val_iteration)\n",
    "                sleep(0.1) # Remove this line if you want to see the progress bar faster.\n",
    "        \n",
    "        # This value is used for the progress bar of the training loop.\n",
    "        validation_loss /= len(val_loader)\n",
    "            "
   ]
  },
  {
   "attachments": {},
   "cell_type": "markdown",
   "metadata": {
    "id": "KVKLlwlyMNkl"
   },
   "source": [
    "## 2.5 Fit Classification Model with Trainer\n",
    "Now it's finally time to train your model.\n",
    "Run the following cell to see the behold the magic of deep learning at play."
   ]
  },
  {
   "cell_type": "code",
   "execution_count": 240,
   "metadata": {
    "id": "uBGavq9cMNkl"
   },
   "outputs": [
    {
     "name": "stderr",
     "output_type": "stream",
     "text": [
      "Training Epoch [1/70]:   0%|                                                   | 0/5 [00:00<?, ?it/s, curr_train_loss=2.29042888, val_loss=0.00000000]"
     ]
    },
    {
     "name": "stderr",
     "output_type": "stream",
     "text": [
      "Training Epoch [1/70]: 100%|███████████████████████████████████████████| 5/5 [00:00<00:00,  8.87it/s, curr_train_loss=2.15241942, val_loss=0.00000000]\n",
      "Validation Epoch [1/70]: 100%|█████████████████████████████████████████████████████████████████████| 5/5 [00:00<00:00,  9.03it/s, val_loss=2.29909468]\n",
      "Training Epoch [2/70]: 100%|███████████████████████████████████████████| 5/5 [00:00<00:00,  8.79it/s, curr_train_loss=1.78486300, val_loss=2.29909468]\n",
      "Validation Epoch [2/70]: 100%|█████████████████████████████████████████████████████████████████████| 5/5 [00:00<00:00,  9.06it/s, val_loss=2.28437262]\n",
      "Training Epoch [3/70]: 100%|███████████████████████████████████████████| 5/5 [00:00<00:00,  8.91it/s, curr_train_loss=1.59005117, val_loss=2.28437262]\n",
      "Validation Epoch [3/70]: 100%|█████████████████████████████████████████████████████████████████████| 5/5 [00:00<00:00,  9.12it/s, val_loss=2.23437834]\n",
      "Training Epoch [4/70]: 100%|███████████████████████████████████████████| 5/5 [00:00<00:00,  8.76it/s, curr_train_loss=1.34788859, val_loss=2.23437834]\n",
      "Validation Epoch [4/70]: 100%|█████████████████████████████████████████████████████████████████████| 5/5 [00:00<00:00,  8.90it/s, val_loss=2.12446446]\n",
      "Training Epoch [5/70]: 100%|███████████████████████████████████████████| 5/5 [00:00<00:00,  8.64it/s, curr_train_loss=1.15043290, val_loss=2.12446446]\n",
      "Validation Epoch [5/70]: 100%|█████████████████████████████████████████████████████████████████████| 5/5 [00:00<00:00,  9.28it/s, val_loss=1.99125152]\n",
      "Training Epoch [6/70]: 100%|███████████████████████████████████████████| 5/5 [00:00<00:00,  8.92it/s, curr_train_loss=0.99661388, val_loss=1.99125152]\n",
      "Validation Epoch [6/70]: 100%|█████████████████████████████████████████████████████████████████████| 5/5 [00:00<00:00,  8.79it/s, val_loss=1.84784820]\n",
      "Training Epoch [7/70]: 100%|███████████████████████████████████████████| 5/5 [00:00<00:00,  8.39it/s, curr_train_loss=0.91756079, val_loss=1.84784820]\n",
      "Validation Epoch [7/70]: 100%|█████████████████████████████████████████████████████████████████████| 5/5 [00:00<00:00,  8.96it/s, val_loss=1.69008117]\n",
      "Training Epoch [8/70]: 100%|███████████████████████████████████████████| 5/5 [00:00<00:00,  8.70it/s, curr_train_loss=0.78732959, val_loss=1.69008117]\n",
      "Validation Epoch [8/70]: 100%|█████████████████████████████████████████████████████████████████████| 5/5 [00:00<00:00,  9.15it/s, val_loss=1.57881444]\n",
      "Training Epoch [9/70]: 100%|███████████████████████████████████████████| 5/5 [00:00<00:00,  8.80it/s, curr_train_loss=0.65265554, val_loss=1.57881444]\n",
      "Validation Epoch [9/70]: 100%|█████████████████████████████████████████████████████████████████████| 5/5 [00:00<00:00,  9.02it/s, val_loss=1.49973876]\n",
      "Training Epoch [10/70]: 100%|██████████████████████████████████████████| 5/5 [00:00<00:00,  8.85it/s, curr_train_loss=0.60374386, val_loss=1.49973876]\n",
      "Validation Epoch [10/70]: 100%|████████████████████████████████████████████████████████████████████| 5/5 [00:00<00:00,  9.03it/s, val_loss=1.42229669]\n",
      "Training Epoch [11/70]: 100%|██████████████████████████████████████████| 5/5 [00:00<00:00,  8.42it/s, curr_train_loss=0.52436622, val_loss=1.42229669]\n",
      "Validation Epoch [11/70]: 100%|████████████████████████████████████████████████████████████████████| 5/5 [00:00<00:00,  8.78it/s, val_loss=1.42623413]\n",
      "Training Epoch [12/70]: 100%|██████████████████████████████████████████| 5/5 [00:00<00:00,  8.39it/s, curr_train_loss=0.49445274, val_loss=1.42623413]\n",
      "Validation Epoch [12/70]: 100%|████████████████████████████████████████████████████████████████████| 5/5 [00:00<00:00,  8.94it/s, val_loss=1.36456691]\n",
      "Training Epoch [13/70]: 100%|██████████████████████████████████████████| 5/5 [00:00<00:00,  8.89it/s, curr_train_loss=0.43096898, val_loss=1.36456691]\n",
      "Validation Epoch [13/70]: 100%|████████████████████████████████████████████████████████████████████| 5/5 [00:00<00:00,  9.11it/s, val_loss=1.28235186]\n",
      "Training Epoch [14/70]: 100%|██████████████████████████████████████████| 5/5 [00:00<00:00,  9.00it/s, curr_train_loss=0.33869843, val_loss=1.28235186]\n",
      "Validation Epoch [14/70]: 100%|████████████████████████████████████████████████████████████████████| 5/5 [00:00<00:00,  9.07it/s, val_loss=1.25226561]\n",
      "Training Epoch [15/70]: 100%|██████████████████████████████████████████| 5/5 [00:00<00:00,  8.91it/s, curr_train_loss=0.29136781, val_loss=1.25226561]\n",
      "Validation Epoch [15/70]: 100%|████████████████████████████████████████████████████████████████████| 5/5 [00:00<00:00,  9.19it/s, val_loss=1.23188655]\n",
      "Training Epoch [16/70]: 100%|██████████████████████████████████████████| 5/5 [00:00<00:00,  8.78it/s, curr_train_loss=0.28774806, val_loss=1.23188655]\n",
      "Validation Epoch [16/70]: 100%|████████████████████████████████████████████████████████████████████| 5/5 [00:00<00:00,  9.11it/s, val_loss=1.20414863]\n",
      "Training Epoch [17/70]: 100%|██████████████████████████████████████████| 5/5 [00:00<00:00,  8.81it/s, curr_train_loss=0.24819486, val_loss=1.20414863]\n",
      "Validation Epoch [17/70]: 100%|████████████████████████████████████████████████████████████████████| 5/5 [00:00<00:00,  8.98it/s, val_loss=1.17572629]\n",
      "Training Epoch [18/70]: 100%|██████████████████████████████████████████| 5/5 [00:00<00:00,  8.70it/s, curr_train_loss=0.25344715, val_loss=1.17572629]\n",
      "Validation Epoch [18/70]: 100%|████████████████████████████████████████████████████████████████████| 5/5 [00:00<00:00,  9.37it/s, val_loss=1.18215839]\n",
      "Training Epoch [19/70]: 100%|██████████████████████████████████████████| 5/5 [00:00<00:00,  8.89it/s, curr_train_loss=0.19939123, val_loss=1.18215839]\n",
      "Validation Epoch [19/70]: 100%|████████████████████████████████████████████████████████████████████| 5/5 [00:00<00:00,  8.89it/s, val_loss=1.19042825]\n",
      "Training Epoch [20/70]: 100%|██████████████████████████████████████████| 5/5 [00:00<00:00,  8.45it/s, curr_train_loss=0.21941652, val_loss=1.19042825]\n",
      "Validation Epoch [20/70]: 100%|████████████████████████████████████████████████████████████████████| 5/5 [00:00<00:00,  8.92it/s, val_loss=1.20845108]\n",
      "Training Epoch [21/70]: 100%|██████████████████████████████████████████| 5/5 [00:00<00:00,  8.57it/s, curr_train_loss=0.20653250, val_loss=1.20845108]\n",
      "Validation Epoch [21/70]: 100%|████████████████████████████████████████████████████████████████████| 5/5 [00:00<00:00,  8.83it/s, val_loss=1.16516359]\n",
      "Training Epoch [22/70]: 100%|██████████████████████████████████████████| 5/5 [00:00<00:00,  8.71it/s, curr_train_loss=0.23564506, val_loss=1.16516359]\n",
      "Validation Epoch [22/70]: 100%|████████████████████████████████████████████████████████████████████| 5/5 [00:00<00:00,  9.27it/s, val_loss=1.12222391]\n",
      "Training Epoch [23/70]: 100%|██████████████████████████████████████████| 5/5 [00:00<00:00,  8.66it/s, curr_train_loss=0.16113115, val_loss=1.12222391]\n",
      "Validation Epoch [23/70]: 100%|████████████████████████████████████████████████████████████████████| 5/5 [00:00<00:00,  8.93it/s, val_loss=1.08540574]\n",
      "Training Epoch [24/70]: 100%|██████████████████████████████████████████| 5/5 [00:00<00:00,  8.30it/s, curr_train_loss=0.17811955, val_loss=1.08540574]\n",
      "Validation Epoch [24/70]: 100%|████████████████████████████████████████████████████████████████████| 5/5 [00:00<00:00,  9.15it/s, val_loss=1.06064703]\n",
      "Training Epoch [25/70]: 100%|██████████████████████████████████████████| 5/5 [00:00<00:00,  8.66it/s, curr_train_loss=0.22675169, val_loss=1.06064703]\n",
      "Validation Epoch [25/70]: 100%|████████████████████████████████████████████████████████████████████| 5/5 [00:00<00:00,  8.93it/s, val_loss=1.04209492]\n",
      "Training Epoch [26/70]: 100%|██████████████████████████████████████████| 5/5 [00:00<00:00,  8.42it/s, curr_train_loss=0.15088718, val_loss=1.04209492]\n",
      "Validation Epoch [26/70]: 100%|████████████████████████████████████████████████████████████████████| 5/5 [00:00<00:00,  8.90it/s, val_loss=1.03654380]\n",
      "Training Epoch [27/70]: 100%|██████████████████████████████████████████| 5/5 [00:00<00:00,  8.88it/s, curr_train_loss=0.14341341, val_loss=1.03654380]\n",
      "Validation Epoch [27/70]: 100%|████████████████████████████████████████████████████████████████████| 5/5 [00:00<00:00,  9.25it/s, val_loss=1.06382729]\n",
      "Training Epoch [28/70]: 100%|██████████████████████████████████████████| 5/5 [00:00<00:00,  8.67it/s, curr_train_loss=0.10655653, val_loss=1.06382729]\n",
      "Validation Epoch [28/70]: 100%|████████████████████████████████████████████████████████████████████| 5/5 [00:00<00:00,  8.73it/s, val_loss=1.06072015]\n",
      "Training Epoch [29/70]: 100%|██████████████████████████████████████████| 5/5 [00:00<00:00,  8.40it/s, curr_train_loss=0.11466949, val_loss=1.06072015]\n",
      "Validation Epoch [29/70]: 100%|████████████████████████████████████████████████████████████████████| 5/5 [00:00<00:00,  9.03it/s, val_loss=1.04564921]\n",
      "Training Epoch [30/70]: 100%|██████████████████████████████████████████| 5/5 [00:00<00:00,  8.99it/s, curr_train_loss=0.12120320, val_loss=1.04564921]\n",
      "Validation Epoch [30/70]: 100%|████████████████████████████████████████████████████████████████████| 5/5 [00:00<00:00,  9.34it/s, val_loss=1.07230934]\n",
      "Training Epoch [31/70]: 100%|██████████████████████████████████████████| 5/5 [00:00<00:00,  8.62it/s, curr_train_loss=0.10368035, val_loss=1.07230934]\n",
      "Validation Epoch [31/70]: 100%|████████████████████████████████████████████████████████████████████| 5/5 [00:00<00:00,  8.67it/s, val_loss=1.09331841]\n",
      "Training Epoch [32/70]: 100%|██████████████████████████████████████████| 5/5 [00:00<00:00,  8.57it/s, curr_train_loss=0.10750579, val_loss=1.09331841]\n",
      "Validation Epoch [32/70]: 100%|████████████████████████████████████████████████████████████████████| 5/5 [00:00<00:00,  8.97it/s, val_loss=1.06866661]\n",
      "Training Epoch [33/70]: 100%|██████████████████████████████████████████| 5/5 [00:00<00:00,  7.74it/s, curr_train_loss=0.08385768, val_loss=1.06866661]\n",
      "Validation Epoch [33/70]: 100%|████████████████████████████████████████████████████████████████████| 5/5 [00:00<00:00,  8.92it/s, val_loss=0.97811886]\n",
      "Training Epoch [34/70]: 100%|██████████████████████████████████████████| 5/5 [00:00<00:00,  8.53it/s, curr_train_loss=0.10932427, val_loss=0.97811886]\n",
      "Validation Epoch [34/70]: 100%|████████████████████████████████████████████████████████████████████| 5/5 [00:00<00:00,  8.90it/s, val_loss=0.96617005]\n",
      "Training Epoch [35/70]: 100%|██████████████████████████████████████████| 5/5 [00:00<00:00,  8.73it/s, curr_train_loss=0.10389179, val_loss=0.96617005]\n",
      "Validation Epoch [35/70]: 100%|████████████████████████████████████████████████████████████████████| 5/5 [00:00<00:00,  9.29it/s, val_loss=0.95979083]\n",
      "Training Epoch [36/70]: 100%|██████████████████████████████████████████| 5/5 [00:00<00:00,  8.18it/s, curr_train_loss=0.07633106, val_loss=0.95979083]\n",
      "Validation Epoch [36/70]: 100%|████████████████████████████████████████████████████████████████████| 5/5 [00:00<00:00,  8.96it/s, val_loss=1.01427419]\n",
      "Training Epoch [37/70]: 100%|██████████████████████████████████████████| 5/5 [00:00<00:00,  8.73it/s, curr_train_loss=0.09513496, val_loss=1.01427419]\n",
      "Validation Epoch [37/70]: 100%|████████████████████████████████████████████████████████████████████| 5/5 [00:00<00:00,  9.18it/s, val_loss=0.98090963]\n",
      "Training Epoch [38/70]: 100%|██████████████████████████████████████████| 5/5 [00:00<00:00,  8.64it/s, curr_train_loss=0.06895222, val_loss=0.98090963]\n",
      "Validation Epoch [38/70]: 100%|████████████████████████████████████████████████████████████████████| 5/5 [00:00<00:00,  8.96it/s, val_loss=1.06333153]\n",
      "Training Epoch [39/70]: 100%|██████████████████████████████████████████| 5/5 [00:00<00:00,  8.38it/s, curr_train_loss=0.12291774, val_loss=1.06333153]\n",
      "Validation Epoch [39/70]: 100%|████████████████████████████████████████████████████████████████████| 5/5 [00:00<00:00,  9.10it/s, val_loss=1.07724276]\n",
      "Training Epoch [40/70]: 100%|██████████████████████████████████████████| 5/5 [00:00<00:00,  8.74it/s, curr_train_loss=0.06896121, val_loss=1.07724276]\n",
      "Validation Epoch [40/70]: 100%|████████████████████████████████████████████████████████████████████| 5/5 [00:00<00:00,  9.15it/s, val_loss=0.97705531]\n",
      "Training Epoch [41/70]: 100%|██████████████████████████████████████████| 5/5 [00:00<00:00,  8.91it/s, curr_train_loss=0.05666550, val_loss=0.97705531]\n",
      "Validation Epoch [41/70]: 100%|████████████████████████████████████████████████████████████████████| 5/5 [00:00<00:00,  9.21it/s, val_loss=1.03842643]\n",
      "Training Epoch [42/70]: 100%|██████████████████████████████████████████| 5/5 [00:00<00:00,  8.67it/s, curr_train_loss=0.05240131, val_loss=1.03842643]\n",
      "Validation Epoch [42/70]: 100%|████████████████████████████████████████████████████████████████████| 5/5 [00:00<00:00,  8.93it/s, val_loss=0.93821014]\n",
      "Training Epoch [43/70]: 100%|██████████████████████████████████████████| 5/5 [00:00<00:00,  8.45it/s, curr_train_loss=0.07728401, val_loss=0.93821014]\n",
      "Validation Epoch [43/70]: 100%|████████████████████████████████████████████████████████████████████| 5/5 [00:00<00:00,  8.89it/s, val_loss=0.90972107]\n",
      "Training Epoch [44/70]: 100%|██████████████████████████████████████████| 5/5 [00:00<00:00,  8.91it/s, curr_train_loss=0.07107419, val_loss=0.90972107]\n",
      "Validation Epoch [44/70]: 100%|████████████████████████████████████████████████████████████████████| 5/5 [00:00<00:00,  9.24it/s, val_loss=0.96157320]\n",
      "Training Epoch [45/70]: 100%|██████████████████████████████████████████| 5/5 [00:00<00:00,  8.64it/s, curr_train_loss=0.04333935, val_loss=0.96157320]\n",
      "Validation Epoch [45/70]: 100%|████████████████████████████████████████████████████████████████████| 5/5 [00:00<00:00,  9.09it/s, val_loss=0.91747754]\n",
      "Training Epoch [46/70]: 100%|██████████████████████████████████████████| 5/5 [00:00<00:00,  8.75it/s, curr_train_loss=0.04753557, val_loss=0.91747754]\n",
      "Validation Epoch [46/70]: 100%|████████████████████████████████████████████████████████████████████| 5/5 [00:00<00:00,  9.28it/s, val_loss=0.98210484]\n",
      "Training Epoch [47/70]: 100%|██████████████████████████████████████████| 5/5 [00:00<00:00,  8.77it/s, curr_train_loss=0.05045966, val_loss=0.98210484]\n",
      "Validation Epoch [47/70]: 100%|████████████████████████████████████████████████████████████████████| 5/5 [00:00<00:00,  9.21it/s, val_loss=0.90473942]\n",
      "Training Epoch [48/70]: 100%|██████████████████████████████████████████| 5/5 [00:00<00:00,  8.88it/s, curr_train_loss=0.02972534, val_loss=0.90473942]\n",
      "Validation Epoch [48/70]: 100%|████████████████████████████████████████████████████████████████████| 5/5 [00:00<00:00,  8.93it/s, val_loss=0.92720232]\n",
      "Training Epoch [49/70]: 100%|██████████████████████████████████████████| 5/5 [00:00<00:00,  8.50it/s, curr_train_loss=0.02701557, val_loss=0.92720232]\n",
      "Validation Epoch [49/70]: 100%|████████████████████████████████████████████████████████████████████| 5/5 [00:00<00:00,  9.09it/s, val_loss=0.92576509]\n",
      "Training Epoch [50/70]: 100%|██████████████████████████████████████████| 5/5 [00:00<00:00,  8.71it/s, curr_train_loss=0.05103544, val_loss=0.92576509]\n",
      "Validation Epoch [50/70]: 100%|████████████████████████████████████████████████████████████████████| 5/5 [00:00<00:00,  9.25it/s, val_loss=0.95044766]\n",
      "Training Epoch [51/70]: 100%|██████████████████████████████████████████| 5/5 [00:00<00:00,  8.63it/s, curr_train_loss=0.04865148, val_loss=0.95044766]\n",
      "Validation Epoch [51/70]: 100%|████████████████████████████████████████████████████████████████████| 5/5 [00:00<00:00,  8.94it/s, val_loss=0.86311988]\n",
      "Training Epoch [52/70]: 100%|██████████████████████████████████████████| 5/5 [00:00<00:00,  8.50it/s, curr_train_loss=0.02845950, val_loss=0.86311988]\n",
      "Validation Epoch [52/70]: 100%|████████████████████████████████████████████████████████████████████| 5/5 [00:00<00:00,  8.77it/s, val_loss=0.89094096]\n",
      "Training Epoch [53/70]: 100%|██████████████████████████████████████████| 5/5 [00:00<00:00,  8.95it/s, curr_train_loss=0.05274101, val_loss=0.89094096]\n",
      "Validation Epoch [53/70]: 100%|████████████████████████████████████████████████████████████████████| 5/5 [00:00<00:00,  9.04it/s, val_loss=0.97572203]\n",
      "Training Epoch [54/70]: 100%|██████████████████████████████████████████| 5/5 [00:00<00:00,  8.67it/s, curr_train_loss=0.02686261, val_loss=0.97572203]\n",
      "Validation Epoch [54/70]: 100%|████████████████████████████████████████████████████████████████████| 5/5 [00:00<00:00,  9.02it/s, val_loss=0.87659426]\n",
      "Training Epoch [55/70]: 100%|██████████████████████████████████████████| 5/5 [00:00<00:00,  8.96it/s, curr_train_loss=0.02620946, val_loss=0.87659426]\n",
      "Validation Epoch [55/70]: 100%|████████████████████████████████████████████████████████████████████| 5/5 [00:00<00:00,  9.10it/s, val_loss=0.90336061]\n",
      "Training Epoch [56/70]: 100%|██████████████████████████████████████████| 5/5 [00:00<00:00,  8.41it/s, curr_train_loss=0.03884894, val_loss=0.90336061]\n",
      "Validation Epoch [56/70]: 100%|████████████████████████████████████████████████████████████████████| 5/5 [00:00<00:00,  8.66it/s, val_loss=0.93033434]\n",
      "Training Epoch [57/70]: 100%|██████████████████████████████████████████| 5/5 [00:00<00:00,  8.32it/s, curr_train_loss=0.02254919, val_loss=0.93033434]\n",
      "Validation Epoch [57/70]: 100%|████████████████████████████████████████████████████████████████████| 5/5 [00:00<00:00,  8.91it/s, val_loss=1.04247365]\n",
      "Training Epoch [58/70]: 100%|██████████████████████████████████████████| 5/5 [00:00<00:00,  8.42it/s, curr_train_loss=0.05730095, val_loss=1.04247365]\n",
      "Validation Epoch [58/70]: 100%|████████████████████████████████████████████████████████████████████| 5/5 [00:00<00:00,  9.17it/s, val_loss=1.00350065]\n",
      "Training Epoch [59/70]: 100%|██████████████████████████████████████████| 5/5 [00:00<00:00,  8.81it/s, curr_train_loss=0.07721915, val_loss=1.00350065]\n",
      "Validation Epoch [59/70]: 100%|████████████████████████████████████████████████████████████████████| 5/5 [00:00<00:00,  9.11it/s, val_loss=0.90820113]\n",
      "Training Epoch [60/70]: 100%|██████████████████████████████████████████| 5/5 [00:00<00:00,  8.74it/s, curr_train_loss=0.06344218, val_loss=0.90820113]\n",
      "Validation Epoch [60/70]: 100%|████████████████████████████████████████████████████████████████████| 5/5 [00:00<00:00,  9.27it/s, val_loss=0.94118122]\n",
      "Training Epoch [61/70]: 100%|██████████████████████████████████████████| 5/5 [00:00<00:00,  8.77it/s, curr_train_loss=0.05850473, val_loss=0.94118122]\n",
      "Validation Epoch [61/70]: 100%|████████████████████████████████████████████████████████████████████| 5/5 [00:00<00:00,  8.81it/s, val_loss=0.83018230]\n",
      "Training Epoch [62/70]: 100%|██████████████████████████████████████████| 5/5 [00:00<00:00,  8.58it/s, curr_train_loss=0.05142513, val_loss=0.83018230]\n",
      "Validation Epoch [62/70]: 100%|████████████████████████████████████████████████████████████████████| 5/5 [00:00<00:00,  9.17it/s, val_loss=1.07249218]\n",
      "Training Epoch [63/70]: 100%|██████████████████████████████████████████| 5/5 [00:00<00:00,  8.81it/s, curr_train_loss=0.02376568, val_loss=1.07249218]\n",
      "Validation Epoch [63/70]: 100%|████████████████████████████████████████████████████████████████████| 5/5 [00:00<00:00,  8.93it/s, val_loss=0.90594304]\n",
      "Training Epoch [64/70]: 100%|██████████████████████████████████████████| 5/5 [00:00<00:00,  8.69it/s, curr_train_loss=0.03066825, val_loss=0.90594304]\n",
      "Validation Epoch [64/70]: 100%|████████████████████████████████████████████████████████████████████| 5/5 [00:00<00:00,  9.23it/s, val_loss=1.00528477]\n",
      "Training Epoch [65/70]: 100%|██████████████████████████████████████████| 5/5 [00:00<00:00,  8.94it/s, curr_train_loss=0.03189417, val_loss=1.00528477]\n",
      "Validation Epoch [65/70]: 100%|████████████████████████████████████████████████████████████████████| 5/5 [00:00<00:00,  8.87it/s, val_loss=0.90233338]\n",
      "Training Epoch [66/70]: 100%|██████████████████████████████████████████| 5/5 [00:00<00:00,  9.00it/s, curr_train_loss=0.02553655, val_loss=0.90233338]\n",
      "Validation Epoch [66/70]: 100%|████████████████████████████████████████████████████████████████████| 5/5 [00:00<00:00,  8.88it/s, val_loss=0.87788198]\n",
      "Training Epoch [67/70]: 100%|██████████████████████████████████████████| 5/5 [00:00<00:00,  8.64it/s, curr_train_loss=0.03179785, val_loss=0.87788198]\n",
      "Validation Epoch [67/70]: 100%|████████████████████████████████████████████████████████████████████| 5/5 [00:00<00:00,  8.92it/s, val_loss=1.02509543]\n",
      "Training Epoch [68/70]: 100%|██████████████████████████████████████████| 5/5 [00:00<00:00,  8.57it/s, curr_train_loss=0.04454514, val_loss=1.02509543]\n",
      "Validation Epoch [68/70]: 100%|████████████████████████████████████████████████████████████████████| 5/5 [00:00<00:00,  8.89it/s, val_loss=0.91206768]\n",
      "Training Epoch [69/70]: 100%|██████████████████████████████████████████| 5/5 [00:00<00:00,  8.59it/s, curr_train_loss=0.02453218, val_loss=0.91206768]\n",
      "Validation Epoch [69/70]: 100%|████████████████████████████████████████████████████████████████████| 5/5 [00:00<00:00,  9.01it/s, val_loss=0.98985001]\n",
      "Training Epoch [70/70]: 100%|██████████████████████████████████████████| 5/5 [00:00<00:00,  8.53it/s, curr_train_loss=0.03406942, val_loss=0.98985001]\n",
      "Validation Epoch [70/70]: 100%|████████████████████████████████████████████████████████████████████| 5/5 [00:00<00:00,  9.08it/s, val_loss=0.95969087]"
     ]
    },
    {
     "name": "stdout",
     "output_type": "stream",
     "text": [
      "Finished training!\n",
      "How did we do? Let's check the accuracy of the defaut classifier on the training and validation sets:\n",
      "Training Acc: 100.0%\n",
      "Validation Acc: 70.0%\n"
     ]
    },
    {
     "name": "stderr",
     "output_type": "stream",
     "text": [
      "\n"
     ]
    }
   ],
   "source": [
    "from exercise_code.models import Classifier\n",
    "from exercise_code.models import Encoder\n",
    "\n",
    "# Create the encoder and the classifier.\n",
    "encoder = Encoder(hparams).to(device)\n",
    "classifier = Classifier(hparams, encoder).to(device)\n",
    "\n",
    "# Create a tensorboard logger.\n",
    "# NOTE: In order to see the logs, run the following command in the terminal: tensorboard --logdir=./\n",
    "# Also, in order to reset the logs, delete the logs folder MANUALLY.\n",
    "\n",
    "path = os.path.join('logs', 'cls_logs')\n",
    "num_of_runs = len(os.listdir(path)) if os.path.exists(path) else 0\n",
    "path = os.path.join(path, f'run_{num_of_runs + 1}')\n",
    "\n",
    "tb_logger = SummaryWriter(path)\n",
    "\n",
    "# Train the classifier.\n",
    "labled_train_loader = torch.utils.data.DataLoader(train_100_dataset, batch_size=20, shuffle=True)\n",
    "labled_val_loader = torch.utils.data.DataLoader(val_100_dataset, batch_size=20, shuffle=False)\n",
    "\n",
    "epochs = hparams.get('epochs', 70)\n",
    "loss_func = nn.CrossEntropyLoss() # The loss function we use for classification.\n",
    "train_classifier(classifier, labled_train_loader, labled_val_loader, loss_func, tb_logger, epochs=epochs, name=\"Default\")\n",
    "\n",
    "print(\"Finished training!\")\n",
    "print(\"How did we do? Let's check the accuracy of the defaut classifier on the training and validation sets:\")\n",
    "print(f\"Training Acc: {classifier.getAcc(labled_train_loader)[1] * 100}%\")\n",
    "print(f\"Validation Acc: {classifier.getAcc(labled_val_loader)[1] * 100}%\")"
   ]
  },
  {
   "cell_type": "code",
   "execution_count": 247,
   "metadata": {},
   "outputs": [
    {
     "name": "stdout",
     "output_type": "stream",
     "text": [
      "Finished training!\n",
      "How did we do? Let's check the accuracy of the defaut classifier on the training and validation sets:\n",
      "Training Acc: 100.0%\n",
      "Validation Acc: 69.0%\n"
     ]
    }
   ],
   "source": [
    "print(\"Finished training!\")\n",
    "print(\"How did we do? Let's check the accuracy of the defaut classifier on the training and validation sets:\")\n",
    "print(f\"Training Acc: {classifier.getAcc(labled_train_loader)[1] * 100}%\")\n",
    "print(f\"Validation Acc: {classifier.getAcc(labled_val_loader)[1] * 100}%\")"
   ]
  },
  {
   "attachments": {},
   "cell_type": "markdown",
   "metadata": {
    "id": "i16vmHZXMNkm",
    "pycharm": {
     "name": "#%% md\n"
    }
   },
   "source": [
    "# 3. Autoencoder\n",
    "\n",
    "With only a limited number of labeled images, it's challenging to achieve high performance. We have no money left to pay the student to create more labels, and labeling the data ourselves is out of question. A commonly used approach would be to apply data augmentation to maximize the potential of our limited labeled data, but here we provide another way to solve this problem: **transfer learning**.\n",
    "\n",
    "For each input, the autoencoder tries to reproduce the same image as an output. The difficulty behind this task is that the autoencoder has to go through a low dimensional bottleneck, which is called the **latent space**.\n",
    "In other words, the autoencoder learns to represent all the input information in a low dimensional latent space - it learns to compress the input distribution. To train the autoencoder, we use the mean squared error loss, which calculates the discrepancy between the input pixels and the output pixels. The best part is that this loss function doesn't require any labels!\n",
    "\n",
    "By pretraining the autoencoder in this way on a large amount of unlabeled data, we can capture valuable latent representations of the input images. Then, we transfer the weights of the encoder to our classifier, enabling it to benefit from the knowledge learned during the unsupervised pretraining phase. \n",
    "\n",
    "<!-- In case the image does not show, uncomment the following:\n",
    "![autoencoder](img/autoencoder.png) \n",
    "-->\n",
    "<img name=\"autoencoder\" src=\"https://drive.google.com/uc?id=17nHpWR_L-mSyiNah9rV0dHuXW9yWPbLt\">\n",
    "\n",
    "After this, our encoder has learned to extract meaningful information from the inputs. We can then transfer its weights\n",
    "to a classifier architecture and finetune it with our labeled data, i.e., instead of initializing our encoder randomly, we are re-using the weights of our trained encoder from our autoencoder network. \n",
    "\n",
    "<!-- In case the image does not show, uncomment the following:\n",
    "![autoencoder_pretrained](img/pretrained.png) \n",
    "-->\n",
    "<img name=\"autoencoder_pretrained\" src=\"https://drive.google.com/uc?id=1ttndkRDJF_EMfjyMxtbu_BjQ796fL1Km\">\n",
    "\n",
    "\n",
    "Before we can train our autoencoder, you have to initialize your `decoder` architecture. The simplest way is to mirror your encoder architecture, which ensures that the `latent space` output of our `encoder` is correctly transformed to our input shape.\n",
    "\n",
    "<div class=\"alert alert-info\">\n",
    "    <h3>Task: Implement</h3>\n",
    "    <p>Implement the <code>Decoder</code> class initialization in <code>exercise_code/models.py</code>.</p>\n",
    "    <p>Implement <code>forward</code>, <code>set_optimizer</code>, <code>training_step</code> and <code>validation_step</code> of the <code>Autoencoder</code> in  <code>exercise_code/models.py</code>, following the pipeline we've shown you in train_classifier().</p>\n",
    "    <p>Note the differences between the classification task and now the regression task!</p>\n",
    "\n",
    "\n",
    "</div>\n",
    "\n",
    "## 3.2 Autoencoder Training\n",
    "\n",
    "Now, we can train the full autoencoder consisting of both en- and decoder.\n",
    "\n",
    "\n"
   ]
  },
  {
   "cell_type": "code",
   "execution_count": 248,
   "metadata": {
    "id": "xqqdoLDgMNkm"
   },
   "outputs": [],
   "source": [
    "from exercise_code.models import Autoencoder, Encoder, Decoder\n",
    "\n",
    "########################################################################\n",
    "# TODO: Define your hyperparameters here!                              #\n",
    "# Hint: use a large batch_size                                         #\n",
    "########################################################################\n",
    "\n",
    "pass\n",
    "\n",
    "########################################################################\n",
    "#                           END OF YOUR CODE                           #\n",
    "########################################################################\n",
    "encoder_pretrained = Encoder(hparams).to(device)\n",
    "decoder = Decoder(hparams).to(device)\n",
    "autoencoder = Autoencoder(hparams, encoder_pretrained, decoder).to(device)"
   ]
  },
  {
   "attachments": {},
   "cell_type": "markdown",
   "metadata": {
    "id": "uRuIIm8YMNkn"
   },
   "source": [
    "Some tests to check whether we'll accept your model."
   ]
  },
  {
   "cell_type": "code",
   "execution_count": 249,
   "metadata": {
    "id": "SoAaC-NqMNkn"
   },
   "outputs": [
    {
     "name": "stdout",
     "output_type": "stream",
     "text": [
      "# Paramters: Your model has \u001b[92m0.473\u001b[0m mio. params.\n",
      "Model accepted!\n"
     ]
    }
   ],
   "source": [
    "from exercise_code.Util import printModelInfo, load_model\n",
    "_ = printModelInfo(autoencoder)"
   ]
  },
  {
   "attachments": {},
   "cell_type": "markdown",
   "metadata": {
    "id": "plQwnphtqggl"
   },
   "source": [
    "After implementing the relevant functions - read the following code, and then run it.\n",
    "Keep in mind that an epoch here will take much longer since\n",
    "we are iterating through 5,8600 images instead of just 100.\n",
    "\n",
    "For speed, colab is indeed recommended. "
   ]
  },
  {
   "cell_type": "code",
   "execution_count": 250,
   "metadata": {},
   "outputs": [
    {
     "name": "stdout",
     "output_type": "stream",
     "text": [
      "229\n"
     ]
    }
   ],
   "source": [
    "print(len(unlabled_train_loader))"
   ]
  },
  {
   "cell_type": "code",
   "execution_count": 253,
   "metadata": {
    "id": "_uuzXMq6zjbb",
    "tags": []
   },
   "outputs": [
    {
     "name": "stderr",
     "output_type": "stream",
     "text": [
      "Training Epoch [0/60]: 100%|████████████████████████████████████████████| 229/229 [00:07<00:00, 30.24it/s, train_loss=0.04601640, val_loss=0.00000000]\n",
      "Validation Epoch [0/60]: 100%|█████████████████████████████████████████████████████████████████████| 4/4 [00:00<00:00, 42.31it/s, val_loss=0.03219164]\n",
      "Training Epoch [1/60]: 100%|████████████████████████████████████████████| 229/229 [00:07<00:00, 32.60it/s, train_loss=0.03004717, val_loss=0.03219164]\n",
      "Validation Epoch [1/60]: 100%|█████████████████████████████████████████████████████████████████████| 4/4 [00:00<00:00, 43.69it/s, val_loss=0.02821387]\n",
      "Training Epoch [2/60]: 100%|████████████████████████████████████████████| 229/229 [00:07<00:00, 32.36it/s, train_loss=0.02729315, val_loss=0.02821387]\n",
      "Validation Epoch [2/60]: 100%|█████████████████████████████████████████████████████████████████████| 4/4 [00:00<00:00, 42.08it/s, val_loss=0.02612441]\n",
      "Training Epoch [3/60]: 100%|████████████████████████████████████████████| 229/229 [00:07<00:00, 30.53it/s, train_loss=0.02568273, val_loss=0.02612441]\n",
      "Validation Epoch [3/60]: 100%|█████████████████████████████████████████████████████████████████████| 4/4 [00:00<00:00, 42.25it/s, val_loss=0.02474697]\n",
      "Training Epoch [4/60]: 100%|████████████████████████████████████████████| 229/229 [00:07<00:00, 29.01it/s, train_loss=0.02458337, val_loss=0.02474697]\n",
      "Validation Epoch [4/60]: 100%|█████████████████████████████████████████████████████████████████████| 4/4 [00:00<00:00, 31.04it/s, val_loss=0.02366654]\n",
      "Training Epoch [5/60]: 100%|████████████████████████████████████████████| 229/229 [00:07<00:00, 32.52it/s, train_loss=0.02379534, val_loss=0.02366654]\n",
      "Validation Epoch [5/60]: 100%|█████████████████████████████████████████████████████████████████████| 4/4 [00:00<00:00, 38.12it/s, val_loss=0.02312279]\n",
      "Training Epoch [6/60]: 100%|████████████████████████████████████████████| 229/229 [00:06<00:00, 35.23it/s, train_loss=0.02308256, val_loss=0.02312279]\n",
      "Validation Epoch [6/60]: 100%|█████████████████████████████████████████████████████████████████████| 4/4 [00:00<00:00, 43.43it/s, val_loss=0.02260828]\n",
      "Training Epoch [7/60]: 100%|████████████████████████████████████████████| 229/229 [00:06<00:00, 34.59it/s, train_loss=0.02261027, val_loss=0.02260828]\n",
      "Validation Epoch [7/60]: 100%|█████████████████████████████████████████████████████████████████████| 4/4 [00:00<00:00, 44.33it/s, val_loss=0.02185760]\n",
      "Training Epoch [8/60]: 100%|████████████████████████████████████████████| 229/229 [00:06<00:00, 35.69it/s, train_loss=0.02212359, val_loss=0.02185760]\n",
      "Validation Epoch [8/60]: 100%|█████████████████████████████████████████████████████████████████████| 4/4 [00:00<00:00, 40.58it/s, val_loss=0.02164347]\n",
      "Training Epoch [9/60]: 100%|████████████████████████████████████████████| 229/229 [00:06<00:00, 35.71it/s, train_loss=0.02180844, val_loss=0.02164347]\n",
      "Validation Epoch [9/60]: 100%|█████████████████████████████████████████████████████████████████████| 4/4 [00:00<00:00, 43.61it/s, val_loss=0.02122987]\n",
      "Training Epoch [10/60]: 100%|███████████████████████████████████████████| 229/229 [00:06<00:00, 35.09it/s, train_loss=0.02146901, val_loss=0.02122987]\n",
      "Validation Epoch [10/60]: 100%|████████████████████████████████████████████████████████████████████| 4/4 [00:00<00:00, 40.11it/s, val_loss=0.02101371]\n",
      "Training Epoch [11/60]: 100%|███████████████████████████████████████████| 229/229 [00:06<00:00, 35.87it/s, train_loss=0.02117855, val_loss=0.02101371]\n",
      "Validation Epoch [11/60]: 100%|████████████████████████████████████████████████████████████████████| 4/4 [00:00<00:00, 45.65it/s, val_loss=0.02067788]\n",
      "Training Epoch [12/60]: 100%|███████████████████████████████████████████| 229/229 [00:06<00:00, 35.85it/s, train_loss=0.02075090, val_loss=0.02067788]\n",
      "Validation Epoch [12/60]: 100%|████████████████████████████████████████████████████████████████████| 4/4 [00:00<00:00, 44.15it/s, val_loss=0.02021599]\n",
      "Training Epoch [13/60]: 100%|███████████████████████████████████████████| 229/229 [00:06<00:00, 34.53it/s, train_loss=0.02060066, val_loss=0.02021599]\n",
      "Validation Epoch [13/60]: 100%|████████████████████████████████████████████████████████████████████| 4/4 [00:00<00:00, 43.22it/s, val_loss=0.02015248]\n",
      "Training Epoch [14/60]: 100%|███████████████████████████████████████████| 229/229 [00:06<00:00, 34.15it/s, train_loss=0.02041475, val_loss=0.02015248]\n",
      "Validation Epoch [14/60]: 100%|████████████████████████████████████████████████████████████████████| 4/4 [00:00<00:00, 44.58it/s, val_loss=0.02002161]\n",
      "Training Epoch [15/60]: 100%|███████████████████████████████████████████| 229/229 [00:06<00:00, 36.16it/s, train_loss=0.02029235, val_loss=0.02002161]\n",
      "Validation Epoch [15/60]: 100%|████████████████████████████████████████████████████████████████████| 4/4 [00:00<00:00, 45.97it/s, val_loss=0.01971213]\n",
      "Training Epoch [16/60]: 100%|███████████████████████████████████████████| 229/229 [00:06<00:00, 35.54it/s, train_loss=0.02016163, val_loss=0.01971213]\n",
      "Validation Epoch [16/60]: 100%|████████████████████████████████████████████████████████████████████| 4/4 [00:00<00:00, 45.19it/s, val_loss=0.01993779]\n",
      "Training Epoch [17/60]: 100%|███████████████████████████████████████████| 229/229 [00:06<00:00, 34.77it/s, train_loss=0.02007470, val_loss=0.01993779]\n",
      "Validation Epoch [17/60]: 100%|████████████████████████████████████████████████████████████████████| 4/4 [00:00<00:00, 42.42it/s, val_loss=0.01958543]\n",
      "Training Epoch [18/60]: 100%|███████████████████████████████████████████| 229/229 [00:06<00:00, 35.42it/s, train_loss=0.01994340, val_loss=0.01958543]\n",
      "Validation Epoch [18/60]: 100%|████████████████████████████████████████████████████████████████████| 4/4 [00:00<00:00, 43.84it/s, val_loss=0.01952160]\n",
      "Training Epoch [19/60]: 100%|███████████████████████████████████████████| 229/229 [00:06<00:00, 34.73it/s, train_loss=0.01985292, val_loss=0.01952160]\n",
      "Validation Epoch [19/60]: 100%|████████████████████████████████████████████████████████████████████| 4/4 [00:00<00:00, 44.67it/s, val_loss=0.01947855]\n",
      "Training Epoch [20/60]: 100%|███████████████████████████████████████████| 229/229 [00:06<00:00, 35.55it/s, train_loss=0.01974036, val_loss=0.01947855]\n",
      "Validation Epoch [20/60]: 100%|████████████████████████████████████████████████████████████████████| 4/4 [00:00<00:00, 42.14it/s, val_loss=0.01934170]\n",
      "Training Epoch [21/60]: 100%|███████████████████████████████████████████| 229/229 [00:06<00:00, 35.39it/s, train_loss=0.01964584, val_loss=0.01934170]\n",
      "Validation Epoch [21/60]: 100%|████████████████████████████████████████████████████████████████████| 4/4 [00:00<00:00, 45.52it/s, val_loss=0.01924232]\n",
      "Training Epoch [22/60]: 100%|███████████████████████████████████████████| 229/229 [00:06<00:00, 34.33it/s, train_loss=0.01961113, val_loss=0.01924232]\n",
      "Validation Epoch [22/60]: 100%|████████████████████████████████████████████████████████████████████| 4/4 [00:00<00:00, 44.18it/s, val_loss=0.01930358]\n",
      "Training Epoch [23/60]: 100%|███████████████████████████████████████████| 229/229 [00:06<00:00, 35.46it/s, train_loss=0.01948732, val_loss=0.01930358]\n",
      "Validation Epoch [23/60]: 100%|████████████████████████████████████████████████████████████████████| 4/4 [00:00<00:00, 44.61it/s, val_loss=0.01907266]\n",
      "Training Epoch [24/60]: 100%|███████████████████████████████████████████| 229/229 [00:06<00:00, 34.82it/s, train_loss=0.01920038, val_loss=0.01907266]\n",
      "Validation Epoch [24/60]: 100%|████████████████████████████████████████████████████████████████████| 4/4 [00:00<00:00, 43.75it/s, val_loss=0.01890584]\n",
      "Training Epoch [25/60]: 100%|███████████████████████████████████████████| 229/229 [00:06<00:00, 34.12it/s, train_loss=0.01917894, val_loss=0.01890584]\n",
      "Validation Epoch [25/60]: 100%|████████████████████████████████████████████████████████████████████| 4/4 [00:00<00:00, 44.00it/s, val_loss=0.01876363]\n",
      "Training Epoch [26/60]: 100%|███████████████████████████████████████████| 229/229 [00:06<00:00, 35.47it/s, train_loss=0.01918016, val_loss=0.01876363]\n",
      "Validation Epoch [26/60]: 100%|████████████████████████████████████████████████████████████████████| 4/4 [00:00<00:00, 42.51it/s, val_loss=0.01873217]\n",
      "Training Epoch [27/60]: 100%|███████████████████████████████████████████| 229/229 [00:07<00:00, 29.17it/s, train_loss=0.01906703, val_loss=0.01873217]\n",
      "Validation Epoch [27/60]: 100%|████████████████████████████████████████████████████████████████████| 4/4 [00:00<00:00, 40.61it/s, val_loss=0.01865848]\n",
      "Training Epoch [28/60]: 100%|███████████████████████████████████████████| 229/229 [00:07<00:00, 32.40it/s, train_loss=0.01905323, val_loss=0.01865848]\n",
      "Validation Epoch [28/60]: 100%|████████████████████████████████████████████████████████████████████| 4/4 [00:00<00:00, 44.05it/s, val_loss=0.01862806]\n",
      "Training Epoch [29/60]: 100%|███████████████████████████████████████████| 229/229 [00:06<00:00, 34.03it/s, train_loss=0.01898670, val_loss=0.01862806]\n",
      "Validation Epoch [29/60]: 100%|████████████████████████████████████████████████████████████████████| 4/4 [00:00<00:00, 45.56it/s, val_loss=0.01865036]\n",
      "Training Epoch [30/60]: 100%|███████████████████████████████████████████| 229/229 [00:06<00:00, 36.08it/s, train_loss=0.01891456, val_loss=0.01865036]\n",
      "Validation Epoch [30/60]: 100%|████████████████████████████████████████████████████████████████████| 4/4 [00:00<00:00, 45.72it/s, val_loss=0.01850392]\n",
      "Training Epoch [31/60]: 100%|███████████████████████████████████████████| 229/229 [00:06<00:00, 33.67it/s, train_loss=0.01889749, val_loss=0.01850392]\n",
      "Validation Epoch [31/60]: 100%|████████████████████████████████████████████████████████████████████| 4/4 [00:00<00:00, 45.30it/s, val_loss=0.01869120]\n",
      "Training Epoch [32/60]: 100%|███████████████████████████████████████████| 229/229 [00:06<00:00, 36.12it/s, train_loss=0.01885757, val_loss=0.01869120]\n",
      "Validation Epoch [32/60]: 100%|████████████████████████████████████████████████████████████████████| 4/4 [00:00<00:00, 45.86it/s, val_loss=0.01857385]\n",
      "Training Epoch [33/60]: 100%|███████████████████████████████████████████| 229/229 [00:06<00:00, 35.90it/s, train_loss=0.01884715, val_loss=0.01857385]\n",
      "Validation Epoch [33/60]: 100%|████████████████████████████████████████████████████████████████████| 4/4 [00:00<00:00, 45.53it/s, val_loss=0.01860379]\n",
      "Training Epoch [34/60]: 100%|███████████████████████████████████████████| 229/229 [00:06<00:00, 35.45it/s, train_loss=0.01878214, val_loss=0.01860379]\n",
      "Validation Epoch [34/60]: 100%|████████████████████████████████████████████████████████████████████| 4/4 [00:00<00:00, 45.56it/s, val_loss=0.01836411]\n",
      "Training Epoch [35/60]: 100%|███████████████████████████████████████████| 229/229 [00:06<00:00, 36.11it/s, train_loss=0.01875384, val_loss=0.01836411]\n",
      "Validation Epoch [35/60]: 100%|████████████████████████████████████████████████████████████████████| 4/4 [00:00<00:00, 45.17it/s, val_loss=0.01842930]\n",
      "Training Epoch [36/60]: 100%|███████████████████████████████████████████| 229/229 [00:06<00:00, 33.29it/s, train_loss=0.01860892, val_loss=0.01842930]\n",
      "Validation Epoch [36/60]: 100%|████████████████████████████████████████████████████████████████████| 4/4 [00:00<00:00, 43.68it/s, val_loss=0.01832274]\n",
      "Training Epoch [37/60]: 100%|███████████████████████████████████████████| 229/229 [00:06<00:00, 35.65it/s, train_loss=0.01856396, val_loss=0.01832274]\n",
      "Validation Epoch [37/60]: 100%|████████████████████████████████████████████████████████████████████| 4/4 [00:00<00:00, 45.45it/s, val_loss=0.01815730]\n",
      "Training Epoch [38/60]: 100%|███████████████████████████████████████████| 229/229 [00:06<00:00, 35.60it/s, train_loss=0.01852161, val_loss=0.01815730]\n",
      "Validation Epoch [38/60]: 100%|████████████████████████████████████████████████████████████████████| 4/4 [00:00<00:00, 43.74it/s, val_loss=0.01822798]\n",
      "Training Epoch [39/60]: 100%|███████████████████████████████████████████| 229/229 [00:06<00:00, 35.24it/s, train_loss=0.01845401, val_loss=0.01822798]\n",
      "Validation Epoch [39/60]: 100%|████████████████████████████████████████████████████████████████████| 4/4 [00:00<00:00, 44.24it/s, val_loss=0.01801316]\n",
      "Training Epoch [40/60]: 100%|███████████████████████████████████████████| 229/229 [00:07<00:00, 32.61it/s, train_loss=0.01847396, val_loss=0.01801316]\n",
      "Validation Epoch [40/60]: 100%|████████████████████████████████████████████████████████████████████| 4/4 [00:00<00:00, 43.32it/s, val_loss=0.01808065]\n",
      "Training Epoch [41/60]: 100%|███████████████████████████████████████████| 229/229 [00:06<00:00, 34.99it/s, train_loss=0.01842460, val_loss=0.01808065]\n",
      "Validation Epoch [41/60]: 100%|████████████████████████████████████████████████████████████████████| 4/4 [00:00<00:00, 43.50it/s, val_loss=0.01811402]\n",
      "Training Epoch [42/60]: 100%|███████████████████████████████████████████| 229/229 [00:06<00:00, 35.65it/s, train_loss=0.01844805, val_loss=0.01811402]\n",
      "Validation Epoch [42/60]: 100%|████████████████████████████████████████████████████████████████████| 4/4 [00:00<00:00, 43.87it/s, val_loss=0.01804153]\n",
      "Training Epoch [43/60]: 100%|███████████████████████████████████████████| 229/229 [00:06<00:00, 33.72it/s, train_loss=0.01837490, val_loss=0.01804153]\n",
      "Validation Epoch [43/60]: 100%|████████████████████████████████████████████████████████████████████| 4/4 [00:00<00:00, 43.11it/s, val_loss=0.01797458]\n",
      "Training Epoch [44/60]: 100%|███████████████████████████████████████████| 229/229 [00:06<00:00, 35.03it/s, train_loss=0.01834678, val_loss=0.01797458]\n",
      "Validation Epoch [44/60]: 100%|████████████████████████████████████████████████████████████████████| 4/4 [00:00<00:00, 44.40it/s, val_loss=0.01799504]\n",
      "Training Epoch [45/60]: 100%|███████████████████████████████████████████| 229/229 [00:06<00:00, 35.69it/s, train_loss=0.01833302, val_loss=0.01799504]\n",
      "Validation Epoch [45/60]: 100%|████████████████████████████████████████████████████████████████████| 4/4 [00:00<00:00, 43.64it/s, val_loss=0.01802944]\n",
      "Training Epoch [46/60]: 100%|███████████████████████████████████████████| 229/229 [00:06<00:00, 35.73it/s, train_loss=0.01833746, val_loss=0.01802944]\n",
      "Validation Epoch [46/60]: 100%|████████████████████████████████████████████████████████████████████| 4/4 [00:00<00:00, 45.50it/s, val_loss=0.01801851]\n",
      "Training Epoch [47/60]: 100%|███████████████████████████████████████████| 229/229 [00:06<00:00, 35.98it/s, train_loss=0.01832561, val_loss=0.01801851]\n",
      "Validation Epoch [47/60]: 100%|████████████████████████████████████████████████████████████████████| 4/4 [00:00<00:00, 43.02it/s, val_loss=0.01786510]\n",
      "Training Epoch [48/60]: 100%|███████████████████████████████████████████| 229/229 [00:06<00:00, 34.77it/s, train_loss=0.01818932, val_loss=0.01786510]\n",
      "Validation Epoch [48/60]: 100%|████████████████████████████████████████████████████████████████████| 4/4 [00:00<00:00, 45.07it/s, val_loss=0.01774182]\n",
      "Training Epoch [49/60]: 100%|███████████████████████████████████████████| 229/229 [00:06<00:00, 33.66it/s, train_loss=0.01818543, val_loss=0.01774182]\n",
      "Validation Epoch [49/60]: 100%|████████████████████████████████████████████████████████████████████| 4/4 [00:00<00:00, 41.09it/s, val_loss=0.01780114]\n",
      "Training Epoch [50/60]: 100%|███████████████████████████████████████████| 229/229 [00:06<00:00, 35.29it/s, train_loss=0.01816366, val_loss=0.01780114]\n",
      "Validation Epoch [50/60]: 100%|████████████████████████████████████████████████████████████████████| 4/4 [00:00<00:00, 45.39it/s, val_loss=0.01781973]\n",
      "Training Epoch [51/60]: 100%|███████████████████████████████████████████| 229/229 [00:06<00:00, 35.61it/s, train_loss=0.01814883, val_loss=0.01781973]\n",
      "Validation Epoch [51/60]: 100%|████████████████████████████████████████████████████████████████████| 4/4 [00:00<00:00, 43.57it/s, val_loss=0.01773310]\n",
      "Training Epoch [52/60]: 100%|███████████████████████████████████████████| 229/229 [00:06<00:00, 35.43it/s, train_loss=0.01814055, val_loss=0.01773310]\n",
      "Validation Epoch [52/60]: 100%|████████████████████████████████████████████████████████████████████| 4/4 [00:00<00:00, 45.18it/s, val_loss=0.01792247]\n",
      "Training Epoch [53/60]: 100%|███████████████████████████████████████████| 229/229 [00:06<00:00, 35.65it/s, train_loss=0.01814510, val_loss=0.01792247]\n",
      "Validation Epoch [53/60]: 100%|████████████████████████████████████████████████████████████████████| 4/4 [00:00<00:00, 45.29it/s, val_loss=0.01771978]\n",
      "Training Epoch [54/60]: 100%|███████████████████████████████████████████| 229/229 [00:06<00:00, 33.83it/s, train_loss=0.01813122, val_loss=0.01771978]\n",
      "Validation Epoch [54/60]: 100%|████████████████████████████████████████████████████████████████████| 4/4 [00:00<00:00, 43.82it/s, val_loss=0.01775012]\n",
      "Training Epoch [55/60]: 100%|███████████████████████████████████████████| 229/229 [00:06<00:00, 35.36it/s, train_loss=0.01806120, val_loss=0.01775012]\n",
      "Validation Epoch [55/60]: 100%|████████████████████████████████████████████████████████████████████| 4/4 [00:00<00:00, 45.00it/s, val_loss=0.01768077]\n",
      "Training Epoch [56/60]: 100%|███████████████████████████████████████████| 229/229 [00:07<00:00, 30.48it/s, train_loss=0.01807086, val_loss=0.01768077]\n",
      "Validation Epoch [56/60]: 100%|████████████████████████████████████████████████████████████████████| 4/4 [00:00<00:00, 38.94it/s, val_loss=0.01781564]\n",
      "Training Epoch [57/60]: 100%|███████████████████████████████████████████| 229/229 [00:07<00:00, 32.17it/s, train_loss=0.01804262, val_loss=0.01781564]\n",
      "Validation Epoch [57/60]: 100%|████████████████████████████████████████████████████████████████████| 4/4 [00:00<00:00, 43.73it/s, val_loss=0.01772040]\n",
      "Training Epoch [58/60]: 100%|███████████████████████████████████████████| 229/229 [00:07<00:00, 29.48it/s, train_loss=0.01803640, val_loss=0.01772040]\n",
      "Validation Epoch [58/60]: 100%|████████████████████████████████████████████████████████████████████| 4/4 [00:00<00:00, 41.83it/s, val_loss=0.01755759]\n",
      "Training Epoch [59/60]: 100%|███████████████████████████████████████████| 229/229 [00:07<00:00, 32.27it/s, train_loss=0.01804411, val_loss=0.01755759]\n",
      "Validation Epoch [59/60]: 100%|████████████████████████████████████████████████████████████████████| 4/4 [00:00<00:00, 43.84it/s, val_loss=0.01768757]"
     ]
    },
    {
     "name": "stdout",
     "output_type": "stream",
     "text": [
      "Finished training!\n"
     ]
    },
    {
     "name": "stderr",
     "output_type": "stream",
     "text": [
      "\n"
     ]
    }
   ],
   "source": [
    "encoder_pretrained = Encoder(hparams).to(device)\n",
    "decoder = Decoder(hparams).to(device)\n",
    "autoencoder = Autoencoder(hparams, encoder_pretrained, decoder).to(device)\n",
    "\n",
    "def train_model(model, train_loader, val_loader, loss_func, tb_logger, epochs=10, name='Autoencoder'):\n",
    "    \n",
    "    optimizer = model.optimizer\n",
    "    scheduler = torch.optim.lr_scheduler.StepLR(optimizer, step_size=epochs * len(train_loader) / 5, gamma=0.7)\n",
    "    validation_loss = 0\n",
    "    model = model.to(device)\n",
    "    for epoch in range(epochs):\n",
    "        \n",
    "        # Train\n",
    "        training_loop = create_tqdm_bar(train_loader, desc=f'Training Epoch [{epoch}/{epochs}]')\n",
    "        training_loss = 0\n",
    "        for train_iteration, batch in training_loop:\n",
    "            \n",
    "            loss = model.training_step(batch, loss_func) # You need to implement this function.\n",
    "            training_loss += loss.item()\n",
    "            scheduler.step()\n",
    "\n",
    "            # Update the progress bar.\n",
    "            training_loop.set_postfix(train_loss = \"{:.8f}\".format(training_loss / (train_iteration + 1)), val_loss = \"{:.8f}\".format(validation_loss))\n",
    "\n",
    "            # Update the tensorboard logger.\n",
    "            tb_logger.add_scalar(f'{name}/train_loss', loss.item(), epoch * len(train_loader) + train_iteration)\n",
    "\n",
    "        # Validation\n",
    "        val_loop = create_tqdm_bar(val_loader, desc=f'Validation Epoch [{epoch}/{epochs}]')\n",
    "        validation_loss = 0\n",
    "        with torch.no_grad():\n",
    "            for val_iteration, batch in val_loop:\n",
    "                loss = model.validation_step(batch, loss_func) # You need to implement this function.\n",
    "                validation_loss += loss.item()\n",
    "\n",
    "                # Update the progress bar.\n",
    "                val_loop.set_postfix(val_loss = \"{:.8f}\".format(validation_loss / (val_iteration + 1)))\n",
    "\n",
    "                # Update the tensorboard logger.\n",
    "                tb_logger.add_scalar(f'{name}/val_loss', validation_loss / (val_iteration + 1), epoch * len(val_loader) + val_iteration)\n",
    "        # This value is for the progress bar of the training loop.\n",
    "        validation_loss /= len(val_loader)\n",
    "\n",
    "# Create a tensorboard logger.\n",
    "# NOTE: In order to see the logs, run the following command in the terminal: tensorboard --logdir=./\n",
    "# Also, in order to reset the logs, delete the logs folder MANUALLY.\n",
    "\n",
    "path = os.path.join('logs', 'ae_logs')\n",
    "num_of_runs = len(os.listdir(path)) if os.path.exists(path) else 0\n",
    "path = os.path.join(path, f'run_{num_of_runs + 1}')\n",
    "tb_logger = SummaryWriter(path)\n",
    "\n",
    "# Train the classifier.\n",
    "unlabled_train_loader = torch.utils.data.DataLoader(unlabeled_train, batch_size=256, shuffle=True)\n",
    "unlabled_val_loader = torch.utils.data.DataLoader(unlabeled_val, batch_size=256, shuffle=False)\n",
    "\n",
    "epochs = hparams.get('epochs', 60)\n",
    "loss_func = nn.MSELoss() # The loss function we use for regression (Could also be nn.L1Loss()).\n",
    "train_model(autoencoder, unlabled_train_loader, unlabled_val_loader, loss_func, tb_logger, epochs=epochs, name='Autoencoder')\n",
    "\n",
    "print(\"Finished training!\")"
   ]
  },
  {
   "cell_type": "code",
   "execution_count": null,
   "metadata": {},
   "outputs": [],
   "source": []
  },
  {
   "attachments": {},
   "cell_type": "markdown",
   "metadata": {
    "id": "vdgiYWy4MNkq"
   },
   "source": [
    "Once trained, let's have a look at the reconstructed validation images (If you have not already looked at them in TensorBoard)."
   ]
  },
  {
   "cell_type": "code",
   "execution_count": 255,
   "metadata": {
    "id": "a991mKcyMNkq"
   },
   "outputs": [
    {
     "data": {
      "image/png": "[encoded data removed]",
      "text/plain": [
       "<Figure size 1600x1600 with 64 Axes>"
      ]
     },
     "metadata": {},
     "output_type": "display_data"
    }
   ],
   "source": [
    "reconstructions = autoencoder.getReconstructions(unlabled_val_loader)\n",
    "for i in range(64):\n",
    "    plt.subplot(8,8,i+1)\n",
    "    plt.axis('off')\n",
    "    plt.imshow(reconstructions[i], cmap='gray', interpolation='none')\n",
    "    \n",
    "plt.tight_layout()"
   ]
  },
  {
   "attachments": {},
   "cell_type": "markdown",
   "metadata": {
    "id": "R2hrP5b1MNkr"
   },
   "source": [
    "# 4. Transfer Learning\n",
    "\n",
    "## 4.1 The pretrained Classifier\n",
    "\n",
    "Now we initialize another classifier but this time with the pretrained encoder."
   ]
  },
  {
   "cell_type": "code",
   "execution_count": 376,
   "metadata": {
    "id": "OELYQAUmMNkr"
   },
   "outputs": [],
   "source": [
    "from exercise_code.models import Classifier\n",
    "from copy import deepcopy\n",
    "\n",
    "hparams = {}\n",
    "########################################################################\n",
    "# TODO: Define your hyperparameters here!                             #\n",
    "########################################################################\n",
    "\n",
    "pass\n",
    "\n",
    "########################################################################\n",
    "#                           END OF YOUR CODE                           #\n",
    "########################################################################\n",
    "\n",
    "encoder_pretrained_copy = deepcopy(encoder_pretrained)\n",
    "classifier_pretrained = Classifier(hparams, encoder_pretrained_copy).to(device)"
   ]
  },
  {
   "attachments": {},
   "cell_type": "markdown",
   "metadata": {
    "id": "R8FUtih6MNks"
   },
   "source": [
    "Let's define another trainer that will utilize the pretrained classifier, allowing us to compare its performance with the classifier trained only on the labeled data. To achieve a reasonable result, you may need to optimize the parameters you defined earlier."
   ]
  },
  {
   "cell_type": "code",
   "execution_count": 377,
   "metadata": {
    "id": "Mx_euorWMNks"
   },
   "outputs": [
    {
     "name": "stderr",
     "output_type": "stream",
     "text": [
      "Training Epoch [1/30]:   0%|                                                  | 0/10 [00:00<?, ?it/s, curr_train_loss=2.79118991, val_loss=0.00000000]"
     ]
    },
    {
     "name": "stderr",
     "output_type": "stream",
     "text": [
      "Training Epoch [1/30]: 100%|█████████████████████████████████████████| 10/10 [00:01<00:00,  8.79it/s, curr_train_loss=2.25345032, val_loss=0.00000000]\n",
      "Validation Epoch [1/30]: 100%|███████████████████████████████████████████████████████████████████| 10/10 [00:01<00:00,  9.25it/s, val_loss=2.04027500]\n",
      "Training Epoch [2/30]: 100%|█████████████████████████████████████████| 10/10 [00:01<00:00,  8.84it/s, curr_train_loss=1.66004541, val_loss=2.04027500]\n",
      "Validation Epoch [2/30]: 100%|███████████████████████████████████████████████████████████████████| 10/10 [00:01<00:00,  9.18it/s, val_loss=1.70696603]\n",
      "Training Epoch [3/30]: 100%|█████████████████████████████████████████| 10/10 [00:01<00:00,  9.01it/s, curr_train_loss=1.40023764, val_loss=1.70696603]\n",
      "Validation Epoch [3/30]: 100%|███████████████████████████████████████████████████████████████████| 10/10 [00:01<00:00,  9.31it/s, val_loss=1.46864734]\n",
      "Training Epoch [4/30]: 100%|█████████████████████████████████████████| 10/10 [00:01<00:00,  8.53it/s, curr_train_loss=1.15008313, val_loss=1.46864734]\n",
      "Validation Epoch [4/30]: 100%|███████████████████████████████████████████████████████████████████| 10/10 [00:01<00:00,  9.26it/s, val_loss=1.31731267]\n",
      "Training Epoch [5/30]: 100%|█████████████████████████████████████████| 10/10 [00:01<00:00,  8.93it/s, curr_train_loss=1.05361924, val_loss=1.31731267]\n",
      "Validation Epoch [5/30]: 100%|███████████████████████████████████████████████████████████████████| 10/10 [00:01<00:00,  9.27it/s, val_loss=1.16203292]\n",
      "Training Epoch [6/30]: 100%|█████████████████████████████████████████| 10/10 [00:01<00:00,  8.77it/s, curr_train_loss=0.91529232, val_loss=1.16203292]\n",
      "Validation Epoch [6/30]: 100%|███████████████████████████████████████████████████████████████████| 10/10 [00:01<00:00,  9.15it/s, val_loss=1.06641720]\n",
      "Training Epoch [7/30]: 100%|█████████████████████████████████████████| 10/10 [00:01<00:00,  8.88it/s, curr_train_loss=0.82064349, val_loss=1.06641720]\n",
      "Validation Epoch [7/30]: 100%|███████████████████████████████████████████████████████████████████| 10/10 [00:01<00:00,  9.21it/s, val_loss=0.96962871]\n",
      "Training Epoch [8/30]: 100%|█████████████████████████████████████████| 10/10 [00:01<00:00,  8.89it/s, curr_train_loss=0.75763852, val_loss=0.96962871]\n",
      "Validation Epoch [8/30]: 100%|███████████████████████████████████████████████████████████████████| 10/10 [00:01<00:00,  9.13it/s, val_loss=0.88339579]\n",
      "Training Epoch [9/30]: 100%|█████████████████████████████████████████| 10/10 [00:01<00:00,  8.95it/s, curr_train_loss=0.59666927, val_loss=0.88339579]\n",
      "Validation Epoch [9/30]: 100%|███████████████████████████████████████████████████████████████████| 10/10 [00:01<00:00,  9.29it/s, val_loss=0.87299911]\n",
      "Training Epoch [10/30]: 100%|████████████████████████████████████████| 10/10 [00:01<00:00,  8.28it/s, curr_train_loss=0.47070965, val_loss=0.87299911]\n",
      "Validation Epoch [10/30]: 100%|██████████████████████████████████████████████████████████████████| 10/10 [00:01<00:00,  9.26it/s, val_loss=0.80004706]\n",
      "Training Epoch [11/30]: 100%|████████████████████████████████████████| 10/10 [00:01<00:00,  8.81it/s, curr_train_loss=0.39367361, val_loss=0.80004706]\n",
      "Validation Epoch [11/30]: 100%|██████████████████████████████████████████████████████████████████| 10/10 [00:01<00:00,  9.08it/s, val_loss=0.77206544]\n",
      "Training Epoch [12/30]: 100%|████████████████████████████████████████| 10/10 [00:01<00:00,  8.75it/s, curr_train_loss=0.48766505, val_loss=0.77206544]\n",
      "Validation Epoch [12/30]: 100%|██████████████████████████████████████████████████████████████████| 10/10 [00:01<00:00,  9.32it/s, val_loss=0.70208848]\n",
      "Training Epoch [13/30]: 100%|████████████████████████████████████████| 10/10 [00:01<00:00,  8.29it/s, curr_train_loss=0.41646673, val_loss=0.70208848]\n",
      "Validation Epoch [13/30]: 100%|██████████████████████████████████████████████████████████████████| 10/10 [00:01<00:00,  9.24it/s, val_loss=0.65910747]\n",
      "Training Epoch [14/30]: 100%|████████████████████████████████████████| 10/10 [00:01<00:00,  8.97it/s, curr_train_loss=0.36371759, val_loss=0.65910747]\n",
      "Validation Epoch [14/30]: 100%|██████████████████████████████████████████████████████████████████| 10/10 [00:01<00:00,  9.26it/s, val_loss=0.68764134]\n",
      "Training Epoch [15/30]: 100%|████████████████████████████████████████| 10/10 [00:01<00:00,  8.87it/s, curr_train_loss=0.35421877, val_loss=0.68764134]\n",
      "Validation Epoch [15/30]: 100%|██████████████████████████████████████████████████████████████████| 10/10 [00:01<00:00,  9.27it/s, val_loss=0.65637751]\n",
      "Training Epoch [16/30]: 100%|████████████████████████████████████████| 10/10 [00:01<00:00,  9.00it/s, curr_train_loss=0.26624317, val_loss=0.65637751]\n",
      "Validation Epoch [16/30]: 100%|██████████████████████████████████████████████████████████████████| 10/10 [00:01<00:00,  9.28it/s, val_loss=0.64859169]\n",
      "Training Epoch [17/30]: 100%|████████████████████████████████████████| 10/10 [00:01<00:00,  8.85it/s, curr_train_loss=0.36956545, val_loss=0.64859169]\n",
      "Validation Epoch [17/30]: 100%|██████████████████████████████████████████████████████████████████| 10/10 [00:01<00:00,  9.14it/s, val_loss=0.61015906]\n",
      "Training Epoch [18/30]: 100%|████████████████████████████████████████| 10/10 [00:01<00:00,  7.71it/s, curr_train_loss=0.32508293, val_loss=0.61015906]\n",
      "Validation Epoch [18/30]: 100%|██████████████████████████████████████████████████████████████████| 10/10 [00:01<00:00,  9.17it/s, val_loss=0.57740172]\n",
      "Training Epoch [19/30]: 100%|████████████████████████████████████████| 10/10 [00:01<00:00,  8.72it/s, curr_train_loss=0.24163515, val_loss=0.57740172]\n",
      "Validation Epoch [19/30]: 100%|██████████████████████████████████████████████████████████████████| 10/10 [00:01<00:00,  9.31it/s, val_loss=0.59348385]\n",
      "Training Epoch [20/30]: 100%|████████████████████████████████████████| 10/10 [00:01<00:00,  8.83it/s, curr_train_loss=0.26011370, val_loss=0.59348385]\n",
      "Validation Epoch [20/30]: 100%|██████████████████████████████████████████████████████████████████| 10/10 [00:01<00:00,  9.24it/s, val_loss=0.57335693]\n",
      "Training Epoch [21/30]: 100%|████████████████████████████████████████| 10/10 [00:01<00:00,  8.99it/s, curr_train_loss=0.30546917, val_loss=0.57335693]\n",
      "Validation Epoch [21/30]: 100%|██████████████████████████████████████████████████████████████████| 10/10 [00:01<00:00,  9.28it/s, val_loss=0.63194305]\n",
      "Training Epoch [22/30]: 100%|████████████████████████████████████████| 10/10 [00:01<00:00,  8.99it/s, curr_train_loss=0.29761012, val_loss=0.63194305]\n",
      "Validation Epoch [22/30]: 100%|██████████████████████████████████████████████████████████████████| 10/10 [00:01<00:00,  9.11it/s, val_loss=0.60293332]\n",
      "Training Epoch [23/30]: 100%|████████████████████████████████████████| 10/10 [00:01<00:00,  8.75it/s, curr_train_loss=0.25889581, val_loss=0.60293332]\n",
      "Validation Epoch [23/30]: 100%|██████████████████████████████████████████████████████████████████| 10/10 [00:01<00:00,  9.18it/s, val_loss=0.66150569]\n",
      "Training Epoch [24/30]: 100%|████████████████████████████████████████| 10/10 [00:01<00:00,  8.94it/s, curr_train_loss=0.32561415, val_loss=0.66150569]\n",
      "Validation Epoch [24/30]: 100%|██████████████████████████████████████████████████████████████████| 10/10 [00:01<00:00,  9.25it/s, val_loss=0.66097559]\n",
      "Training Epoch [25/30]: 100%|████████████████████████████████████████| 10/10 [00:01<00:00,  8.68it/s, curr_train_loss=0.24916478, val_loss=0.66097559]\n",
      "Validation Epoch [25/30]: 100%|██████████████████████████████████████████████████████████████████| 10/10 [00:01<00:00,  9.12it/s, val_loss=0.56662908]\n",
      "Training Epoch [26/30]: 100%|████████████████████████████████████████| 10/10 [00:01<00:00,  8.86it/s, curr_train_loss=0.15364173, val_loss=0.56662908]\n",
      "Validation Epoch [26/30]: 100%|██████████████████████████████████████████████████████████████████| 10/10 [00:01<00:00,  9.31it/s, val_loss=0.58199400]\n",
      "Training Epoch [27/30]: 100%|████████████████████████████████████████| 10/10 [00:01<00:00,  8.84it/s, curr_train_loss=0.14509981, val_loss=0.58199400]\n",
      "Validation Epoch [27/30]: 100%|██████████████████████████████████████████████████████████████████| 10/10 [00:01<00:00,  9.14it/s, val_loss=0.57562748]\n",
      "Training Epoch [28/30]: 100%|████████████████████████████████████████| 10/10 [00:01<00:00,  8.86it/s, curr_train_loss=0.18023839, val_loss=0.57562748]\n",
      "Validation Epoch [28/30]: 100%|██████████████████████████████████████████████████████████████████| 10/10 [00:01<00:00,  9.13it/s, val_loss=0.62504511]\n",
      "Training Epoch [29/30]: 100%|████████████████████████████████████████| 10/10 [00:01<00:00,  8.91it/s, curr_train_loss=0.16867976, val_loss=0.62504511]\n",
      "Validation Epoch [29/30]: 100%|██████████████████████████████████████████████████████████████████| 10/10 [00:01<00:00,  9.22it/s, val_loss=0.59700398]\n",
      "Training Epoch [30/30]: 100%|████████████████████████████████████████| 10/10 [00:01<00:00,  8.95it/s, curr_train_loss=0.18262981, val_loss=0.59700398]\n",
      "Validation Epoch [30/30]: 100%|██████████████████████████████████████████████████████████████████| 10/10 [00:01<00:00,  9.27it/s, val_loss=0.61338828]"
     ]
    },
    {
     "name": "stdout",
     "output_type": "stream",
     "text": [
      "Finished training!\n"
     ]
    },
    {
     "name": "stderr",
     "output_type": "stream",
     "text": [
      "\n"
     ]
    }
   ],
   "source": [
    "\n",
    "# Create a tensorboard logger.\n",
    "# NOTE: In order to see the logs, run the following command in the terminal: tensorboard --logdir=./\n",
    "# Also, in order to reset the logs, delete the logs folder MANUALLY.\n",
    "# Pay attention that if you run this cell mutltiple times, the pretrained_encoder\n",
    "# is not reset, and will keep training from where it stopped. Thus, it could overfit.\n",
    "\n",
    "path = os.path.join('logs', 'pretrained_cls_logs')\n",
    "num_of_runs = len(os.listdir(path)) if os.path.exists(path) else 0\n",
    "path = os.path.join(path, f'run_{num_of_runs + 1}')\n",
    "tb_logger = SummaryWriter(path)\n",
    "\n",
    "batch_size = hparams.get('batch_size', 10)\n",
    "labled_train_loader = torch.utils.data.DataLoader(train_100_dataset, batch_size=batch_size, shuffle=True)\n",
    "labled_val_loader = torch.utils.data.DataLoader(val_100_dataset, batch_size=batch_size, shuffle=False)\n",
    "\n",
    "epochs = hparams.get('epochs', 30)\n",
    "loss_func = nn.CrossEntropyLoss() # The loss function we use for classification.\n",
    "train_classifier(classifier_pretrained, labled_train_loader, labled_val_loader, loss_func, tb_logger, epochs=epochs, name='Pretrained')\n",
    "\n",
    "print(\"Finished training!\") "
   ]
  },
  {
   "cell_type": "code",
   "execution_count": 372,
   "metadata": {},
   "outputs": [
    {
     "name": "stdout",
     "output_type": "stream",
     "text": [
      "Finished training!\n",
      "How did we do? Let's check the accuracy of the defaut classifier on the training and validation sets:\n",
      "Training Acc: 100.0%\n",
      "Validation Acc: 73.0%\n"
     ]
    }
   ],
   "source": [
    "print(\"Finished training!\")\n",
    "print(\"How did we do? Let's check the accuracy of the defaut classifier on the training and validation sets:\")\n",
    "print(f\"Training Acc: {classifier.getAcc(labled_train_loader)[1] * 100}%\")\n",
    "print(f\"Validation Acc: {classifier.getAcc(labled_val_loader)[1] * 100}%\")"
   ]
  },
  {
   "attachments": {},
   "cell_type": "markdown",
   "metadata": {
    "id": "H-pm1MY_MNks"
   },
   "source": [
    "Let's have a look at the validation accuracy of the two different classifiers and compare them. And don't forget that you can also monitor your training in TensorBoard.\n",
    "\n",
    "We will only look at the test accuracy and compare our two classifiers with respect to that in the very end."
   ]
  },
  {
   "cell_type": "code",
   "execution_count": 391,
   "metadata": {
    "id": "-e5Bd9KLMNkt"
   },
   "outputs": [
    {
     "name": "stdout",
     "output_type": "stream",
     "text": [
      "Validation accuracy when training from scratch: \u001b[92m68.0\u001b[0m%\n",
      "Validation accuracy with pretraining: \u001b[92m82.0\u001b[0m%\n"
     ]
    }
   ],
   "source": [
    "val_acc_scracth = classifier.getAcc(labled_val_loader)[1]*100\n",
    "color = 'green' if val_acc_scracth > 55 else 'red'\n",
    "print(f\"Validation accuracy when training from scratch: {bcolors.colorize(color, val_acc_scracth)}%\")\n",
    "\n",
    "val_acc_pretrained = classifier_pretrained.getAcc(labled_val_loader)[1]*100\n",
    "color = 'green' if val_acc_pretrained > 55 else 'red'\n",
    "print(f\"Validation accuracy with pretraining: {bcolors.colorize(color, val_acc_pretrained)}%\")\n",
    "\n",
    "\n"
   ]
  },
  {
   "attachments": {},
   "cell_type": "markdown",
   "metadata": {
    "id": "zAp2OTyf4_5b"
   },
   "source": [
    "Now that everything is working, feel free to play around with different architectures. As you've seen, it's quite easy to define your model or do adpations there.\n",
    "\n",
    "To pass this submission, you will need to achieve an accuracy of **55%**."
   ]
  },
  {
   "attachments": {},
   "cell_type": "markdown",
   "metadata": {
    "id": "OmEYmRT-5S-e"
   },
   "source": [
    "# Save your model & Report Test Accuracy\n",
    "\n",
    "When you are finally done with your **hyperparameter tuning**, achieved **at least 55% validation accuracy** and are happy with your final model, you can save it here.\n",
    "\n",
    "Before that, please check again whether the number of parameters is below 5 Mio and the file size is below 20 MB.\n",
    "\n",
    "Once your final model is saved, we'll finally report the test accuracy."
   ]
  },
  {
   "cell_type": "code",
   "execution_count": 399,
   "metadata": {
    "id": "S69ETKxD5TcE"
   },
   "outputs": [
    {
     "name": "stdout",
     "output_type": "stream",
     "text": [
      "Test accuracy when training from scratch: \u001b[92m73.0\u001b[0m%\n",
      "Test accuracy with pretraining: \u001b[92m83.0\u001b[0m%\n",
      "Validation Accuracy: \u001b[92m80.0\u001b[0m%\n",
      "# Paramters: Your model has \u001b[92m0.274\u001b[0m mio. params.\n",
      "Size: Great! Your model size is \u001b[92m2.1\u001b[0m MB and is less than 20 MB.\n",
      "Your model has been saved and is ready to be submitted.\n"
     ]
    }
   ],
   "source": [
    "from exercise_code.Util import test_and_save\n",
    "test_dl = torch.utils.data.DataLoader(test_100_dataset, batch_size=4, shuffle=False)\n",
    "\n",
    "test_acc = classifier.getAcc(test_dl)[1]*100\n",
    "color = 'green' if test_acc > 55 else 'red'\n",
    "print(f\"Test accuracy when training from scratch: {bcolors.colorize(color, test_acc)}%\")\n",
    "\n",
    "test_acc = classifier_pretrained.getAcc(test_dl)[1]*100\n",
    "color = 'green' if test_acc > 55 else 'red'\n",
    "print(f\"Test accuracy with pretraining: {bcolors.colorize(color, test_acc)}%\")\n",
    "\n",
    "test_and_save(classifier_pretrained, labled_val_loader, test_dl)"
   ]
  },
  {
   "cell_type": "code",
   "execution_count": 400,
   "metadata": {
    "id": "enZCnGL6MNkt"
   },
   "outputs": [
    {
     "name": "stdout",
     "output_type": "stream",
     "text": [
      "relevant folders: ['exercise_code', 'models']\n",
      "notebooks files: ['1_Autoencoder.ipynb', 'Optional-BatchNormalization_Dropout.ipynb']\n",
      "Adding folder exercise_code\n",
      "Adding folder models\n",
      "Adding notebook 1_Autoencoder.ipynb\n",
      "Adding notebook Optional-BatchNormalization_Dropout.ipynb\n",
      "Zipping successful! Zip is stored under: /Users/anar/Desktop/TUM/i2dl/output/exercise_08.zip\n"
     ]
    }
   ],
   "source": [
    "# Now zip the folder for upload\n",
    "from exercise_code.submit import submit_exercise\n",
    "\n",
    "submit_exercise('../output/exercise_08')"
   ]
  },
  {
   "attachments": {},
   "cell_type": "markdown",
   "metadata": {
    "id": "7fuo3Tf9MNku",
    "pycharm": {
     "name": "#%% md\n"
    }
   },
   "source": [
    "Congratulations on completing your first autoencoder and successfully transferring the weights to a classifier! It's remarkable how much easier this process becomes with the power of PyTorch, compared to working with plain NumPy, right?\n",
    "\n",
    "To complete the exercise, please submit your final model to [our submission portal](https://i2dl.vc.in.tum.de/) - you should be already familiar with the submission procedure. Next, it is time to get started with some more complex neural networks and tasks in the upcoming exercises. See you next week!\n",
    "\n",
    "# Submission Goals\n",
    "\n",
    "- Goal: Successfully implement a fully connected autoencoder for MNIST with Pytorch and transfer the encoder weights to a classifier.\n",
    "\n",
    "- Passing Criteria: There are no unit tests that check specific components of your code. The only thing that's required to pass the submission, is your model to reach at least **55% accuracy** on __our__ test dataset. The submission system will show you a number between 0 and 100 which corresponds to your accuracy.\n",
    "\n",
    "\n",
    "- You can make **$\\infty$** submissions until the deadline. Your __best submission__ will be considered for the bonus."
   ]
  }
 ],
 "metadata": {
  "accelerator": "GPU",
  "colab": {
   "provenance": []
  },
  "kernelspec": {
   "display_name": "Python 3",
   "language": "python",
   "name": "python3"
  },
  "language_info": {
   "codemirror_mode": {
    "name": "ipython",
    "version": 3
   },
   "file_extension": ".py",
   "mimetype": "text/x-python",
   "name": "python",
   "nbconvert_exporter": "python",
   "pygments_lexer": "ipython3",
   "version": "3.10.13"
  },
  "vscode": {
   "interpreter": {
    "hash": "54970da6898dad277dbf355945c2dee7f942d2a31ec1fc1455b6d4f552d07b83"
   }
  }
 },
 "nbformat": 4,
 "nbformat_minor": 1
}
