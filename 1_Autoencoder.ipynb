{
 "cells": [
  {
   "attachments": {},
   "cell_type": "markdown",
   "metadata": {
    "id": "9CALuVmNMNkM"
   },
   "source": [
    "# Autoencoder for MNIST\n",
    "\n",
    "Welcome to this notebook where you'll be training an autoencoder using the MNIST dataset, which comprises handwritten digits. This exercise is the last where we present you with a structured skeleton to work with. However, in following exercises, we will only provide you with the dataset, task, and a test scenario, enabling you to test your skills and compete with your peers on our leaderboards. Get ready to dive in and showcase your deep learning expertise!\n",
    "\n",
    "\n",
    "## Your task:\n",
    "\n",
    "Autoencoders have various applications, including unsupervised pretraining using unlabeled data, followed by fine-tuning the encoder with labeled data. This approach can greatly enhance performance when there is only a little amount of labeled data but a lot of unlabeled data available.\n",
    "\n",
    "In this exercise, you will use the MNIST dataset, consisting of 60,000 images of handwritten digits. However, not all the image labels are available to you. Your first objective is to train an autoencoder to accurately reproduce these unlabeled images.\n",
    "\n",
    "Afterwards, you will transfer the weights of the pretrained encoder and perform fine-tuning on a classifier using the available labeled data. This technique is commonly known as **transfer learning**, which allows you to leverage the knowledge gained from the autoencoder to improve the classification of the handwritten digits."
   ]
  },
  {
   "cell_type": "code",
   "execution_count": 64,
   "metadata": {
    "id": "XcU9f4APMNkT"
   },
   "outputs": [
    {
     "name": "stdout",
     "output_type": "stream",
     "text": [
      "The autoreload extension is already loaded. To reload it, use:\n",
      "  %reload_ext autoreload\n"
     ]
    }
   ],
   "source": [
    "# For automatic file reloading as usual\n",
    "%load_ext autoreload\n",
    "%autoreload 2\n",
    "%matplotlib inline"
   ]
  },
  {
   "attachments": {},
   "cell_type": "markdown",
   "metadata": {
    "id": "Xb9dFU2EMNkW"
   },
   "source": [
    "## (Optional) Mount folder in Colab\n",
    "\n",
    "Uncomment the following cell to mount your gdrive if you are using the notebook in google colab:"
   ]
  },
  {
   "cell_type": "code",
   "execution_count": null,
   "metadata": {
    "id": "TRr4E4YVMNkW"
   },
   "outputs": [],
   "source": [
    "# Use the following lines if you want to use Google Colab\n",
    "# We presume you created a folder \"i2dl\" within your main drive folder, and put the exercise there.\n",
    "# NOTE: terminate all other colab sessions that use GPU!\n",
    "# NOTE 2: Make sure the correct exercise folder (e.g exercise_08) is given.\n",
    "\n",
    "# from google.colab import drive\n",
    "# import os\n",
    "\n",
    "\"\"\"\n",
    "from google.colab import drive\n",
    "import os\n",
    "gdrive_path='/content/gdrive/MyDrive/i2dl/exercise_08'\n",
    "\n",
    "# This will mount your google drive under 'MyDrive'\n",
    "drive.mount('/content/gdrive', force_remount=True)\n",
    "# In order to access the files in this notebook we have to navigate to the correct folder\n",
    "os.chdir(gdrive_path)\n",
    "# Check manually if all files are present\n",
    "\"\"\""
   ]
  },
  {
   "attachments": {},
   "cell_type": "markdown",
   "metadata": {
    "id": "JzDQg-kDMNkY"
   },
   "source": [
    "### Set up PyTorch environment in colab\n",
    "- (OPTIONAL) Enable GPU via Runtime --> Change runtime type --> GPU\n",
    "- Uncomment the following cell if you are using the notebook in google colab:"
   ]
  },
  {
   "cell_type": "code",
   "execution_count": null,
   "metadata": {
    "id": "pIUdsXeXMNkZ"
   },
   "outputs": [],
   "source": [
    "# Optional: install correct libraries in google colab\n",
    "# !python -m pip install torch==1.11.0+cu113 torchvision==0.12.0+cu113 torchtext==0.12.0+cu113 torchaudio==0.12.0+cu113 -f https://download.pytorch.org/whl/torch_stable.html\n",
    "# !python -m pip install tensorboard==2.8.0 > /dev/null\n",
    "# !python -m pip install pytorch-lightning==1.6.0"
   ]
  },
  {
   "attachments": {},
   "cell_type": "markdown",
   "metadata": {
    "id": "hEDWAZ7-ZA4E"
   },
   "source": [
    "# Imports"
   ]
  },
  {
   "cell_type": "code",
   "execution_count": 65,
   "metadata": {
    "id": "dJCiVLV5o9QO"
   },
   "outputs": [],
   "source": [
    "import numpy as np\n",
    "import matplotlib.pyplot as plt\n",
    "from pathlib import Path\n",
    "import os, sys\n",
    "import shutil\n",
    "import torch\n",
    "import torch.nn as nn\n",
    "from torchvision import transforms\n",
    "from exercise_code.image_folder_dataset import ImageFolderDataset\n",
    "from torch.utils.tensorboard import SummaryWriter\n",
    "from time import sleep\n",
    "from tqdm import tqdm\n",
    "from exercise_code.tests.base_tests import bcolors\n",
    "\n",
    "torch.manual_seed(42)\n",
    "\n",
    "os.environ['KMP_DUPLICATE_LIB_OK']='True' # To prevent the kernel from dying."
   ]
  },
  {
   "attachments": {},
   "cell_type": "markdown",
   "metadata": {
    "id": "dvaj6myXS7nN"
   },
   "source": [
    "<div class=\"alert alert-warning\">\n",
    "    <h3>Note: Google Colab</h3>\n",
    "    <p>\n",
    "In case you don't have a GPU, you can run this notebook on Google Colab where you can access a GPU for free, but, of course, you can also run this notebook on your CPU.\n",
    "         </p>\n",
    "</div>"
   ]
  },
  {
   "cell_type": "code",
   "execution_count": 66,
   "metadata": {
    "id": "VWgm75NnS9hr"
   },
   "outputs": [
    {
     "name": "stdout",
     "output_type": "stream",
     "text": [
      "You are using the following device:  cpu\n"
     ]
    }
   ],
   "source": [
    "device = torch.device(\"cuda\" if torch.cuda.is_available() else \"cpu\")\n",
    "print('You are using the following device: ', device)"
   ]
  },
  {
   "attachments": {},
   "cell_type": "markdown",
   "metadata": {
    "id": "Pm_rTAPnpsUo"
   },
   "source": [
    "## Setup TensorBoard\n",
    "\n",
    "In the previous exercise (Exercise 07), you learned how to use TensorBoard effectively. Let's use it again to enhance the convenience of debugging your network and the training process. Throughout this notebook, feel free to implement additional logs or visualizations into your TensorBoard, further improving your analysis and understanding of the network's behavior. "
   ]
  },
  {
   "cell_type": "code",
   "execution_count": null,
   "metadata": {
    "id": "QbAJFyHkMNke"
   },
   "outputs": [],
   "source": [
    "################# COLAB ONLY #################\n",
    "# %load_ext tensorboard\n",
    "# %tensorboard --logdir=./ --port 6006\n",
    "\n",
    "# Use the cmd for less trouble, if you can. From the working directory, run: tensorboard --logdir=./ --port 6006"
   ]
  },
  {
   "attachments": {},
   "cell_type": "markdown",
   "metadata": {
    "id": "t-Yt2KRiMNkf"
   },
   "source": [
    "# 1. The MNIST Dataset\n",
    "\n",
    "First, let's download the MNIST dataset. As mentioned at the beginning of this notebook, MNIST is a dataset of 60,000 images depicting handwritten digits. However, labeling such a large dataset can be a costly process, leaving us in a challenging situation.\n",
    "\n",
    "To overcome this, a practical approach is to label a small subset of the images. Let's consider a scenario where you have hired another student to perform the labeling task for you. After some time, you have been provided with 300 labeled images. Out of these, 100 images will be used for training, another 100 for validation, and the remaining 100 for testing. Undoubtedly, this poses a challenge due to the limited number of labeled samples.\n",
    "\n",
    "Now, you have the flexibility to define any transforms that you deem necessary, either at this point or at a later stage. However, it's important to note that during the final evaluation on the server, no transformations will be applied to the test set.\n",
    "\n",
    "Feel free to experiment with various transforms as you proceed (you can also pass without any transforms). \n",
    "\n",
    "\n",
    "**Note**: We do **not** apply any transformations or normalization to the test set at the time of final evaluation on our server."
   ]
  },
  {
   "cell_type": "code",
   "execution_count": 67,
   "metadata": {},
   "outputs": [],
   "source": [
    "from torchvision import transforms"
   ]
  },
  {
   "cell_type": "code",
   "execution_count": 172,
   "metadata": {
    "id": "U5_eopjbMNkf",
    "pycharm": {
     "name": "#%%\n"
    }
   },
   "outputs": [
    {
     "name": "stdout",
     "output_type": "stream",
     "text": [
      "Found dataset folder. Skipped downloading. If you face issues, please re-download the dataset using\n",
      "'--force_download=True'\n",
      "https://i2dl.vc.in.tum.de/static/data/mnist.zip\n",
      "Found dataset folder. Skipped downloading. If you face issues, please re-download the dataset using\n",
      "'--force_download=True'\n",
      "https://i2dl.vc.in.tum.de/static/data/mnist.zip\n",
      "Found dataset folder. Skipped downloading. If you face issues, please re-download the dataset using\n",
      "'--force_download=True'\n",
      "https://i2dl.vc.in.tum.de/static/data/mnist.zip\n",
      "Found dataset folder. Skipped downloading. If you face issues, please re-download the dataset using\n",
      "'--force_download=True'\n",
      "https://i2dl.vc.in.tum.de/static/data/mnist.zip\n",
      "Found dataset folder. Skipped downloading. If you face issues, please re-download the dataset using\n",
      "'--force_download=True'\n",
      "https://i2dl.vc.in.tum.de/static/data/mnist.zip\n"
     ]
    }
   ],
   "source": [
    "\n",
    "\n",
    "transform = transforms.Compose([\n",
    "    transforms.RandomRotation(degrees=10),  # Randomly rotate images by up to 10 degrees\n",
    "    # transforms.Normalize((0.5,), (0.5,)),            # Normalize the pixel values to the range [-1, 1]\n",
    "    # transforms.Lambda(lambda x: x * 2.0 - 1.0) \n",
    "\n",
    "])\n",
    "\n",
    "# data_transform = transforms.Compose([\n",
    "#     transforms.RandomRotation(10),   # Randomly rotate the image up to 10 degrees\n",
    "#     # transforms.RandomHorizontalFlip(),  # Randomly flip the image horizontally\n",
    "#     # transforms.ToTensor(),  # Convert PIL image to PyTorch tensor\n",
    "#     # transforms.Normalize((0.5,), (0.5,)),  # Normalize to the range [-1, 1]\n",
    "#     # transforms.Lambda(lambda x: x + 0.3 * torch.randn_like(x)),  # Add random noise (optional)\n",
    "# ])\n",
    "\n",
    "########################################################################\n",
    "# TODO: Feel free to define transforms (Only data augmentation)        #\n",
    "########################################################################\n",
    "\n",
    "\n",
    "# pass\n",
    "\n",
    "########################################################################\n",
    "#                           END OF YOUR CODE                           #\n",
    "########################################################################\n",
    "\n",
    "i2dl_exercises_path = os.path.dirname(os.path.abspath(os.getcwd()))\n",
    "mnist_root = os.path.join(i2dl_exercises_path, \"datasets\", \"mnist\")\n",
    "\n",
    "train_100_dataset = ImageFolderDataset(root=mnist_root,images='train_images.pt',labels='train_labels.pt',force_download=False,verbose=True,transform=transform)\n",
    "val_100_dataset = ImageFolderDataset(root=mnist_root,images='val_images.pt',labels='val_labels.pt',force_download=False,verbose=True,transform=transform)\n",
    "test_100_dataset = ImageFolderDataset(root=mnist_root,images='test_images.pt',labels='test_labels.pt',force_download=False,verbose=True,transform=transform)\n",
    "\n",
    "# We also set up the unlabeled images which we will use later\n",
    "unlabeled_train = ImageFolderDataset(root=mnist_root,images='unlabeled_train_images.pt',force_download=False,verbose=True,transform=transform)\n",
    "unlabeled_val = ImageFolderDataset(root=mnist_root,images='unlabeled_val_images.pt',force_download=False,verbose=True,transform=transform)\n",
    "\n"
   ]
  },
  {
   "attachments": {},
   "cell_type": "markdown",
   "metadata": {
    "id": "zwrT1ckAMNkg"
   },
   "source": [
    "The dataset consists of tuples of 28x28 pixel PIL images and a label that is an integer from 0 to 9. \n",
    "\n",
    "Let's turn a few of the images into numpy arrays, to look at their shape and visualize them and see if the labels we paid for are correct."
   ]
  },
  {
   "cell_type": "code",
   "execution_count": 69,
   "metadata": {
    "id": "k7ct1J2CMNkh"
   },
   "outputs": [
    {
     "name": "stdout",
     "output_type": "stream",
     "text": [
      "The shape of our greyscale images:  (28, 28)\n"
     ]
    },
    {
     "data": {
      "image/png": "[encoded data removed]",
      "text/plain": [
       "<Figure size 1600x1600 with 10 Axes>"
      ]
     },
     "metadata": {},
     "output_type": "display_data"
    }
   ],
   "source": [
    "plt.rcParams['figure.figsize'] = (16,16) # Make the figures a bit bigger\n",
    "\n",
    "indices_arr = [83, 98, 92, 99, 78, 97, 90, 95, 93, 96]\n",
    "for i, index in enumerate(indices_arr):\n",
    "    image = np.array(train_100_dataset[index][0].squeeze()) # get the image of the data sample\n",
    "    label = train_100_dataset[index][1] # get the label of the data sample\n",
    "    plt.subplot(1, 10, i + 1)\n",
    "    plt.imshow(image, cmap='gray', interpolation='none')\n",
    "    plt.title(\"Class {}\".format(label))\n",
    "    \n",
    "plt.tight_layout()\n",
    "print('The shape of our greyscale images: ', image.shape)"
   ]
  },
  {
   "attachments": {},
   "cell_type": "markdown",
   "metadata": {
    "id": "V9sz_lHyqJoj"
   },
   "source": [
    "<div class=\"alert alert-warning\">\n",
    "    <h3>Note: Starting Simple</h3>\n",
    "    <p>\n",
    "Regardless of the size of the dataset, the first step is to evaluate the performance of a simple classifier. It is advisable to always start with a straightforward approach when tackling a problem and gradually build upon it to determine which changes yield improvements.</p>\n",
    "</div>\n",
    "\n",
    "# 2. A Simple Classifier\n",
    "\n",
    "In `exercise_code/models.py`, we prepared all classes for you, which you will finalize throughout the notebook to build an Autoencoder and an image classifier with PyTorch.\n",
    "\n",
    "<!-- In case image does not show, uncomment the following:\n",
    " ![network_split](img/network_split.png) \n",
    " -->\n",
    "<img name=\"network_split\" src=\"https://drive.google.com/uc?id=1Eu6C7UrYeTy_lqOLcnStGVYTBL8gfNoz\">\n",
    "\n",
    "\n",
    "## 2.1 The Encoder\n",
    "\n",
    "Unlike previous models, we are going to split up the model into two parts: the `encoder` and the `classifier`. The `classifier` has a fixed task, generating predictions given a one-dimensional input. On the other hand, the `encoder`'s task is to extract meaningful information from the input, enabling the classifier to make accurate decisions. \n",
    "\n",
    "For now, both networks will be similar in design and consist of linear layers coupled with auxiliary layers. This split-up will be relevant later, e.g., by using convolutional layers, which are introduced in the lecture. We are going to set up the `encoder` now. \n",
    "\n",
    "Think about a good network architecture. You have complete freedom in this regard and can devise any network structure you think might be fitting. (\\*)\n",
    "\n",
    "Have a look at the documentation of `torch.nn` at https://pytorch.org/docs/stable/nn.html to learn how to use this module in order to build your network!\n",
    "\n",
    "Then implement your architecture: initialize it in `__init__()` and assign it to `self.model`. This is particularly easy using `nn.Sequential()`, where you only have to pass the list of your layers. \n",
    "\n",
    "To make your model customizable and support parameter search, do not use hardcoded hyperparameters - instead, pass them as a simple dictionary `hparams` (here, `n_hidden` is the number of neurons in the hidden layer) when initializing `models`.\n",
    "\n",
    "Here is a simple example:\n",
    "\n",
    "```python\n",
    "        self.model = nn.Sequential(\n",
    "            nn.Linear(input_size, self.hparams[\"n_hidden\"]),\n",
    "            nn.ReLU(),            \n",
    "            nn.Linear(self.hparams[\"n_hidden\"], num_classes)\n",
    "        )\n",
    "```\n",
    "\n",
    "Have a look at the forward path in `forward(self, x)`, which is so easy that you don't need to implement it yourself.\n",
    "\n",
    "As PyTorch automatically computes the gradients, that's all you need to do! There is no need to manually calculate derivatives for the backward paths anymore! :)\n",
    "\n",
    "\n",
    "____\n",
    "\\* *The size of your final model must be less than 20 MB, which is approximately equivalent to 5 Mio. params. Note that this limit is quite lenient, you will probably need much fewer parameters!*\n",
    "\n",
    "*In order to keep things simple, you should only use fully connected layers for this task, as we need to revert the encoder architecture later on in the notebook.*\n",
    "\n",
    "<div class=\"alert alert-info\">\n",
    "    <h3>Task: Implement</h3>\n",
    "    <p>Implement the <code>Encoder</code> class initialization in <code>exercise_code/models.py</code>.\n",
    "    </p>\n",
    "</div>\n",
    "\n",
    "\n"
   ]
  },
  {
   "attachments": {},
   "cell_type": "markdown",
   "metadata": {
    "id": "jNf7FrvwMNki"
   },
   "source": [
    "## 2.2 The Classifier\n",
    "\n",
    "Now let's implement the classifier. The classifier will utilize the encoder that you have defined in the above cell. By looking at `Classifier.forward`, you can see that we are essentially concatenating the `classifier`and the `encoder` together. Therefore, it is crucial to ensure that the input shape of the classifier matches the output shape of the encoder you implemented above\n",
    "\n",
    "<div class=\"alert alert-info\">\n",
    "    <h3>Task: Implement</h3>\n",
    "    <p>1. Implement the <code>Classifier</code> class network initialization in <code>exercise_code/models.py</code>.\n",
    "    </p>\n",
    "    <p>2. Define in the next cell your hyperparameters in a dictionary called 'hparams'.\n",
    "    </p>\n",
    "</div>"
   ]
  },
  {
   "cell_type": "code",
   "execution_count": 70,
   "metadata": {
    "id": "AawbvD1rMNkj"
   },
   "outputs": [],
   "source": [
    "hparams = {}\n",
    "########################################################################\n",
    "# TODO: Define your hyper parameters here!                             #\n",
    "########################################################################\n",
    "\n",
    "pass\n",
    "\n",
    "########################################################################\n",
    "#                           END OF YOUR CODE                           #\n",
    "########################################################################"
   ]
  },
  {
   "attachments": {},
   "cell_type": "markdown",
   "metadata": {
    "id": "bOYbUg8lAmgU"
   },
   "source": [
    "\n",
    "## 2.3 Optimizer\n",
    "Lastly, implement the function `set_optimizer` to define your optimizer. Here the documentation of `torch.optim` at https://pytorch.org/docs/stable/optim.html might be helpful.\n",
    "\n",
    "<div class=\"alert alert-info\">\n",
    "    <h3>Task: Implement</h3>\n",
    "    <p>Implement the <code>set_optimizer</code> method of the <code>Classifier</code> in <code>exercise_code/models.py</code>.\n",
    "    </p>\n",
    "</div>\n"
   ]
  },
  {
   "attachments": {},
   "cell_type": "markdown",
   "metadata": {
    "id": "xrUfa-a7MNkk"
   },
   "source": [
    "## 2.4 Training & Validation Step\n",
    "\n",
    "<div class=\"alert alert-success\">\n",
    "    <h3>Task: Check Code</h3>\n",
    "    <p> Let's take a closer look at the training pipeline outlined below. It is explicitly written here in its entirety to provide you with a comprehensive understanding of its structure. Additionally, you can refer back to this pipeline whenever you encounter any uncertainties or need guidance.\n",
    " </p>\n",
    "</div>\n"
   ]
  },
  {
   "cell_type": "code",
   "execution_count": 71,
   "metadata": {
    "id": "NY_lLaNWMNkk"
   },
   "outputs": [],
   "source": [
    " # One of the most crucial things in deep learning is to understand the training pipeline:\n",
    " # 1. Forward()          --> The forward pass of the network, to calculate the currnent loss.\n",
    " # 2. Backward()         --> The backward pass of the network, to calculate the gradients w.r.t the loss, calculated in the previous stage.\n",
    " # 3. Optimizer_step()   --> Update the weights w.r.t their corresponding gradients and the learnign rate.\n",
    "\n",
    "def create_tqdm_bar(iterable, desc):\n",
    "    return tqdm(enumerate(iterable),total=len(iterable), ncols=150, desc=desc)\n",
    "\n",
    "\n",
    "def train_classifier(classifier, train_loader, val_loader, loss_func, tb_logger, epochs=10, name=\"default\"):\n",
    "    \"\"\"\n",
    "    Train the classifier for a number of epochs.\n",
    "    \"\"\"\n",
    "    optimizer = classifier.optimizer\n",
    "    classifier = classifier.to(device)\n",
    "    validation_loss = 0\n",
    "    for epoch in range(epochs):\n",
    "        \n",
    "        training_loss = 0\n",
    "        \n",
    "        # Training stage, where we want to update the parameters.\n",
    "        classifier.train()  # Set the model to training mode\n",
    "        \n",
    "        # Create a progress bar for the training loop.\n",
    "        training_loop = create_tqdm_bar(train_loader, desc=f'Training Epoch [{epoch + 1}/{epochs}]')\n",
    "        for train_iteration, batch in training_loop:\n",
    "            optimizer.zero_grad() # Reset the gradients - VERY important! Otherwise they accumulate.\n",
    "            images, labels = batch # Get the images and labels from the batch, in the fashion we defined in the dataset and dataloader.\n",
    "            images, labels = images.to(device), labels.to(device) # Send the data to the device (GPU or CPU) - it has to be the same device as the model.\n",
    "\n",
    "            # Flatten the images to a vector. This is done because the classifier expects a vector as input.\n",
    "            # Could also be done by reshaping the images in the dataset.\n",
    "            images = images.view(images.shape[0], -1) \n",
    "\n",
    "            pred = classifier(images) # Stage 1: Forward().\n",
    "            loss = loss_func(pred, labels) # Compute the loss over the predictions and the ground truth.\n",
    "            loss.backward()  # Stage 2: Backward().\n",
    "            optimizer.step() # Stage 3: Update the parameters.\n",
    "\n",
    "            training_loss += loss.item()\n",
    "\n",
    "            # Update the progress bar.\n",
    "            training_loop.set_postfix(curr_train_loss = \"{:.8f}\".format(training_loss / (train_iteration + 1)), val_loss = \"{:.8f}\".format(validation_loss))\n",
    "\n",
    "            # Update the tensorboard logger.\n",
    "            tb_logger.add_scalar(f'classifier_{name}/train_loss', loss.item(), epoch * len(train_loader) + train_iteration)\n",
    "            sleep(0.1) # Remove this line if you want to see the progress bar faster.\n",
    "\n",
    "        # Validation stage, where we don't want to update the parameters. Pay attention to the classifier.eval() line\n",
    "        # and \"with torch.no_grad()\" wrapper.\n",
    "        classifier.eval()\n",
    "        val_loop = create_tqdm_bar(val_loader, desc=f'Validation Epoch [{epoch + 1}/{epochs}]')\n",
    "        validation_loss = 0\n",
    "        with torch.no_grad():\n",
    "            for val_iteration, batch in val_loop:\n",
    "                images, labels = batch\n",
    "                images, labels = images.to(device), labels.to(device)\n",
    "\n",
    "                images = images.view(images.shape[0], -1) \n",
    "                pred = classifier(images)\n",
    "                loss = loss_func(pred, labels)\n",
    "                validation_loss += loss.item()\n",
    "\n",
    "                # Update the progress bar.\n",
    "                val_loop.set_postfix(val_loss = \"{:.8f}\".format(validation_loss / (val_iteration + 1)))\n",
    "\n",
    "                # Update the tensorboard logger.\n",
    "                tb_logger.add_scalar(f'classifier_{name}/val_loss', loss.item(), epoch * len(val_loader) + val_iteration)\n",
    "                sleep(0.1) # Remove this line if you want to see the progress bar faster.\n",
    "        \n",
    "        # This value is used for the progress bar of the training loop.\n",
    "        validation_loss /= len(val_loader)\n",
    "            "
   ]
  },
  {
   "attachments": {},
   "cell_type": "markdown",
   "metadata": {
    "id": "KVKLlwlyMNkl"
   },
   "source": [
    "## 2.5 Fit Classification Model with Trainer\n",
    "Now it's finally time to train your model.\n",
    "Run the following cell to see the behold the magic of deep learning at play."
   ]
  },
  {
   "cell_type": "code",
   "execution_count": 173,
   "metadata": {
    "id": "uBGavq9cMNkl"
   },
   "outputs": [
    {
     "name": "stderr",
     "output_type": "stream",
     "text": [
      "Training Epoch [1/100]:   0%|                                                  | 0/5 [00:00<?, ?it/s, curr_train_loss=2.31602931, val_loss=0.00000000]"
     ]
    },
    {
     "name": "stderr",
     "output_type": "stream",
     "text": [
      "Training Epoch [1/100]: 100%|██████████████████████████████████████████| 5/5 [00:00<00:00,  9.01it/s, curr_train_loss=2.38502951, val_loss=0.00000000]\n",
      "Validation Epoch [1/100]: 100%|████████████████████████████████████████████████████████████████████| 5/5 [00:00<00:00,  9.23it/s, val_loss=2.30394363]\n",
      "Training Epoch [2/100]: 100%|██████████████████████████████████████████| 5/5 [00:00<00:00,  8.96it/s, curr_train_loss=2.26444535, val_loss=2.30394363]\n",
      "Validation Epoch [2/100]: 100%|████████████████████████████████████████████████████████████████████| 5/5 [00:00<00:00,  9.24it/s, val_loss=2.30603633]\n",
      "Training Epoch [3/100]: 100%|██████████████████████████████████████████| 5/5 [00:00<00:00,  9.02it/s, curr_train_loss=2.16948395, val_loss=2.30603633]\n",
      "Validation Epoch [3/100]: 100%|████████████████████████████████████████████████████████████████████| 5/5 [00:00<00:00,  9.16it/s, val_loss=2.30073676]\n",
      "Training Epoch [4/100]: 100%|██████████████████████████████████████████| 5/5 [00:00<00:00,  8.28it/s, curr_train_loss=2.06783485, val_loss=2.30073676]\n",
      "Validation Epoch [4/100]: 100%|████████████████████████████████████████████████████████████████████| 5/5 [00:00<00:00,  9.00it/s, val_loss=2.27482839]\n",
      "Training Epoch [5/100]: 100%|██████████████████████████████████████████| 5/5 [00:00<00:00,  8.55it/s, curr_train_loss=1.99859822, val_loss=2.27482839]\n",
      "Validation Epoch [5/100]: 100%|████████████████████████████████████████████████████████████████████| 5/5 [00:00<00:00,  9.16it/s, val_loss=2.23113756]\n",
      "Training Epoch [6/100]: 100%|██████████████████████████████████████████| 5/5 [00:00<00:00,  8.87it/s, curr_train_loss=1.91307013, val_loss=2.23113756]\n",
      "Validation Epoch [6/100]: 100%|████████████████████████████████████████████████████████████████████| 5/5 [00:00<00:00,  8.85it/s, val_loss=2.15342865]\n",
      "Training Epoch [7/100]: 100%|██████████████████████████████████████████| 5/5 [00:00<00:00,  8.71it/s, curr_train_loss=1.80584059, val_loss=2.15342865]\n",
      "Validation Epoch [7/100]: 100%|████████████████████████████████████████████████████████████████████| 5/5 [00:00<00:00,  9.12it/s, val_loss=2.06650515]\n",
      "Training Epoch [8/100]: 100%|██████████████████████████████████████████| 5/5 [00:00<00:00,  8.72it/s, curr_train_loss=1.75737755, val_loss=2.06650515]\n",
      "Validation Epoch [8/100]: 100%|████████████████████████████████████████████████████████████████████| 5/5 [00:00<00:00,  8.84it/s, val_loss=1.95235310]\n",
      "Training Epoch [9/100]: 100%|██████████████████████████████████████████| 5/5 [00:00<00:00,  8.78it/s, curr_train_loss=1.61866083, val_loss=1.95235310]\n",
      "Validation Epoch [9/100]: 100%|████████████████████████████████████████████████████████████████████| 5/5 [00:00<00:00,  9.15it/s, val_loss=1.90638075]\n",
      "Training Epoch [10/100]: 100%|█████████████████████████████████████████| 5/5 [00:00<00:00,  8.89it/s, curr_train_loss=1.67240541, val_loss=1.90638075]\n",
      "Validation Epoch [10/100]: 100%|███████████████████████████████████████████████████████████████████| 5/5 [00:00<00:00,  9.03it/s, val_loss=1.84339616]\n",
      "Training Epoch [11/100]: 100%|█████████████████████████████████████████| 5/5 [00:00<00:00,  8.51it/s, curr_train_loss=1.56278646, val_loss=1.84339616]\n",
      "Validation Epoch [11/100]: 100%|███████████████████████████████████████████████████████████████████| 5/5 [00:00<00:00,  8.95it/s, val_loss=1.81406949]\n",
      "Training Epoch [12/100]: 100%|█████████████████████████████████████████| 5/5 [00:00<00:00,  7.83it/s, curr_train_loss=1.47284629, val_loss=1.81406949]\n",
      "Validation Epoch [12/100]: 100%|███████████████████████████████████████████████████████████████████| 5/5 [00:00<00:00,  8.97it/s, val_loss=1.77108252]\n",
      "Training Epoch [13/100]: 100%|█████████████████████████████████████████| 5/5 [00:00<00:00,  8.01it/s, curr_train_loss=1.40502090, val_loss=1.77108252]\n",
      "Validation Epoch [13/100]: 100%|███████████████████████████████████████████████████████████████████| 5/5 [00:00<00:00,  8.89it/s, val_loss=1.73327506]\n",
      "Training Epoch [14/100]: 100%|█████████████████████████████████████████| 5/5 [00:00<00:00,  8.80it/s, curr_train_loss=1.37889700, val_loss=1.73327506]\n",
      "Validation Epoch [14/100]: 100%|███████████████████████████████████████████████████████████████████| 5/5 [00:00<00:00,  8.68it/s, val_loss=1.68922675]\n",
      "Training Epoch [15/100]: 100%|█████████████████████████████████████████| 5/5 [00:00<00:00,  8.91it/s, curr_train_loss=1.30484641, val_loss=1.68922675]\n",
      "Validation Epoch [15/100]: 100%|███████████████████████████████████████████████████████████████████| 5/5 [00:00<00:00,  9.15it/s, val_loss=1.68916628]\n",
      "Training Epoch [16/100]: 100%|█████████████████████████████████████████| 5/5 [00:00<00:00,  8.91it/s, curr_train_loss=1.32912729, val_loss=1.68916628]\n",
      "Validation Epoch [16/100]: 100%|███████████████████████████████████████████████████████████████████| 5/5 [00:00<00:00,  8.98it/s, val_loss=1.63314092]\n",
      "Training Epoch [17/100]: 100%|█████████████████████████████████████████| 5/5 [00:00<00:00,  8.48it/s, curr_train_loss=1.19896412, val_loss=1.63314092]\n",
      "Validation Epoch [17/100]: 100%|███████████████████████████████████████████████████████████████████| 5/5 [00:00<00:00,  9.05it/s, val_loss=1.60791390]\n",
      "Training Epoch [18/100]: 100%|█████████████████████████████████████████| 5/5 [00:00<00:00,  8.74it/s, curr_train_loss=1.20139639, val_loss=1.60791390]\n",
      "Validation Epoch [18/100]: 100%|███████████████████████████████████████████████████████████████████| 5/5 [00:00<00:00,  9.01it/s, val_loss=1.58186824]\n",
      "Training Epoch [19/100]: 100%|█████████████████████████████████████████| 5/5 [00:00<00:00,  8.41it/s, curr_train_loss=1.18515027, val_loss=1.58186824]\n",
      "Validation Epoch [19/100]: 100%|███████████████████████████████████████████████████████████████████| 5/5 [00:00<00:00,  9.12it/s, val_loss=1.56777081]\n",
      "Training Epoch [20/100]: 100%|█████████████████████████████████████████| 5/5 [00:00<00:00,  8.60it/s, curr_train_loss=1.01076074, val_loss=1.56777081]\n",
      "Validation Epoch [20/100]: 100%|███████████████████████████████████████████████████████████████████| 5/5 [00:00<00:00,  8.91it/s, val_loss=1.48685768]\n",
      "Training Epoch [21/100]: 100%|█████████████████████████████████████████| 5/5 [00:00<00:00,  8.55it/s, curr_train_loss=0.97836213, val_loss=1.48685768]\n",
      "Validation Epoch [21/100]: 100%|███████████████████████████████████████████████████████████████████| 5/5 [00:00<00:00,  8.98it/s, val_loss=1.54873345]\n",
      "Training Epoch [22/100]: 100%|█████████████████████████████████████████| 5/5 [00:00<00:00,  8.55it/s, curr_train_loss=0.93146317, val_loss=1.54873345]\n",
      "Validation Epoch [22/100]: 100%|███████████████████████████████████████████████████████████████████| 5/5 [00:00<00:00,  8.85it/s, val_loss=1.51642139]\n",
      "Training Epoch [23/100]: 100%|█████████████████████████████████████████| 5/5 [00:00<00:00,  8.70it/s, curr_train_loss=0.96970180, val_loss=1.51642139]\n",
      "Validation Epoch [23/100]: 100%|███████████████████████████████████████████████████████████████████| 5/5 [00:00<00:00,  9.17it/s, val_loss=1.51330107]\n",
      "Training Epoch [24/100]: 100%|█████████████████████████████████████████| 5/5 [00:00<00:00,  8.85it/s, curr_train_loss=0.95346539, val_loss=1.51330107]\n",
      "Validation Epoch [24/100]: 100%|███████████████████████████████████████████████████████████████████| 5/5 [00:00<00:00,  9.02it/s, val_loss=1.44317726]\n",
      "Training Epoch [25/100]: 100%|█████████████████████████████████████████| 5/5 [00:00<00:00,  8.73it/s, curr_train_loss=0.84823501, val_loss=1.44317726]\n",
      "Validation Epoch [25/100]: 100%|███████████████████████████████████████████████████████████████████| 5/5 [00:00<00:00,  8.99it/s, val_loss=1.44281914]\n",
      "Training Epoch [26/100]: 100%|█████████████████████████████████████████| 5/5 [00:00<00:00,  8.48it/s, curr_train_loss=0.88668242, val_loss=1.44281914]\n",
      "Validation Epoch [26/100]: 100%|███████████████████████████████████████████████████████████████████| 5/5 [00:00<00:00,  8.81it/s, val_loss=1.39992356]\n",
      "Training Epoch [27/100]: 100%|█████████████████████████████████████████| 5/5 [00:00<00:00,  8.10it/s, curr_train_loss=0.81036122, val_loss=1.39992356]\n",
      "Validation Epoch [27/100]: 100%|███████████████████████████████████████████████████████████████████| 5/5 [00:00<00:00,  9.19it/s, val_loss=1.35818616]\n",
      "Training Epoch [28/100]: 100%|█████████████████████████████████████████| 5/5 [00:00<00:00,  8.73it/s, curr_train_loss=0.76845465, val_loss=1.35818616]\n",
      "Validation Epoch [28/100]: 100%|███████████████████████████████████████████████████████████████████| 5/5 [00:00<00:00,  9.00it/s, val_loss=1.33651153]\n",
      "Training Epoch [29/100]: 100%|█████████████████████████████████████████| 5/5 [00:00<00:00,  8.64it/s, curr_train_loss=0.81643128, val_loss=1.33651153]\n",
      "Validation Epoch [29/100]: 100%|███████████████████████████████████████████████████████████████████| 5/5 [00:00<00:00,  8.96it/s, val_loss=1.29562207]\n",
      "Training Epoch [30/100]: 100%|█████████████████████████████████████████| 5/5 [00:00<00:00,  8.87it/s, curr_train_loss=0.88160717, val_loss=1.29562207]\n",
      "Validation Epoch [30/100]: 100%|███████████████████████████████████████████████████████████████████| 5/5 [00:00<00:00,  9.13it/s, val_loss=1.31685114]\n",
      "Training Epoch [31/100]: 100%|█████████████████████████████████████████| 5/5 [00:00<00:00,  8.84it/s, curr_train_loss=0.73755436, val_loss=1.31685114]\n",
      "Validation Epoch [31/100]: 100%|███████████████████████████████████████████████████████████████████| 5/5 [00:00<00:00,  9.00it/s, val_loss=1.31630400]\n",
      "Training Epoch [32/100]: 100%|█████████████████████████████████████████| 5/5 [00:00<00:00,  8.47it/s, curr_train_loss=0.71672736, val_loss=1.31630400]\n",
      "Validation Epoch [32/100]: 100%|███████████████████████████████████████████████████████████████████| 5/5 [00:00<00:00,  8.98it/s, val_loss=1.26321231]\n",
      "Training Epoch [33/100]: 100%|█████████████████████████████████████████| 5/5 [00:00<00:00,  8.61it/s, curr_train_loss=0.69336958, val_loss=1.26321231]\n",
      "Validation Epoch [33/100]: 100%|███████████████████████████████████████████████████████████████████| 5/5 [00:00<00:00,  9.11it/s, val_loss=1.24313431]\n",
      "Training Epoch [34/100]: 100%|█████████████████████████████████████████| 5/5 [00:00<00:00,  9.02it/s, curr_train_loss=0.61055842, val_loss=1.24313431]\n",
      "Validation Epoch [34/100]: 100%|███████████████████████████████████████████████████████████████████| 5/5 [00:00<00:00,  9.08it/s, val_loss=1.23416355]\n",
      "Training Epoch [35/100]: 100%|█████████████████████████████████████████| 5/5 [00:00<00:00,  8.77it/s, curr_train_loss=0.63266717, val_loss=1.23416355]\n",
      "Validation Epoch [35/100]: 100%|███████████████████████████████████████████████████████████████████| 5/5 [00:00<00:00,  8.94it/s, val_loss=1.18299983]\n",
      "Training Epoch [36/100]: 100%|█████████████████████████████████████████| 5/5 [00:00<00:00,  8.92it/s, curr_train_loss=0.59980236, val_loss=1.18299983]\n",
      "Validation Epoch [36/100]: 100%|███████████████████████████████████████████████████████████████████| 5/5 [00:00<00:00,  8.92it/s, val_loss=1.16659441]\n",
      "Training Epoch [37/100]: 100%|█████████████████████████████████████████| 5/5 [00:00<00:00,  8.55it/s, curr_train_loss=0.64130961, val_loss=1.16659441]\n",
      "Validation Epoch [37/100]: 100%|███████████████████████████████████████████████████████████████████| 5/5 [00:00<00:00,  8.88it/s, val_loss=1.22233026]\n",
      "Training Epoch [38/100]: 100%|█████████████████████████████████████████| 5/5 [00:00<00:00,  8.61it/s, curr_train_loss=0.60541011, val_loss=1.22233026]\n",
      "Validation Epoch [38/100]: 100%|███████████████████████████████████████████████████████████████████| 5/5 [00:00<00:00,  9.18it/s, val_loss=1.20986662]\n",
      "Training Epoch [39/100]: 100%|█████████████████████████████████████████| 5/5 [00:00<00:00,  8.30it/s, curr_train_loss=0.56930991, val_loss=1.20986662]\n",
      "Validation Epoch [39/100]: 100%|███████████████████████████████████████████████████████████████████| 5/5 [00:00<00:00,  9.04it/s, val_loss=1.20212406]\n",
      "Training Epoch [40/100]: 100%|█████████████████████████████████████████| 5/5 [00:00<00:00,  8.47it/s, curr_train_loss=0.57457865, val_loss=1.20212406]\n",
      "Validation Epoch [40/100]: 100%|███████████████████████████████████████████████████████████████████| 5/5 [00:00<00:00,  8.85it/s, val_loss=1.21544509]\n",
      "Training Epoch [41/100]: 100%|█████████████████████████████████████████| 5/5 [00:00<00:00,  8.60it/s, curr_train_loss=0.57011438, val_loss=1.21544509]\n",
      "Validation Epoch [41/100]: 100%|███████████████████████████████████████████████████████████████████| 5/5 [00:00<00:00,  8.94it/s, val_loss=1.10911125]\n",
      "Training Epoch [42/100]: 100%|█████████████████████████████████████████| 5/5 [00:00<00:00,  8.67it/s, curr_train_loss=0.56197712, val_loss=1.10911125]\n",
      "Validation Epoch [42/100]: 100%|███████████████████████████████████████████████████████████████████| 5/5 [00:00<00:00,  8.91it/s, val_loss=1.16871927]\n",
      "Training Epoch [43/100]: 100%|█████████████████████████████████████████| 5/5 [00:00<00:00,  8.50it/s, curr_train_loss=0.53844482, val_loss=1.16871927]\n",
      "Validation Epoch [43/100]: 100%|███████████████████████████████████████████████████████████████████| 5/5 [00:00<00:00,  9.04it/s, val_loss=1.10651478]\n",
      "Training Epoch [44/100]: 100%|█████████████████████████████████████████| 5/5 [00:00<00:00,  8.63it/s, curr_train_loss=0.51335460, val_loss=1.10651478]\n",
      "Validation Epoch [44/100]: 100%|███████████████████████████████████████████████████████████████████| 5/5 [00:00<00:00,  8.95it/s, val_loss=1.18225876]\n",
      "Training Epoch [45/100]: 100%|█████████████████████████████████████████| 5/5 [00:00<00:00,  8.65it/s, curr_train_loss=0.59113866, val_loss=1.18225876]\n",
      "Validation Epoch [45/100]: 100%|███████████████████████████████████████████████████████████████████| 5/5 [00:00<00:00,  9.07it/s, val_loss=1.19503083]\n",
      "Training Epoch [46/100]: 100%|█████████████████████████████████████████| 5/5 [00:00<00:00,  8.53it/s, curr_train_loss=0.53452178, val_loss=1.19503083]\n",
      "Validation Epoch [46/100]: 100%|███████████████████████████████████████████████████████████████████| 5/5 [00:00<00:00,  8.94it/s, val_loss=1.12009602]\n",
      "Training Epoch [47/100]: 100%|█████████████████████████████████████████| 5/5 [00:00<00:00,  8.05it/s, curr_train_loss=0.44084144, val_loss=1.12009602]\n",
      "Validation Epoch [47/100]: 100%|███████████████████████████████████████████████████████████████████| 5/5 [00:00<00:00,  9.10it/s, val_loss=1.15297134]\n",
      "Training Epoch [48/100]: 100%|█████████████████████████████████████████| 5/5 [00:00<00:00,  8.66it/s, curr_train_loss=0.64225842, val_loss=1.15297134]\n",
      "Validation Epoch [48/100]: 100%|███████████████████████████████████████████████████████████████████| 5/5 [00:00<00:00,  9.17it/s, val_loss=1.13307803]\n",
      "Training Epoch [49/100]: 100%|█████████████████████████████████████████| 5/5 [00:00<00:00,  8.88it/s, curr_train_loss=0.56546684, val_loss=1.13307803]\n",
      "Validation Epoch [49/100]: 100%|███████████████████████████████████████████████████████████████████| 5/5 [00:00<00:00,  9.21it/s, val_loss=1.09210644]\n",
      "Training Epoch [50/100]: 100%|█████████████████████████████████████████| 5/5 [00:00<00:00,  9.08it/s, curr_train_loss=0.66582013, val_loss=1.09210644]\n",
      "Validation Epoch [50/100]: 100%|███████████████████████████████████████████████████████████████████| 5/5 [00:00<00:00,  8.98it/s, val_loss=1.03620106]\n",
      "Training Epoch [51/100]: 100%|█████████████████████████████████████████| 5/5 [00:00<00:00,  8.60it/s, curr_train_loss=0.48047853, val_loss=1.03620106]\n",
      "Validation Epoch [51/100]: 100%|███████████████████████████████████████████████████████████████████| 5/5 [00:00<00:00,  9.05it/s, val_loss=1.00107907]\n",
      "Training Epoch [52/100]: 100%|█████████████████████████████████████████| 5/5 [00:00<00:00,  8.55it/s, curr_train_loss=0.51954493, val_loss=1.00107907]\n",
      "Validation Epoch [52/100]: 100%|███████████████████████████████████████████████████████████████████| 5/5 [00:00<00:00,  8.90it/s, val_loss=0.98969620]\n",
      "Training Epoch [53/100]: 100%|█████████████████████████████████████████| 5/5 [00:00<00:00,  8.80it/s, curr_train_loss=0.50801145, val_loss=0.98969620]\n",
      "Validation Epoch [53/100]: 100%|███████████████████████████████████████████████████████████████████| 5/5 [00:00<00:00,  9.09it/s, val_loss=1.03434579]\n",
      "Training Epoch [54/100]: 100%|█████████████████████████████████████████| 5/5 [00:00<00:00,  9.00it/s, curr_train_loss=0.64007822, val_loss=1.03434579]\n",
      "Validation Epoch [54/100]: 100%|███████████████████████████████████████████████████████████████████| 5/5 [00:00<00:00,  9.00it/s, val_loss=1.02620814]\n",
      "Training Epoch [55/100]: 100%|█████████████████████████████████████████| 5/5 [00:00<00:00,  8.51it/s, curr_train_loss=0.45493123, val_loss=1.02620814]\n",
      "Validation Epoch [55/100]: 100%|███████████████████████████████████████████████████████████████████| 5/5 [00:00<00:00,  8.98it/s, val_loss=0.99960527]\n",
      "Training Epoch [56/100]: 100%|█████████████████████████████████████████| 5/5 [00:00<00:00,  8.78it/s, curr_train_loss=0.43817133, val_loss=0.99960527]\n",
      "Validation Epoch [56/100]: 100%|███████████████████████████████████████████████████████████████████| 5/5 [00:00<00:00,  9.25it/s, val_loss=1.01967541]\n",
      "Training Epoch [57/100]: 100%|█████████████████████████████████████████| 5/5 [00:00<00:00,  9.02it/s, curr_train_loss=0.31300080, val_loss=1.01967541]\n",
      "Validation Epoch [57/100]: 100%|███████████████████████████████████████████████████████████████████| 5/5 [00:00<00:00,  8.95it/s, val_loss=0.91163558]\n",
      "Training Epoch [58/100]: 100%|█████████████████████████████████████████| 5/5 [00:00<00:00,  8.74it/s, curr_train_loss=0.36636127, val_loss=0.91163558]\n",
      "Validation Epoch [58/100]: 100%|███████████████████████████████████████████████████████████████████| 5/5 [00:00<00:00,  9.24it/s, val_loss=0.96262474]\n",
      "Training Epoch [59/100]: 100%|█████████████████████████████████████████| 5/5 [00:00<00:00,  8.34it/s, curr_train_loss=0.36440124, val_loss=0.96262474]\n",
      "Validation Epoch [59/100]: 100%|███████████████████████████████████████████████████████████████████| 5/5 [00:00<00:00,  8.94it/s, val_loss=1.01471270]\n",
      "Training Epoch [60/100]: 100%|█████████████████████████████████████████| 5/5 [00:00<00:00,  8.51it/s, curr_train_loss=0.51546135, val_loss=1.01471270]\n",
      "Validation Epoch [60/100]: 100%|███████████████████████████████████████████████████████████████████| 5/5 [00:00<00:00,  9.00it/s, val_loss=1.03562757]\n",
      "Training Epoch [61/100]: 100%|█████████████████████████████████████████| 5/5 [00:00<00:00,  8.65it/s, curr_train_loss=0.37882437, val_loss=1.03562757]\n",
      "Validation Epoch [61/100]: 100%|███████████████████████████████████████████████████████████████████| 5/5 [00:00<00:00,  8.83it/s, val_loss=0.96093262]\n",
      "Training Epoch [62/100]: 100%|█████████████████████████████████████████| 5/5 [00:00<00:00,  8.71it/s, curr_train_loss=0.42890311, val_loss=0.96093262]\n",
      "Validation Epoch [62/100]: 100%|███████████████████████████████████████████████████████████████████| 5/5 [00:00<00:00,  9.22it/s, val_loss=1.02298405]\n",
      "Training Epoch [63/100]: 100%|█████████████████████████████████████████| 5/5 [00:00<00:00,  8.90it/s, curr_train_loss=0.46192092, val_loss=1.02298405]\n",
      "Validation Epoch [63/100]: 100%|███████████████████████████████████████████████████████████████████| 5/5 [00:00<00:00,  9.08it/s, val_loss=1.00625705]\n",
      "Training Epoch [64/100]: 100%|█████████████████████████████████████████| 5/5 [00:00<00:00,  8.97it/s, curr_train_loss=0.34672079, val_loss=1.00625705]\n",
      "Validation Epoch [64/100]: 100%|███████████████████████████████████████████████████████████████████| 5/5 [00:00<00:00,  9.19it/s, val_loss=1.01803892]\n",
      "Training Epoch [65/100]: 100%|█████████████████████████████████████████| 5/5 [00:00<00:00,  8.80it/s, curr_train_loss=0.28273279, val_loss=1.01803892]\n",
      "Validation Epoch [65/100]: 100%|███████████████████████████████████████████████████████████████████| 5/5 [00:00<00:00,  8.01it/s, val_loss=1.03108867]\n",
      "Training Epoch [66/100]: 100%|█████████████████████████████████████████| 5/5 [00:00<00:00,  8.88it/s, curr_train_loss=0.34495442, val_loss=1.03108867]\n",
      "Validation Epoch [66/100]: 100%|███████████████████████████████████████████████████████████████████| 5/5 [00:00<00:00,  9.10it/s, val_loss=1.05633783]\n",
      "Training Epoch [67/100]: 100%|█████████████████████████████████████████| 5/5 [00:00<00:00,  8.84it/s, curr_train_loss=0.36296011, val_loss=1.05633783]\n",
      "Validation Epoch [67/100]: 100%|███████████████████████████████████████████████████████████████████| 5/5 [00:00<00:00,  9.25it/s, val_loss=0.99122584]\n",
      "Training Epoch [68/100]: 100%|█████████████████████████████████████████| 5/5 [00:00<00:00,  9.01it/s, curr_train_loss=0.37149577, val_loss=0.99122584]\n",
      "Validation Epoch [68/100]: 100%|███████████████████████████████████████████████████████████████████| 5/5 [00:00<00:00,  8.83it/s, val_loss=0.97273633]\n",
      "Training Epoch [69/100]: 100%|█████████████████████████████████████████| 5/5 [00:00<00:00,  8.69it/s, curr_train_loss=0.30938218, val_loss=0.97273633]\n",
      "Validation Epoch [69/100]: 100%|███████████████████████████████████████████████████████████████████| 5/5 [00:00<00:00,  8.87it/s, val_loss=0.96349617]\n",
      "Training Epoch [70/100]: 100%|█████████████████████████████████████████| 5/5 [00:00<00:00,  8.72it/s, curr_train_loss=0.40154839, val_loss=0.96349617]\n",
      "Validation Epoch [70/100]: 100%|███████████████████████████████████████████████████████████████████| 5/5 [00:00<00:00,  9.16it/s, val_loss=1.01473991]\n",
      "Training Epoch [71/100]: 100%|█████████████████████████████████████████| 5/5 [00:00<00:00,  8.98it/s, curr_train_loss=0.37465982, val_loss=1.01473991]\n",
      "Validation Epoch [71/100]: 100%|███████████████████████████████████████████████████████████████████| 5/5 [00:00<00:00,  9.16it/s, val_loss=0.91572714]\n",
      "Training Epoch [72/100]: 100%|█████████████████████████████████████████| 5/5 [00:00<00:00,  9.00it/s, curr_train_loss=0.27069592, val_loss=0.91572714]\n",
      "Validation Epoch [72/100]: 100%|███████████████████████████████████████████████████████████████████| 5/5 [00:00<00:00,  9.12it/s, val_loss=0.91828892]\n",
      "Training Epoch [73/100]: 100%|█████████████████████████████████████████| 5/5 [00:00<00:00,  8.69it/s, curr_train_loss=0.33281360, val_loss=0.91828892]\n",
      "Validation Epoch [73/100]: 100%|███████████████████████████████████████████████████████████████████| 5/5 [00:00<00:00,  9.03it/s, val_loss=1.00016947]\n",
      "Training Epoch [74/100]: 100%|█████████████████████████████████████████| 5/5 [00:00<00:00,  8.70it/s, curr_train_loss=0.36846904, val_loss=1.00016947]\n",
      "Validation Epoch [74/100]: 100%|███████████████████████████████████████████████████████████████████| 5/5 [00:00<00:00,  9.38it/s, val_loss=0.92794305]\n",
      "Training Epoch [75/100]: 100%|█████████████████████████████████████████| 5/5 [00:00<00:00,  8.87it/s, curr_train_loss=0.34098617, val_loss=0.92794305]\n",
      "Validation Epoch [75/100]: 100%|███████████████████████████████████████████████████████████████████| 5/5 [00:00<00:00,  9.07it/s, val_loss=0.94981333]\n",
      "Training Epoch [76/100]: 100%|█████████████████████████████████████████| 5/5 [00:00<00:00,  8.65it/s, curr_train_loss=0.26238742, val_loss=0.94981333]\n",
      "Validation Epoch [76/100]: 100%|███████████████████████████████████████████████████████████████████| 5/5 [00:00<00:00,  8.89it/s, val_loss=0.92981311]\n",
      "Training Epoch [77/100]: 100%|█████████████████████████████████████████| 5/5 [00:00<00:00,  8.66it/s, curr_train_loss=0.38041424, val_loss=0.92981311]\n",
      "Validation Epoch [77/100]: 100%|███████████████████████████████████████████████████████████████████| 5/5 [00:00<00:00,  9.22it/s, val_loss=1.01244851]\n",
      "Training Epoch [78/100]: 100%|█████████████████████████████████████████| 5/5 [00:00<00:00,  8.85it/s, curr_train_loss=0.26738631, val_loss=1.01244851]\n",
      "Validation Epoch [78/100]: 100%|███████████████████████████████████████████████████████████████████| 5/5 [00:00<00:00,  9.08it/s, val_loss=0.91982359]\n",
      "Training Epoch [79/100]: 100%|█████████████████████████████████████████| 5/5 [00:00<00:00,  8.71it/s, curr_train_loss=0.29820554, val_loss=0.91982359]\n",
      "Validation Epoch [79/100]: 100%|███████████████████████████████████████████████████████████████████| 5/5 [00:00<00:00,  9.15it/s, val_loss=0.96973903]\n",
      "Training Epoch [80/100]: 100%|█████████████████████████████████████████| 5/5 [00:00<00:00,  8.69it/s, curr_train_loss=0.29317378, val_loss=0.96973903]\n",
      "Validation Epoch [80/100]: 100%|███████████████████████████████████████████████████████████████████| 5/5 [00:00<00:00,  9.04it/s, val_loss=1.08264753]\n",
      "Training Epoch [81/100]: 100%|█████████████████████████████████████████| 5/5 [00:00<00:00,  8.95it/s, curr_train_loss=0.41231782, val_loss=1.08264753]\n",
      "Validation Epoch [81/100]: 100%|███████████████████████████████████████████████████████████████████| 5/5 [00:00<00:00,  9.13it/s, val_loss=1.11338414]\n",
      "Training Epoch [82/100]: 100%|█████████████████████████████████████████| 5/5 [00:00<00:00,  8.89it/s, curr_train_loss=0.36929736, val_loss=1.11338414]\n",
      "Validation Epoch [82/100]: 100%|███████████████████████████████████████████████████████████████████| 5/5 [00:00<00:00,  9.21it/s, val_loss=1.07587988]\n",
      "Training Epoch [83/100]: 100%|█████████████████████████████████████████| 5/5 [00:00<00:00,  8.95it/s, curr_train_loss=0.31684627, val_loss=1.07587988]\n",
      "Validation Epoch [83/100]: 100%|███████████████████████████████████████████████████████████████████| 5/5 [00:00<00:00,  9.23it/s, val_loss=1.04692466]\n",
      "Training Epoch [84/100]: 100%|█████████████████████████████████████████| 5/5 [00:00<00:00,  8.25it/s, curr_train_loss=0.28613941, val_loss=1.04692466]\n",
      "Validation Epoch [84/100]: 100%|███████████████████████████████████████████████████████████████████| 5/5 [00:00<00:00,  9.11it/s, val_loss=1.08632662]\n",
      "Training Epoch [85/100]: 100%|█████████████████████████████████████████| 5/5 [00:00<00:00,  8.86it/s, curr_train_loss=0.31527936, val_loss=1.08632662]\n",
      "Validation Epoch [85/100]: 100%|███████████████████████████████████████████████████████████████████| 5/5 [00:00<00:00,  8.91it/s, val_loss=1.07698410]\n",
      "Training Epoch [86/100]: 100%|█████████████████████████████████████████| 5/5 [00:00<00:00,  8.85it/s, curr_train_loss=0.36697684, val_loss=1.07698410]\n",
      "Validation Epoch [86/100]: 100%|███████████████████████████████████████████████████████████████████| 5/5 [00:00<00:00,  8.99it/s, val_loss=0.96092263]\n",
      "Training Epoch [87/100]: 100%|█████████████████████████████████████████| 5/5 [00:00<00:00,  8.61it/s, curr_train_loss=0.34383272, val_loss=0.96092263]\n",
      "Validation Epoch [87/100]: 100%|███████████████████████████████████████████████████████████████████| 5/5 [00:00<00:00,  8.92it/s, val_loss=0.96645242]\n",
      "Training Epoch [88/100]: 100%|█████████████████████████████████████████| 5/5 [00:00<00:00,  8.72it/s, curr_train_loss=0.18597902, val_loss=0.96645242]\n",
      "Validation Epoch [88/100]: 100%|███████████████████████████████████████████████████████████████████| 5/5 [00:00<00:00,  9.25it/s, val_loss=1.06033868]\n",
      "Training Epoch [89/100]: 100%|█████████████████████████████████████████| 5/5 [00:00<00:00,  8.89it/s, curr_train_loss=0.37131632, val_loss=1.06033868]\n",
      "Validation Epoch [89/100]: 100%|███████████████████████████████████████████████████████████████████| 5/5 [00:00<00:00,  9.23it/s, val_loss=1.07585807]\n",
      "Training Epoch [90/100]: 100%|█████████████████████████████████████████| 5/5 [00:00<00:00,  8.62it/s, curr_train_loss=0.29228028, val_loss=1.07585807]\n",
      "Validation Epoch [90/100]: 100%|███████████████████████████████████████████████████████████████████| 5/5 [00:00<00:00,  9.23it/s, val_loss=1.09270658]\n",
      "Training Epoch [91/100]: 100%|█████████████████████████████████████████| 5/5 [00:00<00:00,  8.86it/s, curr_train_loss=0.19967954, val_loss=1.09270658]\n",
      "Validation Epoch [91/100]: 100%|███████████████████████████████████████████████████████████████████| 5/5 [00:00<00:00,  8.91it/s, val_loss=1.13937794]\n",
      "Training Epoch [92/100]: 100%|█████████████████████████████████████████| 5/5 [00:00<00:00,  9.06it/s, curr_train_loss=0.34712982, val_loss=1.13937794]\n",
      "Validation Epoch [92/100]: 100%|███████████████████████████████████████████████████████████████████| 5/5 [00:00<00:00,  9.17it/s, val_loss=1.08366815]\n",
      "Training Epoch [93/100]: 100%|█████████████████████████████████████████| 5/5 [00:00<00:00,  8.90it/s, curr_train_loss=0.33345218, val_loss=1.08366815]\n",
      "Validation Epoch [93/100]: 100%|███████████████████████████████████████████████████████████████████| 5/5 [00:00<00:00,  9.12it/s, val_loss=1.03840901]\n",
      "Training Epoch [94/100]: 100%|█████████████████████████████████████████| 5/5 [00:00<00:00,  8.80it/s, curr_train_loss=0.30264583, val_loss=1.03840901]\n",
      "Validation Epoch [94/100]: 100%|███████████████████████████████████████████████████████████████████| 5/5 [00:00<00:00,  9.06it/s, val_loss=1.02662437]\n",
      "Training Epoch [95/100]: 100%|█████████████████████████████████████████| 5/5 [00:00<00:00,  8.87it/s, curr_train_loss=0.31648793, val_loss=1.02662437]\n",
      "Validation Epoch [95/100]: 100%|███████████████████████████████████████████████████████████████████| 5/5 [00:00<00:00,  9.14it/s, val_loss=0.97826231]\n",
      "Training Epoch [96/100]: 100%|█████████████████████████████████████████| 5/5 [00:00<00:00,  8.90it/s, curr_train_loss=0.25506109, val_loss=0.97826231]\n",
      "Validation Epoch [96/100]: 100%|███████████████████████████████████████████████████████████████████| 5/5 [00:00<00:00,  9.24it/s, val_loss=1.00933795]\n",
      "Training Epoch [97/100]: 100%|█████████████████████████████████████████| 5/5 [00:00<00:00,  9.11it/s, curr_train_loss=0.35866158, val_loss=1.00933795]\n",
      "Validation Epoch [97/100]: 100%|███████████████████████████████████████████████████████████████████| 5/5 [00:00<00:00,  9.20it/s, val_loss=1.02288244]\n",
      "Training Epoch [98/100]: 100%|█████████████████████████████████████████| 5/5 [00:00<00:00,  8.91it/s, curr_train_loss=0.20227785, val_loss=1.02288244]\n",
      "Validation Epoch [98/100]: 100%|███████████████████████████████████████████████████████████████████| 5/5 [00:00<00:00,  9.30it/s, val_loss=1.05415426]\n",
      "Training Epoch [99/100]: 100%|█████████████████████████████████████████| 5/5 [00:00<00:00,  8.92it/s, curr_train_loss=0.20156851, val_loss=1.05415426]\n",
      "Validation Epoch [99/100]: 100%|███████████████████████████████████████████████████████████████████| 5/5 [00:00<00:00,  8.65it/s, val_loss=1.08116274]\n",
      "Training Epoch [100/100]: 100%|████████████████████████████████████████| 5/5 [00:00<00:00,  9.02it/s, curr_train_loss=0.28165987, val_loss=1.08116274]\n",
      "Validation Epoch [100/100]: 100%|██████████████████████████████████████████████████████████████████| 5/5 [00:00<00:00,  9.07it/s, val_loss=1.06358900]"
     ]
    },
    {
     "name": "stdout",
     "output_type": "stream",
     "text": [
      "Finished training!\n",
      "How did we do? Let's check the accuracy of the defaut classifier on the training and validation sets:\n",
      "Training Acc: 100.0%\n",
      "Validation Acc: 72.0%\n"
     ]
    },
    {
     "name": "stderr",
     "output_type": "stream",
     "text": [
      "\n"
     ]
    }
   ],
   "source": [
    "from exercise_code.models import Classifier\n",
    "from exercise_code.models import Encoder\n",
    "\n",
    "# Create the encoder and the classifier.\n",
    "encoder = Encoder(hparams).to(device)\n",
    "classifier = Classifier(hparams, encoder).to(device)\n",
    "\n",
    "# Create a tensorboard logger.\n",
    "# NOTE: In order to see the logs, run the following command in the terminal: tensorboard --logdir=./\n",
    "# Also, in order to reset the logs, delete the logs folder MANUALLY.\n",
    "\n",
    "path = os.path.join('logs', 'cls_logs')\n",
    "num_of_runs = len(os.listdir(path)) if os.path.exists(path) else 0\n",
    "path = os.path.join(path, f'run_{num_of_runs + 1}')\n",
    "\n",
    "tb_logger = SummaryWriter(path)\n",
    "\n",
    "# Train the classifier.\n",
    "labled_train_loader = torch.utils.data.DataLoader(train_100_dataset, batch_size=20, shuffle=True)\n",
    "labled_val_loader = torch.utils.data.DataLoader(val_100_dataset, batch_size=20, shuffle=False)\n",
    "\n",
    "epochs = hparams.get('epochs', 100)\n",
    "loss_func = nn.CrossEntropyLoss() # The loss function we use for classification.\n",
    "train_classifier(classifier, labled_train_loader, labled_val_loader, loss_func, tb_logger, epochs=epochs, name=\"Default\")\n",
    "\n",
    "print(\"Finished training!\")\n",
    "print(\"How did we do? Let's check the accuracy of the defaut classifier on the training and validation sets:\")\n",
    "print(f\"Training Acc: {classifier.getAcc(labled_train_loader)[1] * 100}%\")\n",
    "print(f\"Validation Acc: {classifier.getAcc(labled_val_loader)[1] * 100}%\")"
   ]
  },
  {
   "cell_type": "code",
   "execution_count": 182,
   "metadata": {},
   "outputs": [
    {
     "name": "stdout",
     "output_type": "stream",
     "text": [
      "Finished training!\n",
      "How did we do? Let's check the accuracy of the defaut classifier on the training and validation sets:\n",
      "Training Acc: 100.0%\n",
      "Validation Acc: 71.0%\n"
     ]
    }
   ],
   "source": [
    "print(\"Finished training!\")\n",
    "print(\"How did we do? Let's check the accuracy of the defaut classifier on the training and validation sets:\")\n",
    "print(f\"Training Acc: {classifier.getAcc(labled_train_loader)[1] * 100}%\")\n",
    "print(f\"Validation Acc: {classifier.getAcc(labled_val_loader)[1] * 100}%\")"
   ]
  },
  {
   "attachments": {},
   "cell_type": "markdown",
   "metadata": {
    "id": "i16vmHZXMNkm",
    "pycharm": {
     "name": "#%% md\n"
    }
   },
   "source": [
    "# 3. Autoencoder\n",
    "\n",
    "With only a limited number of labeled images, it's challenging to achieve high performance. We have no money left to pay the student to create more labels, and labeling the data ourselves is out of question. A commonly used approach would be to apply data augmentation to maximize the potential of our limited labeled data, but here we provide another way to solve this problem: **transfer learning**.\n",
    "\n",
    "For each input, the autoencoder tries to reproduce the same image as an output. The difficulty behind this task is that the autoencoder has to go through a low dimensional bottleneck, which is called the **latent space**.\n",
    "In other words, the autoencoder learns to represent all the input information in a low dimensional latent space - it learns to compress the input distribution. To train the autoencoder, we use the mean squared error loss, which calculates the discrepancy between the input pixels and the output pixels. The best part is that this loss function doesn't require any labels!\n",
    "\n",
    "By pretraining the autoencoder in this way on a large amount of unlabeled data, we can capture valuable latent representations of the input images. Then, we transfer the weights of the encoder to our classifier, enabling it to benefit from the knowledge learned during the unsupervised pretraining phase. \n",
    "\n",
    "<!-- In case the image does not show, uncomment the following:\n",
    "![autoencoder](img/autoencoder.png) \n",
    "-->\n",
    "<img name=\"autoencoder\" src=\"https://drive.google.com/uc?id=17nHpWR_L-mSyiNah9rV0dHuXW9yWPbLt\">\n",
    "\n",
    "After this, our encoder has learned to extract meaningful information from the inputs. We can then transfer its weights\n",
    "to a classifier architecture and finetune it with our labeled data, i.e., instead of initializing our encoder randomly, we are re-using the weights of our trained encoder from our autoencoder network. \n",
    "\n",
    "<!-- In case the image does not show, uncomment the following:\n",
    "![autoencoder_pretrained](img/pretrained.png) \n",
    "-->\n",
    "<img name=\"autoencoder_pretrained\" src=\"https://drive.google.com/uc?id=1ttndkRDJF_EMfjyMxtbu_BjQ796fL1Km\">\n",
    "\n",
    "\n",
    "Before we can train our autoencoder, you have to initialize your `decoder` architecture. The simplest way is to mirror your encoder architecture, which ensures that the `latent space` output of our `encoder` is correctly transformed to our input shape.\n",
    "\n",
    "<div class=\"alert alert-info\">\n",
    "    <h3>Task: Implement</h3>\n",
    "    <p>Implement the <code>Decoder</code> class initialization in <code>exercise_code/models.py</code>.</p>\n",
    "    <p>Implement <code>forward</code>, <code>set_optimizer</code>, <code>training_step</code> and <code>validation_step</code> of the <code>Autoencoder</code> in  <code>exercise_code/models.py</code>, following the pipeline we've shown you in train_classifier().</p>\n",
    "    <p>Note the differences between the classification task and now the regression task!</p>\n",
    "\n",
    "\n",
    "</div>\n",
    "\n",
    "## 3.2 Autoencoder Training\n",
    "\n",
    "Now, we can train the full autoencoder consisting of both en- and decoder.\n",
    "\n",
    "\n"
   ]
  },
  {
   "cell_type": "code",
   "execution_count": 183,
   "metadata": {
    "id": "xqqdoLDgMNkm"
   },
   "outputs": [],
   "source": [
    "from exercise_code.models import Autoencoder, Encoder, Decoder\n",
    "\n",
    "########################################################################\n",
    "# TODO: Define your hyperparameters here!                              #\n",
    "# Hint: use a large batch_size                                         #\n",
    "########################################################################\n",
    "\n",
    "pass\n",
    "\n",
    "########################################################################\n",
    "#                           END OF YOUR CODE                           #\n",
    "########################################################################\n",
    "encoder_pretrained = Encoder(hparams).to(device)\n",
    "decoder = Decoder(hparams).to(device)\n",
    "autoencoder = Autoencoder(hparams, encoder_pretrained, decoder).to(device)"
   ]
  },
  {
   "attachments": {},
   "cell_type": "markdown",
   "metadata": {
    "id": "uRuIIm8YMNkn"
   },
   "source": [
    "Some tests to check whether we'll accept your model."
   ]
  },
  {
   "cell_type": "code",
   "execution_count": 184,
   "metadata": {
    "id": "SoAaC-NqMNkn"
   },
   "outputs": [
    {
     "name": "stdout",
     "output_type": "stream",
     "text": [
      "# Paramters: Your model has \u001b[92m0.22\u001b[0m mio. params.\n",
      "Model accepted!\n"
     ]
    }
   ],
   "source": [
    "from exercise_code.Util import printModelInfo, load_model\n",
    "_ = printModelInfo(autoencoder)"
   ]
  },
  {
   "attachments": {},
   "cell_type": "markdown",
   "metadata": {
    "id": "plQwnphtqggl"
   },
   "source": [
    "After implementing the relevant functions - read the following code, and then run it.\n",
    "Keep in mind that an epoch here will take much longer since\n",
    "we are iterating through 5,8600 images instead of just 100.\n",
    "\n",
    "For speed, colab is indeed recommended. "
   ]
  },
  {
   "cell_type": "code",
   "execution_count": 185,
   "metadata": {},
   "outputs": [
    {
     "name": "stdout",
     "output_type": "stream",
     "text": [
      "229\n"
     ]
    }
   ],
   "source": [
    "print(len(unlabled_train_loader))"
   ]
  },
  {
   "cell_type": "code",
   "execution_count": 186,
   "metadata": {
    "id": "_uuzXMq6zjbb",
    "tags": []
   },
   "outputs": [
    {
     "name": "stderr",
     "output_type": "stream",
     "text": [
      "Training Epoch [0/60]: 100%|████████████████████████████████████████████| 229/229 [00:07<00:00, 31.99it/s, train_loss=0.06411400, val_loss=0.00000000]\n",
      "Validation Epoch [0/60]: 100%|█████████████████████████████████████████████████████████████████████| 4/4 [00:00<00:00, 40.28it/s, val_loss=0.04533331]\n",
      "Training Epoch [1/60]: 100%|████████████████████████████████████████████| 229/229 [00:06<00:00, 34.33it/s, train_loss=0.04666851, val_loss=0.04533331]\n",
      "Validation Epoch [1/60]: 100%|█████████████████████████████████████████████████████████████████████| 4/4 [00:00<00:00, 44.20it/s, val_loss=0.04002364]\n",
      "Training Epoch [2/60]: 100%|████████████████████████████████████████████| 229/229 [00:06<00:00, 34.42it/s, train_loss=0.04367368, val_loss=0.04002364]\n",
      "Validation Epoch [2/60]: 100%|█████████████████████████████████████████████████████████████████████| 4/4 [00:00<00:00, 44.52it/s, val_loss=0.03731220]\n",
      "Training Epoch [3/60]: 100%|████████████████████████████████████████████| 229/229 [00:06<00:00, 36.48it/s, train_loss=0.04203687, val_loss=0.03731220]\n",
      "Validation Epoch [3/60]: 100%|█████████████████████████████████████████████████████████████████████| 4/4 [00:00<00:00, 35.83it/s, val_loss=0.03578565]\n",
      "Training Epoch [4/60]: 100%|████████████████████████████████████████████| 229/229 [00:06<00:00, 34.30it/s, train_loss=0.04093007, val_loss=0.03578565]\n",
      "Validation Epoch [4/60]: 100%|█████████████████████████████████████████████████████████████████████| 4/4 [00:00<00:00, 44.51it/s, val_loss=0.03458901]\n",
      "Training Epoch [5/60]: 100%|████████████████████████████████████████████| 229/229 [00:06<00:00, 32.89it/s, train_loss=0.04010756, val_loss=0.03458901]\n",
      "Validation Epoch [5/60]: 100%|█████████████████████████████████████████████████████████████████████| 4/4 [00:00<00:00, 39.39it/s, val_loss=0.03386603]\n",
      "Training Epoch [6/60]: 100%|████████████████████████████████████████████| 229/229 [00:06<00:00, 34.42it/s, train_loss=0.03950782, val_loss=0.03386603]\n",
      "Validation Epoch [6/60]: 100%|█████████████████████████████████████████████████████████████████████| 4/4 [00:00<00:00, 38.63it/s, val_loss=0.03312286]\n",
      "Training Epoch [7/60]: 100%|████████████████████████████████████████████| 229/229 [00:06<00:00, 35.07it/s, train_loss=0.03891514, val_loss=0.03312286]\n",
      "Validation Epoch [7/60]: 100%|█████████████████████████████████████████████████████████████████████| 4/4 [00:00<00:00, 41.60it/s, val_loss=0.03256754]\n",
      "Training Epoch [8/60]: 100%|████████████████████████████████████████████| 229/229 [00:07<00:00, 32.56it/s, train_loss=0.03847532, val_loss=0.03256754]\n",
      "Validation Epoch [8/60]: 100%|█████████████████████████████████████████████████████████████████████| 4/4 [00:00<00:00, 43.54it/s, val_loss=0.03214722]\n",
      "Training Epoch [9/60]: 100%|████████████████████████████████████████████| 229/229 [00:06<00:00, 35.17it/s, train_loss=0.03795956, val_loss=0.03214722]\n",
      "Validation Epoch [9/60]: 100%|█████████████████████████████████████████████████████████████████████| 4/4 [00:00<00:00, 43.62it/s, val_loss=0.03175067]\n",
      "Training Epoch [10/60]: 100%|███████████████████████████████████████████| 229/229 [00:07<00:00, 31.45it/s, train_loss=0.03762435, val_loss=0.03175067]\n",
      "Validation Epoch [10/60]: 100%|████████████████████████████████████████████████████████████████████| 4/4 [00:00<00:00, 42.34it/s, val_loss=0.03141783]\n",
      "Training Epoch [11/60]: 100%|███████████████████████████████████████████| 229/229 [00:07<00:00, 32.29it/s, train_loss=0.03733968, val_loss=0.03141783]\n",
      "Validation Epoch [11/60]: 100%|████████████████████████████████████████████████████████████████████| 4/4 [00:00<00:00, 39.43it/s, val_loss=0.03143020]\n",
      "Training Epoch [12/60]: 100%|███████████████████████████████████████████| 229/229 [00:09<00:00, 24.82it/s, train_loss=0.03687032, val_loss=0.03143020]\n",
      "Validation Epoch [12/60]: 100%|████████████████████████████████████████████████████████████████████| 4/4 [00:00<00:00, 37.37it/s, val_loss=0.03089275]\n",
      "Training Epoch [13/60]: 100%|███████████████████████████████████████████| 229/229 [00:09<00:00, 25.16it/s, train_loss=0.03664576, val_loss=0.03089275]\n",
      "Validation Epoch [13/60]: 100%|████████████████████████████████████████████████████████████████████| 4/4 [00:00<00:00, 31.07it/s, val_loss=0.03065400]\n",
      "Training Epoch [14/60]: 100%|███████████████████████████████████████████| 229/229 [00:07<00:00, 31.82it/s, train_loss=0.03643840, val_loss=0.03065400]\n",
      "Validation Epoch [14/60]: 100%|████████████████████████████████████████████████████████████████████| 4/4 [00:00<00:00, 43.15it/s, val_loss=0.03050373]\n",
      "Training Epoch [15/60]: 100%|███████████████████████████████████████████| 229/229 [00:06<00:00, 33.73it/s, train_loss=0.03623244, val_loss=0.03050373]\n",
      "Validation Epoch [15/60]: 100%|████████████████████████████████████████████████████████████████████| 4/4 [00:00<00:00, 29.34it/s, val_loss=0.03034734]\n",
      "Training Epoch [16/60]: 100%|███████████████████████████████████████████| 229/229 [00:06<00:00, 36.44it/s, train_loss=0.03605512, val_loss=0.03034734]\n",
      "Validation Epoch [16/60]: 100%|████████████████████████████████████████████████████████████████████| 4/4 [00:00<00:00, 41.99it/s, val_loss=0.03014670]\n",
      "Training Epoch [17/60]: 100%|███████████████████████████████████████████| 229/229 [00:06<00:00, 36.16it/s, train_loss=0.03587976, val_loss=0.03014670]\n",
      "Validation Epoch [17/60]: 100%|████████████████████████████████████████████████████████████████████| 4/4 [00:00<00:00, 45.08it/s, val_loss=0.03016084]\n",
      "Training Epoch [18/60]: 100%|███████████████████████████████████████████| 229/229 [00:06<00:00, 35.74it/s, train_loss=0.03571563, val_loss=0.03016084]\n",
      "Validation Epoch [18/60]: 100%|████████████████████████████████████████████████████████████████████| 4/4 [00:00<00:00, 44.28it/s, val_loss=0.03002477]\n",
      "Training Epoch [19/60]: 100%|███████████████████████████████████████████| 229/229 [00:06<00:00, 36.79it/s, train_loss=0.03557287, val_loss=0.03002477]\n",
      "Validation Epoch [19/60]: 100%|████████████████████████████████████████████████████████████████████| 4/4 [00:00<00:00, 45.65it/s, val_loss=0.02984914]\n",
      "Training Epoch [20/60]: 100%|███████████████████████████████████████████| 229/229 [00:06<00:00, 36.97it/s, train_loss=0.03540254, val_loss=0.02984914]\n",
      "Validation Epoch [20/60]: 100%|████████████████████████████████████████████████████████████████████| 4/4 [00:00<00:00, 45.42it/s, val_loss=0.02975966]\n",
      "Training Epoch [21/60]: 100%|███████████████████████████████████████████| 229/229 [00:06<00:00, 36.66it/s, train_loss=0.03524929, val_loss=0.02975966]\n",
      "Validation Epoch [21/60]: 100%|████████████████████████████████████████████████████████████████████| 4/4 [00:00<00:00, 44.65it/s, val_loss=0.02965386]\n",
      "Training Epoch [22/60]: 100%|███████████████████████████████████████████| 229/229 [00:06<00:00, 35.60it/s, train_loss=0.03505973, val_loss=0.02965386]\n",
      "Validation Epoch [22/60]: 100%|████████████████████████████████████████████████████████████████████| 4/4 [00:00<00:00, 43.24it/s, val_loss=0.02929483]\n",
      "Training Epoch [23/60]: 100%|███████████████████████████████████████████| 229/229 [00:06<00:00, 36.15it/s, train_loss=0.03493024, val_loss=0.02929483]\n",
      "Validation Epoch [23/60]: 100%|████████████████████████████████████████████████████████████████████| 4/4 [00:00<00:00, 44.38it/s, val_loss=0.02931783]\n",
      "Training Epoch [24/60]: 100%|███████████████████████████████████████████| 229/229 [00:06<00:00, 36.41it/s, train_loss=0.03465005, val_loss=0.02931783]\n",
      "Validation Epoch [24/60]: 100%|████████████████████████████████████████████████████████████████████| 4/4 [00:00<00:00, 44.78it/s, val_loss=0.02907171]\n",
      "Training Epoch [25/60]: 100%|███████████████████████████████████████████| 229/229 [00:06<00:00, 35.83it/s, train_loss=0.03455775, val_loss=0.02907171]\n",
      "Validation Epoch [25/60]: 100%|████████████████████████████████████████████████████████████████████| 4/4 [00:00<00:00, 45.35it/s, val_loss=0.02901814]\n",
      "Training Epoch [26/60]: 100%|███████████████████████████████████████████| 229/229 [00:06<00:00, 36.22it/s, train_loss=0.03447302, val_loss=0.02901814]\n",
      "Validation Epoch [26/60]: 100%|████████████████████████████████████████████████████████████████████| 4/4 [00:00<00:00, 45.11it/s, val_loss=0.02900452]\n",
      "Training Epoch [27/60]: 100%|███████████████████████████████████████████| 229/229 [00:07<00:00, 31.56it/s, train_loss=0.03441371, val_loss=0.02900452]\n",
      "Validation Epoch [27/60]: 100%|████████████████████████████████████████████████████████████████████| 4/4 [00:00<00:00, 34.06it/s, val_loss=0.02892521]\n",
      "Training Epoch [28/60]: 100%|███████████████████████████████████████████| 229/229 [00:06<00:00, 33.11it/s, train_loss=0.03424358, val_loss=0.02892521]\n",
      "Validation Epoch [28/60]: 100%|████████████████████████████████████████████████████████████████████| 4/4 [00:00<00:00, 43.79it/s, val_loss=0.02865871]\n",
      "Training Epoch [29/60]: 100%|███████████████████████████████████████████| 229/229 [00:07<00:00, 32.56it/s, train_loss=0.03419545, val_loss=0.02865871]\n",
      "Validation Epoch [29/60]: 100%|████████████████████████████████████████████████████████████████████| 4/4 [00:00<00:00, 44.05it/s, val_loss=0.02872255]\n",
      "Training Epoch [30/60]: 100%|███████████████████████████████████████████| 229/229 [00:06<00:00, 35.24it/s, train_loss=0.03412222, val_loss=0.02872255]\n",
      "Validation Epoch [30/60]: 100%|████████████████████████████████████████████████████████████████████| 4/4 [00:00<00:00, 42.62it/s, val_loss=0.02853083]\n",
      "Training Epoch [31/60]: 100%|███████████████████████████████████████████| 229/229 [00:06<00:00, 33.82it/s, train_loss=0.03399059, val_loss=0.02853083]\n",
      "Validation Epoch [31/60]: 100%|████████████████████████████████████████████████████████████████████| 4/4 [00:00<00:00, 44.02it/s, val_loss=0.02870428]\n",
      "Training Epoch [32/60]: 100%|███████████████████████████████████████████| 229/229 [00:06<00:00, 36.69it/s, train_loss=0.03398155, val_loss=0.02870428]\n",
      "Validation Epoch [32/60]: 100%|████████████████████████████████████████████████████████████████████| 4/4 [00:00<00:00, 38.76it/s, val_loss=0.02854214]\n",
      "Training Epoch [33/60]: 100%|███████████████████████████████████████████| 229/229 [00:06<00:00, 36.62it/s, train_loss=0.03386961, val_loss=0.02854214]\n",
      "Validation Epoch [33/60]: 100%|████████████████████████████████████████████████████████████████████| 4/4 [00:00<00:00, 42.59it/s, val_loss=0.02844065]\n",
      "Training Epoch [34/60]: 100%|███████████████████████████████████████████| 229/229 [00:06<00:00, 35.89it/s, train_loss=0.03380111, val_loss=0.02844065]\n",
      "Validation Epoch [34/60]: 100%|████████████████████████████████████████████████████████████████████| 4/4 [00:00<00:00, 44.88it/s, val_loss=0.02845517]\n",
      "Training Epoch [35/60]: 100%|███████████████████████████████████████████| 229/229 [00:06<00:00, 35.71it/s, train_loss=0.03373820, val_loss=0.02845517]\n",
      "Validation Epoch [35/60]: 100%|████████████████████████████████████████████████████████████████████| 4/4 [00:00<00:00, 43.77it/s, val_loss=0.02847427]\n",
      "Training Epoch [36/60]: 100%|███████████████████████████████████████████| 229/229 [00:06<00:00, 36.26it/s, train_loss=0.03353085, val_loss=0.02847427]\n",
      "Validation Epoch [36/60]: 100%|████████████████████████████████████████████████████████████████████| 4/4 [00:00<00:00, 44.33it/s, val_loss=0.02833142]\n",
      "Training Epoch [37/60]: 100%|███████████████████████████████████████████| 229/229 [00:06<00:00, 36.78it/s, train_loss=0.03353034, val_loss=0.02833142]\n",
      "Validation Epoch [37/60]: 100%|████████████████████████████████████████████████████████████████████| 4/4 [00:00<00:00, 45.75it/s, val_loss=0.02809361]\n",
      "Training Epoch [38/60]: 100%|███████████████████████████████████████████| 229/229 [00:06<00:00, 36.67it/s, train_loss=0.03347916, val_loss=0.02809361]\n",
      "Validation Epoch [38/60]: 100%|████████████████████████████████████████████████████████████████████| 4/4 [00:00<00:00, 43.54it/s, val_loss=0.02801291]\n",
      "Training Epoch [39/60]: 100%|███████████████████████████████████████████| 229/229 [00:06<00:00, 35.53it/s, train_loss=0.03333841, val_loss=0.02801291]\n",
      "Validation Epoch [39/60]: 100%|████████████████████████████████████████████████████████████████████| 4/4 [00:00<00:00, 26.39it/s, val_loss=0.02812303]\n",
      "Training Epoch [40/60]: 100%|███████████████████████████████████████████| 229/229 [00:06<00:00, 32.81it/s, train_loss=0.03335778, val_loss=0.02812303]\n",
      "Validation Epoch [40/60]: 100%|████████████████████████████████████████████████████████████████████| 4/4 [00:00<00:00, 44.65it/s, val_loss=0.02798886]\n",
      "Training Epoch [41/60]: 100%|███████████████████████████████████████████| 229/229 [00:06<00:00, 34.54it/s, train_loss=0.03329148, val_loss=0.02798886]\n",
      "Validation Epoch [41/60]: 100%|████████████████████████████████████████████████████████████████████| 4/4 [00:00<00:00, 42.17it/s, val_loss=0.02790595]\n",
      "Training Epoch [42/60]: 100%|███████████████████████████████████████████| 229/229 [00:06<00:00, 35.70it/s, train_loss=0.03323350, val_loss=0.02790595]\n",
      "Validation Epoch [42/60]: 100%|████████████████████████████████████████████████████████████████████| 4/4 [00:00<00:00, 42.84it/s, val_loss=0.02787062]\n",
      "Training Epoch [43/60]: 100%|███████████████████████████████████████████| 229/229 [00:06<00:00, 36.66it/s, train_loss=0.03322585, val_loss=0.02787062]\n",
      "Validation Epoch [43/60]: 100%|████████████████████████████████████████████████████████████████████| 4/4 [00:00<00:00, 39.78it/s, val_loss=0.02799466]\n",
      "Training Epoch [44/60]: 100%|███████████████████████████████████████████| 229/229 [00:07<00:00, 29.67it/s, train_loss=0.03319501, val_loss=0.02799466]\n",
      "Validation Epoch [44/60]: 100%|████████████████████████████████████████████████████████████████████| 4/4 [00:00<00:00, 42.67it/s, val_loss=0.02768902]\n",
      "Training Epoch [45/60]: 100%|███████████████████████████████████████████| 229/229 [00:07<00:00, 32.25it/s, train_loss=0.03307046, val_loss=0.02768902]\n",
      "Validation Epoch [45/60]: 100%|████████████████████████████████████████████████████████████████████| 4/4 [00:00<00:00, 37.75it/s, val_loss=0.02757393]\n",
      "Training Epoch [46/60]: 100%|███████████████████████████████████████████| 229/229 [00:06<00:00, 35.00it/s, train_loss=0.03308742, val_loss=0.02757393]\n",
      "Validation Epoch [46/60]: 100%|████████████████████████████████████████████████████████████████████| 4/4 [00:00<00:00, 43.75it/s, val_loss=0.02771896]\n",
      "Training Epoch [47/60]: 100%|███████████████████████████████████████████| 229/229 [00:06<00:00, 34.43it/s, train_loss=0.03300939, val_loss=0.02771896]\n",
      "Validation Epoch [47/60]: 100%|████████████████████████████████████████████████████████████████████| 4/4 [00:00<00:00, 19.18it/s, val_loss=0.02766429]\n",
      "Training Epoch [48/60]: 100%|███████████████████████████████████████████| 229/229 [00:06<00:00, 35.51it/s, train_loss=0.03291170, val_loss=0.02766429]\n",
      "Validation Epoch [48/60]: 100%|████████████████████████████████████████████████████████████████████| 4/4 [00:00<00:00, 44.04it/s, val_loss=0.02752391]\n",
      "Training Epoch [49/60]: 100%|███████████████████████████████████████████| 229/229 [00:06<00:00, 33.31it/s, train_loss=0.03286321, val_loss=0.02752391]\n",
      "Validation Epoch [49/60]: 100%|████████████████████████████████████████████████████████████████████| 4/4 [00:00<00:00, 44.67it/s, val_loss=0.02762590]\n",
      "Training Epoch [50/60]: 100%|███████████████████████████████████████████| 229/229 [00:06<00:00, 33.87it/s, train_loss=0.03284097, val_loss=0.02762590]\n",
      "Validation Epoch [50/60]: 100%|████████████████████████████████████████████████████████████████████| 4/4 [00:00<00:00, 43.89it/s, val_loss=0.02752009]\n",
      "Training Epoch [51/60]: 100%|███████████████████████████████████████████| 229/229 [00:06<00:00, 35.46it/s, train_loss=0.03284099, val_loss=0.02752009]\n",
      "Validation Epoch [51/60]: 100%|████████████████████████████████████████████████████████████████████| 4/4 [00:00<00:00, 35.68it/s, val_loss=0.02756948]\n",
      "Training Epoch [52/60]: 100%|███████████████████████████████████████████| 229/229 [00:06<00:00, 35.74it/s, train_loss=0.03276215, val_loss=0.02756948]\n",
      "Validation Epoch [52/60]: 100%|████████████████████████████████████████████████████████████████████| 4/4 [00:00<00:00, 30.28it/s, val_loss=0.02736992]\n",
      "Training Epoch [53/60]: 100%|███████████████████████████████████████████| 229/229 [00:06<00:00, 33.38it/s, train_loss=0.03276957, val_loss=0.02736992]\n",
      "Validation Epoch [53/60]: 100%|████████████████████████████████████████████████████████████████████| 4/4 [00:00<00:00, 39.64it/s, val_loss=0.02745614]\n",
      "Training Epoch [54/60]: 100%|███████████████████████████████████████████| 229/229 [00:06<00:00, 32.73it/s, train_loss=0.03268967, val_loss=0.02745614]\n",
      "Validation Epoch [54/60]: 100%|████████████████████████████████████████████████████████████████████| 4/4 [00:00<00:00, 41.47it/s, val_loss=0.02742689]\n",
      "Training Epoch [55/60]: 100%|███████████████████████████████████████████| 229/229 [00:06<00:00, 34.71it/s, train_loss=0.03273139, val_loss=0.02742689]\n",
      "Validation Epoch [55/60]: 100%|████████████████████████████████████████████████████████████████████| 4/4 [00:00<00:00, 44.67it/s, val_loss=0.02760421]\n",
      "Training Epoch [56/60]: 100%|███████████████████████████████████████████| 229/229 [00:06<00:00, 35.46it/s, train_loss=0.03270162, val_loss=0.02760421]\n",
      "Validation Epoch [56/60]: 100%|████████████████████████████████████████████████████████████████████| 4/4 [00:00<00:00, 43.03it/s, val_loss=0.02738224]\n",
      "Training Epoch [57/60]: 100%|███████████████████████████████████████████| 229/229 [00:06<00:00, 33.73it/s, train_loss=0.03263034, val_loss=0.02738224]\n",
      "Validation Epoch [57/60]: 100%|████████████████████████████████████████████████████████████████████| 4/4 [00:00<00:00, 42.07it/s, val_loss=0.02722608]\n",
      "Training Epoch [58/60]: 100%|███████████████████████████████████████████| 229/229 [00:06<00:00, 33.96it/s, train_loss=0.03261375, val_loss=0.02722608]\n",
      "Validation Epoch [58/60]: 100%|████████████████████████████████████████████████████████████████████| 4/4 [00:00<00:00, 42.99it/s, val_loss=0.02717733]\n",
      "Training Epoch [59/60]: 100%|███████████████████████████████████████████| 229/229 [00:06<00:00, 36.40it/s, train_loss=0.03261330, val_loss=0.02717733]\n",
      "Validation Epoch [59/60]: 100%|████████████████████████████████████████████████████████████████████| 4/4 [00:00<00:00, 45.06it/s, val_loss=0.02717881]"
     ]
    },
    {
     "name": "stdout",
     "output_type": "stream",
     "text": [
      "Finished training!\n"
     ]
    },
    {
     "name": "stderr",
     "output_type": "stream",
     "text": [
      "\n"
     ]
    }
   ],
   "source": [
    "encoder_pretrained = Encoder(hparams).to(device)\n",
    "decoder = Decoder(hparams).to(device)\n",
    "autoencoder = Autoencoder(hparams, encoder_pretrained, decoder).to(device)\n",
    "\n",
    "def train_model(model, train_loader, val_loader, loss_func, tb_logger, epochs=10, name='Autoencoder'):\n",
    "    \n",
    "    optimizer = model.optimizer\n",
    "    scheduler = torch.optim.lr_scheduler.StepLR(optimizer, step_size=epochs * len(train_loader) / 5, gamma=0.7)\n",
    "    validation_loss = 0\n",
    "    model = model.to(device)\n",
    "    for epoch in range(epochs):\n",
    "        \n",
    "        # Train\n",
    "        training_loop = create_tqdm_bar(train_loader, desc=f'Training Epoch [{epoch}/{epochs}]')\n",
    "        training_loss = 0\n",
    "        for train_iteration, batch in training_loop:\n",
    "            \n",
    "            loss = model.training_step(batch, loss_func) # You need to implement this function.\n",
    "            training_loss += loss.item()\n",
    "            scheduler.step()\n",
    "\n",
    "            # Update the progress bar.\n",
    "            training_loop.set_postfix(train_loss = \"{:.8f}\".format(training_loss / (train_iteration + 1)), val_loss = \"{:.8f}\".format(validation_loss))\n",
    "\n",
    "            # Update the tensorboard logger.\n",
    "            tb_logger.add_scalar(f'{name}/train_loss', loss.item(), epoch * len(train_loader) + train_iteration)\n",
    "\n",
    "        # Validation\n",
    "        val_loop = create_tqdm_bar(val_loader, desc=f'Validation Epoch [{epoch}/{epochs}]')\n",
    "        validation_loss = 0\n",
    "        with torch.no_grad():\n",
    "            for val_iteration, batch in val_loop:\n",
    "                loss = model.validation_step(batch, loss_func) # You need to implement this function.\n",
    "                validation_loss += loss.item()\n",
    "\n",
    "                # Update the progress bar.\n",
    "                val_loop.set_postfix(val_loss = \"{:.8f}\".format(validation_loss / (val_iteration + 1)))\n",
    "\n",
    "                # Update the tensorboard logger.\n",
    "                tb_logger.add_scalar(f'{name}/val_loss', validation_loss / (val_iteration + 1), epoch * len(val_loader) + val_iteration)\n",
    "        # This value is for the progress bar of the training loop.\n",
    "        validation_loss /= len(val_loader)\n",
    "\n",
    "# Create a tensorboard logger.\n",
    "# NOTE: In order to see the logs, run the following command in the terminal: tensorboard --logdir=./\n",
    "# Also, in order to reset the logs, delete the logs folder MANUALLY.\n",
    "\n",
    "path = os.path.join('logs', 'ae_logs')\n",
    "num_of_runs = len(os.listdir(path)) if os.path.exists(path) else 0\n",
    "path = os.path.join(path, f'run_{num_of_runs + 1}')\n",
    "tb_logger = SummaryWriter(path)\n",
    "\n",
    "# Train the classifier.\n",
    "unlabled_train_loader = torch.utils.data.DataLoader(unlabeled_train, batch_size=256, shuffle=True)\n",
    "unlabled_val_loader = torch.utils.data.DataLoader(unlabeled_val, batch_size=256, shuffle=False)\n",
    "\n",
    "epochs = hparams.get('epochs', 60)\n",
    "loss_func = nn.MSELoss() # The loss function we use for regression (Could also be nn.L1Loss()).\n",
    "train_model(autoencoder, unlabled_train_loader, unlabled_val_loader, loss_func, tb_logger, epochs=epochs, name='Autoencoder')\n",
    "\n",
    "print(\"Finished training!\")"
   ]
  },
  {
   "cell_type": "code",
   "execution_count": null,
   "metadata": {},
   "outputs": [],
   "source": []
  },
  {
   "attachments": {},
   "cell_type": "markdown",
   "metadata": {
    "id": "vdgiYWy4MNkq"
   },
   "source": [
    "Once trained, let's have a look at the reconstructed validation images (If you have not already looked at them in TensorBoard)."
   ]
  },
  {
   "cell_type": "code",
   "execution_count": 187,
   "metadata": {
    "id": "a991mKcyMNkq"
   },
   "outputs": [
    {
     "data": {
      "image/png": "[encoded data removed]",
      "text/plain": [
       "<Figure size 1600x1600 with 64 Axes>"
      ]
     },
     "metadata": {},
     "output_type": "display_data"
    }
   ],
   "source": [
    "reconstructions = autoencoder.getReconstructions(unlabled_val_loader)\n",
    "for i in range(64):\n",
    "    plt.subplot(8,8,i+1)\n",
    "    plt.axis('off')\n",
    "    plt.imshow(reconstructions[i], cmap='gray', interpolation='none')\n",
    "    \n",
    "plt.tight_layout()"
   ]
  },
  {
   "attachments": {},
   "cell_type": "markdown",
   "metadata": {
    "id": "R2hrP5b1MNkr"
   },
   "source": [
    "# 4. Transfer Learning\n",
    "\n",
    "## 4.1 The pretrained Classifier\n",
    "\n",
    "Now we initialize another classifier but this time with the pretrained encoder."
   ]
  },
  {
   "cell_type": "code",
   "execution_count": 224,
   "metadata": {
    "id": "OELYQAUmMNkr"
   },
   "outputs": [],
   "source": [
    "from exercise_code.models import Classifier\n",
    "from copy import deepcopy\n",
    "\n",
    "hparams = {}\n",
    "########################################################################\n",
    "# TODO: Define your hyperparameters here!                             #\n",
    "########################################################################\n",
    "\n",
    "pass\n",
    "\n",
    "########################################################################\n",
    "#                           END OF YOUR CODE                           #\n",
    "########################################################################\n",
    "\n",
    "encoder_pretrained_copy = deepcopy(encoder_pretrained)\n",
    "classifier_pretrained = Classifier(hparams, encoder_pretrained_copy).to(device)"
   ]
  },
  {
   "attachments": {},
   "cell_type": "markdown",
   "metadata": {
    "id": "R8FUtih6MNks"
   },
   "source": [
    "Let's define another trainer that will utilize the pretrained classifier, allowing us to compare its performance with the classifier trained only on the labeled data. To achieve a reasonable result, you may need to optimize the parameters you defined earlier."
   ]
  },
  {
   "cell_type": "code",
   "execution_count": 225,
   "metadata": {
    "id": "Mx_euorWMNks"
   },
   "outputs": [
    {
     "name": "stderr",
     "output_type": "stream",
     "text": [
      "Training Epoch [1/20]:   0%|                                                  | 0/10 [00:00<?, ?it/s, curr_train_loss=2.26612878, val_loss=0.00000000]"
     ]
    },
    {
     "name": "stderr",
     "output_type": "stream",
     "text": [
      "Training Epoch [1/20]: 100%|█████████████████████████████████████████| 10/10 [00:01<00:00,  9.03it/s, curr_train_loss=2.29136449, val_loss=0.00000000]\n",
      "Validation Epoch [1/20]: 100%|███████████████████████████████████████████████████████████████████| 10/10 [00:01<00:00,  9.20it/s, val_loss=2.22647643]\n",
      "Training Epoch [2/20]: 100%|█████████████████████████████████████████| 10/10 [00:01<00:00,  8.86it/s, curr_train_loss=1.99714109, val_loss=2.22647643]\n",
      "Validation Epoch [2/20]: 100%|███████████████████████████████████████████████████████████████████| 10/10 [00:01<00:00,  9.08it/s, val_loss=2.10592587]\n",
      "Training Epoch [3/20]: 100%|█████████████████████████████████████████| 10/10 [00:01<00:00,  8.66it/s, curr_train_loss=1.84658579, val_loss=2.10592587]\n",
      "Validation Epoch [3/20]: 100%|███████████████████████████████████████████████████████████████████| 10/10 [00:01<00:00,  9.00it/s, val_loss=2.04312692]\n",
      "Training Epoch [4/20]: 100%|█████████████████████████████████████████| 10/10 [00:01<00:00,  8.64it/s, curr_train_loss=1.76289135, val_loss=2.04312692]\n",
      "Validation Epoch [4/20]: 100%|███████████████████████████████████████████████████████████████████| 10/10 [00:01<00:00,  9.09it/s, val_loss=1.95570903]\n",
      "Training Epoch [5/20]: 100%|█████████████████████████████████████████| 10/10 [00:01<00:00,  8.70it/s, curr_train_loss=1.54824547, val_loss=1.95570903]\n",
      "Validation Epoch [5/20]: 100%|███████████████████████████████████████████████████████████████████| 10/10 [00:01<00:00,  9.13it/s, val_loss=1.88448170]\n",
      "Training Epoch [6/20]: 100%|█████████████████████████████████████████| 10/10 [00:01<00:00,  8.67it/s, curr_train_loss=1.58685738, val_loss=1.88448170]\n",
      "Validation Epoch [6/20]: 100%|███████████████████████████████████████████████████████████████████| 10/10 [00:01<00:00,  8.60it/s, val_loss=1.79967352]\n",
      "Training Epoch [7/20]: 100%|█████████████████████████████████████████| 10/10 [00:01<00:00,  8.54it/s, curr_train_loss=1.34599950, val_loss=1.79967352]\n",
      "Validation Epoch [7/20]: 100%|███████████████████████████████████████████████████████████████████| 10/10 [00:01<00:00,  9.13it/s, val_loss=1.76662877]\n",
      "Training Epoch [8/20]: 100%|█████████████████████████████████████████| 10/10 [00:01<00:00,  8.75it/s, curr_train_loss=1.39805305, val_loss=1.76662877]\n",
      "Validation Epoch [8/20]: 100%|███████████████████████████████████████████████████████████████████| 10/10 [00:01<00:00,  9.06it/s, val_loss=1.67087786]\n",
      "Training Epoch [9/20]: 100%|█████████████████████████████████████████| 10/10 [00:01<00:00,  8.71it/s, curr_train_loss=1.35055469, val_loss=1.67087786]\n",
      "Validation Epoch [9/20]: 100%|███████████████████████████████████████████████████████████████████| 10/10 [00:01<00:00,  9.03it/s, val_loss=1.68882718]\n",
      "Training Epoch [10/20]: 100%|████████████████████████████████████████| 10/10 [00:01<00:00,  8.72it/s, curr_train_loss=1.32000535, val_loss=1.68882718]\n",
      "Validation Epoch [10/20]: 100%|██████████████████████████████████████████████████████████████████| 10/10 [00:01<00:00,  9.14it/s, val_loss=1.58173686]\n",
      "Training Epoch [11/20]: 100%|████████████████████████████████████████| 10/10 [00:01<00:00,  9.11it/s, curr_train_loss=1.30776280, val_loss=1.58173686]\n",
      "Validation Epoch [11/20]: 100%|██████████████████████████████████████████████████████████████████| 10/10 [00:01<00:00,  9.13it/s, val_loss=1.59045165]\n",
      "Training Epoch [12/20]: 100%|████████████████████████████████████████| 10/10 [00:01<00:00,  8.90it/s, curr_train_loss=1.26616573, val_loss=1.59045165]\n",
      "Validation Epoch [12/20]: 100%|██████████████████████████████████████████████████████████████████| 10/10 [00:01<00:00,  9.03it/s, val_loss=1.51815270]\n",
      "Training Epoch [13/20]: 100%|████████████████████████████████████████| 10/10 [00:01<00:00,  8.58it/s, curr_train_loss=1.09384826, val_loss=1.51815270]\n",
      "Validation Epoch [13/20]: 100%|██████████████████████████████████████████████████████████████████| 10/10 [00:01<00:00,  9.02it/s, val_loss=1.46846690]\n",
      "Training Epoch [14/20]: 100%|████████████████████████████████████████| 10/10 [00:01<00:00,  9.12it/s, curr_train_loss=1.11938311, val_loss=1.46846690]\n",
      "Validation Epoch [14/20]: 100%|██████████████████████████████████████████████████████████████████| 10/10 [00:01<00:00,  9.20it/s, val_loss=1.41556895]\n",
      "Training Epoch [15/20]: 100%|████████████████████████████████████████| 10/10 [00:01<00:00,  9.10it/s, curr_train_loss=1.00281783, val_loss=1.41556895]\n",
      "Validation Epoch [15/20]: 100%|██████████████████████████████████████████████████████████████████| 10/10 [00:01<00:00,  9.15it/s, val_loss=1.40295216]\n",
      "Training Epoch [16/20]: 100%|████████████████████████████████████████| 10/10 [00:01<00:00,  8.96it/s, curr_train_loss=0.92348035, val_loss=1.40295216]\n",
      "Validation Epoch [16/20]: 100%|██████████████████████████████████████████████████████████████████| 10/10 [00:01<00:00,  9.25it/s, val_loss=1.34075881]\n",
      "Training Epoch [17/20]: 100%|████████████████████████████████████████| 10/10 [00:01<00:00,  9.02it/s, curr_train_loss=1.02931753, val_loss=1.34075881]\n",
      "Validation Epoch [17/20]: 100%|██████████████████████████████████████████████████████████████████| 10/10 [00:01<00:00,  9.21it/s, val_loss=1.33778311]\n",
      "Training Epoch [18/20]: 100%|████████████████████████████████████████| 10/10 [00:01<00:00,  8.65it/s, curr_train_loss=1.03728191, val_loss=1.33778311]\n",
      "Validation Epoch [18/20]: 100%|██████████████████████████████████████████████████████████████████| 10/10 [00:01<00:00,  9.09it/s, val_loss=1.27354668]\n",
      "Training Epoch [19/20]: 100%|████████████████████████████████████████| 10/10 [00:01<00:00,  8.99it/s, curr_train_loss=0.94151928, val_loss=1.27354668]\n",
      "Validation Epoch [19/20]: 100%|██████████████████████████████████████████████████████████████████| 10/10 [00:01<00:00,  9.14it/s, val_loss=1.28311021]\n",
      "Training Epoch [20/20]: 100%|████████████████████████████████████████| 10/10 [00:01<00:00,  8.92it/s, curr_train_loss=0.94192600, val_loss=1.28311021]\n",
      "Validation Epoch [20/20]: 100%|██████████████████████████████████████████████████████████████████| 10/10 [00:01<00:00,  9.26it/s, val_loss=1.29389859]"
     ]
    },
    {
     "name": "stdout",
     "output_type": "stream",
     "text": [
      "Finished training!\n"
     ]
    },
    {
     "name": "stderr",
     "output_type": "stream",
     "text": [
      "\n"
     ]
    }
   ],
   "source": [
    "\n",
    "# Create a tensorboard logger.\n",
    "# NOTE: In order to see the logs, run the following command in the terminal: tensorboard --logdir=./\n",
    "# Also, in order to reset the logs, delete the logs folder MANUALLY.\n",
    "# Pay attention that if you run this cell mutltiple times, the pretrained_encoder\n",
    "# is not reset, and will keep training from where it stopped. Thus, it could overfit.\n",
    "\n",
    "path = os.path.join('logs', 'pretrained_cls_logs')\n",
    "num_of_runs = len(os.listdir(path)) if os.path.exists(path) else 0\n",
    "path = os.path.join(path, f'run_{num_of_runs + 1}')\n",
    "tb_logger = SummaryWriter(path)\n",
    "\n",
    "batch_size = hparams.get('batch_size', 10)\n",
    "labled_train_loader = torch.utils.data.DataLoader(train_100_dataset, batch_size=batch_size, shuffle=True)\n",
    "labled_val_loader = torch.utils.data.DataLoader(val_100_dataset, batch_size=batch_size, shuffle=False)\n",
    "\n",
    "epochs = hparams.get('epochs', 60)\n",
    "loss_func = nn.CrossEntropyLoss() # The loss function we use for classification.\n",
    "train_classifier(classifier_pretrained, labled_train_loader, labled_val_loader, loss_func, tb_logger, epochs=epochs, name='Pretrained')\n",
    "\n",
    "print(\"Finished training!\") "
   ]
  },
  {
   "cell_type": "code",
   "execution_count": null,
   "metadata": {},
   "outputs": [],
   "source": [
    "print(\"Finished training!\")\n",
    "print(\"How did we do? Let's check the accuracy of the defaut classifier on the training and validation sets:\")\n",
    "print(f\"Training Acc: {classifier.getAcc(labled_train_loader)[1] * 100}%\")\n",
    "print(f\"Validation Acc: {classifier.getAcc(labled_val_loader)[1] * 100}%\")"
   ]
  },
  {
   "attachments": {},
   "cell_type": "markdown",
   "metadata": {
    "id": "H-pm1MY_MNks"
   },
   "source": [
    "Let's have a look at the validation accuracy of the two different classifiers and compare them. And don't forget that you can also monitor your training in TensorBoard.\n",
    "\n",
    "We will only look at the test accuracy and compare our two classifiers with respect to that in the very end."
   ]
  },
  {
   "cell_type": "code",
   "execution_count": 219,
   "metadata": {
    "id": "-e5Bd9KLMNkt"
   },
   "outputs": [
    {
     "name": "stdout",
     "output_type": "stream",
     "text": [
      "Validation accuracy when training from scratch: \u001b[92m70.0\u001b[0m%\n",
      "Validation accuracy with pretraining: \u001b[92m72.0\u001b[0m%\n"
     ]
    }
   ],
   "source": [
    "val_acc_scracth = classifier.getAcc(labled_val_loader)[1]*100\n",
    "color = 'green' if val_acc_scracth > 55 else 'red'\n",
    "print(f\"Validation accuracy when training from scratch: {bcolors.colorize(color, val_acc_scracth)}%\")\n",
    "\n",
    "val_acc_pretrained = classifier_pretrained.getAcc(labled_val_loader)[1]*100\n",
    "color = 'green' if val_acc_pretrained > 55 else 'red'\n",
    "print(f\"Validation accuracy with pretraining: {bcolors.colorize(color, val_acc_pretrained)}%\")\n",
    "\n",
    "\n"
   ]
  },
  {
   "attachments": {},
   "cell_type": "markdown",
   "metadata": {
    "id": "zAp2OTyf4_5b"
   },
   "source": [
    "Now that everything is working, feel free to play around with different architectures. As you've seen, it's quite easy to define your model or do adpations there.\n",
    "\n",
    "To pass this submission, you will need to achieve an accuracy of **55%**."
   ]
  },
  {
   "attachments": {},
   "cell_type": "markdown",
   "metadata": {
    "id": "OmEYmRT-5S-e"
   },
   "source": [
    "# Save your model & Report Test Accuracy\n",
    "\n",
    "When you are finally done with your **hyperparameter tuning**, achieved **at least 55% validation accuracy** and are happy with your final model, you can save it here.\n",
    "\n",
    "Before that, please check again whether the number of parameters is below 5 Mio and the file size is below 20 MB.\n",
    "\n",
    "Once your final model is saved, we'll finally report the test accuracy."
   ]
  },
  {
   "cell_type": "code",
   "execution_count": 223,
   "metadata": {
    "id": "S69ETKxD5TcE"
   },
   "outputs": [
    {
     "name": "stdout",
     "output_type": "stream",
     "text": [
      "Test accuracy when training from scratch: \u001b[92m75.0\u001b[0m%\n",
      "Test accuracy with pretraining: \u001b[92m82.0\u001b[0m%\n",
      "Validation Accuracy: \u001b[92m74.0\u001b[0m%\n",
      "# Paramters: Your model has \u001b[92m0.111\u001b[0m mio. params.\n",
      "Size: Great! Your model size is \u001b[92m0.9\u001b[0m MB and is less than 20 MB.\n",
      "Your model has been saved and is ready to be submitted.\n"
     ]
    }
   ],
   "source": [
    "from exercise_code.Util import test_and_save\n",
    "test_dl = torch.utils.data.DataLoader(test_100_dataset, batch_size=4, shuffle=False)\n",
    "\n",
    "test_acc = classifier.getAcc(test_dl)[1]*100\n",
    "color = 'green' if test_acc > 55 else 'red'\n",
    "print(f\"Test accuracy when training from scratch: {bcolors.colorize(color, test_acc)}%\")\n",
    "\n",
    "test_acc = classifier_pretrained.getAcc(test_dl)[1]*100\n",
    "color = 'green' if test_acc > 55 else 'red'\n",
    "print(f\"Test accuracy with pretraining: {bcolors.colorize(color, test_acc)}%\")\n",
    "\n",
    "test_and_save(classifier_pretrained, labled_val_loader, test_dl)"
   ]
  },
  {
   "cell_type": "code",
   "execution_count": 461,
   "metadata": {
    "id": "enZCnGL6MNkt"
   },
   "outputs": [
    {
     "name": "stdout",
     "output_type": "stream",
     "text": [
      "relevant folders: ['exercise_code', 'models']\n",
      "notebooks files: ['1_Autoencoder.ipynb', 'Optional-BatchNormalization_Dropout.ipynb']\n",
      "Adding folder exercise_code\n",
      "Adding folder models\n",
      "Adding notebook 1_Autoencoder.ipynb\n",
      "Adding notebook Optional-BatchNormalization_Dropout.ipynb\n",
      "Zipping successful! Zip is stored under: /Users/anar/Desktop/TUM/i2dl/output/exercise_08.zip\n"
     ]
    }
   ],
   "source": [
    "# Now zip the folder for upload\n",
    "from exercise_code.submit import submit_exercise\n",
    "\n",
    "submit_exercise('../output/exercise_08')"
   ]
  },
  {
   "attachments": {},
   "cell_type": "markdown",
   "metadata": {
    "id": "7fuo3Tf9MNku",
    "pycharm": {
     "name": "#%% md\n"
    }
   },
   "source": [
    "Congratulations on completing your first autoencoder and successfully transferring the weights to a classifier! It's remarkable how much easier this process becomes with the power of PyTorch, compared to working with plain NumPy, right?\n",
    "\n",
    "To complete the exercise, please submit your final model to [our submission portal](https://i2dl.vc.in.tum.de/) - you should be already familiar with the submission procedure. Next, it is time to get started with some more complex neural networks and tasks in the upcoming exercises. See you next week!\n",
    "\n",
    "# Submission Goals\n",
    "\n",
    "- Goal: Successfully implement a fully connected autoencoder for MNIST with Pytorch and transfer the encoder weights to a classifier.\n",
    "\n",
    "- Passing Criteria: There are no unit tests that check specific components of your code. The only thing that's required to pass the submission, is your model to reach at least **55% accuracy** on __our__ test dataset. The submission system will show you a number between 0 and 100 which corresponds to your accuracy.\n",
    "\n",
    "\n",
    "- You can make **$\\infty$** submissions until the deadline. Your __best submission__ will be considered for the bonus."
   ]
  }
 ],
 "metadata": {
  "accelerator": "GPU",
  "colab": {
   "provenance": []
  },
  "kernelspec": {
   "display_name": "Python 3",
   "language": "python",
   "name": "python3"
  },
  "language_info": {
   "codemirror_mode": {
    "name": "ipython",
    "version": 3
   },
   "file_extension": ".py",
   "mimetype": "text/x-python",
   "name": "python",
   "nbconvert_exporter": "python",
   "pygments_lexer": "ipython3",
   "version": "3.10.13"
  },
  "vscode": {
   "interpreter": {
    "hash": "54970da6898dad277dbf355945c2dee7f942d2a31ec1fc1455b6d4f552d07b83"
   }
  }
 },
 "nbformat": 4,
 "nbformat_minor": 1
}
