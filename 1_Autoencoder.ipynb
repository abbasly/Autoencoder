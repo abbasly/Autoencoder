{
 "cells": [
  {
   "attachments": {},
   "cell_type": "markdown",
   "metadata": {
    "id": "9CALuVmNMNkM"
   },
   "source": [
    "# Autoencoder for MNIST\n",
    "\n",
    "Welcome to this notebook where you'll be training an autoencoder using the MNIST dataset, which comprises handwritten digits. This exercise is the last where we present you with a structured skeleton to work with. However, in following exercises, we will only provide you with the dataset, task, and a test scenario, enabling you to test your skills and compete with your peers on our leaderboards. Get ready to dive in and showcase your deep learning expertise!\n",
    "\n",
    "\n",
    "## Your task:\n",
    "\n",
    "Autoencoders have various applications, including unsupervised pretraining using unlabeled data, followed by fine-tuning the encoder with labeled data. This approach can greatly enhance performance when there is only a little amount of labeled data but a lot of unlabeled data available.\n",
    "\n",
    "In this exercise, you will use the MNIST dataset, consisting of 60,000 images of handwritten digits. However, not all the image labels are available to you. Your first objective is to train an autoencoder to accurately reproduce these unlabeled images.\n",
    "\n",
    "Afterwards, you will transfer the weights of the pretrained encoder and perform fine-tuning on a classifier using the available labeled data. This technique is commonly known as **transfer learning**, which allows you to leverage the knowledge gained from the autoencoder to improve the classification of the handwritten digits."
   ]
  },
  {
   "cell_type": "code",
   "execution_count": 1,
   "metadata": {
    "id": "XcU9f4APMNkT"
   },
   "outputs": [],
   "source": [
    "# For automatic file reloading as usual\n",
    "%load_ext autoreload\n",
    "%autoreload 2\n",
    "%matplotlib inline"
   ]
  },
  {
   "attachments": {},
   "cell_type": "markdown",
   "metadata": {
    "id": "Xb9dFU2EMNkW"
   },
   "source": [
    "## (Optional) Mount folder in Colab\n",
    "\n",
    "Uncomment the following cell to mount your gdrive if you are using the notebook in google colab:"
   ]
  },
  {
   "cell_type": "code",
   "execution_count": null,
   "metadata": {
    "id": "TRr4E4YVMNkW"
   },
   "outputs": [],
   "source": [
    "# Use the following lines if you want to use Google Colab\n",
    "# We presume you created a folder \"i2dl\" within your main drive folder, and put the exercise there.\n",
    "# NOTE: terminate all other colab sessions that use GPU!\n",
    "# NOTE 2: Make sure the correct exercise folder (e.g exercise_08) is given.\n",
    "\n",
    "# from google.colab import drive\n",
    "# import os\n",
    "\n",
    "\"\"\"\n",
    "from google.colab import drive\n",
    "import os\n",
    "gdrive_path='/content/gdrive/MyDrive/i2dl/exercise_08'\n",
    "\n",
    "# This will mount your google drive under 'MyDrive'\n",
    "drive.mount('/content/gdrive', force_remount=True)\n",
    "# In order to access the files in this notebook we have to navigate to the correct folder\n",
    "os.chdir(gdrive_path)\n",
    "# Check manually if all files are present\n",
    "\"\"\""
   ]
  },
  {
   "attachments": {},
   "cell_type": "markdown",
   "metadata": {
    "id": "JzDQg-kDMNkY"
   },
   "source": [
    "### Set up PyTorch environment in colab\n",
    "- (OPTIONAL) Enable GPU via Runtime --> Change runtime type --> GPU\n",
    "- Uncomment the following cell if you are using the notebook in google colab:"
   ]
  },
  {
   "cell_type": "code",
   "execution_count": null,
   "metadata": {
    "id": "pIUdsXeXMNkZ"
   },
   "outputs": [],
   "source": [
    "# Optional: install correct libraries in google colab\n",
    "# !python -m pip install torch==1.11.0+cu113 torchvision==0.12.0+cu113 torchtext==0.12.0+cu113 torchaudio==0.12.0+cu113 -f https://download.pytorch.org/whl/torch_stable.html\n",
    "# !python -m pip install tensorboard==2.8.0 > /dev/null\n",
    "# !python -m pip install pytorch-lightning==1.6.0"
   ]
  },
  {
   "attachments": {},
   "cell_type": "markdown",
   "metadata": {
    "id": "hEDWAZ7-ZA4E"
   },
   "source": [
    "# Imports"
   ]
  },
  {
   "cell_type": "code",
   "execution_count": 2,
   "metadata": {
    "id": "dJCiVLV5o9QO"
   },
   "outputs": [
    {
     "name": "stderr",
     "output_type": "stream",
     "text": [
      "/Users/anar/anaconda3/envs/i2dl/lib/python3.10/site-packages/tqdm/auto.py:21: TqdmWarning: IProgress not found. Please update jupyter and ipywidgets. See https://ipywidgets.readthedocs.io/en/stable/user_install.html\n",
      "  from .autonotebook import tqdm as notebook_tqdm\n"
     ]
    }
   ],
   "source": [
    "import numpy as np\n",
    "import matplotlib.pyplot as plt\n",
    "from pathlib import Path\n",
    "import os, sys\n",
    "import shutil\n",
    "import torch\n",
    "import torch.nn as nn\n",
    "from torchvision import transforms\n",
    "from exercise_code.image_folder_dataset import ImageFolderDataset\n",
    "from torch.utils.tensorboard import SummaryWriter\n",
    "from time import sleep\n",
    "from tqdm import tqdm\n",
    "from exercise_code.tests.base_tests import bcolors\n",
    "\n",
    "torch.manual_seed(42)\n",
    "\n",
    "os.environ['KMP_DUPLICATE_LIB_OK']='True' # To prevent the kernel from dying."
   ]
  },
  {
   "attachments": {},
   "cell_type": "markdown",
   "metadata": {
    "id": "dvaj6myXS7nN"
   },
   "source": [
    "<div class=\"alert alert-warning\">\n",
    "    <h3>Note: Google Colab</h3>\n",
    "    <p>\n",
    "In case you don't have a GPU, you can run this notebook on Google Colab where you can access a GPU for free, but, of course, you can also run this notebook on your CPU.\n",
    "         </p>\n",
    "</div>"
   ]
  },
  {
   "cell_type": "code",
   "execution_count": 3,
   "metadata": {
    "id": "VWgm75NnS9hr"
   },
   "outputs": [
    {
     "name": "stdout",
     "output_type": "stream",
     "text": [
      "You are using the following device:  cpu\n"
     ]
    }
   ],
   "source": [
    "device = torch.device(\"cuda\" if torch.cuda.is_available() else \"cpu\")\n",
    "print('You are using the following device: ', device)"
   ]
  },
  {
   "attachments": {},
   "cell_type": "markdown",
   "metadata": {
    "id": "Pm_rTAPnpsUo"
   },
   "source": [
    "## Setup TensorBoard\n",
    "\n",
    "In the previous exercise (Exercise 07), you learned how to use TensorBoard effectively. Let's use it again to enhance the convenience of debugging your network and the training process. Throughout this notebook, feel free to implement additional logs or visualizations into your TensorBoard, further improving your analysis and understanding of the network's behavior. "
   ]
  },
  {
   "cell_type": "code",
   "execution_count": null,
   "metadata": {
    "id": "QbAJFyHkMNke"
   },
   "outputs": [],
   "source": [
    "################# COLAB ONLY #################\n",
    "# %load_ext tensorboard\n",
    "# %tensorboard --logdir=./ --port 6006\n",
    "\n",
    "# Use the cmd for less trouble, if you can. From the working directory, run: tensorboard --logdir=./ --port 6006"
   ]
  },
  {
   "attachments": {},
   "cell_type": "markdown",
   "metadata": {
    "id": "t-Yt2KRiMNkf"
   },
   "source": [
    "# 1. The MNIST Dataset\n",
    "\n",
    "First, let's download the MNIST dataset. As mentioned at the beginning of this notebook, MNIST is a dataset of 60,000 images depicting handwritten digits. However, labeling such a large dataset can be a costly process, leaving us in a challenging situation.\n",
    "\n",
    "To overcome this, a practical approach is to label a small subset of the images. Let's consider a scenario where you have hired another student to perform the labeling task for you. After some time, you have been provided with 300 labeled images. Out of these, 100 images will be used for training, another 100 for validation, and the remaining 100 for testing. Undoubtedly, this poses a challenge due to the limited number of labeled samples.\n",
    "\n",
    "Now, you have the flexibility to define any transforms that you deem necessary, either at this point or at a later stage. However, it's important to note that during the final evaluation on the server, no transformations will be applied to the test set.\n",
    "\n",
    "Feel free to experiment with various transforms as you proceed (you can also pass without any transforms). \n",
    "\n",
    "\n",
    "**Note**: We do **not** apply any transformations or normalization to the test set at the time of final evaluation on our server."
   ]
  },
  {
   "cell_type": "code",
   "execution_count": 4,
   "metadata": {},
   "outputs": [],
   "source": [
    "from torchvision import transforms"
   ]
  },
  {
   "cell_type": "code",
   "execution_count": 5,
   "metadata": {
    "id": "U5_eopjbMNkf",
    "pycharm": {
     "name": "#%%\n"
    }
   },
   "outputs": [
    {
     "name": "stdout",
     "output_type": "stream",
     "text": [
      "Found dataset folder. Skipped downloading. If you face issues, please re-download the dataset using\n",
      "'--force_download=True'\n",
      "https://i2dl.vc.in.tum.de/static/data/mnist.zip\n",
      "Found dataset folder. Skipped downloading. If you face issues, please re-download the dataset using\n",
      "'--force_download=True'\n",
      "https://i2dl.vc.in.tum.de/static/data/mnist.zip\n",
      "Found dataset folder. Skipped downloading. If you face issues, please re-download the dataset using\n",
      "'--force_download=True'\n",
      "https://i2dl.vc.in.tum.de/static/data/mnist.zip\n",
      "Found dataset folder. Skipped downloading. If you face issues, please re-download the dataset using\n",
      "'--force_download=True'\n",
      "https://i2dl.vc.in.tum.de/static/data/mnist.zip\n",
      "Found dataset folder. Skipped downloading. If you face issues, please re-download the dataset using\n",
      "'--force_download=True'\n",
      "https://i2dl.vc.in.tum.de/static/data/mnist.zip\n"
     ]
    }
   ],
   "source": [
    "\n",
    "\n",
    "transform = transforms.Compose([\n",
    "    transforms.RandomRotation(degrees=10),  # Randomly rotate images by up to 10 degrees\n",
    "    # transforms.Normalize((0.5,), (0.5,)),            # Normalize the pixel values to the range [-1, 1]\n",
    "    # transforms.Lambda(lambda x: x * 2.0 - 1.0) \n",
    "\n",
    "])\n",
    "\n",
    "# data_transform = transforms.Compose([\n",
    "#     transforms.RandomRotation(10),   # Randomly rotate the image up to 10 degrees\n",
    "#     # transforms.RandomHorizontalFlip(),  # Randomly flip the image horizontally\n",
    "#     # transforms.ToTensor(),  # Convert PIL image to PyTorch tensor\n",
    "#     # transforms.Normalize((0.5,), (0.5,)),  # Normalize to the range [-1, 1]\n",
    "#     # transforms.Lambda(lambda x: x + 0.3 * torch.randn_like(x)),  # Add random noise (optional)\n",
    "# ])\n",
    "\n",
    "########################################################################\n",
    "# TODO: Feel free to define transforms (Only data augmentation)        #\n",
    "########################################################################\n",
    "\n",
    "\n",
    "# pass\n",
    "\n",
    "########################################################################\n",
    "#                           END OF YOUR CODE                           #\n",
    "########################################################################\n",
    "\n",
    "i2dl_exercises_path = os.path.dirname(os.path.abspath(os.getcwd()))\n",
    "mnist_root = os.path.join(i2dl_exercises_path, \"datasets\", \"mnist\")\n",
    "\n",
    "train_100_dataset = ImageFolderDataset(root=mnist_root,images='train_images.pt',labels='train_labels.pt',force_download=False,verbose=True,transform=transform)\n",
    "val_100_dataset = ImageFolderDataset(root=mnist_root,images='val_images.pt',labels='val_labels.pt',force_download=False,verbose=True,transform=transform)\n",
    "test_100_dataset = ImageFolderDataset(root=mnist_root,images='test_images.pt',labels='test_labels.pt',force_download=False,verbose=True,transform=transform)\n",
    "\n",
    "# We also set up the unlabeled images which we will use later\n",
    "unlabeled_train = ImageFolderDataset(root=mnist_root,images='unlabeled_train_images.pt',force_download=False,verbose=True,transform=transform)\n",
    "unlabeled_val = ImageFolderDataset(root=mnist_root,images='unlabeled_val_images.pt',force_download=False,verbose=True,transform=transform)\n",
    "\n"
   ]
  },
  {
   "attachments": {},
   "cell_type": "markdown",
   "metadata": {
    "id": "zwrT1ckAMNkg"
   },
   "source": [
    "The dataset consists of tuples of 28x28 pixel PIL images and a label that is an integer from 0 to 9. \n",
    "\n",
    "Let's turn a few of the images into numpy arrays, to look at their shape and visualize them and see if the labels we paid for are correct."
   ]
  },
  {
   "cell_type": "code",
   "execution_count": 6,
   "metadata": {
    "id": "k7ct1J2CMNkh"
   },
   "outputs": [
    {
     "name": "stdout",
     "output_type": "stream",
     "text": [
      "The shape of our greyscale images:  (28, 28)\n"
     ]
    },
    {
     "data": {
      "image/png": "[encoded data removed]",
      "text/plain": [
       "<Figure size 1600x1600 with 10 Axes>"
      ]
     },
     "metadata": {},
     "output_type": "display_data"
    }
   ],
   "source": [
    "plt.rcParams['figure.figsize'] = (16,16) # Make the figures a bit bigger\n",
    "\n",
    "indices_arr = [83, 98, 92, 99, 78, 97, 90, 95, 93, 96]\n",
    "for i, index in enumerate(indices_arr):\n",
    "    image = np.array(train_100_dataset[index][0].squeeze()) # get the image of the data sample\n",
    "    label = train_100_dataset[index][1] # get the label of the data sample\n",
    "    plt.subplot(1, 10, i + 1)\n",
    "    plt.imshow(image, cmap='gray', interpolation='none')\n",
    "    plt.title(\"Class {}\".format(label))\n",
    "    \n",
    "plt.tight_layout()\n",
    "print('The shape of our greyscale images: ', image.shape)"
   ]
  },
  {
   "attachments": {},
   "cell_type": "markdown",
   "metadata": {
    "id": "V9sz_lHyqJoj"
   },
   "source": [
    "<div class=\"alert alert-warning\">\n",
    "    <h3>Note: Starting Simple</h3>\n",
    "    <p>\n",
    "Regardless of the size of the dataset, the first step is to evaluate the performance of a simple classifier. It is advisable to always start with a straightforward approach when tackling a problem and gradually build upon it to determine which changes yield improvements.</p>\n",
    "</div>\n",
    "\n",
    "# 2. A Simple Classifier\n",
    "\n",
    "In `exercise_code/models.py`, we prepared all classes for you, which you will finalize throughout the notebook to build an Autoencoder and an image classifier with PyTorch.\n",
    "\n",
    "<!-- In case image does not show, uncomment the following:\n",
    " ![network_split](img/network_split.png) \n",
    " -->\n",
    "<img name=\"network_split\" src=\"https://drive.google.com/uc?id=1Eu6C7UrYeTy_lqOLcnStGVYTBL8gfNoz\">\n",
    "\n",
    "\n",
    "## 2.1 The Encoder\n",
    "\n",
    "Unlike previous models, we are going to split up the model into two parts: the `encoder` and the `classifier`. The `classifier` has a fixed task, generating predictions given a one-dimensional input. On the other hand, the `encoder`'s task is to extract meaningful information from the input, enabling the classifier to make accurate decisions. \n",
    "\n",
    "For now, both networks will be similar in design and consist of linear layers coupled with auxiliary layers. This split-up will be relevant later, e.g., by using convolutional layers, which are introduced in the lecture. We are going to set up the `encoder` now. \n",
    "\n",
    "Think about a good network architecture. You have complete freedom in this regard and can devise any network structure you think might be fitting. (\\*)\n",
    "\n",
    "Have a look at the documentation of `torch.nn` at https://pytorch.org/docs/stable/nn.html to learn how to use this module in order to build your network!\n",
    "\n",
    "Then implement your architecture: initialize it in `__init__()` and assign it to `self.model`. This is particularly easy using `nn.Sequential()`, where you only have to pass the list of your layers. \n",
    "\n",
    "To make your model customizable and support parameter search, do not use hardcoded hyperparameters - instead, pass them as a simple dictionary `hparams` (here, `n_hidden` is the number of neurons in the hidden layer) when initializing `models`.\n",
    "\n",
    "Here is a simple example:\n",
    "\n",
    "```python\n",
    "        self.model = nn.Sequential(\n",
    "            nn.Linear(input_size, self.hparams[\"n_hidden\"]),\n",
    "            nn.ReLU(),            \n",
    "            nn.Linear(self.hparams[\"n_hidden\"], num_classes)\n",
    "        )\n",
    "```\n",
    "\n",
    "Have a look at the forward path in `forward(self, x)`, which is so easy that you don't need to implement it yourself.\n",
    "\n",
    "As PyTorch automatically computes the gradients, that's all you need to do! There is no need to manually calculate derivatives for the backward paths anymore! :)\n",
    "\n",
    "\n",
    "____\n",
    "\\* *The size of your final model must be less than 20 MB, which is approximately equivalent to 5 Mio. params. Note that this limit is quite lenient, you will probably need much fewer parameters!*\n",
    "\n",
    "*In order to keep things simple, you should only use fully connected layers for this task, as we need to revert the encoder architecture later on in the notebook.*\n",
    "\n",
    "<div class=\"alert alert-info\">\n",
    "    <h3>Task: Implement</h3>\n",
    "    <p>Implement the <code>Encoder</code> class initialization in <code>exercise_code/models.py</code>.\n",
    "    </p>\n",
    "</div>\n",
    "\n",
    "\n"
   ]
  },
  {
   "attachments": {},
   "cell_type": "markdown",
   "metadata": {
    "id": "jNf7FrvwMNki"
   },
   "source": [
    "## 2.2 The Classifier\n",
    "\n",
    "Now let's implement the classifier. The classifier will utilize the encoder that you have defined in the above cell. By looking at `Classifier.forward`, you can see that we are essentially concatenating the `classifier`and the `encoder` together. Therefore, it is crucial to ensure that the input shape of the classifier matches the output shape of the encoder you implemented above\n",
    "\n",
    "<div class=\"alert alert-info\">\n",
    "    <h3>Task: Implement</h3>\n",
    "    <p>1. Implement the <code>Classifier</code> class network initialization in <code>exercise_code/models.py</code>.\n",
    "    </p>\n",
    "    <p>2. Define in the next cell your hyperparameters in a dictionary called 'hparams'.\n",
    "    </p>\n",
    "</div>"
   ]
  },
  {
   "cell_type": "code",
   "execution_count": 7,
   "metadata": {
    "id": "AawbvD1rMNkj"
   },
   "outputs": [],
   "source": [
    "hparams = {}\n",
    "########################################################################\n",
    "# TODO: Define your hyper parameters here!                             #\n",
    "########################################################################\n",
    "\n",
    "pass\n",
    "\n",
    "########################################################################\n",
    "#                           END OF YOUR CODE                           #\n",
    "########################################################################"
   ]
  },
  {
   "attachments": {},
   "cell_type": "markdown",
   "metadata": {
    "id": "bOYbUg8lAmgU"
   },
   "source": [
    "\n",
    "## 2.3 Optimizer\n",
    "Lastly, implement the function `set_optimizer` to define your optimizer. Here the documentation of `torch.optim` at https://pytorch.org/docs/stable/optim.html might be helpful.\n",
    "\n",
    "<div class=\"alert alert-info\">\n",
    "    <h3>Task: Implement</h3>\n",
    "    <p>Implement the <code>set_optimizer</code> method of the <code>Classifier</code> in <code>exercise_code/models.py</code>.\n",
    "    </p>\n",
    "</div>\n"
   ]
  },
  {
   "attachments": {},
   "cell_type": "markdown",
   "metadata": {
    "id": "xrUfa-a7MNkk"
   },
   "source": [
    "## 2.4 Training & Validation Step\n",
    "\n",
    "<div class=\"alert alert-success\">\n",
    "    <h3>Task: Check Code</h3>\n",
    "    <p> Let's take a closer look at the training pipeline outlined below. It is explicitly written here in its entirety to provide you with a comprehensive understanding of its structure. Additionally, you can refer back to this pipeline whenever you encounter any uncertainties or need guidance.\n",
    " </p>\n",
    "</div>\n"
   ]
  },
  {
   "cell_type": "code",
   "execution_count": 8,
   "metadata": {
    "id": "NY_lLaNWMNkk"
   },
   "outputs": [],
   "source": [
    " # One of the most crucial things in deep learning is to understand the training pipeline:\n",
    " # 1. Forward()          --> The forward pass of the network, to calculate the currnent loss.\n",
    " # 2. Backward()         --> The backward pass of the network, to calculate the gradients w.r.t the loss, calculated in the previous stage.\n",
    " # 3. Optimizer_step()   --> Update the weights w.r.t their corresponding gradients and the learnign rate.\n",
    "\n",
    "def create_tqdm_bar(iterable, desc):\n",
    "    return tqdm(enumerate(iterable),total=len(iterable), ncols=150, desc=desc)\n",
    "\n",
    "\n",
    "def train_classifier(classifier, train_loader, val_loader, loss_func, tb_logger, epochs=10, name=\"default\"):\n",
    "    \"\"\"\n",
    "    Train the classifier for a number of epochs.\n",
    "    \"\"\"\n",
    "    optimizer = classifier.optimizer\n",
    "    classifier = classifier.to(device)\n",
    "    validation_loss = 0\n",
    "    for epoch in range(epochs):\n",
    "        \n",
    "        training_loss = 0\n",
    "        \n",
    "        # Training stage, where we want to update the parameters.\n",
    "        classifier.train()  # Set the model to training mode\n",
    "        \n",
    "        # Create a progress bar for the training loop.\n",
    "        training_loop = create_tqdm_bar(train_loader, desc=f'Training Epoch [{epoch + 1}/{epochs}]')\n",
    "        for train_iteration, batch in training_loop:\n",
    "            optimizer.zero_grad() # Reset the gradients - VERY important! Otherwise they accumulate.\n",
    "            images, labels = batch # Get the images and labels from the batch, in the fashion we defined in the dataset and dataloader.\n",
    "            images, labels = images.to(device), labels.to(device) # Send the data to the device (GPU or CPU) - it has to be the same device as the model.\n",
    "\n",
    "            # Flatten the images to a vector. This is done because the classifier expects a vector as input.\n",
    "            # Could also be done by reshaping the images in the dataset.\n",
    "            images = images.view(images.shape[0], -1) \n",
    "\n",
    "            pred = classifier(images) # Stage 1: Forward().\n",
    "            loss = loss_func(pred, labels) # Compute the loss over the predictions and the ground truth.\n",
    "            loss.backward()  # Stage 2: Backward().\n",
    "            optimizer.step() # Stage 3: Update the parameters.\n",
    "\n",
    "            training_loss += loss.item()\n",
    "\n",
    "            # Update the progress bar.\n",
    "            training_loop.set_postfix(curr_train_loss = \"{:.8f}\".format(training_loss / (train_iteration + 1)), val_loss = \"{:.8f}\".format(validation_loss))\n",
    "\n",
    "            # Update the tensorboard logger.\n",
    "            tb_logger.add_scalar(f'classifier_{name}/train_loss', loss.item(), epoch * len(train_loader) + train_iteration)\n",
    "            sleep(0.1) # Remove this line if you want to see the progress bar faster.\n",
    "\n",
    "        # Validation stage, where we don't want to update the parameters. Pay attention to the classifier.eval() line\n",
    "        # and \"with torch.no_grad()\" wrapper.\n",
    "        classifier.eval()\n",
    "        val_loop = create_tqdm_bar(val_loader, desc=f'Validation Epoch [{epoch + 1}/{epochs}]')\n",
    "        validation_loss = 0\n",
    "        with torch.no_grad():\n",
    "            for val_iteration, batch in val_loop:\n",
    "                images, labels = batch\n",
    "                images, labels = images.to(device), labels.to(device)\n",
    "\n",
    "                images = images.view(images.shape[0], -1) \n",
    "                pred = classifier(images)\n",
    "                loss = loss_func(pred, labels)\n",
    "                validation_loss += loss.item()\n",
    "\n",
    "                # Update the progress bar.\n",
    "                val_loop.set_postfix(val_loss = \"{:.8f}\".format(validation_loss / (val_iteration + 1)))\n",
    "\n",
    "                # Update the tensorboard logger.\n",
    "                tb_logger.add_scalar(f'classifier_{name}/val_loss', loss.item(), epoch * len(val_loader) + val_iteration)\n",
    "                sleep(0.1) # Remove this line if you want to see the progress bar faster.\n",
    "        \n",
    "        # This value is used for the progress bar of the training loop.\n",
    "        validation_loss /= len(val_loader)\n",
    "            "
   ]
  },
  {
   "attachments": {},
   "cell_type": "markdown",
   "metadata": {
    "id": "KVKLlwlyMNkl"
   },
   "source": [
    "## 2.5 Fit Classification Model with Trainer\n",
    "Now it's finally time to train your model.\n",
    "Run the following cell to see the behold the magic of deep learning at play."
   ]
  },
  {
   "cell_type": "code",
   "execution_count": 9,
   "metadata": {
    "id": "uBGavq9cMNkl"
   },
   "outputs": [
    {
     "name": "stderr",
     "output_type": "stream",
     "text": [
      "Training Epoch [1/70]: 100%|███████████████████████████████████████████| 5/5 [00:00<00:00,  8.46it/s, curr_train_loss=2.32810111, val_loss=0.00000000]\n",
      "Validation Epoch [1/70]: 100%|█████████████████████████████████████████████████████████████████████| 5/5 [00:00<00:00,  9.25it/s, val_loss=2.29641857]\n",
      "Training Epoch [2/70]: 100%|███████████████████████████████████████████| 5/5 [00:00<00:00,  8.72it/s, curr_train_loss=1.87043259, val_loss=2.29641857]\n",
      "Validation Epoch [2/70]: 100%|█████████████████████████████████████████████████████████████████████| 5/5 [00:00<00:00,  8.98it/s, val_loss=2.26005220]\n",
      "Training Epoch [3/70]: 100%|███████████████████████████████████████████| 5/5 [00:00<00:00,  8.64it/s, curr_train_loss=1.60810213, val_loss=2.26005220]\n",
      "Validation Epoch [3/70]: 100%|█████████████████████████████████████████████████████████████████████| 5/5 [00:00<00:00,  8.76it/s, val_loss=2.16753187]\n",
      "Training Epoch [4/70]: 100%|███████████████████████████████████████████| 5/5 [00:00<00:00,  8.51it/s, curr_train_loss=1.32889633, val_loss=2.16753187]\n",
      "Validation Epoch [4/70]: 100%|█████████████████████████████████████████████████████████████████████| 5/5 [00:00<00:00,  8.93it/s, val_loss=1.99677806]\n",
      "Training Epoch [5/70]: 100%|███████████████████████████████████████████| 5/5 [00:00<00:00,  8.38it/s, curr_train_loss=1.15770218, val_loss=1.99677806]\n",
      "Validation Epoch [5/70]: 100%|█████████████████████████████████████████████████████████████████████| 5/5 [00:00<00:00,  8.78it/s, val_loss=1.82272775]\n",
      "Training Epoch [6/70]: 100%|███████████████████████████████████████████| 5/5 [00:00<00:00,  8.56it/s, curr_train_loss=0.93777947, val_loss=1.82272775]\n",
      "Validation Epoch [6/70]: 100%|█████████████████████████████████████████████████████████████████████| 5/5 [00:00<00:00,  8.89it/s, val_loss=1.63656614]\n",
      "Training Epoch [7/70]: 100%|███████████████████████████████████████████| 5/5 [00:00<00:00,  8.89it/s, curr_train_loss=0.79100536, val_loss=1.63656614]\n",
      "Validation Epoch [7/70]: 100%|█████████████████████████████████████████████████████████████████████| 5/5 [00:00<00:00,  9.21it/s, val_loss=1.51025794]\n",
      "Training Epoch [8/70]: 100%|███████████████████████████████████████████| 5/5 [00:00<00:00,  8.29it/s, curr_train_loss=0.68185396, val_loss=1.51025794]\n",
      "Validation Epoch [8/70]: 100%|█████████████████████████████████████████████████████████████████████| 5/5 [00:00<00:00,  8.98it/s, val_loss=1.36336974]\n",
      "Training Epoch [9/70]: 100%|███████████████████████████████████████████| 5/5 [00:00<00:00,  8.38it/s, curr_train_loss=0.64625961, val_loss=1.36336974]\n",
      "Validation Epoch [9/70]: 100%|█████████████████████████████████████████████████████████████████████| 5/5 [00:00<00:00,  8.69it/s, val_loss=1.29693906]\n",
      "Training Epoch [10/70]: 100%|██████████████████████████████████████████| 5/5 [00:00<00:00,  8.36it/s, curr_train_loss=0.59142826, val_loss=1.29693906]\n",
      "Validation Epoch [10/70]: 100%|████████████████████████████████████████████████████████████████████| 5/5 [00:00<00:00,  8.60it/s, val_loss=1.25115153]\n",
      "Training Epoch [11/70]: 100%|██████████████████████████████████████████| 5/5 [00:00<00:00,  8.30it/s, curr_train_loss=0.42376402, val_loss=1.25115153]\n",
      "Validation Epoch [11/70]: 100%|████████████████████████████████████████████████████████████████████| 5/5 [00:00<00:00,  8.71it/s, val_loss=1.22945384]\n",
      "Training Epoch [12/70]: 100%|██████████████████████████████████████████| 5/5 [00:00<00:00,  8.25it/s, curr_train_loss=0.36140564, val_loss=1.22945384]\n",
      "Validation Epoch [12/70]: 100%|████████████████████████████████████████████████████████████████████| 5/5 [00:00<00:00,  8.67it/s, val_loss=1.20212846]\n",
      "Training Epoch [13/70]: 100%|██████████████████████████████████████████| 5/5 [00:00<00:00,  8.01it/s, curr_train_loss=0.35510678, val_loss=1.20212846]\n",
      "Validation Epoch [13/70]: 100%|████████████████████████████████████████████████████████████████████| 5/5 [00:00<00:00,  8.51it/s, val_loss=1.19351599]\n",
      "Training Epoch [14/70]: 100%|██████████████████████████████████████████| 5/5 [00:00<00:00,  8.40it/s, curr_train_loss=0.29014919, val_loss=1.19351599]\n",
      "Validation Epoch [14/70]: 100%|████████████████████████████████████████████████████████████████████| 5/5 [00:00<00:00,  8.72it/s, val_loss=1.23701279]\n",
      "Training Epoch [15/70]: 100%|██████████████████████████████████████████| 5/5 [00:00<00:00,  8.19it/s, curr_train_loss=0.29157966, val_loss=1.23701279]\n",
      "Validation Epoch [15/70]: 100%|████████████████████████████████████████████████████████████████████| 5/5 [00:00<00:00,  8.55it/s, val_loss=1.18076882]\n",
      "Training Epoch [16/70]: 100%|██████████████████████████████████████████| 5/5 [00:00<00:00,  8.10it/s, curr_train_loss=0.28582398, val_loss=1.18076882]\n",
      "Validation Epoch [16/70]: 100%|████████████████████████████████████████████████████████████████████| 5/5 [00:00<00:00,  8.57it/s, val_loss=1.16123000]\n",
      "Training Epoch [17/70]: 100%|██████████████████████████████████████████| 5/5 [00:00<00:00,  8.15it/s, curr_train_loss=0.24945207, val_loss=1.16123000]\n",
      "Validation Epoch [17/70]: 100%|████████████████████████████████████████████████████████████████████| 5/5 [00:00<00:00,  8.62it/s, val_loss=1.05273242]\n",
      "Training Epoch [18/70]: 100%|██████████████████████████████████████████| 5/5 [00:00<00:00,  8.08it/s, curr_train_loss=0.23030503, val_loss=1.05273242]\n",
      "Validation Epoch [18/70]: 100%|████████████████████████████████████████████████████████████████████| 5/5 [00:00<00:00,  8.60it/s, val_loss=1.05646163]\n",
      "Training Epoch [19/70]: 100%|██████████████████████████████████████████| 5/5 [00:00<00:00,  8.34it/s, curr_train_loss=0.18033596, val_loss=1.05646163]\n",
      "Validation Epoch [19/70]: 100%|████████████████████████████████████████████████████████████████████| 5/5 [00:00<00:00,  8.69it/s, val_loss=1.05607265]\n",
      "Training Epoch [20/70]: 100%|██████████████████████████████████████████| 5/5 [00:00<00:00,  8.32it/s, curr_train_loss=0.19099209, val_loss=1.05607265]\n",
      "Validation Epoch [20/70]: 100%|████████████████████████████████████████████████████████████████████| 5/5 [00:00<00:00,  8.54it/s, val_loss=1.04809695]\n",
      "Training Epoch [21/70]: 100%|██████████████████████████████████████████| 5/5 [00:00<00:00,  8.15it/s, curr_train_loss=0.18634686, val_loss=1.04809695]\n",
      "Validation Epoch [21/70]: 100%|████████████████████████████████████████████████████████████████████| 5/5 [00:00<00:00,  8.57it/s, val_loss=1.01297410]\n",
      "Training Epoch [22/70]: 100%|██████████████████████████████████████████| 5/5 [00:00<00:00,  8.07it/s, curr_train_loss=0.12444166, val_loss=1.01297410]\n",
      "Validation Epoch [22/70]: 100%|████████████████████████████████████████████████████████████████████| 5/5 [00:00<00:00,  8.67it/s, val_loss=0.97743040]\n",
      "Training Epoch [23/70]: 100%|██████████████████████████████████████████| 5/5 [00:00<00:00,  8.61it/s, curr_train_loss=0.15849375, val_loss=0.97743040]\n",
      "Validation Epoch [23/70]: 100%|████████████████████████████████████████████████████████████████████| 5/5 [00:00<00:00,  8.61it/s, val_loss=0.92988118]\n",
      "Training Epoch [24/70]: 100%|██████████████████████████████████████████| 5/5 [00:00<00:00,  8.16it/s, curr_train_loss=0.11911643, val_loss=0.92988118]\n",
      "Validation Epoch [24/70]: 100%|████████████████████████████████████████████████████████████████████| 5/5 [00:00<00:00,  8.81it/s, val_loss=0.92164855]\n",
      "Training Epoch [25/70]: 100%|██████████████████████████████████████████| 5/5 [00:00<00:00,  8.20it/s, curr_train_loss=0.08895114, val_loss=0.92164855]\n",
      "Validation Epoch [25/70]: 100%|████████████████████████████████████████████████████████████████████| 5/5 [00:00<00:00,  8.55it/s, val_loss=0.92246350]\n",
      "Training Epoch [26/70]: 100%|██████████████████████████████████████████| 5/5 [00:00<00:00,  8.22it/s, curr_train_loss=0.11309194, val_loss=0.92246350]\n",
      "Validation Epoch [26/70]: 100%|████████████████████████████████████████████████████████████████████| 5/5 [00:00<00:00,  8.52it/s, val_loss=0.88997390]\n",
      "Training Epoch [27/70]: 100%|██████████████████████████████████████████| 5/5 [00:00<00:00,  8.08it/s, curr_train_loss=0.08956380, val_loss=0.88997390]\n",
      "Validation Epoch [27/70]: 100%|████████████████████████████████████████████████████████████████████| 5/5 [00:00<00:00,  8.89it/s, val_loss=0.90819426]\n",
      "Training Epoch [28/70]: 100%|██████████████████████████████████████████| 5/5 [00:00<00:00,  8.20it/s, curr_train_loss=0.09234692, val_loss=0.90819426]\n",
      "Validation Epoch [28/70]: 100%|████████████████████████████████████████████████████████████████████| 5/5 [00:00<00:00,  8.55it/s, val_loss=0.94066384]\n",
      "Training Epoch [29/70]: 100%|██████████████████████████████████████████| 5/5 [00:00<00:00,  8.23it/s, curr_train_loss=0.09070302, val_loss=0.94066384]\n",
      "Validation Epoch [29/70]: 100%|████████████████████████████████████████████████████████████████████| 5/5 [00:00<00:00,  8.91it/s, val_loss=0.95786314]\n",
      "Training Epoch [30/70]: 100%|██████████████████████████████████████████| 5/5 [00:00<00:00,  8.04it/s, curr_train_loss=0.13044712, val_loss=0.95786314]\n",
      "Validation Epoch [30/70]: 100%|████████████████████████████████████████████████████████████████████| 5/5 [00:00<00:00,  8.65it/s, val_loss=0.88403634]\n",
      "Training Epoch [31/70]: 100%|██████████████████████████████████████████| 5/5 [00:00<00:00,  8.80it/s, curr_train_loss=0.08843597, val_loss=0.88403634]\n",
      "Validation Epoch [31/70]: 100%|████████████████████████████████████████████████████████████████████| 5/5 [00:00<00:00,  9.05it/s, val_loss=0.89511017]\n",
      "Training Epoch [32/70]: 100%|██████████████████████████████████████████| 5/5 [00:00<00:00,  8.29it/s, curr_train_loss=0.08595869, val_loss=0.89511017]\n",
      "Validation Epoch [32/70]: 100%|████████████████████████████████████████████████████████████████████| 5/5 [00:00<00:00,  8.72it/s, val_loss=0.86539164]\n",
      "Training Epoch [33/70]: 100%|██████████████████████████████████████████| 5/5 [00:00<00:00,  8.64it/s, curr_train_loss=0.13029930, val_loss=0.86539164]\n",
      "Validation Epoch [33/70]: 100%|████████████████████████████████████████████████████████████████████| 5/5 [00:00<00:00,  9.17it/s, val_loss=0.94749681]\n",
      "Training Epoch [34/70]: 100%|██████████████████████████████████████████| 5/5 [00:00<00:00,  8.95it/s, curr_train_loss=0.10086714, val_loss=0.94749681]\n",
      "Validation Epoch [34/70]: 100%|████████████████████████████████████████████████████████████████████| 5/5 [00:00<00:00,  8.93it/s, val_loss=0.83428189]\n",
      "Training Epoch [35/70]: 100%|██████████████████████████████████████████| 5/5 [00:00<00:00,  8.22it/s, curr_train_loss=0.09223235, val_loss=0.83428189]\n",
      "Validation Epoch [35/70]: 100%|████████████████████████████████████████████████████████████████████| 5/5 [00:00<00:00,  9.04it/s, val_loss=0.84728627]\n",
      "Training Epoch [36/70]: 100%|██████████████████████████████████████████| 5/5 [00:00<00:00,  8.89it/s, curr_train_loss=0.12483956, val_loss=0.84728627]\n",
      "Validation Epoch [36/70]: 100%|████████████████████████████████████████████████████████████████████| 5/5 [00:00<00:00,  8.86it/s, val_loss=0.86884876]\n",
      "Training Epoch [37/70]: 100%|██████████████████████████████████████████| 5/5 [00:00<00:00,  8.66it/s, curr_train_loss=0.08934697, val_loss=0.86884876]\n",
      "Validation Epoch [37/70]: 100%|████████████████████████████████████████████████████████████████████| 5/5 [00:00<00:00,  9.20it/s, val_loss=0.87528991]\n",
      "Training Epoch [38/70]: 100%|██████████████████████████████████████████| 5/5 [00:00<00:00,  8.56it/s, curr_train_loss=0.07631865, val_loss=0.87528991]\n",
      "Validation Epoch [38/70]: 100%|████████████████████████████████████████████████████████████████████| 5/5 [00:00<00:00,  8.74it/s, val_loss=0.94440743]\n",
      "Training Epoch [39/70]: 100%|██████████████████████████████████████████| 5/5 [00:00<00:00,  8.82it/s, curr_train_loss=0.06533278, val_loss=0.94440743]\n",
      "Validation Epoch [39/70]: 100%|████████████████████████████████████████████████████████████████████| 5/5 [00:00<00:00,  9.20it/s, val_loss=0.97915041]\n",
      "Training Epoch [40/70]: 100%|██████████████████████████████████████████| 5/5 [00:00<00:00,  8.75it/s, curr_train_loss=0.04337624, val_loss=0.97915041]\n",
      "Validation Epoch [40/70]: 100%|████████████████████████████████████████████████████████████████████| 5/5 [00:00<00:00,  8.63it/s, val_loss=0.86671709]\n",
      "Training Epoch [41/70]: 100%|██████████████████████████████████████████| 5/5 [00:00<00:00,  8.58it/s, curr_train_loss=0.04752647, val_loss=0.86671709]\n",
      "Validation Epoch [41/70]: 100%|████████████████████████████████████████████████████████████████████| 5/5 [00:00<00:00,  9.15it/s, val_loss=0.80166739]\n",
      "Training Epoch [42/70]: 100%|██████████████████████████████████████████| 5/5 [00:00<00:00,  8.81it/s, curr_train_loss=0.05144415, val_loss=0.80166739]\n",
      "Validation Epoch [42/70]: 100%|████████████████████████████████████████████████████████████████████| 5/5 [00:00<00:00,  9.19it/s, val_loss=0.81256443]\n",
      "Training Epoch [43/70]: 100%|██████████████████████████████████████████| 5/5 [00:00<00:00,  8.60it/s, curr_train_loss=0.04405218, val_loss=0.81256443]\n",
      "Validation Epoch [43/70]: 100%|████████████████████████████████████████████████████████████████████| 5/5 [00:00<00:00,  8.75it/s, val_loss=0.81295075]\n",
      "Training Epoch [44/70]: 100%|██████████████████████████████████████████| 5/5 [00:00<00:00,  8.70it/s, curr_train_loss=0.04702973, val_loss=0.81295075]\n",
      "Validation Epoch [44/70]: 100%|████████████████████████████████████████████████████████████████████| 5/5 [00:00<00:00,  9.15it/s, val_loss=0.75633969]\n",
      "Training Epoch [45/70]: 100%|██████████████████████████████████████████| 5/5 [00:00<00:00,  8.88it/s, curr_train_loss=0.06313268, val_loss=0.75633969]\n",
      "Validation Epoch [45/70]: 100%|████████████████████████████████████████████████████████████████████| 5/5 [00:00<00:00,  9.03it/s, val_loss=0.80171798]\n",
      "Training Epoch [46/70]: 100%|██████████████████████████████████████████| 5/5 [00:00<00:00,  8.16it/s, curr_train_loss=0.03903776, val_loss=0.80171798]\n",
      "Validation Epoch [46/70]: 100%|████████████████████████████████████████████████████████████████████| 5/5 [00:00<00:00,  8.97it/s, val_loss=0.86521162]\n",
      "Training Epoch [47/70]: 100%|██████████████████████████████████████████| 5/5 [00:00<00:00,  8.84it/s, curr_train_loss=0.03431956, val_loss=0.86521162]\n",
      "Validation Epoch [47/70]: 100%|████████████████████████████████████████████████████████████████████| 5/5 [00:00<00:00,  8.99it/s, val_loss=0.77849568]\n",
      "Training Epoch [48/70]: 100%|██████████████████████████████████████████| 5/5 [00:00<00:00,  8.31it/s, curr_train_loss=0.03094778, val_loss=0.77849568]\n",
      "Validation Epoch [48/70]: 100%|████████████████████████████████████████████████████████████████████| 5/5 [00:00<00:00,  8.80it/s, val_loss=0.79839839]\n",
      "Training Epoch [49/70]: 100%|██████████████████████████████████████████| 5/5 [00:00<00:00,  8.77it/s, curr_train_loss=0.02298291, val_loss=0.79839839]\n",
      "Validation Epoch [49/70]: 100%|████████████████████████████████████████████████████████████████████| 5/5 [00:00<00:00,  9.10it/s, val_loss=0.83075833]\n",
      "Training Epoch [50/70]: 100%|██████████████████████████████████████████| 5/5 [00:00<00:00,  8.64it/s, curr_train_loss=0.04009329, val_loss=0.83075833]\n",
      "Validation Epoch [50/70]: 100%|████████████████████████████████████████████████████████████████████| 5/5 [00:00<00:00,  8.64it/s, val_loss=0.81704032]\n",
      "Training Epoch [51/70]: 100%|██████████████████████████████████████████| 5/5 [00:00<00:00,  8.24it/s, curr_train_loss=0.03145236, val_loss=0.81704032]\n",
      "Validation Epoch [51/70]: 100%|████████████████████████████████████████████████████████████████████| 5/5 [00:00<00:00,  8.84it/s, val_loss=0.83260854]\n",
      "Training Epoch [52/70]: 100%|██████████████████████████████████████████| 5/5 [00:00<00:00,  8.47it/s, curr_train_loss=0.03308051, val_loss=0.83260854]\n",
      "Validation Epoch [52/70]: 100%|████████████████████████████████████████████████████████████████████| 5/5 [00:00<00:00,  8.76it/s, val_loss=0.75340180]\n",
      "Training Epoch [53/70]: 100%|██████████████████████████████████████████| 5/5 [00:00<00:00,  8.43it/s, curr_train_loss=0.02938291, val_loss=0.75340180]\n",
      "Validation Epoch [53/70]: 100%|████████████████████████████████████████████████████████████████████| 5/5 [00:00<00:00,  9.00it/s, val_loss=0.82664056]\n",
      "Training Epoch [54/70]: 100%|██████████████████████████████████████████| 5/5 [00:00<00:00,  8.54it/s, curr_train_loss=0.03221371, val_loss=0.82664056]\n",
      "Validation Epoch [54/70]: 100%|████████████████████████████████████████████████████████████████████| 5/5 [00:00<00:00,  8.94it/s, val_loss=0.82788088]\n",
      "Training Epoch [55/70]: 100%|██████████████████████████████████████████| 5/5 [00:00<00:00,  8.04it/s, curr_train_loss=0.02698925, val_loss=0.82788088]\n",
      "Validation Epoch [55/70]: 100%|████████████████████████████████████████████████████████████████████| 5/5 [00:00<00:00,  9.16it/s, val_loss=0.89297081]\n",
      "Training Epoch [56/70]: 100%|██████████████████████████████████████████| 5/5 [00:00<00:00,  8.85it/s, curr_train_loss=0.02875461, val_loss=0.89297081]\n",
      "Validation Epoch [56/70]: 100%|████████████████████████████████████████████████████████████████████| 5/5 [00:00<00:00,  8.93it/s, val_loss=0.82985379]\n",
      "Training Epoch [57/70]: 100%|██████████████████████████████████████████| 5/5 [00:00<00:00,  8.68it/s, curr_train_loss=0.01747206, val_loss=0.82985379]\n",
      "Validation Epoch [57/70]: 100%|████████████████████████████████████████████████████████████████████| 5/5 [00:00<00:00,  9.19it/s, val_loss=0.85209467]\n",
      "Training Epoch [58/70]: 100%|██████████████████████████████████████████| 5/5 [00:00<00:00,  8.69it/s, curr_train_loss=0.03095284, val_loss=0.85209467]\n",
      "Validation Epoch [58/70]: 100%|████████████████████████████████████████████████████████████████████| 5/5 [00:00<00:00,  8.86it/s, val_loss=0.85798801]\n",
      "Training Epoch [59/70]: 100%|██████████████████████████████████████████| 5/5 [00:00<00:00,  8.77it/s, curr_train_loss=0.03021534, val_loss=0.85798801]\n",
      "Validation Epoch [59/70]: 100%|████████████████████████████████████████████████████████████████████| 5/5 [00:00<00:00,  9.12it/s, val_loss=0.85968398]\n",
      "Training Epoch [60/70]: 100%|██████████████████████████████████████████| 5/5 [00:00<00:00,  8.17it/s, curr_train_loss=0.01639215, val_loss=0.85968398]\n",
      "Validation Epoch [60/70]: 100%|████████████████████████████████████████████████████████████████████| 5/5 [00:00<00:00,  9.12it/s, val_loss=0.87401815]\n",
      "Training Epoch [61/70]: 100%|██████████████████████████████████████████| 5/5 [00:00<00:00,  8.91it/s, curr_train_loss=0.02584731, val_loss=0.87401815]\n",
      "Validation Epoch [61/70]: 100%|████████████████████████████████████████████████████████████████████| 5/5 [00:00<00:00,  9.20it/s, val_loss=0.86525637]\n",
      "Training Epoch [62/70]: 100%|██████████████████████████████████████████| 5/5 [00:00<00:00,  8.69it/s, curr_train_loss=0.04594193, val_loss=0.86525637]\n",
      "Validation Epoch [62/70]: 100%|████████████████████████████████████████████████████████████████████| 5/5 [00:00<00:00,  9.05it/s, val_loss=0.86232807]\n",
      "Training Epoch [63/70]: 100%|██████████████████████████████████████████| 5/5 [00:00<00:00,  8.82it/s, curr_train_loss=0.04621401, val_loss=0.86232807]\n",
      "Validation Epoch [63/70]: 100%|████████████████████████████████████████████████████████████████████| 5/5 [00:00<00:00,  9.12it/s, val_loss=0.97332475]\n",
      "Training Epoch [64/70]: 100%|██████████████████████████████████████████| 5/5 [00:00<00:00,  8.82it/s, curr_train_loss=0.03738051, val_loss=0.97332475]\n",
      "Validation Epoch [64/70]: 100%|████████████████████████████████████████████████████████████████████| 5/5 [00:00<00:00,  8.93it/s, val_loss=0.95294544]\n",
      "Training Epoch [65/70]: 100%|██████████████████████████████████████████| 5/5 [00:00<00:00,  8.85it/s, curr_train_loss=0.06249306, val_loss=0.95294544]\n",
      "Validation Epoch [65/70]: 100%|████████████████████████████████████████████████████████████████████| 5/5 [00:00<00:00,  8.68it/s, val_loss=0.90095258]\n",
      "Training Epoch [66/70]: 100%|██████████████████████████████████████████| 5/5 [00:00<00:00,  8.57it/s, curr_train_loss=0.04158987, val_loss=0.90095258]\n",
      "Validation Epoch [66/70]: 100%|████████████████████████████████████████████████████████████████████| 5/5 [00:00<00:00,  9.22it/s, val_loss=1.02423383]\n",
      "Training Epoch [67/70]: 100%|██████████████████████████████████████████| 5/5 [00:00<00:00,  8.89it/s, curr_train_loss=0.08507052, val_loss=1.02423383]\n",
      "Validation Epoch [67/70]: 100%|████████████████████████████████████████████████████████████████████| 5/5 [00:00<00:00,  9.38it/s, val_loss=1.11885082]\n",
      "Training Epoch [68/70]: 100%|██████████████████████████████████████████| 5/5 [00:00<00:00,  8.90it/s, curr_train_loss=0.03109112, val_loss=1.11885082]\n",
      "Validation Epoch [68/70]: 100%|████████████████████████████████████████████████████████████████████| 5/5 [00:00<00:00,  8.88it/s, val_loss=1.18685434]\n",
      "Training Epoch [69/70]: 100%|██████████████████████████████████████████| 5/5 [00:00<00:00,  8.65it/s, curr_train_loss=0.13297707, val_loss=1.18685434]\n",
      "Validation Epoch [69/70]: 100%|████████████████████████████████████████████████████████████████████| 5/5 [00:00<00:00,  8.84it/s, val_loss=1.09716762]\n",
      "Training Epoch [70/70]: 100%|██████████████████████████████████████████| 5/5 [00:00<00:00,  8.67it/s, curr_train_loss=0.02637660, val_loss=1.09716762]\n",
      "Validation Epoch [70/70]: 100%|████████████████████████████████████████████████████████████████████| 5/5 [00:00<00:00,  9.08it/s, val_loss=1.01672348]"
     ]
    },
    {
     "name": "stdout",
     "output_type": "stream",
     "text": [
      "Finished training!\n",
      "How did we do? Let's check the accuracy of the defaut classifier on the training and validation sets:\n",
      "Training Acc: 100.0%\n",
      "Validation Acc: 71.0%\n"
     ]
    },
    {
     "name": "stderr",
     "output_type": "stream",
     "text": [
      "\n"
     ]
    }
   ],
   "source": [
    "from exercise_code.models import Classifier\n",
    "from exercise_code.models import Encoder\n",
    "\n",
    "# Create the encoder and the classifier.\n",
    "encoder = Encoder(hparams).to(device)\n",
    "classifier = Classifier(hparams, encoder).to(device)\n",
    "\n",
    "# Create a tensorboard logger.\n",
    "# NOTE: In order to see the logs, run the following command in the terminal: tensorboard --logdir=./\n",
    "# Also, in order to reset the logs, delete the logs folder MANUALLY.\n",
    "\n",
    "path = os.path.join('logs', 'cls_logs')\n",
    "num_of_runs = len(os.listdir(path)) if os.path.exists(path) else 0\n",
    "path = os.path.join(path, f'run_{num_of_runs + 1}')\n",
    "\n",
    "tb_logger = SummaryWriter(path)\n",
    "\n",
    "# Train the classifier.\n",
    "labled_train_loader = torch.utils.data.DataLoader(train_100_dataset, batch_size=20, shuffle=True)\n",
    "labled_val_loader = torch.utils.data.DataLoader(val_100_dataset, batch_size=20, shuffle=False)\n",
    "\n",
    "epochs = hparams.get('epochs', 70)\n",
    "loss_func = nn.CrossEntropyLoss() # The loss function we use for classification.\n",
    "train_classifier(classifier, labled_train_loader, labled_val_loader, loss_func, tb_logger, epochs=epochs, name=\"Default\")\n",
    "\n",
    "print(\"Finished training!\")\n",
    "print(\"How did we do? Let's check the accuracy of the defaut classifier on the training and validation sets:\")\n",
    "print(f\"Training Acc: {classifier.getAcc(labled_train_loader)[1] * 100}%\")\n",
    "print(f\"Validation Acc: {classifier.getAcc(labled_val_loader)[1] * 100}%\")"
   ]
  },
  {
   "cell_type": "code",
   "execution_count": 247,
   "metadata": {},
   "outputs": [
    {
     "name": "stdout",
     "output_type": "stream",
     "text": [
      "Finished training!\n",
      "How did we do? Let's check the accuracy of the defaut classifier on the training and validation sets:\n",
      "Training Acc: 100.0%\n",
      "Validation Acc: 69.0%\n"
     ]
    }
   ],
   "source": [
    "print(\"Finished training!\")\n",
    "print(\"How did we do? Let's check the accuracy of the defaut classifier on the training and validation sets:\")\n",
    "print(f\"Training Acc: {classifier.getAcc(labled_train_loader)[1] * 100}%\")\n",
    "print(f\"Validation Acc: {classifier.getAcc(labled_val_loader)[1] * 100}%\")"
   ]
  },
  {
   "attachments": {},
   "cell_type": "markdown",
   "metadata": {
    "id": "i16vmHZXMNkm",
    "pycharm": {
     "name": "#%% md\n"
    }
   },
   "source": [
    "# 3. Autoencoder\n",
    "\n",
    "With only a limited number of labeled images, it's challenging to achieve high performance. We have no money left to pay the student to create more labels, and labeling the data ourselves is out of question. A commonly used approach would be to apply data augmentation to maximize the potential of our limited labeled data, but here we provide another way to solve this problem: **transfer learning**.\n",
    "\n",
    "For each input, the autoencoder tries to reproduce the same image as an output. The difficulty behind this task is that the autoencoder has to go through a low dimensional bottleneck, which is called the **latent space**.\n",
    "In other words, the autoencoder learns to represent all the input information in a low dimensional latent space - it learns to compress the input distribution. To train the autoencoder, we use the mean squared error loss, which calculates the discrepancy between the input pixels and the output pixels. The best part is that this loss function doesn't require any labels!\n",
    "\n",
    "By pretraining the autoencoder in this way on a large amount of unlabeled data, we can capture valuable latent representations of the input images. Then, we transfer the weights of the encoder to our classifier, enabling it to benefit from the knowledge learned during the unsupervised pretraining phase. \n",
    "\n",
    "<!-- In case the image does not show, uncomment the following:\n",
    "![autoencoder](img/autoencoder.png) \n",
    "-->\n",
    "<img name=\"autoencoder\" src=\"https://drive.google.com/uc?id=17nHpWR_L-mSyiNah9rV0dHuXW9yWPbLt\">\n",
    "\n",
    "After this, our encoder has learned to extract meaningful information from the inputs. We can then transfer its weights\n",
    "to a classifier architecture and finetune it with our labeled data, i.e., instead of initializing our encoder randomly, we are re-using the weights of our trained encoder from our autoencoder network. \n",
    "\n",
    "<!-- In case the image does not show, uncomment the following:\n",
    "![autoencoder_pretrained](img/pretrained.png) \n",
    "-->\n",
    "<img name=\"autoencoder_pretrained\" src=\"https://drive.google.com/uc?id=1ttndkRDJF_EMfjyMxtbu_BjQ796fL1Km\">\n",
    "\n",
    "\n",
    "Before we can train our autoencoder, you have to initialize your `decoder` architecture. The simplest way is to mirror your encoder architecture, which ensures that the `latent space` output of our `encoder` is correctly transformed to our input shape.\n",
    "\n",
    "<div class=\"alert alert-info\">\n",
    "    <h3>Task: Implement</h3>\n",
    "    <p>Implement the <code>Decoder</code> class initialization in <code>exercise_code/models.py</code>.</p>\n",
    "    <p>Implement <code>forward</code>, <code>set_optimizer</code>, <code>training_step</code> and <code>validation_step</code> of the <code>Autoencoder</code> in  <code>exercise_code/models.py</code>, following the pipeline we've shown you in train_classifier().</p>\n",
    "    <p>Note the differences between the classification task and now the regression task!</p>\n",
    "\n",
    "\n",
    "</div>\n",
    "\n",
    "## 3.2 Autoencoder Training\n",
    "\n",
    "Now, we can train the full autoencoder consisting of both en- and decoder.\n",
    "\n",
    "\n"
   ]
  },
  {
   "cell_type": "code",
   "execution_count": 10,
   "metadata": {
    "id": "xqqdoLDgMNkm"
   },
   "outputs": [],
   "source": [
    "from exercise_code.models import Autoencoder, Encoder, Decoder\n",
    "\n",
    "########################################################################\n",
    "# TODO: Define your hyperparameters here!                              #\n",
    "# Hint: use a large batch_size                                         #\n",
    "########################################################################\n",
    "\n",
    "pass\n",
    "\n",
    "########################################################################\n",
    "#                           END OF YOUR CODE                           #\n",
    "########################################################################\n",
    "encoder_pretrained = Encoder(hparams).to(device)\n",
    "decoder = Decoder(hparams).to(device)\n",
    "autoencoder = Autoencoder(hparams, encoder_pretrained, decoder).to(device)"
   ]
  },
  {
   "attachments": {},
   "cell_type": "markdown",
   "metadata": {
    "id": "uRuIIm8YMNkn"
   },
   "source": [
    "Some tests to check whether we'll accept your model."
   ]
  },
  {
   "cell_type": "code",
   "execution_count": 11,
   "metadata": {
    "id": "SoAaC-NqMNkn"
   },
   "outputs": [
    {
     "name": "stdout",
     "output_type": "stream",
     "text": [
      "# Paramters: Your model has \u001b[92m0.473\u001b[0m mio. params.\n",
      "Model accepted!\n"
     ]
    }
   ],
   "source": [
    "from exercise_code.Util import printModelInfo, load_model\n",
    "_ = printModelInfo(autoencoder)"
   ]
  },
  {
   "attachments": {},
   "cell_type": "markdown",
   "metadata": {
    "id": "plQwnphtqggl"
   },
   "source": [
    "After implementing the relevant functions - read the following code, and then run it.\n",
    "Keep in mind that an epoch here will take much longer since\n",
    "we are iterating through 5,8600 images instead of just 100.\n",
    "\n",
    "For speed, colab is indeed recommended. "
   ]
  },
  {
   "cell_type": "code",
   "execution_count": 33,
   "metadata": {
    "id": "_uuzXMq6zjbb",
    "tags": []
   },
   "outputs": [
    {
     "name": "stderr",
     "output_type": "stream",
     "text": [
      "Training Epoch [0/100]: 100%|███████████████████████████████████████████| 229/229 [00:08<00:00, 27.09it/s, train_loss=0.03899568, val_loss=0.00000000]\n",
      "Validation Epoch [0/100]: 100%|████████████████████████████████████████████████████████████████████| 4/4 [00:00<00:00, 40.98it/s, val_loss=0.02855797]\n",
      "Training Epoch [1/100]: 100%|███████████████████████████████████████████| 229/229 [00:07<00:00, 30.08it/s, train_loss=0.02700227, val_loss=0.02855797]\n",
      "Validation Epoch [1/100]: 100%|████████████████████████████████████████████████████████████████████| 4/4 [00:00<00:00, 42.03it/s, val_loss=0.02533410]\n",
      "Training Epoch [2/100]: 100%|███████████████████████████████████████████| 229/229 [00:08<00:00, 26.63it/s, train_loss=0.02489081, val_loss=0.02533410]\n",
      "Validation Epoch [2/100]: 100%|████████████████████████████████████████████████████████████████████| 4/4 [00:00<00:00, 32.92it/s, val_loss=0.02379702]\n",
      "Training Epoch [3/100]: 100%|███████████████████████████████████████████| 229/229 [00:07<00:00, 29.42it/s, train_loss=0.02351291, val_loss=0.02379702]\n",
      "Validation Epoch [3/100]: 100%|████████████████████████████████████████████████████████████████████| 4/4 [00:00<00:00, 41.55it/s, val_loss=0.02277805]\n",
      "Training Epoch [4/100]: 100%|███████████████████████████████████████████| 229/229 [00:07<00:00, 30.50it/s, train_loss=0.02252815, val_loss=0.02277805]\n",
      "Validation Epoch [4/100]: 100%|████████████████████████████████████████████████████████████████████| 4/4 [00:00<00:00, 42.29it/s, val_loss=0.02205180]\n",
      "Training Epoch [5/100]: 100%|███████████████████████████████████████████| 229/229 [00:07<00:00, 30.85it/s, train_loss=0.02180694, val_loss=0.02205180]\n",
      "Validation Epoch [5/100]: 100%|████████████████████████████████████████████████████████████████████| 4/4 [00:00<00:00, 40.30it/s, val_loss=0.02107732]\n",
      "Training Epoch [6/100]: 100%|███████████████████████████████████████████| 229/229 [00:07<00:00, 30.43it/s, train_loss=0.02122092, val_loss=0.02107732]\n",
      "Validation Epoch [6/100]: 100%|████████████████████████████████████████████████████████████████████| 4/4 [00:00<00:00, 42.50it/s, val_loss=0.02062381]\n",
      "Training Epoch [7/100]: 100%|███████████████████████████████████████████| 229/229 [00:07<00:00, 31.43it/s, train_loss=0.02074754, val_loss=0.02062381]\n",
      "Validation Epoch [7/100]: 100%|████████████████████████████████████████████████████████████████████| 4/4 [00:00<00:00, 42.92it/s, val_loss=0.01996361]\n",
      "Training Epoch [8/100]: 100%|███████████████████████████████████████████| 229/229 [00:07<00:00, 31.32it/s, train_loss=0.02032553, val_loss=0.01996361]\n",
      "Validation Epoch [8/100]: 100%|████████████████████████████████████████████████████████████████████| 4/4 [00:00<00:00, 42.50it/s, val_loss=0.01976447]\n",
      "Training Epoch [9/100]: 100%|███████████████████████████████████████████| 229/229 [00:07<00:00, 31.33it/s, train_loss=0.01997116, val_loss=0.01976447]\n",
      "Validation Epoch [9/100]: 100%|████████████████████████████████████████████████████████████████████| 4/4 [00:00<00:00, 41.11it/s, val_loss=0.01924183]\n",
      "Training Epoch [10/100]: 100%|██████████████████████████████████████████| 229/229 [00:07<00:00, 31.30it/s, train_loss=0.01961745, val_loss=0.01924183]\n",
      "Validation Epoch [10/100]: 100%|███████████████████████████████████████████████████████████████████| 4/4 [00:00<00:00, 42.87it/s, val_loss=0.01906008]\n",
      "Training Epoch [11/100]: 100%|██████████████████████████████████████████| 229/229 [00:07<00:00, 31.21it/s, train_loss=0.01940317, val_loss=0.01906008]\n",
      "Validation Epoch [11/100]: 100%|███████████████████████████████████████████████████████████████████| 4/4 [00:00<00:00, 42.56it/s, val_loss=0.01904933]\n",
      "Training Epoch [12/100]: 100%|██████████████████████████████████████████| 229/229 [00:07<00:00, 31.35it/s, train_loss=0.01910926, val_loss=0.01904933]\n",
      "Validation Epoch [12/100]: 100%|███████████████████████████████████████████████████████████████████| 4/4 [00:00<00:00, 42.39it/s, val_loss=0.01870496]\n",
      "Training Epoch [13/100]: 100%|██████████████████████████████████████████| 229/229 [00:07<00:00, 31.04it/s, train_loss=0.01888504, val_loss=0.01870496]\n",
      "Validation Epoch [13/100]: 100%|███████████████████████████████████████████████████████████████████| 4/4 [00:00<00:00, 42.34it/s, val_loss=0.01835837]\n",
      "Training Epoch [14/100]: 100%|██████████████████████████████████████████| 229/229 [00:07<00:00, 29.99it/s, train_loss=0.01877210, val_loss=0.01835837]\n",
      "Validation Epoch [14/100]: 100%|███████████████████████████████████████████████████████████████████| 4/4 [00:00<00:00, 41.86it/s, val_loss=0.01850260]\n",
      "Training Epoch [15/100]: 100%|██████████████████████████████████████████| 229/229 [00:07<00:00, 30.93it/s, train_loss=0.01860267, val_loss=0.01850260]\n",
      "Validation Epoch [15/100]: 100%|███████████████████████████████████████████████████████████████████| 4/4 [00:00<00:00, 40.85it/s, val_loss=0.01812511]\n",
      "Training Epoch [16/100]: 100%|██████████████████████████████████████████| 229/229 [00:07<00:00, 30.90it/s, train_loss=0.01837474, val_loss=0.01812511]\n",
      "Validation Epoch [16/100]: 100%|███████████████████████████████████████████████████████████████████| 4/4 [00:00<00:00, 42.24it/s, val_loss=0.01787002]\n",
      "Training Epoch [17/100]: 100%|██████████████████████████████████████████| 229/229 [00:07<00:00, 30.86it/s, train_loss=0.01828272, val_loss=0.01787002]\n",
      "Validation Epoch [17/100]: 100%|███████████████████████████████████████████████████████████████████| 4/4 [00:00<00:00, 42.51it/s, val_loss=0.01793820]\n",
      "Training Epoch [18/100]: 100%|██████████████████████████████████████████| 229/229 [00:07<00:00, 31.23it/s, train_loss=0.01815844, val_loss=0.01793820]\n",
      "Validation Epoch [18/100]: 100%|███████████████████████████████████████████████████████████████████| 4/4 [00:00<00:00, 42.79it/s, val_loss=0.01782326]\n",
      "Training Epoch [19/100]: 100%|██████████████████████████████████████████| 229/229 [00:07<00:00, 31.14it/s, train_loss=0.01793694, val_loss=0.01782326]\n",
      "Validation Epoch [19/100]: 100%|███████████████████████████████████████████████████████████████████| 4/4 [00:00<00:00, 42.50it/s, val_loss=0.01746300]\n",
      "Training Epoch [20/100]: 100%|██████████████████████████████████████████| 229/229 [00:07<00:00, 30.70it/s, train_loss=0.01759593, val_loss=0.01746300]\n",
      "Validation Epoch [20/100]: 100%|███████████████████████████████████████████████████████████████████| 4/4 [00:00<00:00, 40.96it/s, val_loss=0.01730319]\n",
      "Training Epoch [21/100]: 100%|██████████████████████████████████████████| 229/229 [00:07<00:00, 30.56it/s, train_loss=0.01754756, val_loss=0.01730319]\n",
      "Validation Epoch [21/100]: 100%|███████████████████████████████████████████████████████████████████| 4/4 [00:00<00:00, 40.55it/s, val_loss=0.01711939]\n",
      "Training Epoch [22/100]: 100%|██████████████████████████████████████████| 229/229 [00:07<00:00, 29.55it/s, train_loss=0.01742225, val_loss=0.01711939]\n",
      "Validation Epoch [22/100]: 100%|███████████████████████████████████████████████████████████████████| 4/4 [00:00<00:00, 41.91it/s, val_loss=0.01696586]\n",
      "Training Epoch [23/100]: 100%|██████████████████████████████████████████| 229/229 [00:07<00:00, 31.00it/s, train_loss=0.01741449, val_loss=0.01696586]\n",
      "Validation Epoch [23/100]: 100%|███████████████████████████████████████████████████████████████████| 4/4 [00:00<00:00, 42.93it/s, val_loss=0.01682956]\n",
      "Training Epoch [24/100]: 100%|██████████████████████████████████████████| 229/229 [00:07<00:00, 31.10it/s, train_loss=0.01738312, val_loss=0.01682956]\n",
      "Validation Epoch [24/100]: 100%|███████████████████████████████████████████████████████████████████| 4/4 [00:00<00:00, 34.52it/s, val_loss=0.01678778]\n",
      "Training Epoch [25/100]: 100%|██████████████████████████████████████████| 229/229 [00:08<00:00, 27.86it/s, train_loss=0.01725993, val_loss=0.01678778]\n",
      "Validation Epoch [25/100]: 100%|███████████████████████████████████████████████████████████████████| 4/4 [00:00<00:00, 41.13it/s, val_loss=0.01697439]\n",
      "Training Epoch [26/100]: 100%|██████████████████████████████████████████| 229/229 [00:07<00:00, 30.29it/s, train_loss=0.01719546, val_loss=0.01697439]\n",
      "Validation Epoch [26/100]: 100%|███████████████████████████████████████████████████████████████████| 4/4 [00:00<00:00, 41.49it/s, val_loss=0.01671028]\n",
      "Training Epoch [27/100]: 100%|██████████████████████████████████████████| 229/229 [00:07<00:00, 29.67it/s, train_loss=0.01714386, val_loss=0.01671028]\n",
      "Validation Epoch [27/100]: 100%|███████████████████████████████████████████████████████████████████| 4/4 [00:00<00:00, 36.03it/s, val_loss=0.01666366]\n",
      "Training Epoch [28/100]: 100%|██████████████████████████████████████████| 229/229 [00:08<00:00, 27.72it/s, train_loss=0.01704513, val_loss=0.01666366]\n",
      "Validation Epoch [28/100]: 100%|███████████████████████████████████████████████████████████████████| 4/4 [00:00<00:00, 42.08it/s, val_loss=0.01669201]\n",
      "Training Epoch [29/100]: 100%|██████████████████████████████████████████| 229/229 [00:08<00:00, 28.16it/s, train_loss=0.01704408, val_loss=0.01669201]\n",
      "Validation Epoch [29/100]: 100%|███████████████████████████████████████████████████████████████████| 4/4 [00:00<00:00, 43.15it/s, val_loss=0.01663536]\n",
      "Training Epoch [30/100]: 100%|██████████████████████████████████████████| 229/229 [00:07<00:00, 29.60it/s, train_loss=0.01694125, val_loss=0.01663536]\n",
      "Validation Epoch [30/100]: 100%|███████████████████████████████████████████████████████████████████| 4/4 [00:00<00:00, 34.19it/s, val_loss=0.01654914]\n",
      "Training Epoch [31/100]: 100%|██████████████████████████████████████████| 229/229 [00:07<00:00, 30.45it/s, train_loss=0.01694219, val_loss=0.01654914]\n",
      "Validation Epoch [31/100]: 100%|███████████████████████████████████████████████████████████████████| 4/4 [00:00<00:00, 43.41it/s, val_loss=0.01651078]\n",
      "Training Epoch [32/100]: 100%|██████████████████████████████████████████| 229/229 [00:07<00:00, 32.18it/s, train_loss=0.01682709, val_loss=0.01651078]\n",
      "Validation Epoch [32/100]: 100%|███████████████████████████████████████████████████████████████████| 4/4 [00:00<00:00, 43.54it/s, val_loss=0.01652087]\n",
      "Training Epoch [33/100]: 100%|██████████████████████████████████████████| 229/229 [00:07<00:00, 32.09it/s, train_loss=0.01685736, val_loss=0.01652087]\n",
      "Validation Epoch [33/100]: 100%|███████████████████████████████████████████████████████████████████| 4/4 [00:00<00:00, 43.48it/s, val_loss=0.01632916]\n",
      "Training Epoch [34/100]: 100%|██████████████████████████████████████████| 229/229 [00:07<00:00, 32.23it/s, train_loss=0.01673705, val_loss=0.01632916]\n",
      "Validation Epoch [34/100]: 100%|███████████████████████████████████████████████████████████████████| 4/4 [00:00<00:00, 43.51it/s, val_loss=0.01631393]\n",
      "Training Epoch [35/100]: 100%|██████████████████████████████████████████| 229/229 [00:07<00:00, 31.98it/s, train_loss=0.01670029, val_loss=0.01631393]\n",
      "Validation Epoch [35/100]: 100%|███████████████████████████████████████████████████████████████████| 4/4 [00:00<00:00, 43.64it/s, val_loss=0.01634454]\n",
      "Training Epoch [36/100]: 100%|██████████████████████████████████████████| 229/229 [00:07<00:00, 32.17it/s, train_loss=0.01671483, val_loss=0.01634454]\n",
      "Validation Epoch [36/100]: 100%|███████████████████████████████████████████████████████████████████| 4/4 [00:00<00:00, 43.84it/s, val_loss=0.01627503]\n",
      "Training Epoch [37/100]: 100%|██████████████████████████████████████████| 229/229 [00:07<00:00, 31.07it/s, train_loss=0.01663046, val_loss=0.01627503]\n",
      "Validation Epoch [37/100]: 100%|███████████████████████████████████████████████████████████████████| 4/4 [00:00<00:00, 43.13it/s, val_loss=0.01620500]\n",
      "Training Epoch [38/100]: 100%|██████████████████████████████████████████| 229/229 [00:07<00:00, 31.57it/s, train_loss=0.01661702, val_loss=0.01620500]\n",
      "Validation Epoch [38/100]: 100%|███████████████████████████████████████████████████████████████████| 4/4 [00:00<00:00, 43.36it/s, val_loss=0.01609438]\n",
      "Training Epoch [39/100]: 100%|██████████████████████████████████████████| 229/229 [00:07<00:00, 32.00it/s, train_loss=0.01657347, val_loss=0.01609438]\n",
      "Validation Epoch [39/100]: 100%|███████████████████████████████████████████████████████████████████| 4/4 [00:00<00:00, 43.71it/s, val_loss=0.01612748]\n",
      "Training Epoch [40/100]: 100%|██████████████████████████████████████████| 229/229 [00:07<00:00, 31.77it/s, train_loss=0.01631981, val_loss=0.01612748]\n",
      "Validation Epoch [40/100]: 100%|███████████████████████████████████████████████████████████████████| 4/4 [00:00<00:00, 43.63it/s, val_loss=0.01606717]\n",
      "Training Epoch [41/100]: 100%|██████████████████████████████████████████| 229/229 [00:07<00:00, 32.17it/s, train_loss=0.01624799, val_loss=0.01606717]\n",
      "Validation Epoch [41/100]: 100%|███████████████████████████████████████████████████████████████████| 4/4 [00:00<00:00, 43.69it/s, val_loss=0.01584984]\n",
      "Training Epoch [42/100]: 100%|██████████████████████████████████████████| 229/229 [00:07<00:00, 31.96it/s, train_loss=0.01621711, val_loss=0.01584984]\n",
      "Validation Epoch [42/100]: 100%|███████████████████████████████████████████████████████████████████| 4/4 [00:00<00:00, 43.74it/s, val_loss=0.01591800]\n",
      "Training Epoch [43/100]: 100%|██████████████████████████████████████████| 229/229 [00:07<00:00, 31.75it/s, train_loss=0.01617302, val_loss=0.01591800]\n",
      "Validation Epoch [43/100]: 100%|███████████████████████████████████████████████████████████████████| 4/4 [00:00<00:00, 38.67it/s, val_loss=0.01587827]\n",
      "Training Epoch [44/100]: 100%|██████████████████████████████████████████| 229/229 [00:07<00:00, 30.97it/s, train_loss=0.01616904, val_loss=0.01587827]\n",
      "Validation Epoch [44/100]: 100%|███████████████████████████████████████████████████████████████████| 4/4 [00:00<00:00, 43.07it/s, val_loss=0.01577147]\n",
      "Training Epoch [45/100]: 100%|██████████████████████████████████████████| 229/229 [00:07<00:00, 31.88it/s, train_loss=0.01611158, val_loss=0.01577147]\n",
      "Validation Epoch [45/100]: 100%|███████████████████████████████████████████████████████████████████| 4/4 [00:00<00:00, 43.31it/s, val_loss=0.01593126]\n",
      "Training Epoch [46/100]: 100%|██████████████████████████████████████████| 229/229 [00:09<00:00, 24.40it/s, train_loss=0.01617732, val_loss=0.01593126]\n",
      "Validation Epoch [46/100]: 100%|███████████████████████████████████████████████████████████████████| 4/4 [00:00<00:00, 21.69it/s, val_loss=0.01594958]\n",
      "Training Epoch [47/100]: 100%|██████████████████████████████████████████| 229/229 [00:07<00:00, 29.70it/s, train_loss=0.01611124, val_loss=0.01594958]\n",
      "Validation Epoch [47/100]: 100%|███████████████████████████████████████████████████████████████████| 4/4 [00:00<00:00, 42.99it/s, val_loss=0.01573935]\n",
      "Training Epoch [48/100]: 100%|██████████████████████████████████████████| 229/229 [00:07<00:00, 31.92it/s, train_loss=0.01607845, val_loss=0.01573935]\n",
      "Validation Epoch [48/100]: 100%|███████████████████████████████████████████████████████████████████| 4/4 [00:00<00:00, 43.53it/s, val_loss=0.01577177]\n",
      "Training Epoch [49/100]: 100%|██████████████████████████████████████████| 229/229 [00:07<00:00, 32.20it/s, train_loss=0.01609369, val_loss=0.01577177]\n",
      "Validation Epoch [49/100]: 100%|███████████████████████████████████████████████████████████████████| 4/4 [00:00<00:00, 43.85it/s, val_loss=0.01558065]\n",
      "Training Epoch [50/100]: 100%|██████████████████████████████████████████| 229/229 [00:07<00:00, 31.49it/s, train_loss=0.01601340, val_loss=0.01558065]\n",
      "Validation Epoch [50/100]: 100%|███████████████████████████████████████████████████████████████████| 4/4 [00:00<00:00, 41.15it/s, val_loss=0.01568123]\n",
      "Training Epoch [51/100]: 100%|██████████████████████████████████████████| 229/229 [00:08<00:00, 28.58it/s, train_loss=0.01603955, val_loss=0.01568123]\n",
      "Validation Epoch [51/100]: 100%|███████████████████████████████████████████████████████████████████| 4/4 [00:00<00:00, 30.28it/s, val_loss=0.01565142]\n",
      "Training Epoch [52/100]: 100%|██████████████████████████████████████████| 229/229 [00:09<00:00, 25.33it/s, train_loss=0.01598955, val_loss=0.01565142]\n",
      "Validation Epoch [52/100]: 100%|███████████████████████████████████████████████████████████████████| 4/4 [00:00<00:00, 41.36it/s, val_loss=0.01563556]\n",
      "Training Epoch [53/100]: 100%|██████████████████████████████████████████| 229/229 [00:07<00:00, 30.52it/s, train_loss=0.01596717, val_loss=0.01563556]\n",
      "Validation Epoch [53/100]: 100%|███████████████████████████████████████████████████████████████████| 4/4 [00:00<00:00, 42.15it/s, val_loss=0.01562334]\n",
      "Training Epoch [54/100]: 100%|██████████████████████████████████████████| 229/229 [00:07<00:00, 31.41it/s, train_loss=0.01596347, val_loss=0.01562334]\n",
      "Validation Epoch [54/100]: 100%|███████████████████████████████████████████████████████████████████| 4/4 [00:00<00:00, 33.29it/s, val_loss=0.01561473]\n",
      "Training Epoch [55/100]: 100%|██████████████████████████████████████████| 229/229 [00:07<00:00, 31.74it/s, train_loss=0.01592877, val_loss=0.01561473]\n",
      "Validation Epoch [55/100]: 100%|███████████████████████████████████████████████████████████████████| 4/4 [00:00<00:00, 43.30it/s, val_loss=0.01570341]\n",
      "Training Epoch [56/100]: 100%|██████████████████████████████████████████| 229/229 [00:07<00:00, 31.68it/s, train_loss=0.01590421, val_loss=0.01570341]\n",
      "Validation Epoch [56/100]: 100%|███████████████████████████████████████████████████████████████████| 4/4 [00:00<00:00, 41.66it/s, val_loss=0.01563801]\n",
      "Training Epoch [57/100]: 100%|██████████████████████████████████████████| 229/229 [00:07<00:00, 31.74it/s, train_loss=0.01585704, val_loss=0.01563801]\n",
      "Validation Epoch [57/100]: 100%|███████████████████████████████████████████████████████████████████| 4/4 [00:00<00:00, 43.31it/s, val_loss=0.01553817]\n",
      "Training Epoch [58/100]: 100%|██████████████████████████████████████████| 229/229 [00:07<00:00, 31.73it/s, train_loss=0.01586780, val_loss=0.01553817]\n",
      "Validation Epoch [58/100]: 100%|███████████████████████████████████████████████████████████████████| 4/4 [00:00<00:00, 41.95it/s, val_loss=0.01556619]\n",
      "Training Epoch [59/100]: 100%|██████████████████████████████████████████| 229/229 [00:07<00:00, 31.69it/s, train_loss=0.01586368, val_loss=0.01556619]\n",
      "Validation Epoch [59/100]: 100%|███████████████████████████████████████████████████████████████████| 4/4 [00:00<00:00, 42.66it/s, val_loss=0.01552418]\n",
      "Training Epoch [60/100]: 100%|██████████████████████████████████████████| 229/229 [00:07<00:00, 31.41it/s, train_loss=0.01573971, val_loss=0.01552418]\n",
      "Validation Epoch [60/100]: 100%|███████████████████████████████████████████████████████████████████| 4/4 [00:00<00:00, 35.10it/s, val_loss=0.01538411]\n",
      "Training Epoch [61/100]: 100%|██████████████████████████████████████████| 229/229 [00:07<00:00, 31.25it/s, train_loss=0.01565699, val_loss=0.01538411]\n",
      "Validation Epoch [61/100]: 100%|███████████████████████████████████████████████████████████████████| 4/4 [00:00<00:00, 38.08it/s, val_loss=0.01542159]\n",
      "Training Epoch [62/100]: 100%|██████████████████████████████████████████| 229/229 [00:07<00:00, 31.58it/s, train_loss=0.01560821, val_loss=0.01542159]\n",
      "Validation Epoch [62/100]: 100%|███████████████████████████████████████████████████████████████████| 4/4 [00:00<00:00, 43.26it/s, val_loss=0.01530506]\n",
      "Training Epoch [63/100]: 100%|██████████████████████████████████████████| 229/229 [00:07<00:00, 31.85it/s, train_loss=0.01560772, val_loss=0.01530506]\n",
      "Validation Epoch [63/100]: 100%|███████████████████████████████████████████████████████████████████| 4/4 [00:00<00:00, 43.52it/s, val_loss=0.01530884]\n",
      "Training Epoch [64/100]: 100%|██████████████████████████████████████████| 229/229 [00:07<00:00, 31.82it/s, train_loss=0.01562329, val_loss=0.01530884]\n",
      "Validation Epoch [64/100]: 100%|███████████████████████████████████████████████████████████████████| 4/4 [00:00<00:00, 43.17it/s, val_loss=0.01543135]\n",
      "Training Epoch [65/100]: 100%|██████████████████████████████████████████| 229/229 [00:07<00:00, 31.04it/s, train_loss=0.01559616, val_loss=0.01543135]\n",
      "Validation Epoch [65/100]: 100%|███████████████████████████████████████████████████████████████████| 4/4 [00:00<00:00, 43.32it/s, val_loss=0.01532436]\n",
      "Training Epoch [66/100]: 100%|██████████████████████████████████████████| 229/229 [00:07<00:00, 31.68it/s, train_loss=0.01557611, val_loss=0.01532436]\n",
      "Validation Epoch [66/100]: 100%|███████████████████████████████████████████████████████████████████| 4/4 [00:00<00:00, 41.45it/s, val_loss=0.01532293]\n",
      "Training Epoch [67/100]: 100%|██████████████████████████████████████████| 229/229 [00:07<00:00, 31.52it/s, train_loss=0.01557218, val_loss=0.01532293]\n",
      "Validation Epoch [67/100]: 100%|███████████████████████████████████████████████████████████████████| 4/4 [00:00<00:00, 41.27it/s, val_loss=0.01533172]\n",
      "Training Epoch [68/100]: 100%|██████████████████████████████████████████| 229/229 [00:07<00:00, 31.71it/s, train_loss=0.01558296, val_loss=0.01533172]\n",
      "Validation Epoch [68/100]: 100%|███████████████████████████████████████████████████████████████████| 4/4 [00:00<00:00, 41.46it/s, val_loss=0.01538605]\n",
      "Training Epoch [69/100]: 100%|██████████████████████████████████████████| 229/229 [00:07<00:00, 30.90it/s, train_loss=0.01559002, val_loss=0.01538605]\n",
      "Validation Epoch [69/100]: 100%|███████████████████████████████████████████████████████████████████| 4/4 [00:00<00:00, 41.86it/s, val_loss=0.01517979]\n",
      "Training Epoch [70/100]: 100%|██████████████████████████████████████████| 229/229 [00:07<00:00, 31.33it/s, train_loss=0.01555491, val_loss=0.01517979]\n",
      "Validation Epoch [70/100]: 100%|███████████████████████████████████████████████████████████████████| 4/4 [00:00<00:00, 36.42it/s, val_loss=0.01527866]\n",
      "Training Epoch [71/100]: 100%|██████████████████████████████████████████| 229/229 [00:07<00:00, 32.02it/s, train_loss=0.01551619, val_loss=0.01527866]\n",
      "Validation Epoch [71/100]: 100%|███████████████████████████████████████████████████████████████████| 4/4 [00:00<00:00, 37.73it/s, val_loss=0.01527192]\n",
      "Training Epoch [72/100]: 100%|██████████████████████████████████████████| 229/229 [00:07<00:00, 32.11it/s, train_loss=0.01551817, val_loss=0.01527192]\n",
      "Validation Epoch [72/100]: 100%|███████████████████████████████████████████████████████████████████| 4/4 [00:00<00:00, 39.17it/s, val_loss=0.01526490]\n",
      "Training Epoch [73/100]: 100%|██████████████████████████████████████████| 229/229 [00:07<00:00, 32.05it/s, train_loss=0.01548287, val_loss=0.01526490]\n",
      "Validation Epoch [73/100]: 100%|███████████████████████████████████████████████████████████████████| 4/4 [00:00<00:00, 43.78it/s, val_loss=0.01511923]\n",
      "Training Epoch [74/100]: 100%|██████████████████████████████████████████| 229/229 [00:07<00:00, 32.04it/s, train_loss=0.01546623, val_loss=0.01511923]\n",
      "Validation Epoch [74/100]: 100%|███████████████████████████████████████████████████████████████████| 4/4 [00:00<00:00, 41.92it/s, val_loss=0.01522560]\n",
      "Training Epoch [75/100]: 100%|██████████████████████████████████████████| 229/229 [00:07<00:00, 31.61it/s, train_loss=0.01549456, val_loss=0.01522560]\n",
      "Validation Epoch [75/100]: 100%|███████████████████████████████████████████████████████████████████| 4/4 [00:00<00:00, 33.83it/s, val_loss=0.01519727]\n",
      "Training Epoch [76/100]: 100%|██████████████████████████████████████████| 229/229 [00:07<00:00, 31.59it/s, train_loss=0.01552111, val_loss=0.01519727]\n",
      "Validation Epoch [76/100]: 100%|███████████████████████████████████████████████████████████████████| 4/4 [00:00<00:00, 41.67it/s, val_loss=0.01520604]\n",
      "Training Epoch [77/100]: 100%|██████████████████████████████████████████| 229/229 [00:07<00:00, 31.52it/s, train_loss=0.01542770, val_loss=0.01520604]\n",
      "Validation Epoch [77/100]: 100%|███████████████████████████████████████████████████████████████████| 4/4 [00:00<00:00, 42.02it/s, val_loss=0.01531702]\n",
      "Training Epoch [78/100]: 100%|██████████████████████████████████████████| 229/229 [00:08<00:00, 27.25it/s, train_loss=0.01544071, val_loss=0.01531702]\n",
      "Validation Epoch [78/100]: 100%|███████████████████████████████████████████████████████████████████| 4/4 [00:00<00:00, 35.59it/s, val_loss=0.01512767]\n",
      "Training Epoch [79/100]: 100%|██████████████████████████████████████████| 229/229 [00:08<00:00, 28.44it/s, train_loss=0.01543419, val_loss=0.01512767]\n",
      "Validation Epoch [79/100]: 100%|███████████████████████████████████████████████████████████████████| 4/4 [00:00<00:00, 43.12it/s, val_loss=0.01510243]\n",
      "Training Epoch [80/100]: 100%|██████████████████████████████████████████| 229/229 [00:07<00:00, 31.46it/s, train_loss=0.01530726, val_loss=0.01510243]\n",
      "Validation Epoch [80/100]: 100%|███████████████████████████████████████████████████████████████████| 4/4 [00:00<00:00, 44.14it/s, val_loss=0.01510809]\n",
      "Training Epoch [81/100]: 100%|██████████████████████████████████████████| 229/229 [00:07<00:00, 31.71it/s, train_loss=0.01527910, val_loss=0.01510809]\n",
      "Validation Epoch [81/100]: 100%|███████████████████████████████████████████████████████████████████| 4/4 [00:00<00:00, 43.44it/s, val_loss=0.01513794]\n",
      "Training Epoch [82/100]: 100%|██████████████████████████████████████████| 229/229 [00:07<00:00, 31.68it/s, train_loss=0.01529679, val_loss=0.01513794]\n",
      "Validation Epoch [82/100]: 100%|███████████████████████████████████████████████████████████████████| 4/4 [00:00<00:00, 43.55it/s, val_loss=0.01502850]\n",
      "Training Epoch [83/100]: 100%|██████████████████████████████████████████| 229/229 [00:07<00:00, 31.75it/s, train_loss=0.01528208, val_loss=0.01502850]\n",
      "Validation Epoch [83/100]: 100%|███████████████████████████████████████████████████████████████████| 4/4 [00:00<00:00, 43.41it/s, val_loss=0.01506895]\n",
      "Training Epoch [84/100]: 100%|██████████████████████████████████████████| 229/229 [00:07<00:00, 31.87it/s, train_loss=0.01529543, val_loss=0.01506895]\n",
      "Validation Epoch [84/100]: 100%|███████████████████████████████████████████████████████████████████| 4/4 [00:00<00:00, 37.09it/s, val_loss=0.01505880]\n",
      "Training Epoch [85/100]: 100%|██████████████████████████████████████████| 229/229 [00:07<00:00, 31.18it/s, train_loss=0.01523296, val_loss=0.01505880]\n",
      "Validation Epoch [85/100]: 100%|███████████████████████████████████████████████████████████████████| 4/4 [00:00<00:00, 24.23it/s, val_loss=0.01492469]\n",
      "Training Epoch [86/100]: 100%|██████████████████████████████████████████| 229/229 [00:07<00:00, 31.40it/s, train_loss=0.01525162, val_loss=0.01492469]\n",
      "Validation Epoch [86/100]: 100%|███████████████████████████████████████████████████████████████████| 4/4 [00:00<00:00, 35.95it/s, val_loss=0.01496990]\n",
      "Training Epoch [87/100]: 100%|██████████████████████████████████████████| 229/229 [00:07<00:00, 32.13it/s, train_loss=0.01522166, val_loss=0.01496990]\n",
      "Validation Epoch [87/100]: 100%|███████████████████████████████████████████████████████████████████| 4/4 [00:00<00:00, 37.27it/s, val_loss=0.01497617]\n",
      "Training Epoch [88/100]: 100%|██████████████████████████████████████████| 229/229 [00:07<00:00, 32.01it/s, train_loss=0.01522105, val_loss=0.01497617]\n",
      "Validation Epoch [88/100]: 100%|███████████████████████████████████████████████████████████████████| 4/4 [00:00<00:00, 43.74it/s, val_loss=0.01502046]\n",
      "Training Epoch [89/100]: 100%|██████████████████████████████████████████| 229/229 [00:07<00:00, 31.53it/s, train_loss=0.01526156, val_loss=0.01502046]\n",
      "Validation Epoch [89/100]: 100%|███████████████████████████████████████████████████████████████████| 4/4 [00:00<00:00, 43.85it/s, val_loss=0.01483129]\n",
      "Training Epoch [90/100]: 100%|██████████████████████████████████████████| 229/229 [00:07<00:00, 31.34it/s, train_loss=0.01522837, val_loss=0.01483129]\n",
      "Validation Epoch [90/100]: 100%|███████████████████████████████████████████████████████████████████| 4/4 [00:00<00:00, 43.40it/s, val_loss=0.01508955]\n",
      "Training Epoch [91/100]: 100%|██████████████████████████████████████████| 229/229 [00:07<00:00, 31.58it/s, train_loss=0.01522113, val_loss=0.01508955]\n",
      "Validation Epoch [91/100]: 100%|███████████████████████████████████████████████████████████████████| 4/4 [00:00<00:00, 43.72it/s, val_loss=0.01491214]\n",
      "Training Epoch [92/100]: 100%|██████████████████████████████████████████| 229/229 [00:07<00:00, 31.81it/s, train_loss=0.01520207, val_loss=0.01491214]\n",
      "Validation Epoch [92/100]: 100%|███████████████████████████████████████████████████████████████████| 4/4 [00:00<00:00, 43.71it/s, val_loss=0.01501220]\n",
      "Training Epoch [93/100]: 100%|██████████████████████████████████████████| 229/229 [00:07<00:00, 31.75it/s, train_loss=0.01522514, val_loss=0.01501220]\n",
      "Validation Epoch [93/100]: 100%|███████████████████████████████████████████████████████████████████| 4/4 [00:00<00:00, 41.81it/s, val_loss=0.01499844]\n",
      "Training Epoch [94/100]: 100%|██████████████████████████████████████████| 229/229 [00:07<00:00, 30.74it/s, train_loss=0.01519143, val_loss=0.01499844]\n",
      "Validation Epoch [94/100]: 100%|███████████████████████████████████████████████████████████████████| 4/4 [00:00<00:00, 43.01it/s, val_loss=0.01493510]\n",
      "Training Epoch [95/100]: 100%|██████████████████████████████████████████| 229/229 [00:07<00:00, 31.46it/s, train_loss=0.01519674, val_loss=0.01493510]\n",
      "Validation Epoch [95/100]: 100%|███████████████████████████████████████████████████████████████████| 4/4 [00:00<00:00, 43.54it/s, val_loss=0.01486926]\n",
      "Training Epoch [96/100]: 100%|██████████████████████████████████████████| 229/229 [00:07<00:00, 30.07it/s, train_loss=0.01521590, val_loss=0.01486926]\n",
      "Validation Epoch [96/100]: 100%|███████████████████████████████████████████████████████████████████| 4/4 [00:00<00:00, 38.13it/s, val_loss=0.01495508]\n",
      "Training Epoch [97/100]: 100%|██████████████████████████████████████████| 229/229 [00:07<00:00, 31.70it/s, train_loss=0.01516067, val_loss=0.01495508]\n",
      "Validation Epoch [97/100]: 100%|███████████████████████████████████████████████████████████████████| 4/4 [00:00<00:00, 44.03it/s, val_loss=0.01495204]\n",
      "Training Epoch [98/100]: 100%|██████████████████████████████████████████| 229/229 [00:07<00:00, 31.71it/s, train_loss=0.01519869, val_loss=0.01495204]\n",
      "Validation Epoch [98/100]: 100%|███████████████████████████████████████████████████████████████████| 4/4 [00:00<00:00, 41.51it/s, val_loss=0.01491926]\n",
      "Training Epoch [99/100]: 100%|██████████████████████████████████████████| 229/229 [00:07<00:00, 31.14it/s, train_loss=0.01516374, val_loss=0.01491926]\n",
      "Validation Epoch [99/100]: 100%|███████████████████████████████████████████████████████████████████| 4/4 [00:00<00:00, 43.49it/s, val_loss=0.01500415]"
     ]
    },
    {
     "name": "stdout",
     "output_type": "stream",
     "text": [
      "Finished training!\n"
     ]
    },
    {
     "name": "stderr",
     "output_type": "stream",
     "text": [
      "\n"
     ]
    }
   ],
   "source": [
    "encoder_pretrained = Encoder(hparams).to(device)\n",
    "decoder = Decoder(hparams).to(device)\n",
    "autoencoder = Autoencoder(hparams, encoder_pretrained, decoder).to(device)\n",
    "\n",
    "def train_model(model, train_loader, val_loader, loss_func, tb_logger, epochs=10, name='Autoencoder'):\n",
    "    \n",
    "    optimizer = model.optimizer\n",
    "    scheduler = torch.optim.lr_scheduler.StepLR(optimizer, step_size=epochs * len(train_loader) / 5, gamma=0.7)\n",
    "    validation_loss = 0\n",
    "    model = model.to(device)\n",
    "    for epoch in range(epochs):\n",
    "        \n",
    "        # Train\n",
    "        training_loop = create_tqdm_bar(train_loader, desc=f'Training Epoch [{epoch}/{epochs}]')\n",
    "        training_loss = 0\n",
    "        for train_iteration, batch in training_loop:\n",
    "            \n",
    "            loss = model.training_step(batch, loss_func) # You need to implement this function.\n",
    "            training_loss += loss.item()\n",
    "            scheduler.step()\n",
    "\n",
    "            # Update the progress bar.\n",
    "            training_loop.set_postfix(train_loss = \"{:.8f}\".format(training_loss / (train_iteration + 1)), val_loss = \"{:.8f}\".format(validation_loss))\n",
    "\n",
    "            # Update the tensorboard logger.\n",
    "            tb_logger.add_scalar(f'{name}/train_loss', loss.item(), epoch * len(train_loader) + train_iteration)\n",
    "\n",
    "        # Validation\n",
    "        val_loop = create_tqdm_bar(val_loader, desc=f'Validation Epoch [{epoch}/{epochs}]')\n",
    "        validation_loss = 0\n",
    "        with torch.no_grad():\n",
    "            for val_iteration, batch in val_loop:\n",
    "                loss = model.validation_step(batch, loss_func) # You need to implement this function.\n",
    "                validation_loss += loss.item()\n",
    "\n",
    "                # Update the progress bar.\n",
    "                val_loop.set_postfix(val_loss = \"{:.8f}\".format(validation_loss / (val_iteration + 1)))\n",
    "\n",
    "                # Update the tensorboard logger.\n",
    "                tb_logger.add_scalar(f'{name}/val_loss', validation_loss / (val_iteration + 1), epoch * len(val_loader) + val_iteration)\n",
    "        # This value is for the progress bar of the training loop.\n",
    "        validation_loss /= len(val_loader)\n",
    "\n",
    "# Create a tensorboard logger.\n",
    "# NOTE: In order to see the logs, run the following command in the terminal: tensorboard --logdir=./\n",
    "# Also, in order to reset the logs, delete the logs folder MANUALLY.\n",
    "\n",
    "path = os.path.join('logs', 'ae_logs')\n",
    "num_of_runs = len(os.listdir(path)) if os.path.exists(path) else 0\n",
    "path = os.path.join(path, f'run_{num_of_runs + 1}')\n",
    "tb_logger = SummaryWriter(path)\n",
    "\n",
    "# Train the classifier.\n",
    "unlabled_train_loader = torch.utils.data.DataLoader(unlabeled_train, batch_size=256, shuffle=True)\n",
    "unlabled_val_loader = torch.utils.data.DataLoader(unlabeled_val, batch_size=256, shuffle=False)\n",
    "\n",
    "epochs = hparams.get('epochs', 100)\n",
    "loss_func = nn.MSELoss() # The loss function we use for regression (Could also be nn.L1Loss()).\n",
    "train_model(autoencoder, unlabled_train_loader, unlabled_val_loader, loss_func, tb_logger, epochs=epochs, name='Autoencoder')\n",
    "\n",
    "print(\"Finished training!\")"
   ]
  },
  {
   "cell_type": "code",
   "execution_count": null,
   "metadata": {},
   "outputs": [],
   "source": []
  },
  {
   "attachments": {},
   "cell_type": "markdown",
   "metadata": {
    "id": "vdgiYWy4MNkq"
   },
   "source": [
    "Once trained, let's have a look at the reconstructed validation images (If you have not already looked at them in TensorBoard)."
   ]
  },
  {
   "cell_type": "code",
   "execution_count": 34,
   "metadata": {
    "id": "a991mKcyMNkq"
   },
   "outputs": [
    {
     "data": {
      "image/png": "[encoded data removed]",
      "text/plain": [
       "<Figure size 1600x1600 with 64 Axes>"
      ]
     },
     "metadata": {},
     "output_type": "display_data"
    }
   ],
   "source": [
    "reconstructions = autoencoder.getReconstructions(unlabled_val_loader)\n",
    "for i in range(64):\n",
    "    plt.subplot(8,8,i+1)\n",
    "    plt.axis('off')\n",
    "    plt.imshow(reconstructions[i], cmap='gray', interpolation='none')\n",
    "    \n",
    "plt.tight_layout()"
   ]
  },
  {
   "attachments": {},
   "cell_type": "markdown",
   "metadata": {
    "id": "R2hrP5b1MNkr"
   },
   "source": [
    "# 4. Transfer Learning\n",
    "\n",
    "## 4.1 The pretrained Classifier\n",
    "\n",
    "Now we initialize another classifier but this time with the pretrained encoder."
   ]
  },
  {
   "cell_type": "code",
   "execution_count": 103,
   "metadata": {
    "id": "OELYQAUmMNkr"
   },
   "outputs": [],
   "source": [
    "from exercise_code.models import Classifier\n",
    "from copy import deepcopy\n",
    "\n",
    "hparams = {}\n",
    "########################################################################\n",
    "# TODO: Define your hyperparameters here!                             #\n",
    "########################################################################\n",
    "\n",
    "pass\n",
    "\n",
    "########################################################################\n",
    "#                           END OF YOUR CODE                           #\n",
    "########################################################################\n",
    "\n",
    "encoder_pretrained_copy = deepcopy(encoder_pretrained)\n",
    "classifier_pretrained = Classifier(hparams, encoder_pretrained_copy).to(device)"
   ]
  },
  {
   "attachments": {},
   "cell_type": "markdown",
   "metadata": {
    "id": "R8FUtih6MNks"
   },
   "source": [
    "Let's define another trainer that will utilize the pretrained classifier, allowing us to compare its performance with the classifier trained only on the labeled data. To achieve a reasonable result, you may need to optimize the parameters you defined earlier."
   ]
  },
  {
   "cell_type": "code",
   "execution_count": 104,
   "metadata": {
    "id": "Mx_euorWMNks"
   },
   "outputs": [
    {
     "name": "stderr",
     "output_type": "stream",
     "text": [
      "Training Epoch [1/25]:   0%|                                                                                                   | 0/10 [00:00<?, ?it/s]"
     ]
    },
    {
     "name": "stderr",
     "output_type": "stream",
     "text": [
      "Training Epoch [1/25]: 100%|█████████████████████████████████████████| 10/10 [00:01<00:00,  8.82it/s, curr_train_loss=2.14574797, val_loss=0.00000000]\n",
      "Validation Epoch [1/25]: 100%|███████████████████████████████████████████████████████████████████| 10/10 [00:01<00:00,  9.24it/s, val_loss=1.94812839]\n",
      "Training Epoch [2/25]: 100%|█████████████████████████████████████████| 10/10 [00:01<00:00,  8.88it/s, curr_train_loss=1.48530837, val_loss=1.94812839]\n",
      "Validation Epoch [2/25]: 100%|███████████████████████████████████████████████████████████████████| 10/10 [00:01<00:00,  8.83it/s, val_loss=1.57954102]\n",
      "Training Epoch [3/25]: 100%|█████████████████████████████████████████| 10/10 [00:01<00:00,  8.92it/s, curr_train_loss=1.27931716, val_loss=1.57954102]\n",
      "Validation Epoch [3/25]: 100%|███████████████████████████████████████████████████████████████████| 10/10 [00:01<00:00,  9.13it/s, val_loss=1.32659519]\n",
      "Training Epoch [4/25]: 100%|█████████████████████████████████████████| 10/10 [00:01<00:00,  8.96it/s, curr_train_loss=1.07173004, val_loss=1.32659519]\n",
      "Validation Epoch [4/25]: 100%|███████████████████████████████████████████████████████████████████| 10/10 [00:01<00:00,  9.14it/s, val_loss=1.17281924]\n",
      "Training Epoch [5/25]: 100%|█████████████████████████████████████████| 10/10 [00:01<00:00,  8.77it/s, curr_train_loss=1.00428329, val_loss=1.17281924]\n",
      "Validation Epoch [5/25]: 100%|███████████████████████████████████████████████████████████████████| 10/10 [00:01<00:00,  9.20it/s, val_loss=1.08770795]\n",
      "Training Epoch [6/25]: 100%|█████████████████████████████████████████| 10/10 [00:01<00:00,  8.71it/s, curr_train_loss=0.79287348, val_loss=1.08770795]\n",
      "Validation Epoch [6/25]: 100%|███████████████████████████████████████████████████████████████████| 10/10 [00:01<00:00,  9.12it/s, val_loss=1.01486107]\n",
      "Training Epoch [7/25]: 100%|█████████████████████████████████████████| 10/10 [00:01<00:00,  8.89it/s, curr_train_loss=0.74417253, val_loss=1.01486107]\n",
      "Validation Epoch [7/25]: 100%|███████████████████████████████████████████████████████████████████| 10/10 [00:01<00:00,  9.04it/s, val_loss=0.89693745]\n",
      "Training Epoch [8/25]: 100%|█████████████████████████████████████████| 10/10 [00:01<00:00,  8.84it/s, curr_train_loss=0.55286070, val_loss=0.89693745]\n",
      "Validation Epoch [8/25]: 100%|███████████████████████████████████████████████████████████████████| 10/10 [00:01<00:00,  9.26it/s, val_loss=0.90077757]\n",
      "Training Epoch [9/25]: 100%|█████████████████████████████████████████| 10/10 [00:01<00:00,  9.00it/s, curr_train_loss=0.49716862, val_loss=0.90077757]\n",
      "Validation Epoch [9/25]: 100%|███████████████████████████████████████████████████████████████████| 10/10 [00:01<00:00,  9.10it/s, val_loss=0.81417279]\n",
      "Training Epoch [10/25]: 100%|████████████████████████████████████████| 10/10 [00:01<00:00,  9.00it/s, curr_train_loss=0.60323586, val_loss=0.81417279]\n",
      "Validation Epoch [10/25]: 100%|██████████████████████████████████████████████████████████████████| 10/10 [00:01<00:00,  9.46it/s, val_loss=0.76285608]\n",
      "Training Epoch [11/25]: 100%|████████████████████████████████████████| 10/10 [00:01<00:00,  8.31it/s, curr_train_loss=0.41774440, val_loss=0.76285608]\n",
      "Validation Epoch [11/25]: 100%|██████████████████████████████████████████████████████████████████| 10/10 [00:01<00:00,  9.07it/s, val_loss=0.71581375]\n",
      "Training Epoch [12/25]: 100%|████████████████████████████████████████| 10/10 [00:01<00:00,  8.74it/s, curr_train_loss=0.42914267, val_loss=0.71581375]\n",
      "Validation Epoch [12/25]: 100%|██████████████████████████████████████████████████████████████████| 10/10 [00:01<00:00,  9.24it/s, val_loss=0.66809102]\n",
      "Training Epoch [13/25]: 100%|████████████████████████████████████████| 10/10 [00:01<00:00,  8.70it/s, curr_train_loss=0.44602410, val_loss=0.66809102]\n",
      "Validation Epoch [13/25]: 100%|██████████████████████████████████████████████████████████████████| 10/10 [00:01<00:00,  9.25it/s, val_loss=0.66117888]\n",
      "Training Epoch [14/25]: 100%|████████████████████████████████████████| 10/10 [00:01<00:00,  8.47it/s, curr_train_loss=0.40965383, val_loss=0.66117888]\n",
      "Validation Epoch [14/25]: 100%|██████████████████████████████████████████████████████████████████| 10/10 [00:01<00:00,  9.05it/s, val_loss=0.59111622]\n",
      "Training Epoch [15/25]: 100%|████████████████████████████████████████| 10/10 [00:01<00:00,  8.95it/s, curr_train_loss=0.34338251, val_loss=0.59111622]\n",
      "Validation Epoch [15/25]: 100%|██████████████████████████████████████████████████████████████████| 10/10 [00:01<00:00,  9.08it/s, val_loss=0.62085853]\n",
      "Training Epoch [16/25]: 100%|████████████████████████████████████████| 10/10 [00:01<00:00,  8.55it/s, curr_train_loss=0.27243212, val_loss=0.62085853]\n",
      "Validation Epoch [16/25]: 100%|██████████████████████████████████████████████████████████████████| 10/10 [00:01<00:00,  9.13it/s, val_loss=0.62929890]\n",
      "Training Epoch [17/25]: 100%|████████████████████████████████████████| 10/10 [00:01<00:00,  8.73it/s, curr_train_loss=0.31688521, val_loss=0.62929890]\n",
      "Validation Epoch [17/25]: 100%|██████████████████████████████████████████████████████████████████| 10/10 [00:01<00:00,  9.23it/s, val_loss=0.58567173]\n",
      "Training Epoch [18/25]: 100%|████████████████████████████████████████| 10/10 [00:01<00:00,  8.81it/s, curr_train_loss=0.23999997, val_loss=0.58567173]\n",
      "Validation Epoch [18/25]: 100%|██████████████████████████████████████████████████████████████████| 10/10 [00:01<00:00,  9.08it/s, val_loss=0.60886859]\n",
      "Training Epoch [19/25]: 100%|████████████████████████████████████████| 10/10 [00:01<00:00,  8.70it/s, curr_train_loss=0.21889218, val_loss=0.60886859]\n",
      "Validation Epoch [19/25]: 100%|██████████████████████████████████████████████████████████████████| 10/10 [00:01<00:00,  8.96it/s, val_loss=0.59275336]\n",
      "Training Epoch [20/25]: 100%|████████████████████████████████████████| 10/10 [00:01<00:00,  8.63it/s, curr_train_loss=0.17605251, val_loss=0.59275336]\n",
      "Validation Epoch [20/25]: 100%|██████████████████████████████████████████████████████████████████| 10/10 [00:01<00:00,  9.00it/s, val_loss=0.55801658]\n",
      "Training Epoch [21/25]: 100%|████████████████████████████████████████| 10/10 [00:01<00:00,  8.34it/s, curr_train_loss=0.31611316, val_loss=0.55801658]\n",
      "Validation Epoch [21/25]: 100%|██████████████████████████████████████████████████████████████████| 10/10 [00:01<00:00,  9.30it/s, val_loss=0.54704266]\n",
      "Training Epoch [22/25]: 100%|████████████████████████████████████████| 10/10 [00:01<00:00,  8.42it/s, curr_train_loss=0.16958773, val_loss=0.54704266]\n",
      "Validation Epoch [22/25]: 100%|██████████████████████████████████████████████████████████████████| 10/10 [00:01<00:00,  9.35it/s, val_loss=0.51634548]\n",
      "Training Epoch [23/25]: 100%|████████████████████████████████████████| 10/10 [00:01<00:00,  8.76it/s, curr_train_loss=0.14486561, val_loss=0.51634548]\n",
      "Validation Epoch [23/25]: 100%|██████████████████████████████████████████████████████████████████| 10/10 [00:01<00:00,  8.85it/s, val_loss=0.46962835]\n",
      "Training Epoch [24/25]: 100%|████████████████████████████████████████| 10/10 [00:01<00:00,  8.67it/s, curr_train_loss=0.20714925, val_loss=0.46962835]\n",
      "Validation Epoch [24/25]: 100%|██████████████████████████████████████████████████████████████████| 10/10 [00:01<00:00,  9.28it/s, val_loss=0.45363313]\n",
      "Training Epoch [25/25]: 100%|████████████████████████████████████████| 10/10 [00:01<00:00,  8.76it/s, curr_train_loss=0.15701725, val_loss=0.45363313]\n",
      "Validation Epoch [25/25]: 100%|██████████████████████████████████████████████████████████████████| 10/10 [00:01<00:00,  8.56it/s, val_loss=0.45921589]"
     ]
    },
    {
     "name": "stdout",
     "output_type": "stream",
     "text": [
      "Finished training!\n"
     ]
    },
    {
     "name": "stderr",
     "output_type": "stream",
     "text": [
      "\n"
     ]
    }
   ],
   "source": [
    "\n",
    "# Create a tensorboard logger.\n",
    "# NOTE: In order to see the logs, run the following command in the terminal: tensorboard --logdir=./\n",
    "# Also, in order to reset the logs, delete the logs folder MANUALLY.\n",
    "# Pay attention that if you run this cell mutltiple times, the pretrained_encoder\n",
    "# is not reset, and will keep training from where it stopped. Thus, it could overfit.\n",
    "\n",
    "path = os.path.join('logs', 'pretrained_cls_logs')\n",
    "num_of_runs = len(os.listdir(path)) if os.path.exists(path) else 0\n",
    "path = os.path.join(path, f'run_{num_of_runs + 1}')\n",
    "tb_logger = SummaryWriter(path)\n",
    "\n",
    "batch_size = hparams.get('batch_size', 10)\n",
    "labled_train_loader = torch.utils.data.DataLoader(train_100_dataset, batch_size=batch_size, shuffle=True)\n",
    "labled_val_loader = torch.utils.data.DataLoader(val_100_dataset, batch_size=batch_size, shuffle=False)\n",
    "\n",
    "epochs = hparams.get('epochs', 25)\n",
    "loss_func = nn.CrossEntropyLoss() # The loss function we use for classification.\n",
    "train_classifier(classifier_pretrained, labled_train_loader, labled_val_loader, loss_func, tb_logger, epochs=epochs, name='Pretrained')\n",
    "\n",
    "print(\"Finished training!\") "
   ]
  },
  {
   "cell_type": "code",
   "execution_count": 372,
   "metadata": {},
   "outputs": [
    {
     "name": "stdout",
     "output_type": "stream",
     "text": [
      "Finished training!\n",
      "How did we do? Let's check the accuracy of the defaut classifier on the training and validation sets:\n",
      "Training Acc: 100.0%\n",
      "Validation Acc: 73.0%\n"
     ]
    }
   ],
   "source": [
    "print(\"Finished training!\")\n",
    "print(\"How did we do? Let's check the accuracy of the defaut classifier on the training and validation sets:\")\n",
    "print(f\"Training Acc: {classifier.getAcc(labled_train_loader)[1] * 100}%\")\n",
    "print(f\"Validation Acc: {classifier.getAcc(labled_val_loader)[1] * 100}%\")"
   ]
  },
  {
   "attachments": {},
   "cell_type": "markdown",
   "metadata": {
    "id": "H-pm1MY_MNks"
   },
   "source": [
    "Let's have a look at the validation accuracy of the two different classifiers and compare them. And don't forget that you can also monitor your training in TensorBoard.\n",
    "\n",
    "We will only look at the test accuracy and compare our two classifiers with respect to that in the very end."
   ]
  },
  {
   "cell_type": "code",
   "execution_count": 116,
   "metadata": {
    "id": "-e5Bd9KLMNkt"
   },
   "outputs": [
    {
     "name": "stdout",
     "output_type": "stream",
     "text": [
      "Validation accuracy when training from scratch: \u001b[92m71.0\u001b[0m%\n",
      "Validation accuracy with pretraining: \u001b[92m85.0\u001b[0m%\n"
     ]
    }
   ],
   "source": [
    "val_acc_scracth = classifier.getAcc(labled_val_loader)[1]*100\n",
    "color = 'green' if val_acc_scracth > 55 else 'red'\n",
    "print(f\"Validation accuracy when training from scratch: {bcolors.colorize(color, val_acc_scracth)}%\")\n",
    "\n",
    "val_acc_pretrained = classifier_pretrained.getAcc(labled_val_loader)[1]*100\n",
    "color = 'green' if val_acc_pretrained > 55 else 'red'\n",
    "print(f\"Validation accuracy with pretraining: {bcolors.colorize(color, val_acc_pretrained)}%\")\n",
    "\n",
    "\n"
   ]
  },
  {
   "attachments": {},
   "cell_type": "markdown",
   "metadata": {
    "id": "zAp2OTyf4_5b"
   },
   "source": [
    "Now that everything is working, feel free to play around with different architectures. As you've seen, it's quite easy to define your model or do adpations there.\n",
    "\n",
    "To pass this submission, you will need to achieve an accuracy of **55%**."
   ]
  },
  {
   "attachments": {},
   "cell_type": "markdown",
   "metadata": {
    "id": "OmEYmRT-5S-e"
   },
   "source": [
    "# Save your model & Report Test Accuracy\n",
    "\n",
    "When you are finally done with your **hyperparameter tuning**, achieved **at least 55% validation accuracy** and are happy with your final model, you can save it here.\n",
    "\n",
    "Before that, please check again whether the number of parameters is below 5 Mio and the file size is below 20 MB.\n",
    "\n",
    "Once your final model is saved, we'll finally report the test accuracy."
   ]
  },
  {
   "cell_type": "code",
   "execution_count": 131,
   "metadata": {
    "id": "S69ETKxD5TcE"
   },
   "outputs": [
    {
     "name": "stdout",
     "output_type": "stream",
     "text": [
      "Test accuracy when training from scratch: \u001b[92m72.0\u001b[0m%\n",
      "Test accuracy with pretraining: \u001b[92m88.0\u001b[0m%\n",
      "Validation Accuracy: \u001b[92m86.0\u001b[0m%\n",
      "# Paramters: Your model has \u001b[92m0.575\u001b[0m mio. params.\n",
      "Size: Great! Your model size is \u001b[92m4.5\u001b[0m MB and is less than 20 MB.\n",
      "Your model has been saved and is ready to be submitted.\n"
     ]
    }
   ],
   "source": [
    "from exercise_code.Util import test_and_save\n",
    "test_dl = torch.utils.data.DataLoader(test_100_dataset, batch_size=4, shuffle=False)\n",
    "\n",
    "test_acc = classifier.getAcc(test_dl)[1]*100\n",
    "color = 'green' if test_acc > 55 else 'red'\n",
    "print(f\"Test accuracy when training from scratch: {bcolors.colorize(color, test_acc)}%\")\n",
    "\n",
    "test_acc = classifier_pretrained.getAcc(test_dl)[1]*100\n",
    "color = 'green' if test_acc > 55 else 'red'\n",
    "print(f\"Test accuracy with pretraining: {bcolors.colorize(color, test_acc)}%\")\n",
    "\n",
    "test_and_save(classifier_pretrained, labled_val_loader, test_dl)"
   ]
  },
  {
   "cell_type": "code",
   "execution_count": 127,
   "metadata": {
    "id": "enZCnGL6MNkt"
   },
   "outputs": [
    {
     "name": "stdout",
     "output_type": "stream",
     "text": [
      "relevant folders: ['exercise_code', 'models']\n",
      "notebooks files: ['1_Autoencoder.ipynb', 'Optional-BatchNormalization_Dropout.ipynb']\n",
      "Adding folder exercise_code\n",
      "Adding folder models\n",
      "Adding notebook 1_Autoencoder.ipynb\n",
      "Adding notebook Optional-BatchNormalization_Dropout.ipynb\n",
      "Zipping successful! Zip is stored under: /Users/anar/Desktop/TUM/i2dl/output/exercise_08.zip\n"
     ]
    }
   ],
   "source": [
    "# Now zip the folder for upload\n",
    "from exercise_code.submit import submit_exercise\n",
    "\n",
    "submit_exercise('../output/exercise_08')"
   ]
  },
  {
   "attachments": {},
   "cell_type": "markdown",
   "metadata": {
    "id": "7fuo3Tf9MNku",
    "pycharm": {
     "name": "#%% md\n"
    }
   },
   "source": [
    "Congratulations on completing your first autoencoder and successfully transferring the weights to a classifier! It's remarkable how much easier this process becomes with the power of PyTorch, compared to working with plain NumPy, right?\n",
    "\n",
    "To complete the exercise, please submit your final model to [our submission portal](https://i2dl.vc.in.tum.de/) - you should be already familiar with the submission procedure. Next, it is time to get started with some more complex neural networks and tasks in the upcoming exercises. See you next week!\n",
    "\n",
    "# Submission Goals\n",
    "\n",
    "- Goal: Successfully implement a fully connected autoencoder for MNIST with Pytorch and transfer the encoder weights to a classifier.\n",
    "\n",
    "- Passing Criteria: There are no unit tests that check specific components of your code. The only thing that's required to pass the submission, is your model to reach at least **55% accuracy** on __our__ test dataset. The submission system will show you a number between 0 and 100 which corresponds to your accuracy.\n",
    "\n",
    "\n",
    "- You can make **$\\infty$** submissions until the deadline. Your __best submission__ will be considered for the bonus."
   ]
  }
 ],
 "metadata": {
  "accelerator": "GPU",
  "colab": {
   "provenance": []
  },
  "kernelspec": {
   "display_name": "Python 3",
   "language": "python",
   "name": "python3"
  },
  "language_info": {
   "codemirror_mode": {
    "name": "ipython",
    "version": 3
   },
   "file_extension": ".py",
   "mimetype": "text/x-python",
   "name": "python",
   "nbconvert_exporter": "python",
   "pygments_lexer": "ipython3",
   "version": "3.10.13"
  },
  "vscode": {
   "interpreter": {
    "hash": "54970da6898dad277dbf355945c2dee7f942d2a31ec1fc1455b6d4f552d07b83"
   }
  }
 },
 "nbformat": 4,
 "nbformat_minor": 1
}
