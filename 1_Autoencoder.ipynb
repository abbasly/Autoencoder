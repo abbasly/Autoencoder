{
 "cells": [
  {
   "attachments": {},
   "cell_type": "markdown",
   "metadata": {
    "id": "9CALuVmNMNkM"
   },
   "source": [
    "# Autoencoder for MNIST\n",
    "\n",
    "Welcome to this notebook where you'll be training an autoencoder using the MNIST dataset, which comprises handwritten digits. This exercise is the last where we present you with a structured skeleton to work with. However, in following exercises, we will only provide you with the dataset, task, and a test scenario, enabling you to test your skills and compete with your peers on our leaderboards. Get ready to dive in and showcase your deep learning expertise!\n",
    "\n",
    "\n",
    "## Your task:\n",
    "\n",
    "Autoencoders have various applications, including unsupervised pretraining using unlabeled data, followed by fine-tuning the encoder with labeled data. This approach can greatly enhance performance when there is only a little amount of labeled data but a lot of unlabeled data available.\n",
    "\n",
    "In this exercise, you will use the MNIST dataset, consisting of 60,000 images of handwritten digits. However, not all the image labels are available to you. Your first objective is to train an autoencoder to accurately reproduce these unlabeled images.\n",
    "\n",
    "Afterwards, you will transfer the weights of the pretrained encoder and perform fine-tuning on a classifier using the available labeled data. This technique is commonly known as **transfer learning**, which allows you to leverage the knowledge gained from the autoencoder to improve the classification of the handwritten digits."
   ]
  },
  {
   "cell_type": "code",
   "execution_count": 33,
   "metadata": {
    "id": "XcU9f4APMNkT"
   },
   "outputs": [
    {
     "name": "stdout",
     "output_type": "stream",
     "text": [
      "The autoreload extension is already loaded. To reload it, use:\n",
      "  %reload_ext autoreload\n"
     ]
    }
   ],
   "source": [
    "# For automatic file reloading as usual\n",
    "%load_ext autoreload\n",
    "%autoreload 2\n",
    "%matplotlib inline"
   ]
  },
  {
   "attachments": {},
   "cell_type": "markdown",
   "metadata": {
    "id": "Xb9dFU2EMNkW"
   },
   "source": [
    "## (Optional) Mount folder in Colab\n",
    "\n",
    "Uncomment the following cell to mount your gdrive if you are using the notebook in google colab:"
   ]
  },
  {
   "cell_type": "code",
   "execution_count": null,
   "metadata": {
    "id": "TRr4E4YVMNkW"
   },
   "outputs": [],
   "source": [
    "# Use the following lines if you want to use Google Colab\n",
    "# We presume you created a folder \"i2dl\" within your main drive folder, and put the exercise there.\n",
    "# NOTE: terminate all other colab sessions that use GPU!\n",
    "# NOTE 2: Make sure the correct exercise folder (e.g exercise_08) is given.\n",
    "\n",
    "# from google.colab import drive\n",
    "# import os\n",
    "\n",
    "\"\"\"\n",
    "from google.colab import drive\n",
    "import os\n",
    "gdrive_path='/content/gdrive/MyDrive/i2dl/exercise_08'\n",
    "\n",
    "# This will mount your google drive under 'MyDrive'\n",
    "drive.mount('/content/gdrive', force_remount=True)\n",
    "# In order to access the files in this notebook we have to navigate to the correct folder\n",
    "os.chdir(gdrive_path)\n",
    "# Check manually if all files are present\n",
    "\"\"\""
   ]
  },
  {
   "attachments": {},
   "cell_type": "markdown",
   "metadata": {
    "id": "JzDQg-kDMNkY"
   },
   "source": [
    "### Set up PyTorch environment in colab\n",
    "- (OPTIONAL) Enable GPU via Runtime --> Change runtime type --> GPU\n",
    "- Uncomment the following cell if you are using the notebook in google colab:"
   ]
  },
  {
   "cell_type": "code",
   "execution_count": null,
   "metadata": {
    "id": "pIUdsXeXMNkZ"
   },
   "outputs": [],
   "source": [
    "# Optional: install correct libraries in google colab\n",
    "# !python -m pip install torch==1.11.0+cu113 torchvision==0.12.0+cu113 torchtext==0.12.0+cu113 torchaudio==0.12.0+cu113 -f https://download.pytorch.org/whl/torch_stable.html\n",
    "# !python -m pip install tensorboard==2.8.0 > /dev/null\n",
    "# !python -m pip install pytorch-lightning==1.6.0"
   ]
  },
  {
   "attachments": {},
   "cell_type": "markdown",
   "metadata": {
    "id": "hEDWAZ7-ZA4E"
   },
   "source": [
    "# Imports"
   ]
  },
  {
   "cell_type": "code",
   "execution_count": 1,
   "metadata": {
    "id": "dJCiVLV5o9QO"
   },
   "outputs": [
    {
     "name": "stderr",
     "output_type": "stream",
     "text": [
      "/Users/anar/anaconda3/envs/i2dl/lib/python3.10/site-packages/tqdm/auto.py:21: TqdmWarning: IProgress not found. Please update jupyter and ipywidgets. See https://ipywidgets.readthedocs.io/en/stable/user_install.html\n",
      "  from .autonotebook import tqdm as notebook_tqdm\n"
     ]
    }
   ],
   "source": [
    "import numpy as np\n",
    "import matplotlib.pyplot as plt\n",
    "from pathlib import Path\n",
    "import os, sys\n",
    "import shutil\n",
    "import torch\n",
    "import torch.nn as nn\n",
    "from torchvision import transforms\n",
    "from exercise_code.image_folder_dataset import ImageFolderDataset\n",
    "from torch.utils.tensorboard import SummaryWriter\n",
    "from time import sleep\n",
    "from tqdm import tqdm\n",
    "from exercise_code.tests.base_tests import bcolors\n",
    "\n",
    "torch.manual_seed(42)\n",
    "\n",
    "os.environ['KMP_DUPLICATE_LIB_OK']='True' # To prevent the kernel from dying."
   ]
  },
  {
   "attachments": {},
   "cell_type": "markdown",
   "metadata": {
    "id": "dvaj6myXS7nN"
   },
   "source": [
    "<div class=\"alert alert-warning\">\n",
    "    <h3>Note: Google Colab</h3>\n",
    "    <p>\n",
    "In case you don't have a GPU, you can run this notebook on Google Colab where you can access a GPU for free, but, of course, you can also run this notebook on your CPU.\n",
    "         </p>\n",
    "</div>"
   ]
  },
  {
   "cell_type": "code",
   "execution_count": 2,
   "metadata": {
    "id": "VWgm75NnS9hr"
   },
   "outputs": [
    {
     "name": "stdout",
     "output_type": "stream",
     "text": [
      "You are using the following device:  cpu\n"
     ]
    }
   ],
   "source": [
    "device = torch.device(\"cuda\" if torch.cuda.is_available() else \"cpu\")\n",
    "print('You are using the following device: ', device)"
   ]
  },
  {
   "attachments": {},
   "cell_type": "markdown",
   "metadata": {
    "id": "Pm_rTAPnpsUo"
   },
   "source": [
    "## Setup TensorBoard\n",
    "\n",
    "In the previous exercise (Exercise 07), you learned how to use TensorBoard effectively. Let's use it again to enhance the convenience of debugging your network and the training process. Throughout this notebook, feel free to implement additional logs or visualizations into your TensorBoard, further improving your analysis and understanding of the network's behavior. "
   ]
  },
  {
   "cell_type": "code",
   "execution_count": null,
   "metadata": {
    "id": "QbAJFyHkMNke"
   },
   "outputs": [],
   "source": [
    "################# COLAB ONLY #################\n",
    "# %load_ext tensorboard\n",
    "# %tensorboard --logdir=./ --port 6006\n",
    "\n",
    "# Use the cmd for less trouble, if you can. From the working directory, run: tensorboard --logdir=./ --port 6006"
   ]
  },
  {
   "attachments": {},
   "cell_type": "markdown",
   "metadata": {
    "id": "t-Yt2KRiMNkf"
   },
   "source": [
    "# 1. The MNIST Dataset\n",
    "\n",
    "First, let's download the MNIST dataset. As mentioned at the beginning of this notebook, MNIST is a dataset of 60,000 images depicting handwritten digits. However, labeling such a large dataset can be a costly process, leaving us in a challenging situation.\n",
    "\n",
    "To overcome this, a practical approach is to label a small subset of the images. Let's consider a scenario where you have hired another student to perform the labeling task for you. After some time, you have been provided with 300 labeled images. Out of these, 100 images will be used for training, another 100 for validation, and the remaining 100 for testing. Undoubtedly, this poses a challenge due to the limited number of labeled samples.\n",
    "\n",
    "Now, you have the flexibility to define any transforms that you deem necessary, either at this point or at a later stage. However, it's important to note that during the final evaluation on the server, no transformations will be applied to the test set.\n",
    "\n",
    "Feel free to experiment with various transforms as you proceed (you can also pass without any transforms). \n",
    "\n",
    "\n",
    "**Note**: We do **not** apply any transformations or normalization to the test set at the time of final evaluation on our server."
   ]
  },
  {
   "cell_type": "code",
   "execution_count": 3,
   "metadata": {},
   "outputs": [],
   "source": [
    "from torchvision import transforms"
   ]
  },
  {
   "cell_type": "code",
   "execution_count": 132,
   "metadata": {
    "id": "U5_eopjbMNkf",
    "pycharm": {
     "name": "#%%\n"
    }
   },
   "outputs": [
    {
     "name": "stdout",
     "output_type": "stream",
     "text": [
      "Found dataset folder. Skipped downloading. If you face issues, please re-download the dataset using\n",
      "'--force_download=True'\n",
      "https://i2dl.vc.in.tum.de/static/data/mnist.zip\n",
      "Found dataset folder. Skipped downloading. If you face issues, please re-download the dataset using\n",
      "'--force_download=True'\n",
      "https://i2dl.vc.in.tum.de/static/data/mnist.zip\n",
      "Found dataset folder. Skipped downloading. If you face issues, please re-download the dataset using\n",
      "'--force_download=True'\n",
      "https://i2dl.vc.in.tum.de/static/data/mnist.zip\n",
      "Found dataset folder. Skipped downloading. If you face issues, please re-download the dataset using\n",
      "'--force_download=True'\n",
      "https://i2dl.vc.in.tum.de/static/data/mnist.zip\n",
      "Found dataset folder. Skipped downloading. If you face issues, please re-download the dataset using\n",
      "'--force_download=True'\n",
      "https://i2dl.vc.in.tum.de/static/data/mnist.zip\n"
     ]
    }
   ],
   "source": [
    "\n",
    "\n",
    "# transform = transforms.Compose([\n",
    "#     transforms.RandomRotation(degrees=10),  # Randomly rotate images by up to 10 degrees\n",
    "\n",
    "# ])\n",
    "\n",
    "data_transform = transforms.Compose([\n",
    "    transforms.RandomRotation(10),   # Randomly rotate the image up to 10 degrees\n",
    "    # transforms.RandomHorizontalFlip(),  # Randomly flip the image horizontally\n",
    "    # transforms.ToTensor(),  # Convert PIL image to PyTorch tensor\n",
    "    # transforms.Normalize((0.5,), (0.5,)),  # Normalize to the range [-1, 1]\n",
    "    # transforms.Lambda(lambda x: x + 0.3 * torch.randn_like(x)),  # Add random noise (optional)\n",
    "])\n",
    "\n",
    "########################################################################\n",
    "# TODO: Feel free to define transforms (Only data augmentation)        #\n",
    "########################################################################\n",
    "\n",
    "\n",
    "# pass\n",
    "\n",
    "########################################################################\n",
    "#                           END OF YOUR CODE                           #\n",
    "########################################################################\n",
    "\n",
    "i2dl_exercises_path = os.path.dirname(os.path.abspath(os.getcwd()))\n",
    "mnist_root = os.path.join(i2dl_exercises_path, \"datasets\", \"mnist\")\n",
    "\n",
    "train_100_dataset = ImageFolderDataset(root=mnist_root,images='train_images.pt',labels='train_labels.pt',force_download=False,verbose=True,transform=transform)\n",
    "val_100_dataset = ImageFolderDataset(root=mnist_root,images='val_images.pt',labels='val_labels.pt',force_download=False,verbose=True,transform=transform)\n",
    "test_100_dataset = ImageFolderDataset(root=mnist_root,images='test_images.pt',labels='test_labels.pt',force_download=False,verbose=True,transform=transform)\n",
    "\n",
    "# We also set up the unlabeled images which we will use later\n",
    "unlabeled_train = ImageFolderDataset(root=mnist_root,images='unlabeled_train_images.pt',force_download=False,verbose=True,transform=transform)\n",
    "unlabeled_val = ImageFolderDataset(root=mnist_root,images='unlabeled_val_images.pt',force_download=False,verbose=True,transform=transform)\n",
    "\n"
   ]
  },
  {
   "attachments": {},
   "cell_type": "markdown",
   "metadata": {
    "id": "zwrT1ckAMNkg"
   },
   "source": [
    "The dataset consists of tuples of 28x28 pixel PIL images and a label that is an integer from 0 to 9. \n",
    "\n",
    "Let's turn a few of the images into numpy arrays, to look at their shape and visualize them and see if the labels we paid for are correct."
   ]
  },
  {
   "cell_type": "code",
   "execution_count": 133,
   "metadata": {
    "id": "k7ct1J2CMNkh"
   },
   "outputs": [
    {
     "name": "stdout",
     "output_type": "stream",
     "text": [
      "The shape of our greyscale images:  (28, 28)\n"
     ]
    },
    {
     "data": {
      "image/png": "[encoded data removed]",
      "text/plain": [
       "<Figure size 1600x1600 with 10 Axes>"
      ]
     },
     "metadata": {},
     "output_type": "display_data"
    }
   ],
   "source": [
    "plt.rcParams['figure.figsize'] = (16,16) # Make the figures a bit bigger\n",
    "\n",
    "indices_arr = [83, 98, 92, 99, 78, 97, 90, 95, 93, 96]\n",
    "for i, index in enumerate(indices_arr):\n",
    "    image = np.array(train_100_dataset[index][0].squeeze()) # get the image of the data sample\n",
    "    label = train_100_dataset[index][1] # get the label of the data sample\n",
    "    plt.subplot(1, 10, i + 1)\n",
    "    plt.imshow(image, cmap='gray', interpolation='none')\n",
    "    plt.title(\"Class {}\".format(label))\n",
    "    \n",
    "plt.tight_layout()\n",
    "print('The shape of our greyscale images: ', image.shape)"
   ]
  },
  {
   "attachments": {},
   "cell_type": "markdown",
   "metadata": {
    "id": "V9sz_lHyqJoj"
   },
   "source": [
    "<div class=\"alert alert-warning\">\n",
    "    <h3>Note: Starting Simple</h3>\n",
    "    <p>\n",
    "Regardless of the size of the dataset, the first step is to evaluate the performance of a simple classifier. It is advisable to always start with a straightforward approach when tackling a problem and gradually build upon it to determine which changes yield improvements.</p>\n",
    "</div>\n",
    "\n",
    "# 2. A Simple Classifier\n",
    "\n",
    "In `exercise_code/models.py`, we prepared all classes for you, which you will finalize throughout the notebook to build an Autoencoder and an image classifier with PyTorch.\n",
    "\n",
    "<!-- In case image does not show, uncomment the following:\n",
    " ![network_split](img/network_split.png) \n",
    " -->\n",
    "<img name=\"network_split\" src=\"https://drive.google.com/uc?id=1Eu6C7UrYeTy_lqOLcnStGVYTBL8gfNoz\">\n",
    "\n",
    "\n",
    "## 2.1 The Encoder\n",
    "\n",
    "Unlike previous models, we are going to split up the model into two parts: the `encoder` and the `classifier`. The `classifier` has a fixed task, generating predictions given a one-dimensional input. On the other hand, the `encoder`'s task is to extract meaningful information from the input, enabling the classifier to make accurate decisions. \n",
    "\n",
    "For now, both networks will be similar in design and consist of linear layers coupled with auxiliary layers. This split-up will be relevant later, e.g., by using convolutional layers, which are introduced in the lecture. We are going to set up the `encoder` now. \n",
    "\n",
    "Think about a good network architecture. You have complete freedom in this regard and can devise any network structure you think might be fitting. (\\*)\n",
    "\n",
    "Have a look at the documentation of `torch.nn` at https://pytorch.org/docs/stable/nn.html to learn how to use this module in order to build your network!\n",
    "\n",
    "Then implement your architecture: initialize it in `__init__()` and assign it to `self.model`. This is particularly easy using `nn.Sequential()`, where you only have to pass the list of your layers. \n",
    "\n",
    "To make your model customizable and support parameter search, do not use hardcoded hyperparameters - instead, pass them as a simple dictionary `hparams` (here, `n_hidden` is the number of neurons in the hidden layer) when initializing `models`.\n",
    "\n",
    "Here is a simple example:\n",
    "\n",
    "```python\n",
    "        self.model = nn.Sequential(\n",
    "            nn.Linear(input_size, self.hparams[\"n_hidden\"]),\n",
    "            nn.ReLU(),            \n",
    "            nn.Linear(self.hparams[\"n_hidden\"], num_classes)\n",
    "        )\n",
    "```\n",
    "\n",
    "Have a look at the forward path in `forward(self, x)`, which is so easy that you don't need to implement it yourself.\n",
    "\n",
    "As PyTorch automatically computes the gradients, that's all you need to do! There is no need to manually calculate derivatives for the backward paths anymore! :)\n",
    "\n",
    "\n",
    "____\n",
    "\\* *The size of your final model must be less than 20 MB, which is approximately equivalent to 5 Mio. params. Note that this limit is quite lenient, you will probably need much fewer parameters!*\n",
    "\n",
    "*In order to keep things simple, you should only use fully connected layers for this task, as we need to revert the encoder architecture later on in the notebook.*\n",
    "\n",
    "<div class=\"alert alert-info\">\n",
    "    <h3>Task: Implement</h3>\n",
    "    <p>Implement the <code>Encoder</code> class initialization in <code>exercise_code/models.py</code>.\n",
    "    </p>\n",
    "</div>\n",
    "\n",
    "\n"
   ]
  },
  {
   "attachments": {},
   "cell_type": "markdown",
   "metadata": {
    "id": "jNf7FrvwMNki"
   },
   "source": [
    "## 2.2 The Classifier\n",
    "\n",
    "Now let's implement the classifier. The classifier will utilize the encoder that you have defined in the above cell. By looking at `Classifier.forward`, you can see that we are essentially concatenating the `classifier`and the `encoder` together. Therefore, it is crucial to ensure that the input shape of the classifier matches the output shape of the encoder you implemented above\n",
    "\n",
    "<div class=\"alert alert-info\">\n",
    "    <h3>Task: Implement</h3>\n",
    "    <p>1. Implement the <code>Classifier</code> class network initialization in <code>exercise_code/models.py</code>.\n",
    "    </p>\n",
    "    <p>2. Define in the next cell your hyperparameters in a dictionary called 'hparams'.\n",
    "    </p>\n",
    "</div>"
   ]
  },
  {
   "cell_type": "code",
   "execution_count": 6,
   "metadata": {
    "id": "AawbvD1rMNkj"
   },
   "outputs": [],
   "source": [
    "hparams = {}\n",
    "########################################################################\n",
    "# TODO: Define your hyper parameters here!                             #\n",
    "########################################################################\n",
    "\n",
    "pass\n",
    "\n",
    "########################################################################\n",
    "#                           END OF YOUR CODE                           #\n",
    "########################################################################"
   ]
  },
  {
   "attachments": {},
   "cell_type": "markdown",
   "metadata": {
    "id": "bOYbUg8lAmgU"
   },
   "source": [
    "\n",
    "## 2.3 Optimizer\n",
    "Lastly, implement the function `set_optimizer` to define your optimizer. Here the documentation of `torch.optim` at https://pytorch.org/docs/stable/optim.html might be helpful.\n",
    "\n",
    "<div class=\"alert alert-info\">\n",
    "    <h3>Task: Implement</h3>\n",
    "    <p>Implement the <code>set_optimizer</code> method of the <code>Classifier</code> in <code>exercise_code/models.py</code>.\n",
    "    </p>\n",
    "</div>\n"
   ]
  },
  {
   "attachments": {},
   "cell_type": "markdown",
   "metadata": {
    "id": "xrUfa-a7MNkk"
   },
   "source": [
    "## 2.4 Training & Validation Step\n",
    "\n",
    "<div class=\"alert alert-success\">\n",
    "    <h3>Task: Check Code</h3>\n",
    "    <p> Let's take a closer look at the training pipeline outlined below. It is explicitly written here in its entirety to provide you with a comprehensive understanding of its structure. Additionally, you can refer back to this pipeline whenever you encounter any uncertainties or need guidance.\n",
    " </p>\n",
    "</div>\n"
   ]
  },
  {
   "cell_type": "code",
   "execution_count": 7,
   "metadata": {
    "id": "NY_lLaNWMNkk"
   },
   "outputs": [],
   "source": [
    " # One of the most crucial things in deep learning is to understand the training pipeline:\n",
    " # 1. Forward()          --> The forward pass of the network, to calculate the currnent loss.\n",
    " # 2. Backward()         --> The backward pass of the network, to calculate the gradients w.r.t the loss, calculated in the previous stage.\n",
    " # 3. Optimizer_step()   --> Update the weights w.r.t their corresponding gradients and the learnign rate.\n",
    "\n",
    "def create_tqdm_bar(iterable, desc):\n",
    "    return tqdm(enumerate(iterable),total=len(iterable), ncols=150, desc=desc)\n",
    "\n",
    "\n",
    "def train_classifier(classifier, train_loader, val_loader, loss_func, tb_logger, epochs=10, name=\"default\"):\n",
    "    \"\"\"\n",
    "    Train the classifier for a number of epochs.\n",
    "    \"\"\"\n",
    "    optimizer = classifier.optimizer\n",
    "    classifier = classifier.to(device)\n",
    "    validation_loss = 0\n",
    "    for epoch in range(epochs):\n",
    "        \n",
    "        training_loss = 0\n",
    "        \n",
    "        # Training stage, where we want to update the parameters.\n",
    "        classifier.train()  # Set the model to training mode\n",
    "        \n",
    "        # Create a progress bar for the training loop.\n",
    "        training_loop = create_tqdm_bar(train_loader, desc=f'Training Epoch [{epoch + 1}/{epochs}]')\n",
    "        for train_iteration, batch in training_loop:\n",
    "            optimizer.zero_grad() # Reset the gradients - VERY important! Otherwise they accumulate.\n",
    "            images, labels = batch # Get the images and labels from the batch, in the fashion we defined in the dataset and dataloader.\n",
    "            images, labels = images.to(device), labels.to(device) # Send the data to the device (GPU or CPU) - it has to be the same device as the model.\n",
    "\n",
    "            # Flatten the images to a vector. This is done because the classifier expects a vector as input.\n",
    "            # Could also be done by reshaping the images in the dataset.\n",
    "            images = images.view(images.shape[0], -1) \n",
    "\n",
    "            pred = classifier(images) # Stage 1: Forward().\n",
    "            loss = loss_func(pred, labels) # Compute the loss over the predictions and the ground truth.\n",
    "            loss.backward()  # Stage 2: Backward().\n",
    "            optimizer.step() # Stage 3: Update the parameters.\n",
    "\n",
    "            training_loss += loss.item()\n",
    "\n",
    "            # Update the progress bar.\n",
    "            training_loop.set_postfix(curr_train_loss = \"{:.8f}\".format(training_loss / (train_iteration + 1)), val_loss = \"{:.8f}\".format(validation_loss))\n",
    "\n",
    "            # Update the tensorboard logger.\n",
    "            tb_logger.add_scalar(f'classifier_{name}/train_loss', loss.item(), epoch * len(train_loader) + train_iteration)\n",
    "            sleep(0.1) # Remove this line if you want to see the progress bar faster.\n",
    "\n",
    "        # Validation stage, where we don't want to update the parameters. Pay attention to the classifier.eval() line\n",
    "        # and \"with torch.no_grad()\" wrapper.\n",
    "        classifier.eval()\n",
    "        val_loop = create_tqdm_bar(val_loader, desc=f'Validation Epoch [{epoch + 1}/{epochs}]')\n",
    "        validation_loss = 0\n",
    "        with torch.no_grad():\n",
    "            for val_iteration, batch in val_loop:\n",
    "                images, labels = batch\n",
    "                images, labels = images.to(device), labels.to(device)\n",
    "\n",
    "                images = images.view(images.shape[0], -1) \n",
    "                pred = classifier(images)\n",
    "                loss = loss_func(pred, labels)\n",
    "                validation_loss += loss.item()\n",
    "\n",
    "                # Update the progress bar.\n",
    "                val_loop.set_postfix(val_loss = \"{:.8f}\".format(validation_loss / (val_iteration + 1)))\n",
    "\n",
    "                # Update the tensorboard logger.\n",
    "                tb_logger.add_scalar(f'classifier_{name}/val_loss', loss.item(), epoch * len(val_loader) + val_iteration)\n",
    "                sleep(0.1) # Remove this line if you want to see the progress bar faster.\n",
    "        \n",
    "        # This value is used for the progress bar of the training loop.\n",
    "        validation_loss /= len(val_loader)\n",
    "            "
   ]
  },
  {
   "attachments": {},
   "cell_type": "markdown",
   "metadata": {
    "id": "KVKLlwlyMNkl"
   },
   "source": [
    "## 2.5 Fit Classification Model with Trainer\n",
    "Now it's finally time to train your model.\n",
    "Run the following cell to see the behold the magic of deep learning at play."
   ]
  },
  {
   "cell_type": "code",
   "execution_count": 134,
   "metadata": {
    "id": "uBGavq9cMNkl"
   },
   "outputs": [
    {
     "name": "stderr",
     "output_type": "stream",
     "text": [
      "Training Epoch [1/50]: 100%|███████████████████████████████████████████| 5/5 [00:00<00:00,  8.80it/s, curr_train_loss=2.26697359, val_loss=0.00000000]\n",
      "Validation Epoch [1/50]: 100%|█████████████████████████████████████████████████████████████████████| 5/5 [00:00<00:00,  8.97it/s, val_loss=2.30975690]\n",
      "Training Epoch [2/50]: 100%|███████████████████████████████████████████| 5/5 [00:00<00:00,  8.94it/s, curr_train_loss=2.12248311, val_loss=2.30975690]\n",
      "Validation Epoch [2/50]: 100%|█████████████████████████████████████████████████████████████████████| 5/5 [00:00<00:00,  8.89it/s, val_loss=2.30519767]\n",
      "Training Epoch [3/50]: 100%|███████████████████████████████████████████| 5/5 [00:00<00:00,  8.39it/s, curr_train_loss=1.97105937, val_loss=2.30519767]\n",
      "Validation Epoch [3/50]: 100%|█████████████████████████████████████████████████████████████████████| 5/5 [00:00<00:00,  8.61it/s, val_loss=2.27984109]\n",
      "Training Epoch [4/50]: 100%|███████████████████████████████████████████| 5/5 [00:00<00:00,  8.25it/s, curr_train_loss=1.71544070, val_loss=2.27984109]\n",
      "Validation Epoch [4/50]: 100%|█████████████████████████████████████████████████████████████████████| 5/5 [00:00<00:00,  8.60it/s, val_loss=2.21945586]\n",
      "Training Epoch [5/50]: 100%|███████████████████████████████████████████| 5/5 [00:00<00:00,  8.29it/s, curr_train_loss=1.59787829, val_loss=2.21945586]\n",
      "Validation Epoch [5/50]: 100%|█████████████████████████████████████████████████████████████████████| 5/5 [00:00<00:00,  8.75it/s, val_loss=2.08645811]\n",
      "Training Epoch [6/50]: 100%|███████████████████████████████████████████| 5/5 [00:00<00:00,  8.33it/s, curr_train_loss=1.47561088, val_loss=2.08645811]\n",
      "Validation Epoch [6/50]: 100%|█████████████████████████████████████████████████████████████████████| 5/5 [00:00<00:00,  8.73it/s, val_loss=1.95228250]\n",
      "Training Epoch [7/50]: 100%|███████████████████████████████████████████| 5/5 [00:00<00:00,  8.49it/s, curr_train_loss=1.37242954, val_loss=1.95228250]\n",
      "Validation Epoch [7/50]: 100%|█████████████████████████████████████████████████████████████████████| 5/5 [00:00<00:00,  8.70it/s, val_loss=1.81064892]\n",
      "Training Epoch [8/50]: 100%|███████████████████████████████████████████| 5/5 [00:00<00:00,  8.37it/s, curr_train_loss=1.24273837, val_loss=1.81064892]\n",
      "Validation Epoch [8/50]: 100%|█████████████████████████████████████████████████████████████████████| 5/5 [00:00<00:00,  8.83it/s, val_loss=1.72056184]\n",
      "Training Epoch [9/50]: 100%|███████████████████████████████████████████| 5/5 [00:00<00:00,  8.82it/s, curr_train_loss=1.16041067, val_loss=1.72056184]\n",
      "Validation Epoch [9/50]: 100%|█████████████████████████████████████████████████████████████████████| 5/5 [00:00<00:00,  8.70it/s, val_loss=1.66977754]\n",
      "Training Epoch [10/50]: 100%|██████████████████████████████████████████| 5/5 [00:00<00:00,  8.45it/s, curr_train_loss=1.05121968, val_loss=1.66977754]\n",
      "Validation Epoch [10/50]: 100%|████████████████████████████████████████████████████████████████████| 5/5 [00:00<00:00,  8.71it/s, val_loss=1.62664392]\n",
      "Training Epoch [11/50]: 100%|██████████████████████████████████████████| 5/5 [00:00<00:00,  8.40it/s, curr_train_loss=1.02890702, val_loss=1.62664392]\n",
      "Validation Epoch [11/50]: 100%|████████████████████████████████████████████████████████████████████| 5/5 [00:00<00:00,  8.81it/s, val_loss=1.55935705]\n",
      "Training Epoch [12/50]: 100%|██████████████████████████████████████████| 5/5 [00:00<00:00,  8.53it/s, curr_train_loss=0.88341479, val_loss=1.55935705]\n",
      "Validation Epoch [12/50]: 100%|████████████████████████████████████████████████████████████████████| 5/5 [00:00<00:00,  8.72it/s, val_loss=1.50280166]\n",
      "Training Epoch [13/50]: 100%|██████████████████████████████████████████| 5/5 [00:00<00:00,  8.45it/s, curr_train_loss=0.89899173, val_loss=1.50280166]\n",
      "Validation Epoch [13/50]: 100%|████████████████████████████████████████████████████████████████████| 5/5 [00:00<00:00,  8.72it/s, val_loss=1.49426444]\n",
      "Training Epoch [14/50]: 100%|██████████████████████████████████████████| 5/5 [00:00<00:00,  8.75it/s, curr_train_loss=0.77881405, val_loss=1.49426444]\n",
      "Validation Epoch [14/50]: 100%|████████████████████████████████████████████████████████████████████| 5/5 [00:00<00:00,  9.06it/s, val_loss=1.40589204]\n",
      "Training Epoch [15/50]: 100%|██████████████████████████████████████████| 5/5 [00:00<00:00,  8.77it/s, curr_train_loss=0.71882633, val_loss=1.40589204]\n",
      "Validation Epoch [15/50]: 100%|████████████████████████████████████████████████████████████████████| 5/5 [00:00<00:00,  8.75it/s, val_loss=1.37779925]\n",
      "Training Epoch [16/50]: 100%|██████████████████████████████████████████| 5/5 [00:00<00:00,  8.56it/s, curr_train_loss=0.66981176, val_loss=1.37779925]\n",
      "Validation Epoch [16/50]: 100%|████████████████████████████████████████████████████████████████████| 5/5 [00:00<00:00,  8.65it/s, val_loss=1.32669961]\n",
      "Training Epoch [17/50]: 100%|██████████████████████████████████████████| 5/5 [00:00<00:00,  8.43it/s, curr_train_loss=0.60982979, val_loss=1.32669961]\n",
      "Validation Epoch [17/50]: 100%|████████████████████████████████████████████████████████████████████| 5/5 [00:00<00:00,  8.68it/s, val_loss=1.32102265]\n",
      "Training Epoch [18/50]: 100%|██████████████████████████████████████████| 5/5 [00:00<00:00,  8.40it/s, curr_train_loss=0.65566530, val_loss=1.32102265]\n",
      "Validation Epoch [18/50]: 100%|████████████████████████████████████████████████████████████████████| 5/5 [00:00<00:00,  8.69it/s, val_loss=1.22512676]\n",
      "Training Epoch [19/50]: 100%|██████████████████████████████████████████| 5/5 [00:00<00:00,  8.36it/s, curr_train_loss=0.53992783, val_loss=1.22512676]\n",
      "Validation Epoch [19/50]: 100%|████████████████████████████████████████████████████████████████████| 5/5 [00:00<00:00,  8.81it/s, val_loss=1.25973067]\n",
      "Training Epoch [20/50]: 100%|██████████████████████████████████████████| 5/5 [00:00<00:00,  8.37it/s, curr_train_loss=0.49938667, val_loss=1.25973067]\n",
      "Validation Epoch [20/50]: 100%|████████████████████████████████████████████████████████████████████| 5/5 [00:00<00:00,  9.14it/s, val_loss=1.27722683]\n",
      "Training Epoch [21/50]: 100%|██████████████████████████████████████████| 5/5 [00:00<00:00,  8.14it/s, curr_train_loss=0.39745486, val_loss=1.27722683]\n",
      "Validation Epoch [21/50]: 100%|████████████████████████████████████████████████████████████████████| 5/5 [00:00<00:00,  8.48it/s, val_loss=1.18545057]\n",
      "Training Epoch [22/50]: 100%|██████████████████████████████████████████| 5/5 [00:00<00:00,  8.15it/s, curr_train_loss=0.40852301, val_loss=1.18545057]\n",
      "Validation Epoch [22/50]: 100%|████████████████████████████████████████████████████████████████████| 5/5 [00:00<00:00,  8.45it/s, val_loss=1.21227429]\n",
      "Training Epoch [23/50]: 100%|██████████████████████████████████████████| 5/5 [00:00<00:00,  7.95it/s, curr_train_loss=0.42362143, val_loss=1.21227429]\n",
      "Validation Epoch [23/50]: 100%|████████████████████████████████████████████████████████████████████| 5/5 [00:00<00:00,  8.61it/s, val_loss=1.21691304]\n",
      "Training Epoch [24/50]: 100%|██████████████████████████████████████████| 5/5 [00:00<00:00,  8.35it/s, curr_train_loss=0.39487687, val_loss=1.21691304]\n",
      "Validation Epoch [24/50]: 100%|████████████████████████████████████████████████████████████████████| 5/5 [00:00<00:00,  8.58it/s, val_loss=1.10626597]\n",
      "Training Epoch [25/50]: 100%|██████████████████████████████████████████| 5/5 [00:00<00:00,  8.09it/s, curr_train_loss=0.39985190, val_loss=1.10626597]\n",
      "Validation Epoch [25/50]: 100%|████████████████████████████████████████████████████████████████████| 5/5 [00:00<00:00,  8.77it/s, val_loss=1.15693871]\n",
      "Training Epoch [26/50]: 100%|██████████████████████████████████████████| 5/5 [00:00<00:00,  8.05it/s, curr_train_loss=0.35590314, val_loss=1.15693871]\n",
      "Validation Epoch [26/50]: 100%|████████████████████████████████████████████████████████████████████| 5/5 [00:00<00:00,  8.76it/s, val_loss=1.15617244]\n",
      "Training Epoch [27/50]: 100%|██████████████████████████████████████████| 5/5 [00:00<00:00,  7.95it/s, curr_train_loss=0.36699899, val_loss=1.15617244]\n",
      "Validation Epoch [27/50]: 100%|████████████████████████████████████████████████████████████████████| 5/5 [00:00<00:00,  8.90it/s, val_loss=1.10089061]\n",
      "Training Epoch [28/50]: 100%|██████████████████████████████████████████| 5/5 [00:00<00:00,  8.33it/s, curr_train_loss=0.32111129, val_loss=1.10089061]\n",
      "Validation Epoch [28/50]: 100%|████████████████████████████████████████████████████████████████████| 5/5 [00:00<00:00,  8.50it/s, val_loss=1.15869309]\n",
      "Training Epoch [29/50]: 100%|██████████████████████████████████████████| 5/5 [00:00<00:00,  8.27it/s, curr_train_loss=0.29963128, val_loss=1.15869309]\n",
      "Validation Epoch [29/50]: 100%|████████████████████████████████████████████████████████████████████| 5/5 [00:00<00:00,  8.67it/s, val_loss=1.11133665]\n",
      "Training Epoch [30/50]: 100%|██████████████████████████████████████████| 5/5 [00:00<00:00,  8.30it/s, curr_train_loss=0.31164094, val_loss=1.11133665]\n",
      "Validation Epoch [30/50]: 100%|████████████████████████████████████████████████████████████████████| 5/5 [00:00<00:00,  8.37it/s, val_loss=1.17708634]\n",
      "Training Epoch [31/50]: 100%|██████████████████████████████████████████| 5/5 [00:00<00:00,  8.46it/s, curr_train_loss=0.22771910, val_loss=1.17708634]\n",
      "Validation Epoch [31/50]: 100%|████████████████████████████████████████████████████████████████████| 5/5 [00:00<00:00,  8.77it/s, val_loss=1.09205676]\n",
      "Training Epoch [32/50]: 100%|██████████████████████████████████████████| 5/5 [00:00<00:00,  8.80it/s, curr_train_loss=0.27210576, val_loss=1.09205676]\n",
      "Validation Epoch [32/50]: 100%|████████████████████████████████████████████████████████████████████| 5/5 [00:00<00:00,  8.88it/s, val_loss=1.07905910]\n",
      "Training Epoch [33/50]: 100%|██████████████████████████████████████████| 5/5 [00:00<00:00,  8.59it/s, curr_train_loss=0.24508930, val_loss=1.07905910]\n",
      "Validation Epoch [33/50]: 100%|████████████████████████████████████████████████████████████████████| 5/5 [00:00<00:00,  8.70it/s, val_loss=1.05961970]\n",
      "Training Epoch [34/50]: 100%|██████████████████████████████████████████| 5/5 [00:00<00:00,  8.26it/s, curr_train_loss=0.23117325, val_loss=1.05961970]\n",
      "Validation Epoch [34/50]: 100%|████████████████████████████████████████████████████████████████████| 5/5 [00:00<00:00,  8.86it/s, val_loss=1.01622437]\n",
      "Training Epoch [35/50]: 100%|██████████████████████████████████████████| 5/5 [00:00<00:00,  8.40it/s, curr_train_loss=0.22174104, val_loss=1.01622437]\n",
      "Validation Epoch [35/50]: 100%|████████████████████████████████████████████████████████████████████| 5/5 [00:00<00:00,  8.74it/s, val_loss=0.98236573]\n",
      "Training Epoch [36/50]: 100%|██████████████████████████████████████████| 5/5 [00:00<00:00,  8.53it/s, curr_train_loss=0.20112122, val_loss=0.98236573]\n",
      "Validation Epoch [36/50]: 100%|████████████████████████████████████████████████████████████████████| 5/5 [00:00<00:00,  8.94it/s, val_loss=0.95918681]\n",
      "Training Epoch [37/50]: 100%|██████████████████████████████████████████| 5/5 [00:00<00:00,  8.42it/s, curr_train_loss=0.16981084, val_loss=0.95918681]\n",
      "Validation Epoch [37/50]: 100%|████████████████████████████████████████████████████████████████████| 5/5 [00:00<00:00,  8.74it/s, val_loss=0.97730991]\n",
      "Training Epoch [38/50]: 100%|██████████████████████████████████████████| 5/5 [00:00<00:00,  8.47it/s, curr_train_loss=0.17216692, val_loss=0.97730991]\n",
      "Validation Epoch [38/50]: 100%|████████████████████████████████████████████████████████████████████| 5/5 [00:00<00:00,  8.77it/s, val_loss=1.02978928]\n",
      "Training Epoch [39/50]: 100%|██████████████████████████████████████████| 5/5 [00:00<00:00,  8.47it/s, curr_train_loss=0.18059771, val_loss=1.02978928]\n",
      "Validation Epoch [39/50]: 100%|████████████████████████████████████████████████████████████████████| 5/5 [00:00<00:00,  8.97it/s, val_loss=0.95904588]\n",
      "Training Epoch [40/50]: 100%|██████████████████████████████████████████| 5/5 [00:00<00:00,  8.47it/s, curr_train_loss=0.23044180, val_loss=0.95904588]\n",
      "Validation Epoch [40/50]: 100%|████████████████████████████████████████████████████████████████████| 5/5 [00:00<00:00,  8.92it/s, val_loss=0.97830477]\n",
      "Training Epoch [41/50]: 100%|██████████████████████████████████████████| 5/5 [00:00<00:00,  8.51it/s, curr_train_loss=0.17311969, val_loss=0.97830477]\n",
      "Validation Epoch [41/50]: 100%|████████████████████████████████████████████████████████████████████| 5/5 [00:00<00:00,  8.70it/s, val_loss=0.92824537]\n",
      "Training Epoch [42/50]: 100%|██████████████████████████████████████████| 5/5 [00:00<00:00,  8.70it/s, curr_train_loss=0.14666974, val_loss=0.92824537]\n",
      "Validation Epoch [42/50]: 100%|████████████████████████████████████████████████████████████████████| 5/5 [00:00<00:00,  8.86it/s, val_loss=0.98925231]\n",
      "Training Epoch [43/50]: 100%|██████████████████████████████████████████| 5/5 [00:00<00:00,  8.51it/s, curr_train_loss=0.14977646, val_loss=0.98925231]\n",
      "Validation Epoch [43/50]: 100%|████████████████████████████████████████████████████████████████████| 5/5 [00:00<00:00,  8.75it/s, val_loss=0.91596203]\n",
      "Training Epoch [44/50]: 100%|██████████████████████████████████████████| 5/5 [00:00<00:00,  8.63it/s, curr_train_loss=0.17434469, val_loss=0.91596203]\n",
      "Validation Epoch [44/50]: 100%|████████████████████████████████████████████████████████████████████| 5/5 [00:00<00:00,  8.73it/s, val_loss=0.94263781]\n",
      "Training Epoch [45/50]: 100%|██████████████████████████████████████████| 5/5 [00:00<00:00,  8.53it/s, curr_train_loss=0.15226037, val_loss=0.94263781]\n",
      "Validation Epoch [45/50]: 100%|████████████████████████████████████████████████████████████████████| 5/5 [00:00<00:00,  8.94it/s, val_loss=0.98630091]\n",
      "Training Epoch [46/50]: 100%|██████████████████████████████████████████| 5/5 [00:00<00:00,  8.48it/s, curr_train_loss=0.16977948, val_loss=0.98630091]\n",
      "Validation Epoch [46/50]: 100%|████████████████████████████████████████████████████████████████████| 5/5 [00:00<00:00,  8.82it/s, val_loss=0.95045014]\n",
      "Training Epoch [47/50]: 100%|██████████████████████████████████████████| 5/5 [00:00<00:00,  8.37it/s, curr_train_loss=0.12033775, val_loss=0.95045014]\n",
      "Validation Epoch [47/50]: 100%|████████████████████████████████████████████████████████████████████| 5/5 [00:00<00:00,  8.68it/s, val_loss=0.86049775]\n",
      "Training Epoch [48/50]: 100%|██████████████████████████████████████████| 5/5 [00:00<00:00,  8.36it/s, curr_train_loss=0.13675341, val_loss=0.86049775]\n",
      "Validation Epoch [48/50]: 100%|████████████████████████████████████████████████████████████████████| 5/5 [00:00<00:00,  8.68it/s, val_loss=0.91493213]\n",
      "Training Epoch [49/50]: 100%|██████████████████████████████████████████| 5/5 [00:00<00:00,  8.39it/s, curr_train_loss=0.15015744, val_loss=0.91493213]\n",
      "Validation Epoch [49/50]: 100%|████████████████████████████████████████████████████████████████████| 5/5 [00:00<00:00,  8.69it/s, val_loss=0.90830126]\n",
      "Training Epoch [50/50]: 100%|██████████████████████████████████████████| 5/5 [00:00<00:00,  8.35it/s, curr_train_loss=0.09835754, val_loss=0.90830126]\n",
      "Validation Epoch [50/50]: 100%|████████████████████████████████████████████████████████████████████| 5/5 [00:00<00:00,  8.69it/s, val_loss=0.89961104]"
     ]
    },
    {
     "name": "stdout",
     "output_type": "stream",
     "text": [
      "Finished training!\n",
      "How did we do? Let's check the accuracy of the defaut classifier on the training and validation sets:\n",
      "Training Acc: 100.0%\n",
      "Validation Acc: 64.0%\n"
     ]
    },
    {
     "name": "stderr",
     "output_type": "stream",
     "text": [
      "\n"
     ]
    }
   ],
   "source": [
    "from exercise_code.models import Classifier\n",
    "from exercise_code.models import Encoder\n",
    "\n",
    "# Create the encoder and the classifier.\n",
    "encoder = Encoder(hparams).to(device)\n",
    "classifier = Classifier(hparams, encoder).to(device)\n",
    "\n",
    "# Create a tensorboard logger.\n",
    "# NOTE: In order to see the logs, run the following command in the terminal: tensorboard --logdir=./\n",
    "# Also, in order to reset the logs, delete the logs folder MANUALLY.\n",
    "\n",
    "path = os.path.join('logs', 'cls_logs')\n",
    "num_of_runs = len(os.listdir(path)) if os.path.exists(path) else 0\n",
    "path = os.path.join(path, f'run_{num_of_runs + 1}')\n",
    "\n",
    "tb_logger = SummaryWriter(path)\n",
    "\n",
    "# Train the classifier.\n",
    "labled_train_loader = torch.utils.data.DataLoader(train_100_dataset, batch_size=20, shuffle=True)\n",
    "labled_val_loader = torch.utils.data.DataLoader(val_100_dataset, batch_size=20, shuffle=False)\n",
    "\n",
    "epochs = hparams.get('epochs', 50)\n",
    "loss_func = nn.CrossEntropyLoss() # The loss function we use for classification.\n",
    "train_classifier(classifier, labled_train_loader, labled_val_loader, loss_func, tb_logger, epochs=epochs, name=\"Default\")\n",
    "\n",
    "print(\"Finished training!\")\n",
    "print(\"How did we do? Let's check the accuracy of the defaut classifier on the training and validation sets:\")\n",
    "print(f\"Training Acc: {classifier.getAcc(labled_train_loader)[1] * 100}%\")\n",
    "print(f\"Validation Acc: {classifier.getAcc(labled_val_loader)[1] * 100}%\")"
   ]
  },
  {
   "cell_type": "code",
   "execution_count": 48,
   "metadata": {},
   "outputs": [
    {
     "name": "stdout",
     "output_type": "stream",
     "text": [
      "Finished training!\n",
      "How did we do? Let's check the accuracy of the defaut classifier on the training and validation sets:\n",
      "Training Acc: 100.0%\n",
      "Validation Acc: 74.0%\n"
     ]
    }
   ],
   "source": [
    "print(\"Finished training!\")\n",
    "print(\"How did we do? Let's check the accuracy of the defaut classifier on the training and validation sets:\")\n",
    "print(f\"Training Acc: {classifier.getAcc(labled_train_loader)[1] * 100}%\")\n",
    "print(f\"Validation Acc: {classifier.getAcc(labled_val_loader)[1] * 100}%\")"
   ]
  },
  {
   "attachments": {},
   "cell_type": "markdown",
   "metadata": {
    "id": "i16vmHZXMNkm",
    "pycharm": {
     "name": "#%% md\n"
    }
   },
   "source": [
    "# 3. Autoencoder\n",
    "\n",
    "With only a limited number of labeled images, it's challenging to achieve high performance. We have no money left to pay the student to create more labels, and labeling the data ourselves is out of question. A commonly used approach would be to apply data augmentation to maximize the potential of our limited labeled data, but here we provide another way to solve this problem: **transfer learning**.\n",
    "\n",
    "For each input, the autoencoder tries to reproduce the same image as an output. The difficulty behind this task is that the autoencoder has to go through a low dimensional bottleneck, which is called the **latent space**.\n",
    "In other words, the autoencoder learns to represent all the input information in a low dimensional latent space - it learns to compress the input distribution. To train the autoencoder, we use the mean squared error loss, which calculates the discrepancy between the input pixels and the output pixels. The best part is that this loss function doesn't require any labels!\n",
    "\n",
    "By pretraining the autoencoder in this way on a large amount of unlabeled data, we can capture valuable latent representations of the input images. Then, we transfer the weights of the encoder to our classifier, enabling it to benefit from the knowledge learned during the unsupervised pretraining phase. \n",
    "\n",
    "<!-- In case the image does not show, uncomment the following:\n",
    "![autoencoder](img/autoencoder.png) \n",
    "-->\n",
    "<img name=\"autoencoder\" src=\"https://drive.google.com/uc?id=17nHpWR_L-mSyiNah9rV0dHuXW9yWPbLt\">\n",
    "\n",
    "After this, our encoder has learned to extract meaningful information from the inputs. We can then transfer its weights\n",
    "to a classifier architecture and finetune it with our labeled data, i.e., instead of initializing our encoder randomly, we are re-using the weights of our trained encoder from our autoencoder network. \n",
    "\n",
    "<!-- In case the image does not show, uncomment the following:\n",
    "![autoencoder_pretrained](img/pretrained.png) \n",
    "-->\n",
    "<img name=\"autoencoder_pretrained\" src=\"https://drive.google.com/uc?id=1ttndkRDJF_EMfjyMxtbu_BjQ796fL1Km\">\n",
    "\n",
    "\n",
    "Before we can train our autoencoder, you have to initialize your `decoder` architecture. The simplest way is to mirror your encoder architecture, which ensures that the `latent space` output of our `encoder` is correctly transformed to our input shape.\n",
    "\n",
    "<div class=\"alert alert-info\">\n",
    "    <h3>Task: Implement</h3>\n",
    "    <p>Implement the <code>Decoder</code> class initialization in <code>exercise_code/models.py</code>.</p>\n",
    "    <p>Implement <code>forward</code>, <code>set_optimizer</code>, <code>training_step</code> and <code>validation_step</code> of the <code>Autoencoder</code> in  <code>exercise_code/models.py</code>, following the pipeline we've shown you in train_classifier().</p>\n",
    "    <p>Note the differences between the classification task and now the regression task!</p>\n",
    "\n",
    "\n",
    "</div>\n",
    "\n",
    "## 3.2 Autoencoder Training\n",
    "\n",
    "Now, we can train the full autoencoder consisting of both en- and decoder.\n",
    "\n",
    "\n"
   ]
  },
  {
   "cell_type": "code",
   "execution_count": 9,
   "metadata": {
    "id": "xqqdoLDgMNkm"
   },
   "outputs": [],
   "source": [
    "from exercise_code.models import Autoencoder, Encoder, Decoder\n",
    "\n",
    "########################################################################\n",
    "# TODO: Define your hyperparameters here!                              #\n",
    "# Hint: use a large batch_size                                         #\n",
    "########################################################################\n",
    "\n",
    "pass\n",
    "\n",
    "########################################################################\n",
    "#                           END OF YOUR CODE                           #\n",
    "########################################################################\n",
    "encoder_pretrained = Encoder(hparams).to(device)\n",
    "decoder = Decoder(hparams).to(device)\n",
    "autoencoder = Autoencoder(hparams, encoder_pretrained, decoder).to(device)"
   ]
  },
  {
   "attachments": {},
   "cell_type": "markdown",
   "metadata": {
    "id": "uRuIIm8YMNkn"
   },
   "source": [
    "Some tests to check whether we'll accept your model."
   ]
  },
  {
   "cell_type": "code",
   "execution_count": 10,
   "metadata": {
    "id": "SoAaC-NqMNkn"
   },
   "outputs": [
    {
     "name": "stdout",
     "output_type": "stream",
     "text": [
      "# Paramters: Your model has \u001b[92m0.222\u001b[0m mio. params.\n",
      "Model accepted!\n"
     ]
    }
   ],
   "source": [
    "from exercise_code.Util import printModelInfo, load_model\n",
    "_ = printModelInfo(autoencoder)"
   ]
  },
  {
   "attachments": {},
   "cell_type": "markdown",
   "metadata": {
    "id": "plQwnphtqggl"
   },
   "source": [
    "After implementing the relevant functions - read the following code, and then run it.\n",
    "Keep in mind that an epoch here will take much longer since\n",
    "we are iterating through 5,8600 images instead of just 100.\n",
    "\n",
    "For speed, colab is indeed recommended. "
   ]
  },
  {
   "cell_type": "code",
   "execution_count": 12,
   "metadata": {},
   "outputs": [
    {
     "ename": "NameError",
     "evalue": "name 'unlabled_train_loader' is not defined",
     "output_type": "error",
     "traceback": [
      "\u001b[0;31m---------------------------------------------------------------------------\u001b[0m",
      "\u001b[0;31mNameError\u001b[0m                                 Traceback (most recent call last)",
      "\u001b[1;32m/Users/anar/Desktop/TUM/i2dl/exercise_08/1_Autoencoder.ipynb Cell 31\u001b[0m line \u001b[0;36m1\n\u001b[0;32m----> <a href='vscode-notebook-cell:/Users/anar/Desktop/TUM/i2dl/exercise_08/1_Autoencoder.ipynb#X62sZmlsZQ%3D%3D?line=0'>1</a>\u001b[0m \u001b[39mprint\u001b[39m(\u001b[39mlen\u001b[39m(unlabled_train_loader))\n",
      "\u001b[0;31mNameError\u001b[0m: name 'unlabled_train_loader' is not defined"
     ]
    }
   ],
   "source": [
    "print(len(unlabled_train_loader))"
   ]
  },
  {
   "cell_type": "code",
   "execution_count": 13,
   "metadata": {
    "id": "_uuzXMq6zjbb",
    "tags": []
   },
   "outputs": [
    {
     "name": "stderr",
     "output_type": "stream",
     "text": [
      "Training Epoch [0/50]:   0%|                                                                                                  | 0/229 [00:00<?, ?it/s]"
     ]
    },
    {
     "name": "stderr",
     "output_type": "stream",
     "text": [
      "Training Epoch [0/50]: 100%|████████████████████████████████████████████| 229/229 [00:06<00:00, 36.28it/s, train_loss=0.05483905, val_loss=0.00000000]\n",
      "Validation Epoch [0/50]: 100%|█████████████████████████████████████████████████████████████████████| 4/4 [00:00<00:00, 44.57it/s, val_loss=0.03060154]\n",
      "Training Epoch [1/50]: 100%|████████████████████████████████████████████| 229/229 [00:06<00:00, 37.64it/s, train_loss=0.02614644, val_loss=0.03060154]\n",
      "Validation Epoch [1/50]: 100%|█████████████████████████████████████████████████████████████████████| 4/4 [00:00<00:00, 45.29it/s, val_loss=0.02278246]\n",
      "Training Epoch [2/50]: 100%|████████████████████████████████████████████| 229/229 [00:06<00:00, 36.39it/s, train_loss=0.02100904, val_loss=0.02278246]\n",
      "Validation Epoch [2/50]: 100%|█████████████████████████████████████████████████████████████████████| 4/4 [00:00<00:00, 44.94it/s, val_loss=0.01939312]\n",
      "Training Epoch [3/50]: 100%|████████████████████████████████████████████| 229/229 [00:06<00:00, 37.53it/s, train_loss=0.01841546, val_loss=0.01939312]\n",
      "Validation Epoch [3/50]: 100%|█████████████████████████████████████████████████████████████████████| 4/4 [00:00<00:00, 44.85it/s, val_loss=0.01744903]\n",
      "Training Epoch [4/50]: 100%|████████████████████████████████████████████| 229/229 [00:06<00:00, 37.46it/s, train_loss=0.01690464, val_loss=0.01744903]\n",
      "Validation Epoch [4/50]: 100%|█████████████████████████████████████████████████████████████████████| 4/4 [00:00<00:00, 44.57it/s, val_loss=0.01612020]\n",
      "Training Epoch [5/50]: 100%|████████████████████████████████████████████| 229/229 [00:06<00:00, 35.60it/s, train_loss=0.01591876, val_loss=0.01612020]\n",
      "Validation Epoch [5/50]: 100%|█████████████████████████████████████████████████████████████████████| 4/4 [00:00<00:00, 42.02it/s, val_loss=0.01518157]\n",
      "Training Epoch [6/50]: 100%|████████████████████████████████████████████| 229/229 [00:06<00:00, 36.86it/s, train_loss=0.01524243, val_loss=0.01518157]\n",
      "Validation Epoch [6/50]: 100%|█████████████████████████████████████████████████████████████████████| 4/4 [00:00<00:00, 44.99it/s, val_loss=0.01466539]\n",
      "Training Epoch [7/50]: 100%|████████████████████████████████████████████| 229/229 [00:06<00:00, 37.07it/s, train_loss=0.01475822, val_loss=0.01466539]\n",
      "Validation Epoch [7/50]: 100%|█████████████████████████████████████████████████████████████████████| 4/4 [00:00<00:00, 44.26it/s, val_loss=0.01405610]\n",
      "Training Epoch [8/50]: 100%|████████████████████████████████████████████| 229/229 [00:06<00:00, 36.89it/s, train_loss=0.01434343, val_loss=0.01405610]\n",
      "Validation Epoch [8/50]: 100%|█████████████████████████████████████████████████████████████████████| 4/4 [00:00<00:00, 45.00it/s, val_loss=0.01388745]\n",
      "Training Epoch [9/50]: 100%|████████████████████████████████████████████| 229/229 [00:06<00:00, 36.87it/s, train_loss=0.01402495, val_loss=0.01388745]\n",
      "Validation Epoch [9/50]: 100%|█████████████████████████████████████████████████████████████████████| 4/4 [00:00<00:00, 43.61it/s, val_loss=0.01350989]\n",
      "Training Epoch [10/50]: 100%|███████████████████████████████████████████| 229/229 [00:06<00:00, 36.87it/s, train_loss=0.01368565, val_loss=0.01350989]\n",
      "Validation Epoch [10/50]: 100%|████████████████████████████████████████████████████████████████████| 4/4 [00:00<00:00, 45.04it/s, val_loss=0.01327770]\n",
      "Training Epoch [11/50]: 100%|███████████████████████████████████████████| 229/229 [00:06<00:00, 36.27it/s, train_loss=0.01349681, val_loss=0.01327770]\n",
      "Validation Epoch [11/50]: 100%|████████████████████████████████████████████████████████████████████| 4/4 [00:00<00:00, 42.78it/s, val_loss=0.01294834]\n",
      "Training Epoch [12/50]: 100%|███████████████████████████████████████████| 229/229 [00:06<00:00, 35.60it/s, train_loss=0.01338255, val_loss=0.01294834]\n",
      "Validation Epoch [12/50]: 100%|████████████████████████████████████████████████████████████████████| 4/4 [00:00<00:00, 43.64it/s, val_loss=0.01282009]\n",
      "Training Epoch [13/50]: 100%|███████████████████████████████████████████| 229/229 [00:06<00:00, 36.72it/s, train_loss=0.01324736, val_loss=0.01282009]\n",
      "Validation Epoch [13/50]: 100%|████████████████████████████████████████████████████████████████████| 4/4 [00:00<00:00, 43.86it/s, val_loss=0.01271986]\n",
      "Training Epoch [14/50]: 100%|███████████████████████████████████████████| 229/229 [00:06<00:00, 36.52it/s, train_loss=0.01309993, val_loss=0.01271986]\n",
      "Validation Epoch [14/50]: 100%|████████████████████████████████████████████████████████████████████| 4/4 [00:00<00:00, 43.77it/s, val_loss=0.01267907]\n",
      "Training Epoch [15/50]: 100%|███████████████████████████████████████████| 229/229 [00:06<00:00, 36.63it/s, train_loss=0.01299676, val_loss=0.01267907]\n",
      "Validation Epoch [15/50]: 100%|████████████████████████████████████████████████████████████████████| 4/4 [00:00<00:00, 44.79it/s, val_loss=0.01264082]\n",
      "Training Epoch [16/50]: 100%|███████████████████████████████████████████| 229/229 [00:06<00:00, 36.26it/s, train_loss=0.01290063, val_loss=0.01264082]\n",
      "Validation Epoch [16/50]: 100%|████████████████████████████████████████████████████████████████████| 4/4 [00:00<00:00, 42.69it/s, val_loss=0.01256904]\n",
      "Training Epoch [17/50]: 100%|███████████████████████████████████████████| 229/229 [00:06<00:00, 36.01it/s, train_loss=0.01279332, val_loss=0.01256904]\n",
      "Validation Epoch [17/50]: 100%|████████████████████████████████████████████████████████████████████| 4/4 [00:00<00:00, 43.98it/s, val_loss=0.01244457]\n",
      "Training Epoch [18/50]: 100%|███████████████████████████████████████████| 229/229 [00:06<00:00, 36.71it/s, train_loss=0.01274067, val_loss=0.01244457]\n",
      "Validation Epoch [18/50]: 100%|████████████████████████████████████████████████████████████████████| 4/4 [00:00<00:00, 44.41it/s, val_loss=0.01225656]\n",
      "Training Epoch [19/50]: 100%|███████████████████████████████████████████| 229/229 [00:06<00:00, 34.82it/s, train_loss=0.01261717, val_loss=0.01225656]\n",
      "Validation Epoch [19/50]: 100%|████████████████████████████████████████████████████████████████████| 4/4 [00:00<00:00, 42.61it/s, val_loss=0.01215248]\n",
      "Training Epoch [20/50]: 100%|███████████████████████████████████████████| 229/229 [00:06<00:00, 36.31it/s, train_loss=0.01246434, val_loss=0.01215248]\n",
      "Validation Epoch [20/50]: 100%|████████████████████████████████████████████████████████████████████| 4/4 [00:00<00:00, 41.86it/s, val_loss=0.01205543]\n",
      "Training Epoch [21/50]: 100%|███████████████████████████████████████████| 229/229 [00:06<00:00, 35.50it/s, train_loss=0.01239979, val_loss=0.01205543]\n",
      "Validation Epoch [21/50]: 100%|████████████████████████████████████████████████████████████████████| 4/4 [00:00<00:00, 42.37it/s, val_loss=0.01192771]\n",
      "Training Epoch [22/50]: 100%|███████████████████████████████████████████| 229/229 [00:06<00:00, 36.77it/s, train_loss=0.01236643, val_loss=0.01192771]\n",
      "Validation Epoch [22/50]: 100%|████████████████████████████████████████████████████████████████████| 4/4 [00:00<00:00, 44.22it/s, val_loss=0.01205179]\n",
      "Training Epoch [23/50]: 100%|███████████████████████████████████████████| 229/229 [00:06<00:00, 36.84it/s, train_loss=0.01229212, val_loss=0.01205179]\n",
      "Validation Epoch [23/50]: 100%|████████████████████████████████████████████████████████████████████| 4/4 [00:00<00:00, 44.64it/s, val_loss=0.01177829]\n",
      "Training Epoch [24/50]: 100%|███████████████████████████████████████████| 229/229 [00:06<00:00, 36.53it/s, train_loss=0.01223798, val_loss=0.01177829]\n",
      "Validation Epoch [24/50]: 100%|████████████████████████████████████████████████████████████████████| 4/4 [00:00<00:00, 43.02it/s, val_loss=0.01186855]\n",
      "Training Epoch [25/50]: 100%|███████████████████████████████████████████| 229/229 [00:06<00:00, 36.85it/s, train_loss=0.01222270, val_loss=0.01186855]\n",
      "Validation Epoch [25/50]: 100%|████████████████████████████████████████████████████████████████████| 4/4 [00:00<00:00, 45.04it/s, val_loss=0.01186304]\n",
      "Training Epoch [26/50]: 100%|███████████████████████████████████████████| 229/229 [00:06<00:00, 36.65it/s, train_loss=0.01214092, val_loss=0.01186304]\n",
      "Validation Epoch [26/50]: 100%|████████████████████████████████████████████████████████████████████| 4/4 [00:00<00:00, 41.89it/s, val_loss=0.01169597]\n",
      "Training Epoch [27/50]: 100%|███████████████████████████████████████████| 229/229 [00:06<00:00, 36.79it/s, train_loss=0.01210440, val_loss=0.01169597]\n",
      "Validation Epoch [27/50]: 100%|████████████████████████████████████████████████████████████████████| 4/4 [00:00<00:00, 43.56it/s, val_loss=0.01167463]\n",
      "Training Epoch [28/50]: 100%|███████████████████████████████████████████| 229/229 [00:06<00:00, 36.47it/s, train_loss=0.01208494, val_loss=0.01167463]\n",
      "Validation Epoch [28/50]: 100%|████████████████████████████████████████████████████████████████████| 4/4 [00:00<00:00, 44.86it/s, val_loss=0.01169205]\n",
      "Training Epoch [29/50]: 100%|███████████████████████████████████████████| 229/229 [00:06<00:00, 36.82it/s, train_loss=0.01203073, val_loss=0.01169205]\n",
      "Validation Epoch [29/50]: 100%|████████████████████████████████████████████████████████████████████| 4/4 [00:00<00:00, 44.67it/s, val_loss=0.01171305]\n",
      "Training Epoch [30/50]: 100%|███████████████████████████████████████████| 229/229 [00:06<00:00, 35.75it/s, train_loss=0.01195228, val_loss=0.01171305]\n",
      "Validation Epoch [30/50]: 100%|████████████████████████████████████████████████████████████████████| 4/4 [00:00<00:00, 43.96it/s, val_loss=0.01168772]\n",
      "Training Epoch [31/50]: 100%|███████████████████████████████████████████| 229/229 [00:06<00:00, 36.64it/s, train_loss=0.01192204, val_loss=0.01168772]\n",
      "Validation Epoch [31/50]: 100%|████████████████████████████████████████████████████████████████████| 4/4 [00:00<00:00, 40.51it/s, val_loss=0.01140943]\n",
      "Training Epoch [32/50]: 100%|███████████████████████████████████████████| 229/229 [00:06<00:00, 36.98it/s, train_loss=0.01190942, val_loss=0.01140943]\n",
      "Validation Epoch [32/50]: 100%|████████████████████████████████████████████████████████████████████| 4/4 [00:00<00:00, 44.81it/s, val_loss=0.01143734]\n",
      "Training Epoch [33/50]: 100%|███████████████████████████████████████████| 229/229 [00:06<00:00, 36.37it/s, train_loss=0.01184951, val_loss=0.01143734]\n",
      "Validation Epoch [33/50]: 100%|████████████████████████████████████████████████████████████████████| 4/4 [00:00<00:00, 43.97it/s, val_loss=0.01135638]\n",
      "Training Epoch [34/50]: 100%|███████████████████████████████████████████| 229/229 [00:06<00:00, 36.43it/s, train_loss=0.01181671, val_loss=0.01135638]\n",
      "Validation Epoch [34/50]: 100%|████████████████████████████████████████████████████████████████████| 4/4 [00:00<00:00, 42.20it/s, val_loss=0.01141316]\n",
      "Training Epoch [35/50]: 100%|███████████████████████████████████████████| 229/229 [00:06<00:00, 36.66it/s, train_loss=0.01181974, val_loss=0.01141316]\n",
      "Validation Epoch [35/50]: 100%|████████████████████████████████████████████████████████████████████| 4/4 [00:00<00:00, 41.65it/s, val_loss=0.01149691]\n",
      "Training Epoch [36/50]: 100%|███████████████████████████████████████████| 229/229 [00:06<00:00, 36.43it/s, train_loss=0.01178017, val_loss=0.01149691]\n",
      "Validation Epoch [36/50]: 100%|████████████████████████████████████████████████████████████████████| 4/4 [00:00<00:00, 44.61it/s, val_loss=0.01121626]\n",
      "Training Epoch [37/50]: 100%|███████████████████████████████████████████| 229/229 [00:06<00:00, 36.27it/s, train_loss=0.01177322, val_loss=0.01121626]\n",
      "Validation Epoch [37/50]: 100%|████████████████████████████████████████████████████████████████████| 4/4 [00:00<00:00, 42.35it/s, val_loss=0.01131334]\n",
      "Training Epoch [38/50]: 100%|███████████████████████████████████████████| 229/229 [00:06<00:00, 36.42it/s, train_loss=0.01172374, val_loss=0.01131334]\n",
      "Validation Epoch [38/50]: 100%|████████████████████████████████████████████████████████████████████| 4/4 [00:00<00:00, 42.09it/s, val_loss=0.01119139]\n",
      "Training Epoch [39/50]: 100%|███████████████████████████████████████████| 229/229 [00:06<00:00, 36.70it/s, train_loss=0.01172343, val_loss=0.01119139]\n",
      "Validation Epoch [39/50]: 100%|████████████████████████████████████████████████████████████████████| 4/4 [00:00<00:00, 38.20it/s, val_loss=0.01142768]\n",
      "Training Epoch [40/50]: 100%|███████████████████████████████████████████| 229/229 [00:06<00:00, 34.28it/s, train_loss=0.01168141, val_loss=0.01142768]\n",
      "Validation Epoch [40/50]: 100%|████████████████████████████████████████████████████████████████████| 4/4 [00:00<00:00, 43.51it/s, val_loss=0.01120141]\n",
      "Training Epoch [41/50]: 100%|███████████████████████████████████████████| 229/229 [00:06<00:00, 36.60it/s, train_loss=0.01164298, val_loss=0.01120141]\n",
      "Validation Epoch [41/50]: 100%|████████████████████████████████████████████████████████████████████| 4/4 [00:00<00:00, 44.49it/s, val_loss=0.01119839]\n",
      "Training Epoch [42/50]: 100%|███████████████████████████████████████████| 229/229 [00:06<00:00, 36.23it/s, train_loss=0.01163070, val_loss=0.01119839]\n",
      "Validation Epoch [42/50]: 100%|████████████████████████████████████████████████████████████████████| 4/4 [00:00<00:00, 43.68it/s, val_loss=0.01121183]\n",
      "Training Epoch [43/50]: 100%|███████████████████████████████████████████| 229/229 [00:06<00:00, 36.70it/s, train_loss=0.01160101, val_loss=0.01121183]\n",
      "Validation Epoch [43/50]: 100%|████████████████████████████████████████████████████████████████████| 4/4 [00:00<00:00, 44.87it/s, val_loss=0.01118671]\n",
      "Training Epoch [44/50]: 100%|███████████████████████████████████████████| 229/229 [00:06<00:00, 36.36it/s, train_loss=0.01161575, val_loss=0.01118671]\n",
      "Validation Epoch [44/50]: 100%|████████████████████████████████████████████████████████████████████| 4/4 [00:00<00:00, 41.56it/s, val_loss=0.01104411]\n",
      "Training Epoch [45/50]: 100%|███████████████████████████████████████████| 229/229 [00:06<00:00, 36.69it/s, train_loss=0.01156749, val_loss=0.01104411]\n",
      "Validation Epoch [45/50]: 100%|████████████████████████████████████████████████████████████████████| 4/4 [00:00<00:00, 41.20it/s, val_loss=0.01114274]\n",
      "Training Epoch [46/50]: 100%|███████████████████████████████████████████| 229/229 [00:06<00:00, 36.63it/s, train_loss=0.01154233, val_loss=0.01114274]\n",
      "Validation Epoch [46/50]: 100%|████████████████████████████████████████████████████████████████████| 4/4 [00:00<00:00, 40.78it/s, val_loss=0.01117207]\n",
      "Training Epoch [47/50]: 100%|███████████████████████████████████████████| 229/229 [00:06<00:00, 36.46it/s, train_loss=0.01156050, val_loss=0.01117207]\n",
      "Validation Epoch [47/50]: 100%|████████████████████████████████████████████████████████████████████| 4/4 [00:00<00:00, 35.10it/s, val_loss=0.01117349]\n",
      "Training Epoch [48/50]: 100%|███████████████████████████████████████████| 229/229 [00:06<00:00, 36.13it/s, train_loss=0.01152099, val_loss=0.01117349]\n",
      "Validation Epoch [48/50]: 100%|████████████████████████████████████████████████████████████████████| 4/4 [00:00<00:00, 39.16it/s, val_loss=0.01110513]\n",
      "Training Epoch [49/50]: 100%|███████████████████████████████████████████| 229/229 [00:06<00:00, 33.70it/s, train_loss=0.01150818, val_loss=0.01110513]\n",
      "Validation Epoch [49/50]: 100%|████████████████████████████████████████████████████████████████████| 4/4 [00:00<00:00, 44.30it/s, val_loss=0.01104004]"
     ]
    },
    {
     "name": "stdout",
     "output_type": "stream",
     "text": [
      "Finished training!\n"
     ]
    },
    {
     "name": "stderr",
     "output_type": "stream",
     "text": [
      "\n"
     ]
    }
   ],
   "source": [
    "encoder_pretrained = Encoder(hparams).to(device)\n",
    "decoder = Decoder(hparams).to(device)\n",
    "autoencoder = Autoencoder(hparams, encoder_pretrained, decoder).to(device)\n",
    "\n",
    "def train_model(model, train_loader, val_loader, loss_func, tb_logger, epochs=10, name='Autoencoder'):\n",
    "    \n",
    "    optimizer = model.optimizer\n",
    "    scheduler = torch.optim.lr_scheduler.StepLR(optimizer, step_size=epochs * len(train_loader) / 5, gamma=0.7)\n",
    "    validation_loss = 0\n",
    "    model = model.to(device)\n",
    "    for epoch in range(epochs):\n",
    "        \n",
    "        # Train\n",
    "        training_loop = create_tqdm_bar(train_loader, desc=f'Training Epoch [{epoch}/{epochs}]')\n",
    "        training_loss = 0\n",
    "        for train_iteration, batch in training_loop:\n",
    "            \n",
    "            loss = model.training_step(batch, loss_func) # You need to implement this function.\n",
    "            training_loss += loss.item()\n",
    "            scheduler.step()\n",
    "\n",
    "            # Update the progress bar.\n",
    "            training_loop.set_postfix(train_loss = \"{:.8f}\".format(training_loss / (train_iteration + 1)), val_loss = \"{:.8f}\".format(validation_loss))\n",
    "\n",
    "            # Update the tensorboard logger.\n",
    "            tb_logger.add_scalar(f'{name}/train_loss', loss.item(), epoch * len(train_loader) + train_iteration)\n",
    "\n",
    "        # Validation\n",
    "        val_loop = create_tqdm_bar(val_loader, desc=f'Validation Epoch [{epoch}/{epochs}]')\n",
    "        validation_loss = 0\n",
    "        with torch.no_grad():\n",
    "            for val_iteration, batch in val_loop:\n",
    "                loss = model.validation_step(batch, loss_func) # You need to implement this function.\n",
    "                validation_loss += loss.item()\n",
    "\n",
    "                # Update the progress bar.\n",
    "                val_loop.set_postfix(val_loss = \"{:.8f}\".format(validation_loss / (val_iteration + 1)))\n",
    "\n",
    "                # Update the tensorboard logger.\n",
    "                tb_logger.add_scalar(f'{name}/val_loss', validation_loss / (val_iteration + 1), epoch * len(val_loader) + val_iteration)\n",
    "        # This value is for the progress bar of the training loop.\n",
    "        validation_loss /= len(val_loader)\n",
    "\n",
    "# Create a tensorboard logger.\n",
    "# NOTE: In order to see the logs, run the following command in the terminal: tensorboard --logdir=./\n",
    "# Also, in order to reset the logs, delete the logs folder MANUALLY.\n",
    "\n",
    "path = os.path.join('logs', 'ae_logs')\n",
    "num_of_runs = len(os.listdir(path)) if os.path.exists(path) else 0\n",
    "path = os.path.join(path, f'run_{num_of_runs + 1}')\n",
    "tb_logger = SummaryWriter(path)\n",
    "\n",
    "# Train the classifier.\n",
    "unlabled_train_loader = torch.utils.data.DataLoader(unlabeled_train, batch_size=256, shuffle=True)\n",
    "unlabled_val_loader = torch.utils.data.DataLoader(unlabeled_val, batch_size=256, shuffle=False)\n",
    "\n",
    "epochs = hparams.get('epochs', 50)\n",
    "loss_func = nn.MSELoss() # The loss function we use for regression (Could also be nn.L1Loss()).\n",
    "train_model(autoencoder, unlabled_train_loader, unlabled_val_loader, loss_func, tb_logger, epochs=epochs, name='Autoencoder')\n",
    "\n",
    "print(\"Finished training!\")"
   ]
  },
  {
   "cell_type": "code",
   "execution_count": null,
   "metadata": {},
   "outputs": [],
   "source": []
  },
  {
   "attachments": {},
   "cell_type": "markdown",
   "metadata": {
    "id": "vdgiYWy4MNkq"
   },
   "source": [
    "Once trained, let's have a look at the reconstructed validation images (If you have not already looked at them in TensorBoard)."
   ]
  },
  {
   "cell_type": "code",
   "execution_count": 14,
   "metadata": {
    "id": "a991mKcyMNkq"
   },
   "outputs": [
    {
     "data": {
      "image/png": "[encoded data removed]",
      "text/plain": [
       "<Figure size 1600x1600 with 64 Axes>"
      ]
     },
     "metadata": {},
     "output_type": "display_data"
    }
   ],
   "source": [
    "reconstructions = autoencoder.getReconstructions(unlabled_val_loader)\n",
    "for i in range(64):\n",
    "    plt.subplot(8,8,i+1)\n",
    "    plt.axis('off')\n",
    "    plt.imshow(reconstructions[i], cmap='gray', interpolation='none')\n",
    "    \n",
    "plt.tight_layout()"
   ]
  },
  {
   "attachments": {},
   "cell_type": "markdown",
   "metadata": {
    "id": "R2hrP5b1MNkr"
   },
   "source": [
    "# 4. Transfer Learning\n",
    "\n",
    "## 4.1 The pretrained Classifier\n",
    "\n",
    "Now we initialize another classifier but this time with the pretrained encoder."
   ]
  },
  {
   "cell_type": "code",
   "execution_count": 65,
   "metadata": {
    "id": "OELYQAUmMNkr"
   },
   "outputs": [],
   "source": [
    "from exercise_code.models import Classifier\n",
    "from copy import deepcopy\n",
    "\n",
    "hparams = {}\n",
    "########################################################################\n",
    "# TODO: Define your hyperparameters here!                             #\n",
    "########################################################################\n",
    "\n",
    "pass\n",
    "\n",
    "########################################################################\n",
    "#                           END OF YOUR CODE                           #\n",
    "########################################################################\n",
    "\n",
    "encoder_pretrained_copy = deepcopy(encoder_pretrained)\n",
    "classifier_pretrained = Classifier(hparams, encoder_pretrained_copy).to(device)"
   ]
  },
  {
   "attachments": {},
   "cell_type": "markdown",
   "metadata": {
    "id": "R8FUtih6MNks"
   },
   "source": [
    "Let's define another trainer that will utilize the pretrained classifier, allowing us to compare its performance with the classifier trained only on the labeled data. To achieve a reasonable result, you may need to optimize the parameters you defined earlier."
   ]
  },
  {
   "cell_type": "code",
   "execution_count": 135,
   "metadata": {
    "id": "Mx_euorWMNks"
   },
   "outputs": [
    {
     "name": "stderr",
     "output_type": "stream",
     "text": [
      "Training Epoch [1/50]: 100%|███████████████████████████████████████████| 5/5 [00:00<00:00,  8.65it/s, curr_train_loss=0.01160964, val_loss=0.00000000]\n",
      "Validation Epoch [1/50]: 100%|█████████████████████████████████████████████████████████████████████| 5/5 [00:00<00:00,  8.99it/s, val_loss=0.86454715]\n",
      "Training Epoch [2/50]: 100%|███████████████████████████████████████████| 5/5 [00:00<00:00,  8.34it/s, curr_train_loss=0.01418306, val_loss=0.86454715]\n",
      "Validation Epoch [2/50]: 100%|█████████████████████████████████████████████████████████████████████| 5/5 [00:00<00:00,  8.78it/s, val_loss=0.90737693]\n",
      "Training Epoch [3/50]: 100%|███████████████████████████████████████████| 5/5 [00:00<00:00,  8.37it/s, curr_train_loss=0.01521671, val_loss=0.90737693]\n",
      "Validation Epoch [3/50]: 100%|█████████████████████████████████████████████████████████████████████| 5/5 [00:00<00:00,  8.29it/s, val_loss=0.91693808]\n",
      "Training Epoch [4/50]: 100%|███████████████████████████████████████████| 5/5 [00:00<00:00,  8.46it/s, curr_train_loss=0.00962023, val_loss=0.91693808]\n",
      "Validation Epoch [4/50]: 100%|█████████████████████████████████████████████████████████████████████| 5/5 [00:00<00:00,  8.77it/s, val_loss=0.78518251]\n",
      "Training Epoch [5/50]: 100%|███████████████████████████████████████████| 5/5 [00:00<00:00,  8.28it/s, curr_train_loss=0.01749163, val_loss=0.78518251]\n",
      "Validation Epoch [5/50]: 100%|█████████████████████████████████████████████████████████████████████| 5/5 [00:00<00:00,  8.92it/s, val_loss=0.86392328]\n",
      "Training Epoch [6/50]: 100%|███████████████████████████████████████████| 5/5 [00:00<00:00,  8.24it/s, curr_train_loss=0.00887154, val_loss=0.86392328]\n",
      "Validation Epoch [6/50]: 100%|█████████████████████████████████████████████████████████████████████| 5/5 [00:00<00:00,  8.59it/s, val_loss=0.92812414]\n",
      "Training Epoch [7/50]: 100%|███████████████████████████████████████████| 5/5 [00:00<00:00,  8.44it/s, curr_train_loss=0.01089020, val_loss=0.92812414]\n",
      "Validation Epoch [7/50]: 100%|█████████████████████████████████████████████████████████████████████| 5/5 [00:00<00:00,  8.65it/s, val_loss=0.91925557]\n",
      "Training Epoch [8/50]: 100%|███████████████████████████████████████████| 5/5 [00:00<00:00,  8.34it/s, curr_train_loss=0.00716328, val_loss=0.91925557]\n",
      "Validation Epoch [8/50]: 100%|█████████████████████████████████████████████████████████████████████| 5/5 [00:00<00:00,  8.61it/s, val_loss=0.82253630]\n",
      "Training Epoch [9/50]: 100%|███████████████████████████████████████████| 5/5 [00:00<00:00,  8.72it/s, curr_train_loss=0.01042036, val_loss=0.82253630]\n",
      "Validation Epoch [9/50]: 100%|█████████████████████████████████████████████████████████████████████| 5/5 [00:00<00:00,  8.78it/s, val_loss=0.82736229]\n",
      "Training Epoch [10/50]: 100%|██████████████████████████████████████████| 5/5 [00:00<00:00,  8.29it/s, curr_train_loss=0.01400317, val_loss=0.82736229]\n",
      "Validation Epoch [10/50]: 100%|████████████████████████████████████████████████████████████████████| 5/5 [00:00<00:00,  8.59it/s, val_loss=0.85851381]\n",
      "Training Epoch [11/50]: 100%|██████████████████████████████████████████| 5/5 [00:00<00:00,  8.36it/s, curr_train_loss=0.00472476, val_loss=0.85851381]\n",
      "Validation Epoch [11/50]: 100%|████████████████████████████████████████████████████████████████████| 5/5 [00:00<00:00,  8.58it/s, val_loss=0.90250480]\n",
      "Training Epoch [12/50]: 100%|██████████████████████████████████████████| 5/5 [00:00<00:00,  8.49it/s, curr_train_loss=0.00836058, val_loss=0.90250480]\n",
      "Validation Epoch [12/50]: 100%|████████████████████████████████████████████████████████████████████| 5/5 [00:00<00:00,  8.81it/s, val_loss=0.83629808]\n",
      "Training Epoch [13/50]: 100%|██████████████████████████████████████████| 5/5 [00:00<00:00,  8.22it/s, curr_train_loss=0.01148351, val_loss=0.83629808]\n",
      "Validation Epoch [13/50]: 100%|████████████████████████████████████████████████████████████████████| 5/5 [00:00<00:00,  8.60it/s, val_loss=0.88261330]\n",
      "Training Epoch [14/50]: 100%|██████████████████████████████████████████| 5/5 [00:00<00:00,  8.29it/s, curr_train_loss=0.02091600, val_loss=0.88261330]\n",
      "Validation Epoch [14/50]: 100%|████████████████████████████████████████████████████████████████████| 5/5 [00:00<00:00,  8.67it/s, val_loss=0.77840371]\n",
      "Training Epoch [15/50]: 100%|██████████████████████████████████████████| 5/5 [00:00<00:00,  8.24it/s, curr_train_loss=0.00541595, val_loss=0.77840371]\n",
      "Validation Epoch [15/50]: 100%|████████████████████████████████████████████████████████████████████| 5/5 [00:00<00:00,  8.95it/s, val_loss=0.78190323]\n",
      "Training Epoch [16/50]: 100%|██████████████████████████████████████████| 5/5 [00:00<00:00,  8.50it/s, curr_train_loss=0.01890306, val_loss=0.78190323]\n",
      "Validation Epoch [16/50]: 100%|████████████████████████████████████████████████████████████████████| 5/5 [00:00<00:00,  9.07it/s, val_loss=0.86712983]\n",
      "Training Epoch [17/50]: 100%|██████████████████████████████████████████| 5/5 [00:00<00:00,  8.66it/s, curr_train_loss=0.00899487, val_loss=0.86712983]\n",
      "Validation Epoch [17/50]: 100%|████████████████████████████████████████████████████████████████████| 5/5 [00:00<00:00,  8.67it/s, val_loss=0.87825549]\n",
      "Training Epoch [18/50]: 100%|██████████████████████████████████████████| 5/5 [00:00<00:00,  8.36it/s, curr_train_loss=0.00528013, val_loss=0.87825549]\n",
      "Validation Epoch [18/50]: 100%|████████████████████████████████████████████████████████████████████| 5/5 [00:00<00:00,  8.62it/s, val_loss=0.80072360]\n",
      "Training Epoch [19/50]: 100%|██████████████████████████████████████████| 5/5 [00:00<00:00,  8.61it/s, curr_train_loss=0.00886734, val_loss=0.80072360]\n",
      "Validation Epoch [19/50]: 100%|████████████████████████████████████████████████████████████████████| 5/5 [00:00<00:00,  8.69it/s, val_loss=0.87201889]\n",
      "Training Epoch [20/50]: 100%|██████████████████████████████████████████| 5/5 [00:00<00:00,  8.34it/s, curr_train_loss=0.00922674, val_loss=0.87201889]\n",
      "Validation Epoch [20/50]: 100%|████████████████████████████████████████████████████████████████████| 5/5 [00:00<00:00,  8.67it/s, val_loss=0.86822850]\n",
      "Training Epoch [21/50]: 100%|██████████████████████████████████████████| 5/5 [00:00<00:00,  8.55it/s, curr_train_loss=0.00840065, val_loss=0.86822850]\n",
      "Validation Epoch [21/50]: 100%|████████████████████████████████████████████████████████████████████| 5/5 [00:00<00:00,  8.73it/s, val_loss=0.85197622]\n",
      "Training Epoch [22/50]: 100%|██████████████████████████████████████████| 5/5 [00:00<00:00,  8.39it/s, curr_train_loss=0.00455080, val_loss=0.85197622]\n",
      "Validation Epoch [22/50]: 100%|████████████████████████████████████████████████████████████████████| 5/5 [00:00<00:00,  8.73it/s, val_loss=0.88562056]\n",
      "Training Epoch [23/50]: 100%|██████████████████████████████████████████| 5/5 [00:00<00:00,  8.34it/s, curr_train_loss=0.00812345, val_loss=0.88562056]\n",
      "Validation Epoch [23/50]: 100%|████████████████████████████████████████████████████████████████████| 5/5 [00:00<00:00,  8.82it/s, val_loss=0.84460348]\n",
      "Training Epoch [24/50]: 100%|██████████████████████████████████████████| 5/5 [00:00<00:00,  8.31it/s, curr_train_loss=0.01931679, val_loss=0.84460348]\n",
      "Validation Epoch [24/50]: 100%|████████████████████████████████████████████████████████████████████| 5/5 [00:00<00:00,  8.85it/s, val_loss=0.93451139]\n",
      "Training Epoch [25/50]: 100%|██████████████████████████████████████████| 5/5 [00:00<00:00,  8.38it/s, curr_train_loss=0.00457899, val_loss=0.93451139]\n",
      "Validation Epoch [25/50]: 100%|████████████████████████████████████████████████████████████████████| 5/5 [00:00<00:00,  8.67it/s, val_loss=0.80453430]\n",
      "Training Epoch [26/50]: 100%|██████████████████████████████████████████| 5/5 [00:00<00:00,  8.34it/s, curr_train_loss=0.00628011, val_loss=0.80453430]\n",
      "Validation Epoch [26/50]: 100%|████████████████████████████████████████████████████████████████████| 5/5 [00:00<00:00,  8.82it/s, val_loss=0.88592753]\n",
      "Training Epoch [27/50]: 100%|██████████████████████████████████████████| 5/5 [00:00<00:00,  8.37it/s, curr_train_loss=0.00916456, val_loss=0.88592753]\n",
      "Validation Epoch [27/50]: 100%|████████████████████████████████████████████████████████████████████| 5/5 [00:00<00:00,  8.66it/s, val_loss=0.81703175]\n",
      "Training Epoch [28/50]: 100%|██████████████████████████████████████████| 5/5 [00:00<00:00,  8.34it/s, curr_train_loss=0.00803665, val_loss=0.81703175]\n",
      "Validation Epoch [28/50]: 100%|████████████████████████████████████████████████████████████████████| 5/5 [00:00<00:00,  8.85it/s, val_loss=0.87063624]\n",
      "Training Epoch [29/50]: 100%|██████████████████████████████████████████| 5/5 [00:00<00:00,  8.37it/s, curr_train_loss=0.00390306, val_loss=0.87063624]\n",
      "Validation Epoch [29/50]: 100%|████████████████████████████████████████████████████████████████████| 5/5 [00:00<00:00,  8.68it/s, val_loss=0.95071978]\n",
      "Training Epoch [30/50]: 100%|██████████████████████████████████████████| 5/5 [00:00<00:00,  8.56it/s, curr_train_loss=0.02270198, val_loss=0.95071978]\n",
      "Validation Epoch [30/50]: 100%|████████████████████████████████████████████████████████████████████| 5/5 [00:00<00:00,  8.87it/s, val_loss=0.89172448]\n",
      "Training Epoch [31/50]: 100%|██████████████████████████████████████████| 5/5 [00:00<00:00,  8.53it/s, curr_train_loss=0.00888260, val_loss=0.89172448]\n",
      "Validation Epoch [31/50]: 100%|████████████████████████████████████████████████████████████████████| 5/5 [00:00<00:00,  8.81it/s, val_loss=0.82992553]\n",
      "Training Epoch [32/50]: 100%|██████████████████████████████████████████| 5/5 [00:00<00:00,  8.71it/s, curr_train_loss=0.00678319, val_loss=0.82992553]\n",
      "Validation Epoch [32/50]: 100%|████████████████████████████████████████████████████████████████████| 5/5 [00:00<00:00,  8.84it/s, val_loss=0.96984496]\n",
      "Training Epoch [33/50]: 100%|██████████████████████████████████████████| 5/5 [00:00<00:00,  8.44it/s, curr_train_loss=0.00900151, val_loss=0.96984496]\n",
      "Validation Epoch [33/50]: 100%|████████████████████████████████████████████████████████████████████| 5/5 [00:00<00:00,  8.74it/s, val_loss=0.99698110]\n",
      "Training Epoch [34/50]: 100%|██████████████████████████████████████████| 5/5 [00:00<00:00,  8.41it/s, curr_train_loss=0.01079474, val_loss=0.99698110]\n",
      "Validation Epoch [34/50]: 100%|████████████████████████████████████████████████████████████████████| 5/5 [00:00<00:00,  8.62it/s, val_loss=0.93897654]\n",
      "Training Epoch [35/50]: 100%|██████████████████████████████████████████| 5/5 [00:00<00:00,  8.41it/s, curr_train_loss=0.00607503, val_loss=0.93897654]\n",
      "Validation Epoch [35/50]: 100%|████████████████████████████████████████████████████████████████████| 5/5 [00:00<00:00,  8.83it/s, val_loss=1.03383553]\n",
      "Training Epoch [36/50]: 100%|██████████████████████████████████████████| 5/5 [00:00<00:00,  8.41it/s, curr_train_loss=0.01337301, val_loss=1.03383553]\n",
      "Validation Epoch [36/50]: 100%|████████████████████████████████████████████████████████████████████| 5/5 [00:00<00:00,  8.87it/s, val_loss=0.92668148]\n",
      "Training Epoch [37/50]: 100%|██████████████████████████████████████████| 5/5 [00:00<00:00,  8.50it/s, curr_train_loss=0.00986938, val_loss=0.92668148]\n",
      "Validation Epoch [37/50]: 100%|████████████████████████████████████████████████████████████████████| 5/5 [00:00<00:00,  8.82it/s, val_loss=0.97313312]\n",
      "Training Epoch [38/50]: 100%|██████████████████████████████████████████| 5/5 [00:00<00:00,  8.73it/s, curr_train_loss=0.00972936, val_loss=0.97313312]\n",
      "Validation Epoch [38/50]: 100%|████████████████████████████████████████████████████████████████████| 5/5 [00:00<00:00,  9.11it/s, val_loss=1.01371871]\n",
      "Training Epoch [39/50]: 100%|██████████████████████████████████████████| 5/5 [00:00<00:00,  8.68it/s, curr_train_loss=0.00709367, val_loss=1.01371871]\n",
      "Validation Epoch [39/50]: 100%|████████████████████████████████████████████████████████████████████| 5/5 [00:00<00:00,  9.10it/s, val_loss=1.01322957]\n",
      "Training Epoch [40/50]: 100%|██████████████████████████████████████████| 5/5 [00:00<00:00,  8.75it/s, curr_train_loss=0.00462466, val_loss=1.01322957]\n",
      "Validation Epoch [40/50]: 100%|████████████████████████████████████████████████████████████████████| 5/5 [00:00<00:00,  9.17it/s, val_loss=0.97767954]\n",
      "Training Epoch [41/50]: 100%|██████████████████████████████████████████| 5/5 [00:00<00:00,  8.70it/s, curr_train_loss=0.00501219, val_loss=0.97767954]\n",
      "Validation Epoch [41/50]: 100%|████████████████████████████████████████████████████████████████████| 5/5 [00:00<00:00,  9.05it/s, val_loss=1.06863191]\n",
      "Training Epoch [42/50]: 100%|██████████████████████████████████████████| 5/5 [00:00<00:00,  8.56it/s, curr_train_loss=0.00475823, val_loss=1.06863191]\n",
      "Validation Epoch [42/50]: 100%|████████████████████████████████████████████████████████████████████| 5/5 [00:00<00:00,  8.84it/s, val_loss=1.05495985]\n",
      "Training Epoch [43/50]: 100%|██████████████████████████████████████████| 5/5 [00:00<00:00,  8.68it/s, curr_train_loss=0.00589855, val_loss=1.05495985]\n",
      "Validation Epoch [43/50]: 100%|████████████████████████████████████████████████████████████████████| 5/5 [00:00<00:00,  9.06it/s, val_loss=0.92581912]\n",
      "Training Epoch [44/50]: 100%|██████████████████████████████████████████| 5/5 [00:00<00:00,  8.61it/s, curr_train_loss=0.01194600, val_loss=0.92581912]\n",
      "Validation Epoch [44/50]: 100%|████████████████████████████████████████████████████████████████████| 5/5 [00:00<00:00,  8.73it/s, val_loss=0.99832115]\n",
      "Training Epoch [45/50]: 100%|██████████████████████████████████████████| 5/5 [00:00<00:00,  8.49it/s, curr_train_loss=0.00893620, val_loss=0.99832115]\n",
      "Validation Epoch [45/50]: 100%|████████████████████████████████████████████████████████████████████| 5/5 [00:00<00:00,  8.68it/s, val_loss=0.89974807]\n",
      "Training Epoch [46/50]: 100%|██████████████████████████████████████████| 5/5 [00:00<00:00,  8.54it/s, curr_train_loss=0.00453628, val_loss=0.89974807]\n",
      "Validation Epoch [46/50]: 100%|████████████████████████████████████████████████████████████████████| 5/5 [00:00<00:00,  8.67it/s, val_loss=0.97810041]\n",
      "Training Epoch [47/50]: 100%|██████████████████████████████████████████| 5/5 [00:00<00:00,  8.56it/s, curr_train_loss=0.00794895, val_loss=0.97810041]\n",
      "Validation Epoch [47/50]: 100%|████████████████████████████████████████████████████████████████████| 5/5 [00:00<00:00,  8.35it/s, val_loss=0.96671726]\n",
      "Training Epoch [48/50]: 100%|██████████████████████████████████████████| 5/5 [00:00<00:00,  8.07it/s, curr_train_loss=0.00550957, val_loss=0.96671726]\n",
      "Validation Epoch [48/50]: 100%|████████████████████████████████████████████████████████████████████| 5/5 [00:00<00:00,  8.77it/s, val_loss=0.96189934]\n",
      "Training Epoch [49/50]: 100%|██████████████████████████████████████████| 5/5 [00:00<00:00,  8.37it/s, curr_train_loss=0.00644257, val_loss=0.96189934]\n",
      "Validation Epoch [49/50]: 100%|████████████████████████████████████████████████████████████████████| 5/5 [00:00<00:00,  8.68it/s, val_loss=1.08053010]\n",
      "Training Epoch [50/50]: 100%|██████████████████████████████████████████| 5/5 [00:00<00:00,  8.10it/s, curr_train_loss=0.00650569, val_loss=1.08053010]\n",
      "Validation Epoch [50/50]: 100%|████████████████████████████████████████████████████████████████████| 5/5 [00:00<00:00,  8.42it/s, val_loss=0.95512982]"
     ]
    },
    {
     "name": "stdout",
     "output_type": "stream",
     "text": [
      "Finished training!\n"
     ]
    },
    {
     "name": "stderr",
     "output_type": "stream",
     "text": [
      "\n"
     ]
    }
   ],
   "source": [
    "\n",
    "# Create a tensorboard logger.\n",
    "# NOTE: In order to see the logs, run the following command in the terminal: tensorboard --logdir=./\n",
    "# Also, in order to reset the logs, delete the logs folder MANUALLY.\n",
    "# Pay attention that if you run this cell mutltiple times, the pretrained_encoder\n",
    "# is not reset, and will keep training from where it stopped. Thus, it could overfit.\n",
    "\n",
    "path = os.path.join('logs', 'pretrained_cls_logs')\n",
    "num_of_runs = len(os.listdir(path)) if os.path.exists(path) else 0\n",
    "path = os.path.join(path, f'run_{num_of_runs + 1}')\n",
    "tb_logger = SummaryWriter(path)\n",
    "\n",
    "batch_size = hparams.get('batch_size', 20)\n",
    "labled_train_loader = torch.utils.data.DataLoader(train_100_dataset, batch_size=batch_size, shuffle=True)\n",
    "labled_val_loader = torch.utils.data.DataLoader(val_100_dataset, batch_size=batch_size, shuffle=False)\n",
    "\n",
    "epochs = hparams.get('epochs', 50)\n",
    "loss_func = nn.CrossEntropyLoss() # The loss function we use for classification.\n",
    "train_classifier(classifier_pretrained, labled_train_loader, labled_val_loader, loss_func, tb_logger, epochs=epochs, name='Pretrained')\n",
    "\n",
    "print(\"Finished training!\") "
   ]
  },
  {
   "cell_type": "code",
   "execution_count": null,
   "metadata": {},
   "outputs": [],
   "source": [
    "print(\"Finished training!\")\n",
    "print(\"How did we do? Let's check the accuracy of the defaut classifier on the training and validation sets:\")\n",
    "print(f\"Training Acc: {classifier.getAcc(labled_train_loader)[1] * 100}%\")\n",
    "print(f\"Validation Acc: {classifier.getAcc(labled_val_loader)[1] * 100}%\")"
   ]
  },
  {
   "attachments": {},
   "cell_type": "markdown",
   "metadata": {
    "id": "H-pm1MY_MNks"
   },
   "source": [
    "Let's have a look at the validation accuracy of the two different classifiers and compare them. And don't forget that you can also monitor your training in TensorBoard.\n",
    "\n",
    "We will only look at the test accuracy and compare our two classifiers with respect to that in the very end."
   ]
  },
  {
   "cell_type": "code",
   "execution_count": 137,
   "metadata": {
    "id": "-e5Bd9KLMNkt"
   },
   "outputs": [
    {
     "name": "stdout",
     "output_type": "stream",
     "text": [
      "Validation accuracy when training from scratch: \u001b[92m69.0\u001b[0m%\n",
      "Validation accuracy with pretraining: \u001b[92m73.0\u001b[0m%\n"
     ]
    }
   ],
   "source": [
    "val_acc_scracth = classifier.getAcc(labled_val_loader)[1]*100\n",
    "color = 'green' if val_acc_scracth > 55 else 'red'\n",
    "print(f\"Validation accuracy when training from scratch: {bcolors.colorize(color, val_acc_scracth)}%\")\n",
    "\n",
    "val_acc_pretrained = classifier_pretrained.getAcc(labled_val_loader)[1]*100\n",
    "color = 'green' if val_acc_pretrained > 55 else 'red'\n",
    "print(f\"Validation accuracy with pretraining: {bcolors.colorize(color, val_acc_pretrained)}%\")\n",
    "\n",
    "\n"
   ]
  },
  {
   "attachments": {},
   "cell_type": "markdown",
   "metadata": {
    "id": "zAp2OTyf4_5b"
   },
   "source": [
    "Now that everything is working, feel free to play around with different architectures. As you've seen, it's quite easy to define your model or do adpations there.\n",
    "\n",
    "To pass this submission, you will need to achieve an accuracy of **55%**."
   ]
  },
  {
   "attachments": {},
   "cell_type": "markdown",
   "metadata": {
    "id": "OmEYmRT-5S-e"
   },
   "source": [
    "# Save your model & Report Test Accuracy\n",
    "\n",
    "When you are finally done with your **hyperparameter tuning**, achieved **at least 55% validation accuracy** and are happy with your final model, you can save it here.\n",
    "\n",
    "Before that, please check again whether the number of parameters is below 5 Mio and the file size is below 20 MB.\n",
    "\n",
    "Once your final model is saved, we'll finally report the test accuracy."
   ]
  },
  {
   "cell_type": "code",
   "execution_count": 127,
   "metadata": {
    "id": "S69ETKxD5TcE"
   },
   "outputs": [
    {
     "name": "stdout",
     "output_type": "stream",
     "text": [
      "Test accuracy when training from scratch: \u001b[92m75.0\u001b[0m%\n",
      "Test accuracy with pretraining: \u001b[92m77.0\u001b[0m%\n",
      "Validation Accuracy: \u001b[92m75.0\u001b[0m%\n",
      "# Paramters: Your model has \u001b[92m0.122\u001b[0m mio. params.\n",
      "Size: Great! Your model size is \u001b[92m1.0\u001b[0m MB and is less than 20 MB.\n",
      "Your model has been saved and is ready to be submitted.\n"
     ]
    }
   ],
   "source": [
    "from exercise_code.Util import test_and_save\n",
    "test_dl = torch.utils.data.DataLoader(test_100_dataset, batch_size=4, shuffle=False)\n",
    "\n",
    "test_acc = classifier.getAcc(test_dl)[1]*100\n",
    "color = 'green' if test_acc > 55 else 'red'\n",
    "print(f\"Test accuracy when training from scratch: {bcolors.colorize(color, test_acc)}%\")\n",
    "\n",
    "test_acc = classifier_pretrained.getAcc(test_dl)[1]*100\n",
    "color = 'green' if test_acc > 55 else 'red'\n",
    "print(f\"Test accuracy with pretraining: {bcolors.colorize(color, test_acc)}%\")\n",
    "\n",
    "test_and_save(classifier_pretrained, labled_val_loader, test_dl)"
   ]
  },
  {
   "cell_type": "code",
   "execution_count": 128,
   "metadata": {
    "id": "enZCnGL6MNkt"
   },
   "outputs": [
    {
     "name": "stdout",
     "output_type": "stream",
     "text": [
      "relevant folders: ['exercise_code', 'models']\n",
      "notebooks files: ['1_Autoencoder.ipynb', 'Optional-BatchNormalization_Dropout.ipynb']\n",
      "Adding folder exercise_code\n",
      "Adding folder models\n",
      "Adding notebook 1_Autoencoder.ipynb\n",
      "Adding notebook Optional-BatchNormalization_Dropout.ipynb\n",
      "Zipping successful! Zip is stored under: /Users/anar/Desktop/TUM/i2dl/output/exercise_08.zip\n"
     ]
    }
   ],
   "source": [
    "# Now zip the folder for upload\n",
    "from exercise_code.submit import submit_exercise\n",
    "\n",
    "submit_exercise('../output/exercise_08')"
   ]
  },
  {
   "attachments": {},
   "cell_type": "markdown",
   "metadata": {
    "id": "7fuo3Tf9MNku",
    "pycharm": {
     "name": "#%% md\n"
    }
   },
   "source": [
    "Congratulations on completing your first autoencoder and successfully transferring the weights to a classifier! It's remarkable how much easier this process becomes with the power of PyTorch, compared to working with plain NumPy, right?\n",
    "\n",
    "To complete the exercise, please submit your final model to [our submission portal](https://i2dl.vc.in.tum.de/) - you should be already familiar with the submission procedure. Next, it is time to get started with some more complex neural networks and tasks in the upcoming exercises. See you next week!\n",
    "\n",
    "# Submission Goals\n",
    "\n",
    "- Goal: Successfully implement a fully connected autoencoder for MNIST with Pytorch and transfer the encoder weights to a classifier.\n",
    "\n",
    "- Passing Criteria: There are no unit tests that check specific components of your code. The only thing that's required to pass the submission, is your model to reach at least **55% accuracy** on __our__ test dataset. The submission system will show you a number between 0 and 100 which corresponds to your accuracy.\n",
    "\n",
    "\n",
    "- You can make **$\\infty$** submissions until the deadline. Your __best submission__ will be considered for the bonus."
   ]
  }
 ],
 "metadata": {
  "accelerator": "GPU",
  "colab": {
   "provenance": []
  },
  "kernelspec": {
   "display_name": "Python 3",
   "language": "python",
   "name": "python3"
  },
  "language_info": {
   "codemirror_mode": {
    "name": "ipython",
    "version": 3
   },
   "file_extension": ".py",
   "mimetype": "text/x-python",
   "name": "python",
   "nbconvert_exporter": "python",
   "pygments_lexer": "ipython3",
   "version": "3.10.13"
  },
  "vscode": {
   "interpreter": {
    "hash": "54970da6898dad277dbf355945c2dee7f942d2a31ec1fc1455b6d4f552d07b83"
   }
  }
 },
 "nbformat": 4,
 "nbformat_minor": 1
}
